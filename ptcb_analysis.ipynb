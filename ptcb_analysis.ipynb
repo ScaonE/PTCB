{
 "cells": [
  {
   "cell_type": "markdown",
   "metadata": {},
   "source": [
    "# PTCB project (Allo1)"
   ]
  },
  {
   "cell_type": "markdown",
   "metadata": {},
   "source": [
    "Rapport :\n",
    "https://www.overleaf.com/10573601nznfzwmmzzbm\n",
    "\n",
    "FeatureCounts tests :\n",
    "https://docs.google.com/spreadsheets/d/1kMhKl_42GqliEqDrnZ6z-Zo3jnaR8bWT_iDRbUvvwwM/edit#gid=\n",
    "\n",
    "Goal of the project : Cf rapport + need another meeting with Sandrine.\n",
    "\n",
<<<<<<< HEAD
    "Hurdles : Currently lack of biological replicates (incoming).\n",
    "\n",
    "Sandrine Lenoir : \"Tenir compte du nombre de reads qui varie par échantillon\" => Fait de manière interne pas DESeq2, infos à venir dans le rapport (cf pres IFB-Nice) (normalisation par rapport au nombre de reads).\n",
    "\n",
    "RNA-seq avec ribodéplétion (perd notamment les miRNAs)."
=======
    "Hurdles : Currently lack of biological replicates (incoming)."
>>>>>>> dd1b1f3369aacf4f8021087013a5a49bedee1550
   ]
  },
  {
   "cell_type": "markdown",
   "metadata": {},
   "source": [
    "## 1) Data"
   ]
  },
  {
   "cell_type": "markdown",
   "metadata": {},
   "source": [
    "### 1.1) Raw reads"
   ]
  },
  {
   "cell_type": "markdown",
   "metadata": {},
   "source": [
    "#### 1.1.1) Nice data"
   ]
  },
  {
   "cell_type": "code",
   "execution_count": null,
   "metadata": {
    "code_folding": [
     0
    ],
    "collapsed": true
   },
   "outputs": [],
   "source": [
    "### CODE ###\n",
    "mkdir -p ~/Desktop/PTCB/BISCEm/Data/Reads_raw_Nice;\n",
    "cd ~/Desktop/PTCB/BISCEm/Data/Reads_raw_Nice;"
   ]
  },
  {
   "cell_type": "code",
   "execution_count": null,
   "metadata": {
    "code_folding": [
     0
    ],
    "collapsed": true
   },
   "outputs": [],
   "source": [
    "### CODE ###\n",
    "axel -q http://www.genomique.info/data/public/000-export/151109_pinaud.tar;\n",
    "axel -q http://www.genomique.info/data/public/000-export/DEL_IRIS_fastq.tar;\n",
    "axel -q http://www.genomique.info/data/public/000-export/160627_denizot.tar;\n",
    "tar -xvf *.tar;"
   ]
  },
  {
   "cell_type": "markdown",
   "metadata": {},
   "source": [
    "And some files renaming (for which I lost the script)."
   ]
  },
  {
   "cell_type": "markdown",
   "metadata": {},
   "source": [
    "#### 1.1.2) Pefanis data"
   ]
  },
  {
   "cell_type": "markdown",
   "metadata": {},
   "source": [
    "Retrieve all \"BC\" samples : https://www.ncbi.nlm.nih.gov/sra?term=SRP042355 :"
   ]
  },
  {
   "cell_type": "code",
   "execution_count": null,
   "metadata": {
    "code_folding": [
     0
    ],
    "collapsed": true
   },
   "outputs": [],
   "source": [
    "### CODE ###\n",
    "for id in 'SRR1302208' 'SRR1302283' 'SRR1302414' \\\n",
    "           'SRR1302785' 'SRR1302786' 'SRR1302787' \\\n",
    "           'SRR1302788' 'SRR1302789' 'SRR1984164' \\\n",
    "           'SRR1984166' 'SRR1984167' 'SRR1984178';\n",
    "do fastq-dump -O . --split-files $id;\n",
    "done;"
   ]
  },
  {
   "cell_type": "markdown",
   "metadata": {},
   "source": [
    "### 1.2) Mus musculus"
   ]
  },
  {
   "cell_type": "markdown",
   "metadata": {},
   "source": [
    "Reference genome & associated GFF (downloaded from GRC, latest release = GRCm38.p5) :"
   ]
  },
  {
   "cell_type": "code",
   "execution_count": null,
   "metadata": {
    "code_folding": [
     0
    ]
   },
   "outputs": [],
   "source": [
    "### CODE ###\n",
    "mkdir -p ~/Desktop/PTCB/BISCEm/Data/Mus_musculus;\n",
    "cd ~/Desktop/PTCB/BISCEm/Data/Mus_musculus;\n",
    "url='ftp://ftp.ncbi.nlm.nih.gov/genomes/all/GCA/000/001/635/GCA_000001635.7_GRCm38.p5';\n",
    "axel -q $url/GCA_000001635.7_GRCm38.p5_genomic.fna.gz;\n",
    "wget -nv $url/GCA_000001635.7_GRCm38.p5_genomic.gff.gz;\n",
    "unpigz *_GRCm38.p5_genomic*;"
   ]
  },
  {
   "cell_type": "markdown",
   "metadata": {},
   "source": [
    "Check if they contains the same sequences names :"
   ]
  },
  {
   "cell_type": "code",
   "execution_count": null,
   "metadata": {
    "code_folding": [
     0
    ],
    "collapsed": true
   },
   "outputs": [],
   "source": [
    "### CODE ###\n",
    "grep '^>' GCA_000001635.7_GRCm38.p5_genomic.fna | sort -u > fna.txt\n",
    "sed -i 's/>//' fna.txt \n",
    "awk -F \"[[:space:]]\" '{print $1}' fna.txt > fna_final.txt\n",
    "awk -F \"\\t\" '{if($0 !~ /^#/) print $1}' GCA_000001635.7_GRCm38.p5_genomic.gff | sort -u > gff.txt\n",
    "diff fna_final.txt gff.txt"
   ]
  },
  {
   "cell_type": "markdown",
   "metadata": {},
   "source": [
    "If the diff command produce no output, it's okay. <br>\n",
    "One last thing, to avoid potential incompatilities in downstream analysis :"
   ]
  },
  {
   "cell_type": "code",
   "execution_count": null,
   "metadata": {
    "code_folding": [
     0
    ]
   },
   "outputs": [],
   "source": [
    "### CODE ###\n",
    "grep '^>' GCA_000001635.7_GRCm38.p5_genomic.fna | head -2;\n",
    "awk -F \"\\t\" '{if($0 !~ /^#/) print $1}' GCA_000001635.7_GRCm38.p5_genomic.gff | head -2;"
   ]
  },
  {
   "cell_type": "markdown",
   "metadata": {},
   "source": [
    "What we have just shown is that sequences headers in the FNA file are more verbose than the associated name for the same sequence in the GFF file. Given that this extra info is not critical, let's discard it & check that we did this successfully :"
   ]
  },
  {
   "cell_type": "code",
   "execution_count": null,
   "metadata": {
    "code_folding": [
     0
    ]
   },
   "outputs": [],
   "source": [
    "### CODE ###\n",
    "gawk -i inplace -F \"[[:space:]]\" '{if($0 ~ /^>/) $0 = $1; print}' GCA_000001635.7_GRCm38.p5_genomic.fna;\n",
    "grep '^>' GCA_000001635.7_GRCm38.p5_genomic.fna | head -2;\n",
    "awk -F \"\\t\" '{if($0 !~ /^#/) print $1}' GCA_000001635.7_GRCm38.p5_genomic.gff | head -2;"
   ]
  },
  {
   "cell_type": "markdown",
   "metadata": {},
   "source": [
    "Load stuff on Genotoul :"
   ]
  },
  {
   "cell_type": "code",
   "execution_count": null,
   "metadata": {
    "code_folding": [
     0
    ],
    "collapsed": true
   },
   "outputs": [],
   "source": [
    "### CODE ###\n",
    "sudo scp *_GRCm38.p5_genomic* escaon@genotoul.toulouse.inra.fr:/home/escaon/work/PTCB/Mus_musculus;"
   ]
  },
  {
   "cell_type": "markdown",
   "metadata": {},
   "source": [
    "Remove useless files & compress the remaining for local storage :"
   ]
  },
  {
   "cell_type": "code",
   "execution_count": null,
   "metadata": {
    "code_folding": [
     0
    ]
   },
   "outputs": [],
   "source": [
    "### CODE ###\n",
    "rm *.txt;\n",
    "pigz *_GRCm38.p5_genomic*;"
   ]
  },
  {
   "cell_type": "markdown",
   "metadata": {},
   "source": [
    "## 2) Raw reads QC & filtering"
   ]
  },
  {
   "cell_type": "markdown",
   "metadata": {},
   "source": [
    "### 2.1) FastQC"
   ]
  },
  {
   "cell_type": "markdown",
   "metadata": {},
   "source": [
    "Setup working directory & paths :"
   ]
  },
  {
   "cell_type": "code",
   "execution_count": null,
   "metadata": {
    "code_folding": [
     0
    ]
   },
   "outputs": [],
   "source": [
    "### CODE ###\n",
    "reads_dir='/home/erwann/Desktop/PTCB/BISCEm/Data/Reads_raw_Nice';\n",
    "cd $reads_dir;\n",
    "mkdir -p $reads_dir/QC;\n",
    "mkdir -p ~/Software/FastQC/Outputs/PTCB;"
   ]
  },
  {
   "cell_type": "markdown",
   "metadata": {},
   "source": [
    "Launch FastQC :"
   ]
  },
  {
   "cell_type": "code",
   "execution_count": null,
   "metadata": {
    "code_folding": [
     0
    ],
    "collapsed": true
   },
   "outputs": [],
   "source": [
    "### CODE ###\n",
    "for f in *.fastq.gz;\n",
    "do echo $f; fastqc --outdir ~/Software/FastQC/Outputs/PTCB -f fastq $f;\n",
    "done >> $reads_dir/QC/fastqc.verbose;"
   ]
  },
  {
   "cell_type": "markdown",
   "metadata": {},
   "source": [
    "### 2.2) MultiQC"
   ]
  },
  {
   "cell_type": "markdown",
   "metadata": {},
   "source": [
    "We compile FastqQC analysis for all the data & at the sequencing-run level (EP & YD), to highlight potential run effect."
   ]
  },
  {
   "cell_type": "code",
   "execution_count": null,
   "metadata": {
    "code_folding": [
     0
    ]
   },
   "outputs": [],
   "source": [
    "### CODE ###\n",
    "fastqc_dir='/home/erwann/Software/FastQC/Outputs/PTCB';\n",
    "mkdir -p $reads_dir/QC;\n",
    "multiqc $fastqc_dir \\\n",
    "        -n ptcb \\\n",
    "        -o $reads_dir/QC \\\n",
    "        -m fastqc -f > $reads_dir/QC/multiQC_ptcb.verbose 2>&1;\n",
    "multiqc $fastqc_dir/*_EP_fastqc* \\\n",
    "        -n ptcb_ep \\\n",
    "        -o $reads_dir/QC \\\n",
    "        -m fastqc -f > $reads_dir/QC/multiQC_ptcb_ep.verbose 2>&1;\n",
    "multiqc $fastqc_dir/*_YD_fastqc* \\\n",
    "        -n ptcb_yd \\\n",
    "        -o $reads_dir/QC \\\n",
    "        -m fastqc -f > $reads_dir/QC/multiQC_ptcb_yd.verbose 2>&1;"
   ]
  },
  {
   "cell_type": "markdown",
   "metadata": {},
   "source": [
    "Visualize QC results :"
   ]
  },
  {
   "cell_type": "code",
   "execution_count": null,
   "metadata": {
    "code_folding": [
     0
    ]
   },
   "outputs": [],
   "source": [
    "### CODE ###\n",
    "chromium-browser $reads_dir/QC/*.html;"
   ]
  },
  {
   "cell_type": "markdown",
   "metadata": {},
   "source": [
    "Conclusions :\n",
    "Nice data overall. We can be a bit stringent during filtering to keep HQ reads."
   ]
  },
  {
   "cell_type": "markdown",
   "metadata": {},
   "source": [
    "### 2.3) Filtering"
   ]
  },
  {
   "cell_type": "markdown",
   "metadata": {
    "collapsed": true
   },
   "source": [
    "For both EP & YD files, FastQC detected Illumina 1.9 encoding. Referring to https://en.wikipedia.org/wiki/FASTQ_format, Illumina 1.8+ => Phred+33.\n",
    "\n",
    "Sequences are trimmed with Trimmomatic 0.36 ($TRIM = ~/Software/Trimmomatic_0.36/trimmomatic-0.36.jar).\n",
    "Given MultiQC output, we trim starting and ending bases if their quality is < 25. We then trim with a sliding window of 5 bases, cutting the read at those bases if the mean quality drops below 25. Finally, we discard sequence < 50 nts."
   ]
  },
  {
   "cell_type": "code",
   "execution_count": null,
   "metadata": {
    "code_folding": [
     0
    ],
    "collapsed": true
   },
   "outputs": [],
   "source": [
    "### CODE ###\n",
    "cd ~/Desktop/PTCB/BISCEm/Data/Reads_raw_Nice;\n",
    "mkdir -p ../Reads_raw_Nice_trim;\n",
    "for id in '3B4_R_1_EP' '3B4_S_1_EP' '3pRR_R_1_EP' '3pRR_S_1_EP' \\\n",
    "          'DEL_R_1_EP' 'DEL_S_1_EP' 'IRIS_R_1_EP' 'IRIS_S_1_EP' \\\n",
    "          'PAL_R_1_EP' 'PAL_S_1_EP' 'WT_R_1_EP' 'WT_S_1_EP';\n",
    "do java -jar $TRIM PE -threads 8 \\\n",
    "                      -phred33 \\\n",
    "                      $id.fastq.gz \\\n",
    "                      ${id%_*_*}'_2_EP.fastq.gz' \\\n",
    "                      ../Reads_raw_Nice_trim/$id'_paired.fastq.gz' \\\n",
    "                      ../Reads_raw_Nice_trim/$id'_unpaired.fastq.gz' \\\n",
    "                      ../Reads_raw_Nice_trim/${id%_*_*}'_2_EP_paired.fastq.gz' \\\n",
    "                      ../Reads_raw_Nice_trim/${id%_*_*}'_2_EP_unpaired.fastq.gz' \\\n",
    "                      LEADING:25 TRAILING:25 SLIDINGWINDOW:5:25 MINLEN:50;\n",
    "done &>> trim_EP.verbose;\n",
    "for id in '3pRR_R_1_YD' '3pRR_S_1_YD' 'EU_R_1_YD' 'EU_S_1_YD' \\\n",
    "          'MAR_R_1_YD' 'MAR_S_1_YD' 'WT_R_1_YD' 'WT_S_1_YD';\n",
    "do java -jar $TRIM PE -threads 8 \\\n",
    "                      -phred33 \\\n",
    "                      $id.fastq.gz \\\n",
    "                      ${id%_*_*}'_2_YD.fastq.gz' \\\n",
    "                      ../Reads_raw_Nice_trim/$id'_paired.fastq.gz' \\\n",
    "                      ../Reads_raw_Nice_trim/$id'_unpaired.fastq.gz' \\\n",
    "                      ../Reads_raw_Nice_trim/${id%_*_*}'_2_YD_paired.fastq.gz' \\\n",
    "                      ../Reads_raw_Nice_trim/${id%_*_*}'_2_YD_unpaired.fastq.gz' \\\n",
    "                      LEADING:25 TRAILING:25 SLIDINGWINDOW:5:25 MINLEN:50;\n",
    "done &>> trim_YD.verbose;"
   ]
  },
  {
   "cell_type": "markdown",
   "metadata": {},
   "source": [
    "## 3) Mapping"
   ]
  },
  {
   "cell_type": "markdown",
   "metadata": {},
   "source": [
    "On Genotoul via STAR, version 2.5.2b :"
   ]
  },
  {
   "cell_type": "markdown",
   "metadata": {},
   "source": [
    "### 3.1) Build STAR index :"
   ]
  },
  {
   "cell_type": "code",
   "execution_count": null,
   "metadata": {
    "code_folding": [
     0
    ],
    "collapsed": true
   },
   "outputs": [],
   "source": [
    "### CODE ###\n",
    "#!/bin/bash\n",
    "#$ -q workq\n",
    "#$ -M erwan.scaon@unilim.fr\n",
    "#$ -m bea\n",
    "#$ -l mem=8G\n",
    "#$ -l h_vmem=12G\n",
    "#$ -N star_idx\n",
    "#$ -o /home/escaon/work/PTCB/star_idx.o\n",
    "#$ -e /home/escaon/work/PTCB/star_idx.e\n",
    "\n",
    "work='/home/escaon/work/PTCB/Mus_musculus';\n",
    "star='/usr/local/bioinfo/src/STAR/STAR-2.5.2b/bin/Linux_x86_64_static/STAR'\n",
    "nt=8;\n",
    "\n",
    "$star --runThreadN $nt \\\n",
    "      --runMode genomeGenerate \\\n",
    "      --genomeDir $work \\\n",
    "      --genomeFastaFiles $work/GCA_000001635.7_GRCm38.p5_genomic.fna \\\n",
    "      --sjdbGTFfile $work/GCA_000001635.7_GRCm38.p5_genomic.gff \\\n",
    "      --sjdbGTFtagExonParentTranscript Parent \\\n",
    "      --sjdbOverhang 150;"
   ]
  },
  {
   "cell_type": "code",
   "execution_count": null,
   "metadata": {
    "code_folding": [
     0
    ],
    "collapsed": true
   },
   "outputs": [],
   "source": [
    "### CODE ###\n",
    "qsub -pe parallel_smp 8 star_idx.sh;"
   ]
  },
  {
   "cell_type": "markdown",
   "metadata": {},
   "source": [
    "### 3.2) Map reads with STAR :"
   ]
  },
  {
   "cell_type": "markdown",
   "metadata": {},
   "source": [
    "First script : star_3B4_R_EP.sh"
   ]
  },
  {
   "cell_type": "code",
   "execution_count": null,
   "metadata": {
    "code_folding": [
     0
    ],
    "collapsed": true
   },
   "outputs": [],
   "source": [
    "### CODE ###\n",
    "#!/bin/bash\n",
    "#$ -q workq\n",
    "#$ -M erwan.scaon@unilim.fr\n",
    "#$ -m bea\n",
    "#$ -l mem=8G\n",
    "#$ -l h_vmem=10G\n",
    "#$ -N star_3B4_R_EP\n",
    "#$ -o /home/escaon/work/PTCB/star_3B4_R_EP.o\n",
    "#$ -e /home/escaon/work/PTCB/star_3B4_R_EP.e\n",
    "\n",
    "star='/usr/local/bioinfo/src/STAR/STAR-2.5.2b/bin/Linux_x86_64_static/STAR';\n",
    "save='/home/escaon/save/PTCB/Reads_raw_Nice_trim';\n",
    "work='/home/escaon/work/PTCB';\n",
    "nt=8;\n",
    "\n",
    "for id in '3B4_R_EP';\n",
    "do $star --runThreadN $nt \\\n",
    "         --genomeDir $work/Mus_musculus \\\n",
    "         --readFilesIn $save/${id%_*}'_1_EP_paired.fastq.gz' $save/${id%_*}'_2_EP_paired.fastq.gz' \\\n",
    "         --readFilesCommand zcat \\\n",
    "         --outFileNamePrefix $work/Mapped_vs_GRCm38.p5/$id'_' \\\n",
    "         --outSAMtype BAM SortedByCoordinate;\n",
    "done;"
   ]
  },
  {
   "cell_type": "code",
   "execution_count": null,
   "metadata": {
    "code_folding": [
     0
    ],
    "collapsed": true
   },
   "outputs": [],
   "source": [
    "### CODE ###\n",
    "qsub -pe parallel_smp 8 star_3B4_R_EP.sh;"
   ]
  },
  {
   "cell_type": "markdown",
   "metadata": {},
   "source": [
    "Duplicate this script for others EP datasets & launch jobs :"
   ]
  },
  {
   "cell_type": "code",
   "execution_count": null,
   "metadata": {
    "code_folding": [
     0
    ],
    "collapsed": true
   },
   "outputs": [],
   "source": [
    "### CODE ###\n",
    "for id in '3B4_S_EP' '3pRR_R_EP' '3pRR_S_EP' 'DEL_R_EP' \\\n",
    "          'DEL_S_EP' 'IRIS_R_EP' 'IRIS_S_EP' 'PAL_R_EP' \\\n",
    "          'PAL_S_EP' 'WT_R_EP' 'WT_S_EP';\n",
    "do  cp star_3B4_R_EP.sh star_$id.sh;\n",
    "    sed -i \"s/3B4_R_EP/$id/\" star_$id.sh;\n",
    "    qsub -pe parallel_smp 8 star_$id.sh;\n",
    "done;"
   ]
  },
  {
   "cell_type": "markdown",
   "metadata": {},
   "source": [
    "Create a base script for YD, duplicate it & launch jobs :"
   ]
  },
  {
   "cell_type": "code",
   "execution_count": null,
   "metadata": {
    "code_folding": [
     0
    ],
    "collapsed": true
   },
   "outputs": [],
   "source": [
    "### CODE ###\n",
    "cp star_WT_R_EP.sh star_WT_R_YD.sh;\n",
    "grep --color 'EP' star_WT_R_YD.sh; # check if we are not going to destroy anything\n",
    "sed -i \"s/EP/YD/\" star_WT_R_YD.sh;\n",
    "qsub -pe parallel_smp 8 star_WT_R_YD.sh;\n",
    "\n",
    "for id in '3pRR_R_YD' '3pRR_S_YD' 'EU_R_YD' 'EU_S_YD' \\\n",
    "          'MAR_R_YD' 'MAR_S_YD' 'WT_S_YD';\n",
    "do  cp star_WT_R_YD.sh star_$id.sh;\n",
    "    sed -i \"s/WT_R_YD/$id/\" star_$id.sh;\n",
    "    qsub -pe parallel_smp 8 star_$id.sh;\n",
    "done;"
   ]
  },
  {
   "cell_type": "markdown",
   "metadata": {},
   "source": [
    "#### 3.2.1) Index the sorted BAMs produced by STAR (samtools_index.sh) :"
   ]
  },
  {
   "cell_type": "code",
   "execution_count": null,
   "metadata": {
    "code_folding": [
     0
    ],
    "collapsed": true
   },
   "outputs": [],
   "source": [
    "### CODE ###\n",
    "#!/bin/bash\n",
    "#$ -q workq\n",
    "#$ -M erwan.scaon@unilim.fr\n",
    "#$ -m bea\n",
    "#$ -l mem=40G\n",
    "#$ -l h_vmem=48G\n",
    "#$ -N samtools_idx\n",
    "#$ -o /home/escaon/work/PTCB/samtools_idx.o\n",
    "#$ -e /home/escaon/work/PTCB/samtools_idx.e\n",
    "\n",
    "work='/home/escaon/work/PTCB/Mapped_vs_GRCm38.p5';\n",
    "\n",
    "cd $work;\n",
    "for f in *.bam;\n",
    "do samtools index $f;\n",
    "done;"
   ]
  },
  {
   "cell_type": "code",
   "execution_count": null,
   "metadata": {
    "code_folding": [
     0
    ],
    "collapsed": true
   },
   "outputs": [],
   "source": [
    "### CODE ###\n",
    "qsub samtools_idx.sh;"
   ]
  },
  {
   "cell_type": "markdown",
   "metadata": {},
   "source": [
    "#### 3.2.2) Check quality of RNA-seq alignment with RSEQC ? (Steph knows this software & it's recommanded) :"
   ]
  },
  {
   "cell_type": "markdown",
   "metadata": {},
   "source": [
    "http://rseqc.sourceforge.net"
   ]
  },
  {
   "cell_type": "markdown",
   "metadata": {},
   "source": [
    "Retrieve BAMs locally :"
   ]
  },
  {
   "cell_type": "code",
   "execution_count": null,
   "metadata": {
    "code_folding": [
     0
    ],
    "collapsed": true
   },
   "outputs": [],
   "source": [
    "### CODE ###\n",
    "mkdir -p ~/Desktop/PTCB/BISCEm/Outputs;\n",
    "sudo scp -r escaon@genotoul.toulouse.inra.fr:/home/escaon/work/PTCB/Mapped_vs_GRCm38.p5 ~/Desktop/PTCB/BISCEm/Outputs;"
   ]
  },
  {
   "cell_type": "markdown",
   "metadata": {},
   "source": [
    "### 3.3) Counts"
   ]
  },
  {
   "cell_type": "markdown",
   "metadata": {},
   "source": [
    "Count with featureCounts (Rsubread 1.24.2) :"
   ]
  },
  {
   "cell_type": "code",
   "execution_count": null,
   "metadata": {
    "code_folding": [
     0
    ],
    "collapsed": true
   },
   "outputs": [],
   "source": [
    "### CODE ###\n",
    "path='/home/erwann/Desktop/PTCB/BISCEm';\n",
    "cd $path/Outputs/Mapped_vs_GRCm38.p5;\n",
    "for id in '3B4_R_EP' '3B4_S_EP' '3pRR_R_EP' '3pRR_S_EP' \\\n",
    "          'DEL_R_EP' 'DEL_S_EP' 'IRIS_R_EP' 'IRIS_S_EP' \\\n",
    "          'PAL_R_EP' 'PAL_S_EP' 'WT_R_EP' 'WT_S_EP' \\\n",
    "          '3pRR_R_YD' '3pRR_S_YD' 'EU_R_YD' 'EU_S_YD' \\\n",
    "          'MAR_R_YD' 'MAR_S_YD' 'WT_R_YD' 'WT_S_YD';\n",
    "do Rscript $path/Scripts/featureCounts.R $id;\n",
    "done &>> $path/Outputs/FeatureCounts/featureCounts.verbose;"
   ]
  },
  {
   "cell_type": "markdown",
   "metadata": {},
   "source": [
    "Content of featureCounts.R :"
   ]
  },
  {
   "cell_type": "code",
   "execution_count": null,
   "metadata": {
    "code_folding": [
     0
    ],
    "collapsed": true
   },
   "outputs": [],
   "source": [
    "### CODE ###\n",
    "#!/usr/bin/env Rscript\n",
    "\n",
    "args = commandArgs(trailingOnly=TRUE)\n",
    "in_file = paste(args[1], 'bam', sep = '.')\n",
    "out_file = paste('../FeatureCounts/', args[1], '.tsv', sep = '')\n",
    "\n",
    "library(Rsubread)\n",
    "\n",
    "fc = featureCounts(files=in_file,\n",
    "                   annot.ext=\"../../Data/Mus_musculus/gencode.vM14.chr_patch_hapl_scaff.annotation.gtf\",\n",
    "                   isGTFAnnotationFile=TRUE,\n",
    "                   GTF.featureType=\"exon\",\n",
    "                   GTF.attrType=\"gene_id\",\n",
    "                   chrAliases=\"../../Data/Mus_musculus/chr.aliases\",\n",
    "                   allowMultiOverlap=FALSE,\n",
    "                   ignoreDup=FALSE,\n",
    "                   isPairedEnd=TRUE,\n",
    "                   nthreads=8,\n",
    "                   minMQS=0,\n",
    "                   maxMOp=10,\n",
    "                   checkFragLength=FALSE,\n",
    "                   useMetaFeatures=TRUE,\n",
    "                   strandSpecific=2,\n",
    "                   requireBothEndsMapped=TRUE,\n",
    "                   countChimericFragments=FALSE,\n",
    "                   primaryOnly=TRUE)\n",
    "write.table(fc$counts, out_file, append= T, sep='\\t', col.names=NA)"
   ]
  },
  {
   "cell_type": "markdown",
   "metadata": {},
   "source": [
    "#### 3.1.1) Downstream analysis compatibility\n",
    "Slightly modify featureCounts output to make it compatible with future steps of the analysis.\n",
    "We want our gene names to be the same than those contained in ensembl when retrieved with biomart."
   ]
  },
  {
   "cell_type": "markdown",
   "metadata": {},
   "source": [
    "Remove spreadsheet hidden ' \" ' for downstream compatility with our awk manipulation :"
   ]
  },
  {
   "cell_type": "code",
   "execution_count": null,
   "metadata": {
    "code_folding": [
     0
    ],
    "collapsed": true
   },
   "outputs": [],
   "source": [
    "### CODE ###\n",
    "cd ~/Desktop/PTCB/BISCEm/Outputs/FeatureCounts;\n",
    "for f in *.tsv;\n",
    "do sed 's/\\\"//g' $f > ${f%.*}\".temp.tsv\";\n",
    "done;"
   ]
  },
  {
   "cell_type": "markdown",
   "metadata": {},
   "source": [
    "Use awk sub to convert \"ENSMUSG00000098104.12\" -> \"ENSMUSG00000098104\" :"
   ]
  },
  {
   "cell_type": "code",
   "execution_count": null,
   "metadata": {
    "code_folding": [
     0
    ],
    "collapsed": true
   },
   "outputs": [],
   "source": [
    "### CODE ###\n",
    "for f in *.temp.tsv;\n",
    "do awk -F '\\t' -v OFS='\\t' 'NR > 1 {sub(/\\.[0-9]*/, \"\", $1)} 1' $f > ${f%%.*}\"_ensembl_gene_id.tsv\";\n",
    "done;\n",
    "rm *.temp.tsv;"
   ]
  },
  {
   "cell_type": "markdown",
   "metadata": {},
   "source": [
    "Check that the removal of \".[0-9]?\" from the gene id column did not change the number of unique gene ids :"
   ]
  },
  {
   "cell_type": "code",
   "execution_count": null,
   "metadata": {
    "code_folding": [
     0
    ],
    "collapsed": true
   },
   "outputs": [],
   "source": [
    "### CODE ###\n",
    "for f in *.tsv;\n",
    "do awk -F '\\t' '{print $1}' $f | sort -u | wc -l;\n",
    "done;"
   ]
  },
  {
   "cell_type": "markdown",
   "metadata": {},
   "source": [
    "We did show that transforming gene name \"ENSMUSG00000098104.12\" -> \"ENSMUSG00000098104\" did not change the number unique gene names."
   ]
  },
  {
   "cell_type": "markdown",
   "metadata": {},
   "source": [
    "### 3.4) DE analysis"
   ]
  },
  {
   "cell_type": "markdown",
   "metadata": {},
   "source": [
    "Perfomed with DESeq2_1.16.1 (using Bioconductor 3.5 (BiocInstaller 1.26.0), R 3.4.1 (2017-06-30)) :"
   ]
  },
  {
   "cell_type": "markdown",
   "metadata": {},
   "source": [
    "#### 3.4.1) R \"resting\" vs S \"stimulated\" for the same mouse model (MAR, DEL ...) & the same experiment (EP \"Eric Pinaud\", YD \"Yves Denizot\") :"
   ]
  },
  {
   "cell_type": "code",
   "execution_count": null,
   "metadata": {
    "code_folding": [
     0
    ]
   },
   "outputs": [],
   "source": [
    "### CODE ###\n",
    "path='/home/erwann/Desktop/PTCB/BISCEm';\n",
    "cd $path/Outputs/DESeq2;\n",
    "Rscript $path/Scripts/deseq2_R_vs_S.R &>> $path/Outputs/DESeq2/deseq2_R_vs_S.verbose;"
   ]
  },
  {
   "cell_type": "markdown",
   "metadata": {},
   "source": [
    "Content of deseq2_cells_versus.R for the first comparison :"
   ]
  },
  {
   "cell_type": "code",
   "execution_count": null,
   "metadata": {
    "code_folding": [
     0
    ],
    "collapsed": true
   },
   "outputs": [],
   "source": [
    "### CODE ###\n",
    "#!/usr/bin/env Rscript\n",
    "\n",
    "# Open featureCounts results for the same mouse model & experiment\n",
    "threeB4_R_EP = read.table(\"../FeatureCounts/3B4_R_EP_ensembl_gene_id.tsv\")\n",
    "threeB4_S_EP = read.table(\"../FeatureCounts/3B4_S_EP_ensembl_gene_id.tsv\")\n",
    "threeB4_EP = data.frame(row.names = row.names(threeB4_R_EP),\n",
    "                        threeB4_R_EP = threeB4_R_EP$X3B4_R_EP.bam,\n",
    "                        threeB4_S_EP = threeB4_S_EP$X3B4_S_EP.bam)\n",
    "threeB4_EP$threeB4_R_EP=as.numeric(as.character(threeB4_EP$threeB4_R_EP))\n",
    "threeB4_EP$threeB4_S_EP=as.numeric(as.character(threeB4_EP$threeB4_S_EP))\n",
    "# Create design\n",
    "condition <- c('R', 'S')\n",
    "type <- c('paired-end', 'paired-end')\n",
    "threeB4_EP_infos <- data.frame(condition, type)\n",
    "row.names(threeB4_EP_infos) <- c('threeB4_R_EP', 'threeB4_S_EP')\n",
    "# Sanity check\n",
    "head(threeB4_EP)\n",
    "tail(threeB4_EP)\n",
    "threeB4_EP_infos\n",
    "all(rownames(threeB4_EP_infos) %in% colnames(threeB4_EP))\n",
    "# Start DESeq2 analysis\n",
    "library(\"DESeq2\")\n",
    "dds <- DESeqDataSetFromMatrix(countData = threeB4_EP,\n",
    "                              colData = threeB4_EP_infos,\n",
    "                              design = ~ condition)\n",
    "# Sanity check\n",
    "dds\n",
    "# Pre-filtering removing rows that have only 0 or 1 read\n",
    "dds <- dds[ rowSums(counts(dds)) > 1, ]\n",
    "# Check on many genes it discarded\n",
    "summary(dds)\n",
    "# Set factor to tell which one is the control group\n",
    "dds$condition <- factor(dds$condition, levels=c('R','S'))\n",
    "# Start actual DE analysis\n",
    "dds <- DESeq(dds)\n",
    "res <- results(dds)\n",
    "# We are using DESeq2_1.16.1, thus betaPrior is set to 'FALSE' and we need to obtain shrunken LFCs with function ‘lfcShrink’.\n",
    "# https://support.bioconductor.org/p/95695/\n",
    "res <- lfcShrink(dds,\n",
    "       contrast=c(\"condition\",\"R\",\"S\"),\n",
    "       res=res)\n",
    "summary(res, alpha=0.05)\n",
    "# MA plot : the log2 of ratio of the counts between two conditions is represented as a function of the log2 of the mean of the counts\n",
    "png('EP_3B4_R_vs_S_MA.png')\n",
    "plotMA(res,\n",
    "       ylim=c(min(res$log2FoldChange),\n",
    "        max(res$log2FoldChange)))\n",
    "dev.off()\n",
    "# Volcano plot : the log10 of the adjusted pvalue is represented as a function of the log2 of ratio of the counts.\n",
    "png('EP_3B4_R_vs_S_volcano.png')\n",
    "plot(res$log2FoldChange,\n",
    "     -log10(res$padj),\n",
    "     xlim=c(min(res$log2FoldChange), max(res$log2FoldChange)),\n",
    "     ylim=c(0, 15),\n",
    "     xlab=\"log2 fold change\",\n",
    "     ylab=\"-log10 p-value\",\n",
    "     type=\"n\")\n",
    "sel <- which(res$log2FoldChange>=1)\n",
    "points(res[sel,\"log2FoldChange\"], -log10(res[sel,\"padj\"]),col=\"red\")\n",
    "sel <- which(res$log2FoldChange<1 & res$log2FoldChange>-1)\n",
    "points(res[sel,\"log2FoldChange\"], -log10(res[sel,\"padj\"]),col=\"grey\")\n",
    "sel <- which(res$log2FoldChange<=-1)\n",
    "points(res[sel,\"log2FoldChange\"], -log10(res[sel,\"padj\"]),col=\"green\")\n",
    "sel <- which(res$padj>0.05)\n",
    "points(res[sel,\"log2FoldChange\"], -log10(res[sel,\"padj\"]),col=\"black\")\n",
    "abline(v=1,lty=3)\n",
    "abline(v=-1,lty=3)\n",
    "dev.off()\n",
    "# Retrieve normalized counts for each condition for future merge\n",
    "dds <- estimateSizeFactors(dds)\n",
    "nor_counts <- counts(dds, normalized=TRUE)\n",
    "nor_counts_df <- as.data.frame(nor_counts)\n",
    "library(data.table)\n",
    "nor_counts_df <- setDT(nor_counts_df, keep.rownames = TRUE)[]\n",
    "colnames(nor_counts_df)[1] <- \"ensembl_gene_id\"\n",
    "colnames(nor_counts_df)[2] <- \"R_normalized_count\"\n",
    "colnames(nor_counts_df)[3] <- \"S_normalized_count\"\n",
    "# Then tidy = TRUE for compatibility with biomaRt merge\n",
    "res <- results(dds, tidy = TRUE)\n",
    "colnames(res)[1] <- \"ensembl_gene_id\"\n",
    "# Check\n",
    "summary(res)\n",
    "head(res)\n",
    "# Add biotypes infos\n",
    "# Get ensembl infos\n",
    "library(\"biomaRt\")\n",
    "mart <- biomaRt::useMart(biomart = \"ENSEMBL_MART_ENSEMBL\",\n",
    "                        dataset = \"mmusculus_gene_ensembl\",\n",
    "                        host = 'ensembl.org')             \n",
    "mart_infos <- biomaRt::getBM(attributes = c(\"ensembl_gene_id\",\n",
    "                                            \"external_gene_name\",\n",
    "                                            \"gene_biotype\"),\n",
    "                                            mart = mart)\n",
    "# Merge our DE results with ensembl infos for based on same gene_id in column\n",
    "res_biotyped <- merge(x = res,\n",
    "                      y = mart_infos,\n",
    "                      by = \"ensembl_gene_id\",\n",
    "                      all.x = TRUE)\n",
    "# Re-order columns & rename some to make more sense\n",
    "res_biotyped <- res_biotyped[,c(1,8,9,2:7)]\n",
    "colnames(res_biotyped)[2] <- \"ensembl_gene_name\"\n",
    "colnames(res_biotyped)[3] <- \"ensembl_gene_biotype\"\n",
    "# Add normalized counts info\n",
    "res_biotyped_counts <- merge(x = res_biotyped,\n",
    "                             y = nor_counts_df,\n",
    "                             by = \"ensembl_gene_id\",\n",
    "                             all.x = TRUE)\n",
    "# Save the result in a TSV\n",
    "write.table(res_biotyped_counts,\n",
    "            '../DESeq2/EP_3B4_R_vs_S.tsv',\n",
    "            append=F, sep='\\t',\n",
    "            col.names=T,\n",
    "            row.names=F)"
   ]
  },
  {
   "cell_type": "markdown",
   "metadata": {},
   "source": [
    "#### 3.4.2) Pooled R vs S for the same mouse model when available :"
   ]
  },
  {
   "cell_type": "code",
   "execution_count": null,
   "metadata": {
    "code_folding": [
     0
    ],
    "collapsed": true
   },
   "outputs": [],
   "source": [
    "### CODE ###\n",
    "path='/home/erwann/Desktop/PTCB/BISCEm';\n",
    "cd $path/Outputs/DESeq2;\n",
    "Rscript $path/Scripts/deseq2_pooled_R_vs_S.R &>> $path/Outputs/DESeq2/deseq2_pooled_R_vs_S.verbose;"
   ]
  },
  {
   "cell_type": "markdown",
   "metadata": {},
   "source": [
    "Content of deseq2_pooled_cells_versus.R for the first comparison :"
   ]
  },
  {
   "cell_type": "code",
   "execution_count": null,
   "metadata": {
    "code_folding": [
     0
    ],
    "collapsed": true
   },
   "outputs": [],
   "source": [
    "### CODE ###\n",
    "#!/usr/bin/env Rscript\n",
    "\n",
    "# Open featureCounts results for the same mouse model regardless of the experiment\n",
    "WT_R_EP = read.table(\"../FeatureCounts/WT_R_EP_ensembl_gene_id.tsv\")\n",
    "WT_R_YD = read.table(\"../FeatureCounts/WT_R_YD_ensembl_gene_id.tsv\")\n",
    "WT_S_EP = read.table(\"../FeatureCounts/WT_S_EP_ensembl_gene_id.tsv\")\n",
    "WT_S_YD = read.table(\"../FeatureCounts/WT_S_YD_ensembl_gene_id.tsv\")\n",
    "WT_pooled = data.frame(row.names = row.names(WT_R_EP),\n",
    "\t\t\t\t\t   WT_R_EP = WT_R_EP$WT_R_EP.bam,\n",
    "\t\t\t\t\t   WT_R_YD = WT_R_YD$WT_R_YD.bam,\n",
    "\t\t\t\t\t   WT_S_EP = WT_S_EP$WT_S_EP.bam,\n",
    "\t\t\t\t\t   WT_S_YD = WT_S_YD$WT_S_YD.bam)\n",
    "WT_pooled$WT_R_EP=as.numeric(as.character(WT_pooled$WT_R_EP))\n",
    "WT_pooled$WT_R_YD=as.numeric(as.character(WT_pooled$WT_R_YD))\n",
    "WT_pooled$WT_S_EP=as.numeric(as.character(WT_pooled$WT_S_EP))\n",
    "WT_pooled$WT_S_YD=as.numeric(as.character(WT_pooled$WT_S_YD))\n",
    "# Create design\n",
    "condition <- c('R', 'R', 'S', 'S')\n",
    "type <- c('paired-end', 'paired-end', 'paired-end', 'paired-end')\n",
    "WT_pooled_infos <- data.frame(condition, type)\n",
    "row.names(WT_pooled_infos) <- c('WT_R_EP', 'WT_R_YD', 'WT_S_EP', 'WT_S_YD')\n",
    "# Sanity check\n",
    "head(WT_pooled)\n",
    "tail(WT_pooled)\n",
    "WT_pooled_infos\n",
    "all(rownames(WT_pooled_infos) %in% colnames(WT_pooled))\n",
    "# Start DESeq2 analysis\n",
    "library(\"DESeq2\")\n",
    "dds <- DESeqDataSetFromMatrix(countData = WT_pooled,\n",
    "\t\t\t\t\t\t\t  colData = WT_pooled_infos,\n",
    "\t\t\t\t\t\t\t  design = ~ condition)\n",
    "# Sanity check\n",
    "dds\n",
    "# Pre-filtering removing rows that have only 0 or 1 read\n",
    "dds <- dds[ rowSums(counts(dds)) > 1, ]\n",
    "# Check on many genes it discarded\n",
    "summary(dds)\n",
    "# Set factor to tell which one is the control group\n",
    "dds$condition <- factor(dds$condition, levels=c('R','S'))\n",
    "# Start actual DE analysis\n",
    "dds <- DESeq(dds)\n",
    "res <- results(dds)\n",
    "# We are using DESeq2_1.16.1, thus betaPrior is set to 'FALSE' and we need to obtain shrunken LFCs with function ‘lfcShrink’.\n",
    "# https://support.bioconductor.org/p/95695/\n",
    "res <- lfcShrink(dds,\n",
    "       contrast=c(\"condition\",\"R\",\"S\"),\n",
    "       res=res)\n",
    "summary(res, alpha=0.05)\n",
    "# MA plot : the log2 of ratio of the counts between two conditions is represented as a function of the log2 of the mean of the counts\n",
    "png('Pooled_WT_R_vs_S_MA.png')\n",
    "plotMA(res,\n",
    "       ylim=c(min(res$log2FoldChange),\n",
    "        max(res$log2FoldChange)))\n",
    "dev.off()\n",
    "# Volcano plot : the log10 of the adjusted pvalue is represented as a function of the log2 of ratio of the counts.\n",
    "png('Pooled_WT_R_vs_S_volcano.png')\n",
    "plot(res$log2FoldChange,\n",
    "     -log10(res$padj),\n",
    "     xlim=c(min(res$log2FoldChange), max(res$log2FoldChange)),\n",
    "     ylim=c(0, 15),\n",
    "     xlab=\"log2 fold change\",\n",
    "     ylab=\"-log10 p-value\",\n",
    "     type=\"n\")\n",
    "sel <- which(res$log2FoldChange>=1)\n",
    "points(res[sel,\"log2FoldChange\"], -log10(res[sel,\"padj\"]),col=\"red\")\n",
    "sel <- which(res$log2FoldChange<1 & res$log2FoldChange>-1)\n",
    "points(res[sel,\"log2FoldChange\"], -log10(res[sel,\"padj\"]),col=\"grey\")\n",
    "sel <- which(res$log2FoldChange<=-1)\n",
    "points(res[sel,\"log2FoldChange\"], -log10(res[sel,\"padj\"]),col=\"green\")\n",
    "sel <- which(res$padj>0.05)\n",
    "points(res[sel,\"log2FoldChange\"], -log10(res[sel,\"padj\"]),col=\"black\")\n",
    "abline(v=1,lty=3)\n",
    "abline(v=-1,lty=3)\n",
    "dev.off()\n",
    "# Retrieve normalized counts for each condition for future merge\n",
    "dds <- estimateSizeFactors(dds)\n",
    "nor_counts <- counts(dds, normalized=TRUE)\n",
    "nor_counts_df <- as.data.frame(nor_counts)\n",
    "library(data.table)\n",
    "nor_counts_df <- setDT(nor_counts_df, keep.rownames = TRUE)[]\n",
    "colnames(nor_counts_df)[1] <- \"ensembl_gene_id\"\n",
    "colnames(nor_counts_df)[2] <- \"R_EP_normalized_count\"\n",
    "colnames(nor_counts_df)[3] <- \"R_YD_normalized_count\"\n",
    "colnames(nor_counts_df)[4] <- \"S_EP_normalized_count\"\n",
    "colnames(nor_counts_df)[5] <- \"S_YD_normalized_count\"\n",
    "# Then tidy = TRUE for compatibility with biomaRt merge\n",
    "res <- results(dds, tidy = TRUE)\n",
    "colnames(res)[1] <- \"ensembl_gene_id\"\n",
    "# Check\n",
    "summary(res)\n",
    "head(res)\n",
    "# Add biotypes infos\n",
    "# Get ensembl infos\n",
    "library(\"biomaRt\")\n",
    "mart <- biomaRt::useMart(biomart = \"ENSEMBL_MART_ENSEMBL\",\n",
    "                        dataset = \"mmusculus_gene_ensembl\",\n",
    "                        host = 'ensembl.org')             \n",
    "mart_infos <- biomaRt::getBM(attributes = c(\"ensembl_gene_id\",\n",
    "                                            \"external_gene_name\",\n",
    "                                            \"gene_biotype\"),\n",
    "                                            mart = mart)\n",
    "# Merge our DE results with ensembl infos for based on same gene_id in column\n",
    "res_biotyped <- merge(x = res,\n",
    "                      y = mart_infos,\n",
    "                      by = \"ensembl_gene_id\",\n",
    "                      all.x = TRUE)\n",
    "# Re-order columns & rename some to make more sense\n",
    "res_biotyped <- res_biotyped[,c(1,8,9,2:7)]\n",
    "colnames(res_biotyped)[2] <- \"ensembl_gene_name\"\n",
    "colnames(res_biotyped)[3] <- \"ensembl_gene_biotype\"\n",
    "# Add normalized counts info\n",
    "res_biotyped_counts <- merge(x = res_biotyped,\n",
    "                             y = nor_counts_df,\n",
    "                             by = \"ensembl_gene_id\",\n",
    "                             all.x = TRUE)\n",
    "# Save the result in a TSV\n",
    "write.table(res_biotyped_counts,\n",
    "            '../DESeq2/Pooled_WT_R_vs_S.tsv',\n",
    "            append=F, sep='\\t',\n",
    "            col.names=T,\n",
    "            row.names=F)"
   ]
  },
  {
   "cell_type": "markdown",
   "metadata": {},
   "source": [
    "#### 3.4.3) WT vs Mutant for both R & S :"
   ]
  },
  {
   "cell_type": "code",
   "execution_count": null,
   "metadata": {
    "code_folding": [
     0
    ],
    "collapsed": true
   },
   "outputs": [],
   "source": [
    "### CODE ###\n",
    "path='/home/erwann/Desktop/PTCB/BISCEm';\n",
    "cd $path/Outputs/DESeq2;\n",
    "Rscript $path/Scripts/deseq2_mutant_vs_wt.R &>> $path/Outputs/DESeq2/deseq2_mutant_vs_wt2.verbose;"
   ]
  },
  {
   "cell_type": "markdown",
   "metadata": {},
   "source": [
    "Content of deseq2_models_versus.R for the first comparison :"
   ]
  },
  {
   "cell_type": "code",
   "execution_count": null,
   "metadata": {
    "code_folding": [
     0
    ],
    "collapsed": true
   },
   "outputs": [],
   "source": [
    "### CODE ###\n",
    "#!/usr/bin/env Rscript\n",
    "\n",
    "# Open featureCounts results for the same mouse model & experiment\n",
    "WT_R_EP = read.table(\"../FeatureCounts/WT_R_EP_ensembl_gene_id.tsv\")\n",
    "threeB4_R_EP = read.table(\"../FeatureCounts/3B4_R_EP_ensembl_gene_id.tsv\")\n",
    "both_EP = data.frame(row.names = row.names(WT_R_EP),\n",
    "                        WT_R_EP = WT_R_EP$WT_R_EP.bam,\n",
    "                        threeB4_R_EP = threeB4_R_EP$X3B4_R_EP.bam)\n",
    "both_EP$WT_R_EP=as.numeric(as.character(both_EP$WT_R_EP))\n",
    "both_EP$threeB4_R_EP=as.numeric(as.character(both_EP$threeB4_R_EP))\n",
    "# Create design\n",
    "condition <- c('WT', 'MUTANT')\n",
    "type <- c('paired-end', 'paired-end')\n",
    "both_EP_infos <- data.frame(condition, type)\n",
    "row.names(both_EP_infos) <- c('WT_R_EP', 'threeB4_R_EP')\n",
    "# Sanity check\n",
    "head(both_EP)\n",
    "tail(both_EP)\n",
    "both_EP_infos\n",
    "all(rownames(both_EP_infos) %in% colnames(both_EP))\n",
    "# Start DESeq2 analysis\n",
    "library(\"DESeq2\")\n",
    "dds <- DESeqDataSetFromMatrix(countData = both_EP,\n",
    "                              colData = both_EP_infos,\n",
    "                              design = ~ condition)\n",
    "# Sanity check\n",
    "dds\n",
    "# Pre-filtering removing rows that have only 0 or 1 read\n",
    "dds <- dds[ rowSums(counts(dds)) > 1, ]\n",
    "# Check on many genes it discarded\n",
    "summary(dds)\n",
    "# Set factor to tell which one is the control group\n",
    "dds$condition <- factor(dds$condition, levels=c('WT','MUTANT'))\n",
    "# Start actual DE analysis\n",
    "dds <- DESeq(dds)\n",
    "res <- results(dds)\n",
    "# We are using DESeq2_1.16.1, thus betaPrior is set to 'FALSE' and we need to obtain shrunken LFCs with function ‘lfcShrink’.\n",
    "# https://support.bioconductor.org/p/95695/\n",
    "res <- lfcShrink(dds,\n",
    "       contrast=c(\"condition\",\"WT\",\"MUTANT\"),\n",
    "       res=res)\n",
    "summary(res, alpha=0.05)\n",
    "# MA plot : the log2 of ratio of the counts between two conditions is represented as a function of the log2 of the mean of the counts\n",
    "png('EP_R_3B4_vs_WT_MA.png')\n",
    "plotMA(res,\n",
    "       ylim=c(min(res$log2FoldChange),\n",
    "        max(res$log2FoldChange)))\n",
    "dev.off()\n",
    "# Volcano plot : the log10 of the adjusted pvalue is represented as a function of the log2 of ratio of the counts.\n",
    "png('EP_R_3B4_vs_WT_volcano.png')\n",
    "plot(res$log2FoldChange,\n",
    "     -log10(res$padj),\n",
    "     xlim=c(min(res$log2FoldChange), max(res$log2FoldChange)),\n",
    "     ylim=c(0, 15),\n",
    "     xlab=\"log2 fold change\",\n",
    "     ylab=\"-log10 p-value\",\n",
    "     type=\"n\")\n",
    "sel <- which(res$log2FoldChange>=1)\n",
    "points(res[sel,\"log2FoldChange\"], -log10(res[sel,\"padj\"]),col=\"red\")\n",
    "sel <- which(res$log2FoldChange<1 & res$log2FoldChange>-1)\n",
    "points(res[sel,\"log2FoldChange\"], -log10(res[sel,\"padj\"]),col=\"grey\")\n",
    "sel <- which(res$log2FoldChange<=-1)\n",
    "points(res[sel,\"log2FoldChange\"], -log10(res[sel,\"padj\"]),col=\"green\")\n",
    "sel <- which(res$padj>0.05)\n",
    "points(res[sel,\"log2FoldChange\"], -log10(res[sel,\"padj\"]),col=\"black\")\n",
    "abline(v=1,lty=3)\n",
    "abline(v=-1,lty=3)\n",
    "dev.off()\n",
    "# Retrieve normalized counts for each condition for future merge\n",
    "dds <- estimateSizeFactors(dds)\n",
    "nor_counts <- counts(dds, normalized=TRUE)\n",
    "nor_counts_df <- as.data.frame(nor_counts)\n",
    "library(data.table)\n",
    "nor_counts_df <- setDT(nor_counts_df, keep.rownames = TRUE)[]\n",
    "colnames(nor_counts_df)[1] <- \"ensembl_gene_id\"\n",
    "colnames(nor_counts_df)[2] <- \"WT_normalized_count\"\n",
    "colnames(nor_counts_df)[3] <- \"threeB4_normalized_count\"\n",
    "# Then tidy = TRUE for compatibility with biomaRt merge\n",
    "res <- results(dds, tidy = TRUE)\n",
    "colnames(res)[1] <- \"ensembl_gene_id\"\n",
    "# Check\n",
    "summary(res)\n",
    "head(res)\n",
    "# Add biotypes infos\n",
    "# Get ensembl infos\n",
    "library(\"biomaRt\")\n",
    "mart <- biomaRt::useMart(biomart = \"ENSEMBL_MART_ENSEMBL\",\n",
    "                        dataset = \"mmusculus_gene_ensembl\",\n",
    "                        host = 'ensembl.org')             \n",
    "mart_infos <- biomaRt::getBM(attributes = c(\"ensembl_gene_id\",\n",
    "                                            \"external_gene_name\",\n",
    "                                            \"gene_biotype\"),\n",
    "                                            mart = mart)\n",
    "# Merge our DE results with ensembl infos for based on same gene_id in column\n",
    "res_biotyped <- merge(x = res,\n",
    "                      y = mart_infos,\n",
    "                      by = \"ensembl_gene_id\",\n",
    "                      all.x = TRUE)\n",
    "# Re-order columns & rename some to make more sense\n",
    "res_biotyped <- res_biotyped[,c(1,8,9,2:7)]\n",
    "colnames(res_biotyped)[2] <- \"ensembl_gene_name\"\n",
    "colnames(res_biotyped)[3] <- \"ensembl_gene_biotype\"\n",
    "# Add normalized counts info\n",
    "res_biotyped_counts <- merge(x = res_biotyped,\n",
    "                             y = nor_counts_df,\n",
    "                             by = \"ensembl_gene_id\",\n",
    "                             all.x = TRUE)\n",
    "# Save the result in a TSV\n",
    "write.table(res_biotyped_counts,\n",
    "            '../DESeq2/EP_R_3B4_vs_WT.tsv',\n",
    "            append=F, sep='\\t',\n",
    "            col.names=T,\n",
    "            row.names=F)"
   ]
  },
  {
   "cell_type": "markdown",
   "metadata": {},
   "source": [
    "#### 3.4.4) Pooled WT vs Mutant for both R & S when possible (3pRR vs WT) :"
   ]
  },
  {
   "cell_type": "code",
   "execution_count": null,
   "metadata": {
    "code_folding": [
     0
    ],
    "collapsed": true
   },
   "outputs": [],
   "source": [
    "### CODE ###\n",
    "path='/home/erwann/Desktop/PTCB/BISCEm';\n",
    "cd $path/Outputs/DESeq2;\n",
    "Rscript $path/Scripts/deseq2_pooled_mutant_vs_wt.R &>> $path/Outputs/DESeq2/deseq2_pooled_mutant_vs_wt.verbose;"
   ]
  },
  {
   "cell_type": "markdown",
   "metadata": {},
   "source": [
    "Content of deseq2_pooled_models_versus.R for the first comparison :"
   ]
  },
  {
   "cell_type": "code",
   "execution_count": null,
   "metadata": {
    "code_folding": [
     0
    ],
    "collapsed": true
   },
   "outputs": [],
   "source": [
    "### CODE ###\n",
    "#!/usr/bin/env Rscript\n",
    "\n",
    "# Open featureCounts results for the same mouse model regardless of the experiment\n",
    "WT_R_EP = read.table(\"../FeatureCounts/WT_R_EP_ensembl_gene_id.tsv\")\n",
    "WT_R_YD = read.table(\"../FeatureCounts/WT_R_YD_ensembl_gene_id.tsv\")\n",
    "threepRR_R_EP = read.table(\"../FeatureCounts/3pRR_R_EP_ensembl_gene_id.tsv\")\n",
    "threepRR_R_YD = read.table(\"../FeatureCounts/3pRR_R_YD_ensembl_gene_id.tsv\")\n",
    "all_pooled = data.frame(row.names = row.names(WT_R_EP),\n",
    "             WT_R_EP = WT_R_EP$WT_R_EP.bam,\n",
    "             WT_R_YD = WT_R_YD$WT_R_YD.bam,\n",
    "             threepRR_R_EP = threepRR_R_EP$X3pRR_R_EP.bam,\n",
    "             threepRR_R_YD = threepRR_R_YD$X3pRR_R_YD.bam)\n",
    "all_pooled$WT_R_EP=as.numeric(as.character(all_pooled$WT_R_EP))\n",
    "all_pooled$WT_R_YD=as.numeric(as.character(all_pooled$WT_R_YD))\n",
    "all_pooled$threepRR_R_EP=as.numeric(as.character(all_pooled$threepRR_R_EP))\n",
    "all_pooled$threepRR_R_YD=as.numeric(as.character(all_pooled$threepRR_R_YD))\n",
    "# Create design\n",
    "condition <- c('WT', 'WT', 'MUTANT', 'MUTANT')\n",
    "type <- c('paired-end', 'paired-end', 'paired-end', 'paired-end')\n",
    "all_pooled_infos <- data.frame(condition, type)\n",
    "row.names(all_pooled_infos) <- c('WT_R_EP', 'WT_R_YD', 'threepRR_R_EP', 'threepRR_R_YD')\n",
    "# Sanity check\n",
    "head(all_pooled)\n",
    "tail(all_pooled)\n",
    "all_pooled_infos\n",
    "all(rownames(all_pooled_infos) %in% colnames(all_pooled))\n",
    "# Start DESeq2 analysis\n",
    "library(\"DESeq2\")\n",
    "dds <- DESeqDataSetFromMatrix(countData = all_pooled,\n",
    "                colData = all_pooled_infos,\n",
    "                design = ~ condition)\n",
    "# Sanity check\n",
    "dds\n",
    "# Pre-filtering removing rows that have only 0 or 1 read\n",
    "dds <- dds[ rowSums(counts(dds)) > 1, ]\n",
    "# Check on many genes it discarded\n",
    "summary(dds)\n",
    "# Set factor to tell which one is the control group\n",
    "dds$condition <- factor(dds$condition, levels=c('WT','MUTANT'))\n",
    "# Start actual DE analysis\n",
    "dds <- DESeq(dds)\n",
    "res <- results(dds)\n",
    "# We are using DESeq2_1.16.1, thus betaPrior is set to 'FALSE' and we need to obtain shrunken LFCs with function ‘lfcShrink’.\n",
    "# https://support.bioconductor.org/p/95695/\n",
    "res <- lfcShrink(dds,\n",
    "       contrast=c(\"condition\",\"WT\",\"MUTANT\"),\n",
    "       res=res)\n",
    "summary(res, alpha=0.05)\n",
    "# MA plot : the log2 of ratio of the counts between two conditions is represented as a function of the log2 of the mean of the counts\n",
    "png('Pooled_R_3pRR_vs_WT_MA.png')\n",
    "plotMA(res,\n",
    "       ylim=c(min(res$log2FoldChange),\n",
    "        max(res$log2FoldChange)))\n",
    "dev.off()\n",
    "# Volcano plot : the log10 of the adjusted pvalue is represented as a function of the log2 of ratio of the counts.\n",
    "png('Pooled_R_3pRR_vs_WT.png')\n",
    "plot(res$log2FoldChange,\n",
    "     -log10(res$padj),\n",
    "     xlim=c(min(res$log2FoldChange), max(res$log2FoldChange)),\n",
    "     ylim=c(0, 15),\n",
    "     xlab=\"log2 fold change\",\n",
    "     ylab=\"-log10 p-value\",\n",
    "     type=\"n\")\n",
    "sel <- which(res$log2FoldChange>=1)\n",
    "points(res[sel,\"log2FoldChange\"], -log10(res[sel,\"padj\"]),col=\"red\")\n",
    "sel <- which(res$log2FoldChange<1 & res$log2FoldChange>-1)\n",
    "points(res[sel,\"log2FoldChange\"], -log10(res[sel,\"padj\"]),col=\"grey\")\n",
    "sel <- which(res$log2FoldChange<=-1)\n",
    "points(res[sel,\"log2FoldChange\"], -log10(res[sel,\"padj\"]),col=\"green\")\n",
    "sel <- which(res$padj>0.05)\n",
    "points(res[sel,\"log2FoldChange\"], -log10(res[sel,\"padj\"]),col=\"black\")\n",
    "abline(v=1,lty=3)\n",
    "abline(v=-1,lty=3)\n",
    "dev.off()\n",
    "# Retrieve normalized counts for each condition for future merge\n",
    "dds <- estimateSizeFactors(dds)\n",
    "nor_counts <- counts(dds, normalized=TRUE)\n",
    "nor_counts_df <- as.data.frame(nor_counts)\n",
    "library(data.table)\n",
    "nor_counts_df <- setDT(nor_counts_df, keep.rownames = TRUE)[]\n",
    "colnames(nor_counts_df)[1] <- \"ensembl_gene_id\"\n",
    "colnames(nor_counts_df)[2] <- \"WT_EP_normalized_count\"\n",
    "colnames(nor_counts_df)[3] <- \"WT_YD_normalized_count\"\n",
    "colnames(nor_counts_df)[4] <- \"threepRR_EP_normalized_count\"\n",
    "colnames(nor_counts_df)[5] <- \"threepRR_YD_normalized_count\"\n",
    "# Then tidy = TRUE for compatibility with biomaRt merge\n",
    "res <- results(dds, tidy = TRUE)\n",
    "colnames(res)[1] <- \"ensembl_gene_id\"\n",
    "# Check\n",
    "summary(res)\n",
    "head(res)\n",
    "# Add biotypes infos\n",
    "# Get ensembl infos\n",
    "library(\"biomaRt\")\n",
    "mart <- biomaRt::useMart(biomart = \"ENSEMBL_MART_ENSEMBL\",\n",
    "                        dataset = \"mmusculus_gene_ensembl\",\n",
    "                        host = 'ensembl.org')             \n",
    "mart_infos <- biomaRt::getBM(attributes = c(\"ensembl_gene_id\",\n",
    "                                            \"external_gene_name\",\n",
    "                                            \"gene_biotype\"),\n",
    "                                            mart = mart)\n",
    "# Merge our DE results with ensembl infos for based on same gene_id in column\n",
    "res_biotyped <- merge(x = res,\n",
    "                      y = mart_infos,\n",
    "                      by = \"ensembl_gene_id\",\n",
    "                      all.x = TRUE)\n",
    "# Re-order columns & rename some to make more sense\n",
    "res_biotyped <- res_biotyped[,c(1,8,9,2:7)]\n",
    "colnames(res_biotyped)[2] <- \"ensembl_gene_name\"\n",
    "colnames(res_biotyped)[3] <- \"ensembl_gene_biotype\"\n",
    "# Add normalized counts info\n",
    "res_biotyped_counts <- merge(x = res_biotyped,\n",
    "                             y = nor_counts_df,\n",
    "                             by = \"ensembl_gene_id\",\n",
    "                             all.x = TRUE)\n",
    "# Save the result in a TSV\n",
    "write.table(res_biotyped_counts,\n",
    "            '../DESeq2/Pooled_R_3pRR_vs_WT.tsv',\n",
    "            append=F, sep='\\t',\n",
    "            col.names=T,\n",
    "            row.names=F)"
   ]
  },
  {
   "cell_type": "markdown",
   "metadata": {},
   "source": [
    "#### 3.4.5) Mutant vs Mutant :"
   ]
  },
  {
   "cell_type": "code",
   "execution_count": null,
   "metadata": {
    "code_folding": [
     0
    ],
    "collapsed": true
   },
   "outputs": [],
   "source": [
    "### CODE ###\n",
    "path='/home/erwann/Desktop/PTCB/BISCEm';\n",
    "cd $path/Outputs/DESeq2;\n",
    "Rscript $path/Scripts/script.R &>> $path/Outputs/DESeq2/script.verbose;"
   ]
  },
  {
   "cell_type": "markdown",
   "metadata": {},
   "source": [
    "Content of script.R for the first comparison :"
   ]
  },
  {
   "cell_type": "code",
   "execution_count": null,
   "metadata": {
    "collapsed": true
   },
   "outputs": [],
   "source": [
    "INCOMING"
   ]
  },
  {
   "cell_type": "markdown",
   "metadata": {},
   "source": [
    "#### 3.4.6) Pooled Mutant vs Mutant when available :"
   ]
  },
  {
   "cell_type": "code",
   "execution_count": null,
   "metadata": {
    "code_folding": [
     0
    ],
    "collapsed": true
   },
   "outputs": [],
   "source": [
    "### CODE ###\n",
    "path='/home/erwann/Desktop/PTCB/BISCEm';\n",
    "cd $path/Outputs/DESeq2;\n",
    "Rscript $path/Scripts/script.R &>> $path/Outputs/DESeq2/script.verbose;"
   ]
  },
  {
   "cell_type": "markdown",
   "metadata": {},
   "source": [
    "Content of script.R for the first comparison :"
   ]
  },
  {
   "cell_type": "code",
   "execution_count": null,
   "metadata": {
    "collapsed": true
   },
   "outputs": [],
   "source": [
    "INCOMING"
   ]
  },
  {
   "cell_type": "markdown",
   "metadata": {},
   "source": [
    "#### 3.4.7) Pooled R vs S for all mouse models (EP, YD, EP+YD) :"
   ]
  },
  {
   "cell_type": "code",
   "execution_count": null,
   "metadata": {
    "code_folding": [
     0
    ],
    "collapsed": true
   },
   "outputs": [],
   "source": [
    "### CODE ###\n",
    "path='/home/erwann/Desktop/PTCB/BISCEm';\n",
    "cd $path/Outputs/DESeq2;\n",
    "Rscript $path/Scripts/script.R &>> $path/Outputs/DESeq2/script.verbose;"
   ]
  },
  {
   "cell_type": "markdown",
   "metadata": {},
   "source": [
    "Content of script.R for the first comparison :"
   ]
  },
  {
   "cell_type": "code",
   "execution_count": null,
   "metadata": {
    "collapsed": true
   },
   "outputs": [],
   "source": [
    "INCOMING"
   ]
  }
 ],
 "metadata": {
  "anaconda-cloud": {},
  "celltoolbar": "Raw Cell Format",
  "kernelspec": {
   "display_name": "Bash",
   "language": "bash",
   "name": "bash"
  },
  "language_info": {
   "codemirror_mode": "shell",
   "file_extension": ".sh",
   "mimetype": "text/x-sh",
   "name": "bash"
  }
 },
 "nbformat": 4,
 "nbformat_minor": 1
}
