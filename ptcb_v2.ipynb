{
 "cells": [
  {
   "cell_type": "markdown",
   "metadata": {},
   "source": [
    "# PTCB project"
   ]
  },
  {
   "cell_type": "markdown",
   "metadata": {},
   "source": [
    "Report :\n",
    "http://unil.im/Ly33D\n",
    "\n",
    "Normalization :\n",
    "http://unil.im/kdTj5\n",
    "\n",
    "FeatureCounts tests :\n",
    "http://unil.im/2sAq6\n",
    "\n",
    "Read counts step by step :\n",
    "http://unil.im/Ic1Wc"
   ]
  },
  {
   "cell_type": "markdown",
   "metadata": {},
   "source": [
    "##### Notes / todo :\n",
    "- Heatmaps :  <br>\n",
    "    -- Pefanis : Correspond à du stimulé (re-vérif dans publi), donc à ajouter en regard des données stimulées de Limoges. <br>\n",
    "    -- Faire également les heatmaps 1vs1 ou 2vs2 pour chaque comparaison sans_rep et avec_rep. <br>\n",
    "    -- Faire en plus de l'approche \"top5, top5, top5\" pour les grandes heatmaps, une approche de type \"gènes DE qui reviennent le plus souvent parmis les filtered de tous les TSV de résultats\", puis heatmap avec ces gènes là. <br>\n",
    "\n",
    "\n",
    "- Approche transcriptome via Kallisto (quantif des transcrits également ?). Puis intersection (au niveau des résultats DESeq2 filtered) avec approche génome de featureCounts. <br>\n",
    "\n",
    "\n",
    "- QC step after mapping => rseqc. <br>\n",
    "\n",
    "\n",
    "- Comparaison avec résultats de Nice sur 1 jeu de données / reproduction exactes des param de Nice ? <br>\n",
    "\n",
    "\n",
    "- Réplicats soon : 1 R \"Eµ FL KO\" (rep de Yves EU), 1 R MAR Ko (rep de Yves) & 2 R cEµ KO. <br>\n",
    "\n",
    "\n",
    "- Justifier utilisation de DESEq2 pour les cas sans réplicats (dire pourquoi l'outil peut quand même être utile vs d'autres outils et quelles sont les limitations). <br>\n",
    "\n",
    "\n",
    "- Trouver littérature qui dit que featureCounts, à partir de l'annotation (GENCODE), ne compte que les paires de reads qui ont pour brin originel le brin +/- indiqué pour chaque gène. Sandrine : Essayer de partir de l'annotation ensembl du locus IGH, puis ajouter \"à la main\" 3pRR, Eu, etc... <br>\n",
    "\n",
    "\n",
    "- Trouver GTF ou autres d'annotations du génome de souris à charger dans IGV, en particulier pour le locus IgH. <br>\n",
    "\n",
    "\n",
    "- Créer BAM avec paires alignées en sens et celle en anti-sens des gènes annotés (!= de bamCoverage --filterRNAstrand forward / reverse, qui en gros ne regarde que par rapport au brin + / -. Nous là quand on parle d'anti-sens, par exemple pour le locus IgH qui est full \"-\", ce sera des reads qui sont en \"+\".). En gros Sandrine veut : 1) Résultat de DE (ça c'est ~ OK), 2) piste \"visualisable\" des sens // gènes, 3) piste des anti-sens // gènes. lncRNA, et autres sur le brin opposé d'un gène aux ~ mêmes coord sont à considérer comme du vrai anti-sens. <br>\n",
    "\n",
    "\n",
    "- Histoire de recomb/transloc random qui peuvent générer des reads en anti-sens sur le génome => need de prendre le BAM, de soustraire tous les reads qui sont sur un locus : \"gene pos pos strand\" connu, puis de regarder ce qu'il reste. <br>\n",
    "\n",
    "\n",
    "- Steph : Intersection entre cas sur log2 + margin results. <br>"
   ]
  },
  {
   "cell_type": "markdown",
   "metadata": {},
   "source": [
    "## 1) Data"
   ]
  },
  {
   "cell_type": "markdown",
   "metadata": {},
   "source": [
    "### 1.1) Raw reads"
   ]
  },
  {
   "cell_type": "markdown",
   "metadata": {},
   "source": [
    "#### 1.1.1) CRIBL data"
   ]
  },
  {
   "cell_type": "markdown",
   "metadata": {},
   "source": [
    "Stored @Sophia Antipolis : <br>\n",
    "Eric : 3B4, 3pRR, DEL, IRIS, PAL, WT. <br>\n",
    "Yves : 3pRR, EU, MAR, WT. <br>\n",
    "Replicates (incoming) : EU-R (~Yves), MAR-R (~Yves), 2 CEU-R (new)."
   ]
  },
  {
   "cell_type": "code",
   "execution_count": null,
   "metadata": {
    "code_folding": [
     0
    ],
    "collapsed": true
   },
   "outputs": [],
   "source": [
    "### CODE ###\n",
    "mkdir -p ~/Desktop/PTCB/BISCEm/Data/Reads_raw_Nice;\n",
    "cd ~/Desktop/PTCB/BISCEm/Data/Reads_raw_Nice;"
   ]
  },
  {
   "cell_type": "code",
   "execution_count": null,
   "metadata": {
    "code_folding": [
     0
    ],
    "collapsed": true
   },
   "outputs": [],
   "source": [
    "### CODE ###\n",
    "axel -q http://www.genomique.info/data/public/000-export/151109_pinaud.tar;\n",
    "axel -q http://www.genomique.info/data/public/000-export/DEL_IRIS_fastq.tar;\n",
    "axel -q http://www.genomique.info/data/public/000-export/160627_denizot.tar;\n",
    "tar -xvf *.tar;"
   ]
  },
  {
   "cell_type": "markdown",
   "metadata": {},
   "source": [
    "And some files renaming (for which I lost the script)."
   ]
  },
  {
   "cell_type": "markdown",
   "metadata": {},
   "source": [
    "#### 1.1.2) Pefanis data"
   ]
  },
  {
   "cell_type": "markdown",
   "metadata": {},
   "source": [
    "Retrieve all \"BC\" samples : https://www.ncbi.nlm.nih.gov/sra?term=SRP042355 :"
   ]
  },
  {
   "cell_type": "code",
   "execution_count": null,
   "metadata": {
    "code_folding": [
     0
    ],
    "collapsed": true
   },
   "outputs": [],
   "source": [
    "### CODE ###\n",
    "for id in 'SRR1302208' 'SRR1302283' 'SRR1302414' \\\n",
    "           'SRR1302785' 'SRR1302786' 'SRR1302787' \\\n",
    "           'SRR1302788' 'SRR1302789' 'SRR1984164' \\\n",
    "           'SRR1984166' 'SRR1984167' 'SRR1984178';\n",
    "do fastq-dump -O . --split-files $id;\n",
    "done;"
   ]
  },
  {
   "cell_type": "markdown",
   "metadata": {},
   "source": [
    "### 1.2) Mus musculus"
   ]
  },
  {
   "cell_type": "markdown",
   "metadata": {},
   "source": [
    "#### 1.2.1) Reference genome & associated GFF"
   ]
  },
  {
   "cell_type": "markdown",
   "metadata": {},
   "source": [
    "Downloaded from the \"Genome Reference Consortium\", latesst realease = GRCm38.p5 :"
   ]
  },
  {
   "cell_type": "code",
   "execution_count": null,
   "metadata": {
    "code_folding": [
     0
    ],
    "collapsed": true
   },
   "outputs": [],
   "source": [
    "### CODE ###\n",
    "mkdir -p ~/Desktop/PTCB/BISCEm/Data/Mus_musculus;\n",
    "cd ~/Desktop/PTCB/BISCEm/Data/Mus_musculus;"
   ]
  },
  {
   "cell_type": "code",
   "execution_count": null,
   "metadata": {
    "code_folding": [
     0
    ],
    "collapsed": true
   },
   "outputs": [],
   "source": [
    "### CODE ###\n",
    "url='ftp://ftp.ncbi.nlm.nih.gov/genomes/all/GCA/000/001/635/GCA_000001635.7_GRCm38.p5';\n",
    "axel -q $url/GCA_000001635.7_GRCm38.p5_genomic.fna.gz;\n",
    "wget -nv $url/GCA_000001635.7_GRCm38.p5_genomic.gff.gz;\n",
    "unpigz *_GRCm38.p5_genomic*;"
   ]
  },
  {
   "cell_type": "markdown",
   "metadata": {},
   "source": [
    "Check if they contains the same sequences names :"
   ]
  },
  {
   "cell_type": "code",
   "execution_count": null,
   "metadata": {
    "code_folding": [
     0
    ],
    "collapsed": true
   },
   "outputs": [],
   "source": [
    "### CODE ###\n",
    "grep '^>' GCA_000001635.7_GRCm38.p5_genomic.fna | sort -u > fna.txt\n",
    "sed -i 's/>//' fna.txt \n",
    "awk -F \"[[:space:]]\" '{print $1}' fna.txt > fna_final.txt\n",
    "awk -F \"\\t\" '{if($0 !~ /^#/) print $1}' GCA_000001635.7_GRCm38.p5_genomic.gff | sort -u > gff.txt\n",
    "diff fna_final.txt gff.txt"
   ]
  },
  {
   "cell_type": "markdown",
   "metadata": {},
   "source": [
    "If the diff command produce no output, it's okay. <br>\n",
    "One last thing, to avoid potential incompatilities in downstream analysis :"
   ]
  },
  {
   "cell_type": "code",
   "execution_count": null,
   "metadata": {
    "code_folding": [
     0
    ],
    "collapsed": true
   },
   "outputs": [],
   "source": [
    "### CODE ###\n",
    "grep '^>' GCA_000001635.7_GRCm38.p5_genomic.fna | head -2;\n",
    "awk -F \"\\t\" '{if($0 !~ /^#/) print $1}' GCA_000001635.7_GRCm38.p5_genomic.gff | head -2;"
   ]
  },
  {
   "cell_type": "markdown",
   "metadata": {},
   "source": [
    "What we have just shown is that sequences headers in the FNA file are more verbose than the associated name for the same sequence in the GFF file. Given that this extra info is not critical, let's discard it & check that we did this successfully :"
   ]
  },
  {
   "cell_type": "code",
   "execution_count": null,
   "metadata": {
    "code_folding": [
     0
    ],
    "collapsed": true
   },
   "outputs": [],
   "source": [
    "### CODE ###\n",
    "gawk -i inplace -F \"[[:space:]]\" '{if($0 ~ /^>/) $0 = $1; print}' GCA_000001635.7_GRCm38.p5_genomic.fna;\n",
    "grep '^>' GCA_000001635.7_GRCm38.p5_genomic.fna | head -2;\n",
    "awk -F \"\\t\" '{if($0 !~ /^#/) print $1}' GCA_000001635.7_GRCm38.p5_genomic.gff | head -2;"
   ]
  },
  {
   "cell_type": "markdown",
   "metadata": {},
   "source": [
    "Load stuff on Genotoul :"
   ]
  },
  {
   "cell_type": "code",
   "execution_count": null,
   "metadata": {
    "code_folding": [
     0
    ],
    "collapsed": true
   },
   "outputs": [],
   "source": [
    "### CODE ###\n",
    "sudo scp *_GRCm38.p5_genomic* escaon@genotoul.toulouse.inra.fr:/home/escaon/work/PTCB/Mus_musculus;"
   ]
  },
  {
   "cell_type": "markdown",
   "metadata": {},
   "source": [
    "Remove useless files & compress the remaining for local storage :"
   ]
  },
  {
   "cell_type": "code",
   "execution_count": null,
   "metadata": {
    "code_folding": [
     0
    ],
    "collapsed": true
   },
   "outputs": [],
   "source": [
    "### CODE ###\n",
    "rm *.txt;\n",
    "pigz *_GRCm38.p5_genomic*;"
   ]
  },
  {
   "cell_type": "markdown",
   "metadata": {},
   "source": [
    "#### 1.2.2) Reference transcriptome"
   ]
  },
  {
   "cell_type": "markdown",
   "metadata": {},
   "source": [
    "For future use with Kallisto. <br>\n",
    "\n",
    "We retrieve transcriptome from Ensembl latest release, given that Kallisto authors recommand it : <br>\"Anyway, our links would simply point you to the ensembl transcriptome when it exists. We typically use this as it is fairly complete (by comparison with others) and the transcript to gene name mapping is pretty nice (also by comparison with others).\" <br>\n",
    "We use cdna + ncrna. <br>"
   ]
  },
  {
   "cell_type": "code",
   "execution_count": null,
   "metadata": {
    "code_folding": [
     0
    ],
    "collapsed": true
   },
   "outputs": [],
   "source": [
    "### CODE ###\n",
    "mkdir -p /media/sf_raid/Data/PTCB/mm10_transcriptome;\n",
    "cd /media/sf_raid/Data/PTCB/mm10_transcriptome;"
   ]
  },
  {
   "cell_type": "code",
   "execution_count": null,
   "metadata": {
    "code_folding": [
     0
    ],
    "collapsed": true,
    "scrolled": true
   },
   "outputs": [],
   "source": [
    "### CODE ###\n",
    "url='ftp://ftp.ensembl.org/pub/release-90/fasta/mus_musculus';\n",
    "axel -q $url/cdna/Mus_musculus.GRCm38.cdna.all.fa.gz;\n",
    "axel -q $url/ncrna/Mus_musculus.GRCm38.ncrna.fa.gz;\n",
    "cat Mus_musculus.GRCm38.cdna.all.fa.gz \\\n",
    "    Mus_musculus.GRCm38.ncrna.fa.gz \\\n",
    "    > mus_musculus_ensembl_grcm38_r90_cdna_and_ncrna.fasta.gz;"
   ]
  },
  {
   "cell_type": "markdown",
   "metadata": {},
   "source": [
    "Load stuff on Genotoul :"
   ]
  },
  {
   "cell_type": "code",
   "execution_count": null,
   "metadata": {
    "code_folding": [
     0
    ],
    "collapsed": true
   },
   "outputs": [],
   "source": [
    "### CODE ###\n",
    "sudo scp mus_musculus_ensembl_grcm38_r90_cdna_and_ncrna.fasta.gz \\\n",
    "     hbastien@genotoul.toulouse.inra.fr:/home/hbastien/work/PTCB/mm10_transcriptome;"
   ]
  },
  {
   "cell_type": "markdown",
   "metadata": {},
   "source": [
    "#### 1.2.3) GTF annotations"
   ]
  },
  {
   "cell_type": "markdown",
   "metadata": {},
   "source": [
    "For future use with featureCounts.<br>\n",
    "\n",
    "Downloaded from \"GENCODE\" (for GRCm38.p5 genome). <br>\n",
    "\"It contains the comprehensive gene annotation on the reference chromosomes, scaffolds, assembly patches and alternate loci (haplotypes)\". <br>\n",
    "More precisely, it annotate a lot of gene/transcript biotypes : https://www.gencodegenes.org/gencode_biotypes.html."
   ]
  },
  {
   "cell_type": "code",
   "execution_count": null,
   "metadata": {
    "code_folding": [
     0
    ],
    "collapsed": true
   },
   "outputs": [],
   "source": [
    "### CODE ###\n",
    "axel -q ftp://ftp.sanger.ac.uk/pub/gencode/Gencode_mouse/\\\n",
    "release_M14/gencode.vM14.chr_patch_hapl_scaff.annotation.gtf.gz;"
   ]
  },
  {
   "cell_type": "markdown",
   "metadata": {},
   "source": [
    "#### 1.2.4) Ensembl vs GENCODE"
   ]
  },
  {
   "cell_type": "markdown",
   "metadata": {},
   "source": [
    "We want at some point to compare results obtained with the \"genomic path\", i.e. STAR + featureCounts + DESeq2 vs results from the \"transcriptomic path\", i.e. Kallisto + DESeq2. Thus, we need make sure that featureCounts (using GENCODE annotations) and Kallisto (using transcriptomes sequences) will compute reads counts at the gene level for approximately the same genes. <br>"
   ]
  },
  {
   "cell_type": "markdown",
   "metadata": {},
   "source": [
    "##### Get Ensembl genes name list contained in GENCODE gtf : "
   ]
  },
  {
   "cell_type": "code",
   "execution_count": null,
   "metadata": {
    "code_folding": [
     0
    ],
    "collapsed": true
   },
   "outputs": [],
   "source": [
    "### CODE ###\n",
    "cd ~/Desktop/PTCB/BISCEm/Data/Mus_musculus;\n",
    "unpigz gencode.vM14.chr_patch_hapl_scaff.annotation.gtf.gz;\n",
    "awk -F \" \" '{if($0 !~ /^#/) print $10}' gencode.vM14.chr_patch_hapl_scaff.annotation.gtf | sort -u > gencode_gene_ids_u.txt;\n",
    "sed -i 's/;//g' gencode_gene_ids_u.txt;\n",
    "sed -i 's/\\\"//g' gencode_gene_ids_u.txt;\n",
    "awk -F '\\t' -v OFS='\\t' '{sub(/\\.[0-9]*/, \"\", $1)} 1' gencode_gene_ids_u.txt > gencode_gene_ids_u_proper.txt;\n",
    "wc -l gencode_gene_ids_u_proper.txt;\n",
    "# 52366 gencode_gene_ids_u_proper.txt\n",
    "rm gencode_gene_ids_u.txt;\n",
    "pigz gencode.vM14.chr_patch_hapl_scaff.annotation.gtf;\n",
    "cp gencode_gene_ids_u_proper.txt ~/Desktop/PTCB/BISCEm/Ensembl_transcriptome_vs_gencode;"
   ]
  },
  {
   "cell_type": "markdown",
   "metadata": {},
   "source": [
    "##### Get Ensembl genes name list contained in our Ensembl transcriptome :"
   ]
  },
  {
   "cell_type": "code",
   "execution_count": null,
   "metadata": {
    "code_folding": [
     0
    ],
    "collapsed": true
   },
   "outputs": [],
   "source": [
    "### CODE ###\n",
    "cd ~/Desktop/PTCB/BISCEm/Ensembl_transcriptome_vs_gencode;\n",
    "# DL\n",
    "axel -q ftp://ftp.ensembl.org/pub/release-90/fasta/mus_musculus/cdna/Mus_musculus.GRCm38.cdna.all.fa.gz;\n",
    "axel -q ftp://ftp.ensembl.org/pub/release-90/fasta/mus_musculus/ncrna/Mus_musculus.GRCm38.ncrna.fa.gz;\n",
    "# Grep non-fasta lines\n",
    "zgrep '^>' Mus_musculus.GRCm38.cdna.all.fa.gz > headers_cdna.txt;\n",
    "zgrep '^>' Mus_musculus.GRCm38.ncrna.fa.gz > headers_ncrna.txt;\n",
    "# Count number of transcripts\n",
    "for f in *.txt;\n",
    "do printf $f\"\\t\";\n",
    "   sort -u $f | wc -l;\n",
    "done;\n",
    "# headers_cdna.txt    109282\n",
    "# headers_ncrna.txt    19932\n",
    "# Clear formatting -> ensembl_gene_name\n",
    "awk -F \" \" '{print $4}' headers_cdna.txt > genes_cdna.txt;\n",
    "awk -F \" \" '{print $4}' headers_ncrna.txt > genes_ncrna.txt;\n",
    "sort -u genes_cdna.txt > genes_cdna_u.txt;\n",
    "sort -u genes_ncrna.txt > genes_ncrna_u.txt;\n",
    "awk -F \"\\t\" '{sub(/\\.[0-9]*/, \"\", $1)} 1' genes_cdna_u.txt > genes_cdna_u_v2.txt;\n",
    "awk -F \"\\t\" '{sub(/\\.[0-9]*/, \"\", $1)} 1' genes_ncrna_u.txt > genes_ncrna_u_v2.txt;\n",
    "awk -F \"\\t\" '{sub(/gene:/, \"\", $1)} 1' genes_cdna_u_v2.txt > genes_cdna_u_v3.txt;\n",
    "awk -F \"\\t\" '{sub(/gene:/, \"\", $1)} 1' genes_ncrna_u_v2.txt > genes_ncrna_u_v3.txt;\n",
    "wc -l *_v3.txt;\n",
    "# 34839 genes_cdna_u_v3.txt\n",
    "# 15220 genes_ncrna_u_v3.txt\n",
    "# 50059 total\n",
    "cat genes_cdna_u_v3.txt genes_ncrna_u_v3.txt > genes_cdna_and_ncrna.txt;\n",
    "sort -u genes_cdna_and_ncrna.txt > genes_cdna_and_ncrna_u.txt;\n",
    "wc -l genes_cdna_and_ncrna_u.txt;\n",
    "# 50059 genes_cdna_and_ncrna_u.txt;\n",
    "rm !(gencode_gene_ids_u_proper.txt|genes_cdna_and_ncrna_u.txt);"
   ]
  },
  {
   "cell_type": "markdown",
   "metadata": {},
   "source": [
    "##### Finally, check their intersection :"
   ]
  },
  {
   "cell_type": "code",
   "execution_count": null,
   "metadata": {
    "code_folding": [
     0
    ],
    "collapsed": true
   },
   "outputs": [],
   "source": [
    "### CODE ###\n",
    "comm gencode_gene_ids_u_proper.txt genes_cdna_and_ncrna_u.txt > comm_gencode_vs_ensembl.tsv;\n",
    "printf \"unique to gencode :\\t\"; awk -F \"\\t\" '{if($1 != \"\") print $1}' comm_gencode_vs_ensembl.tsv | wc -l;\n",
    "printf \"unique to ensembl :\\t\"; awk -F \"\\t\" '{if($2 != \"\") print $2}' comm_gencode_vs_ensembl.tsv | wc -l;\n",
    "printf \"common to both :\\t\"; awk -F \"\\t\" '{if($3 != \"\") print $3}' comm_gencode_vs_ensembl.tsv | wc -l;\n",
    "# unique to gencode :    3047\n",
    "# unique to ensembl :    740\n",
    "# common to both :    49319"
   ]
  },
  {
   "cell_type": "markdown",
   "metadata": {},
   "source": [
    "49319 genes are common, so we consider that we can compare DE results with counts coming from featureCounts and from Kallisto."
   ]
  },
  {
   "cell_type": "markdown",
   "metadata": {},
   "source": [
    "## 2) Raw reads QC & filtering"
   ]
  },
  {
   "cell_type": "markdown",
   "metadata": {},
   "source": [
    "### 2.1) Limoges Data\n"
   ]
  },
  {
   "cell_type": "markdown",
   "metadata": {},
   "source": [
    "### 2.1) FastQC"
   ]
  },
  {
   "cell_type": "markdown",
   "metadata": {},
   "source": [
    "#### 2.1.1) CRIBL Data"
   ]
  },
  {
   "cell_type": "markdown",
   "metadata": {},
   "source": [
    "Setup working directory & paths :"
   ]
  },
  {
   "cell_type": "code",
   "execution_count": null,
   "metadata": {
    "code_folding": [
     0
    ],
    "collapsed": true
   },
   "outputs": [],
   "source": [
    "### CODE ###\n",
    "reads_dir='/home/erwann/Desktop/PTCB/BISCEm/Data/Reads_raw_Nice';\n",
    "cd $reads_dir;\n",
    "mkdir -p $reads_dir/QC;\n",
    "mkdir -p ~/Software/FastQC/Outputs/PTCB;"
   ]
  },
  {
   "cell_type": "markdown",
   "metadata": {},
   "source": [
    "Launch FastQC :"
   ]
  },
  {
   "cell_type": "code",
   "execution_count": null,
   "metadata": {
    "code_folding": [
     0
    ],
    "collapsed": true
   },
   "outputs": [],
   "source": [
    "### CODE ###\n",
    "for f in *.fastq.gz;\n",
    "do echo $f; fastqc --outdir ~/Software/FastQC/Outputs/PTCB -f fastq $f;\n",
    "done >> $reads_dir/QC/fastqc.verbose;"
   ]
  },
  {
   "cell_type": "markdown",
   "metadata": {},
   "source": [
    "#### 2.1.2) Pefanis Data"
   ]
  },
  {
   "cell_type": "markdown",
   "metadata": {},
   "source": [
    "The exact same thing, just change file and directory names"
   ]
  },
  {
   "cell_type": "markdown",
   "metadata": {},
   "source": [
    "### 2.2) MultiQC"
   ]
  },
  {
   "cell_type": "markdown",
   "metadata": {},
   "source": [
    "#### 2.2.1) CRIBL Data"
   ]
  },
  {
   "cell_type": "markdown",
   "metadata": {},
   "source": [
    "We compile FastqQC analysis for all the data & at the sequencing-run level (EP & YD), to highlight potential run effect."
   ]
  },
  {
   "cell_type": "code",
   "execution_count": null,
   "metadata": {
    "code_folding": [
     0
    ],
    "collapsed": true
   },
   "outputs": [],
   "source": [
    "### CODE ###\n",
    "fastqc_dir='/home/erwann/Software/FastQC/Outputs/PTCB';\n",
    "mkdir -p $reads_dir/QC;\n",
    "multiqc $fastqc_dir \\\n",
    "        -n ptcb \\\n",
    "        -o $reads_dir/QC \\\n",
    "        -m fastqc -f > $reads_dir/QC/multiQC_ptcb.verbose 2>&1;\n",
    "multiqc $fastqc_dir/*_EP_fastqc* \\\n",
    "        -n ptcb_ep \\\n",
    "        -o $reads_dir/QC \\\n",
    "        -m fastqc -f > $reads_dir/QC/multiQC_ptcb_ep.verbose 2>&1;\n",
    "multiqc $fastqc_dir/*_YD_fastqc* \\\n",
    "        -n ptcb_yd \\\n",
    "        -o $reads_dir/QC \\\n",
    "        -m fastqc -f > $reads_dir/QC/multiQC_ptcb_yd.verbose 2>&1;"
   ]
  },
  {
   "cell_type": "markdown",
   "metadata": {},
   "source": [
    "Visualize QC results :"
   ]
  },
  {
   "cell_type": "code",
   "execution_count": null,
   "metadata": {
    "code_folding": [
     0
    ],
    "collapsed": true
   },
   "outputs": [],
   "source": [
    "### CODE ###\n",
    "chromium-browser $reads_dir/QC/*.html;"
   ]
  },
  {
   "cell_type": "markdown",
   "metadata": {},
   "source": [
    "Conclusions :\n",
    "Nice data overall. We can be a bit stringent during filtering to keep HQ reads."
   ]
  },
  {
   "cell_type": "markdown",
   "metadata": {},
   "source": [
    "#### 2.2.2) Pefanis Data"
   ]
  },
  {
   "cell_type": "markdown",
   "metadata": {},
   "source": [
    "The exact same thing, just change file and directory names"
   ]
  },
  {
   "cell_type": "markdown",
   "metadata": {},
   "source": [
    "### 2.3) Filtering"
   ]
  },
  {
   "cell_type": "markdown",
   "metadata": {},
   "source": [
    "Trimmomatic 0.36"
   ]
  },
  {
   "cell_type": "markdown",
   "metadata": {
    "collapsed": true
   },
   "source": [
    "For both data CRIBL & Pefanis, FastQC detected Illumina 1.9 encoding. Referring to https://en.wikipedia.org/wiki/FASTQ_format, Illumina 1.8+ => Phred+33.\n",
    "\n",
    "Sequences are trimmed with $TRIM = ~/Software/Trimmomatic_0.36/trimmomatic-0.36.jar.\n",
    "Given MultiQC output, we trim starting and ending bases if their quality is < 25. We then trim with a sliding window of 5 bases, cutting the read at those bases if the mean quality drops below 25. Finally, we discard sequence < 50 nts."
   ]
  },
  {
   "cell_type": "markdown",
   "metadata": {},
   "source": [
    "#### 2.3.1) CRIBL Data"
   ]
  },
  {
   "cell_type": "code",
   "execution_count": null,
   "metadata": {
    "code_folding": [
     0
    ],
    "collapsed": true
   },
   "outputs": [],
   "source": [
    "### CODE ###\n",
    "$TRIM = ~/Software/Trimmomatic_0.36/trimmomatic-0.36.jar\n",
    "cd ~/Desktop/PTCB/BISCEm/Data/Reads_raw_Nice;\n",
    "mkdir -p ../Reads_raw_Nice_trim;\n",
    "for id in '3B4_R_1_EP' '3B4_S_1_EP' '3pRR_R_1_EP' '3pRR_S_1_EP' \\\n",
    "          'DEL_R_1_EP' 'DEL_S_1_EP' 'IRIS_R_1_EP' 'IRIS_S_1_EP' \\\n",
    "          'PAL_R_1_EP' 'PAL_S_1_EP' 'WT_R_1_EP' 'WT_S_1_EP';\n",
    "do java -jar $TRIM PE -threads 8 \\\n",
    "                      -phred33 \\\n",
    "                      $id.fastq.gz \\\n",
    "                      ${id%_*_*}'_2_EP.fastq.gz' \\\n",
    "                      ../Reads_raw_Nice_trim/$id'_paired.fastq.gz' \\\n",
    "                      ../Reads_raw_Nice_trim/$id'_unpaired.fastq.gz' \\\n",
    "                      ../Reads_raw_Nice_trim/${id%_*_*}'_2_EP_paired.fastq.gz' \\\n",
    "                      ../Reads_raw_Nice_trim/${id%_*_*}'_2_EP_unpaired.fastq.gz' \\\n",
    "                      LEADING:25 TRAILING:25 SLIDINGWINDOW:5:25 MINLEN:50;\n",
    "done &>> trim_EP.verbose;\n",
    "\n",
    "for id in '3pRR_R_1_YD' '3pRR_S_1_YD' 'EU_R_1_YD' 'EU_S_1_YD' \\\n",
    "          'MAR_R_1_YD' 'MAR_S_1_YD' 'WT_R_1_YD' 'WT_S_1_YD';\n",
    "do java -jar $TRIM PE -threads 8 \\\n",
    "                      -phred33 \\\n",
    "                      $id.fastq.gz \\\n",
    "                      ${id%_*_*}'_2_YD.fastq.gz' \\\n",
    "                      ../Reads_raw_Nice_trim/$id'_paired.fastq.gz' \\\n",
    "                      ../Reads_raw_Nice_trim/$id'_unpaired.fastq.gz' \\\n",
    "                      ../Reads_raw_Nice_trim/${id%_*_*}'_2_YD_paired.fastq.gz' \\\n",
    "                      ../Reads_raw_Nice_trim/${id%_*_*}'_2_YD_unpaired.fastq.gz' \\\n",
    "                      LEADING:25 TRAILING:25 SLIDINGWINDOW:5:25 MINLEN:50;\n",
    "done &>> trim_YD.verbose;"
   ]
  },
  {
   "cell_type": "markdown",
   "metadata": {},
   "source": [
    "#### 2.3.2) Pefanis Data"
   ]
  },
  {
   "cell_type": "code",
   "execution_count": null,
   "metadata": {
    "code_folding": [
     0
    ],
    "collapsed": true
   },
   "outputs": [],
   "source": [
    "### CODE ###\n",
    "$TRIM = ~/Software/Trimmomatic_0.36/trimmomatic-0.36.jar\n",
    "cd /media/raid/Data/PTCB/Pefanis;\n",
    "mkdir -p Trimmomatic;\n",
    "for id in 'SRR1302208' 'SRR1302283' 'SRR1302786' 'SRR1302787' \\\n",
    "          'SRR1302788' 'SRR1302789';\n",
    "do java -jar $TRIM PE -threads 8 \\\n",
    "                      -phred33 \\\n",
    "                      $id'_1.fastq' \\\n",
    "                      $id'_2.fastq' \\\n",
    "                      ./Trimmomatic/$id'_1.paired.fastq' \\\n",
    "                      ./Trimmomatic/$id'_1.unpaired.fastq' \\\n",
    "                      ./Trimmomatic/$id'_2.paired.fastq' \\\n",
    "                      ./Trimmomatic/$id'_2.unpaired.fastq' \\\n",
    "                      LEADING:25 TRAILING:25 SLIDINGWINDOW:5:25 MINLEN:50;\n",
    "done &>> trim_PE.verbose;\n",
    "for id in 'SRR1302414' 'SRR1302785';\n",
    "do java -jar $TRIM SE -threads 8 \\\n",
    "                      -phred33 \\\n",
    "                      $id'_1.fastq' \\\n",
    "                      ./Trimmomatic/$id'_1.paired.fastq' \\\n",
    "                      ./Trimmomatic/$id'_1.unpaired.fastq' \\\n",
    "                      LEADING:25 TRAILING:25 SLIDINGWINDOW:5:25 MINLEN:50;\n",
    "done &>> trim_SE.verbose;"
   ]
  },
  {
   "cell_type": "markdown",
   "metadata": {},
   "source": [
    "## 3) Mapping"
   ]
  },
  {
   "cell_type": "markdown",
   "metadata": {},
   "source": [
    "### 3.1) Build index :"
   ]
  },
  {
   "cell_type": "markdown",
   "metadata": {},
   "source": [
    "#### 3.1.1) STAR :"
   ]
  },
  {
   "cell_type": "markdown",
   "metadata": {},
   "source": [
    "On Genotoul via STAR, version 2.5.2b :"
   ]
  },
  {
   "cell_type": "code",
   "execution_count": null,
   "metadata": {
    "code_folding": [
     0
    ],
    "collapsed": true
   },
   "outputs": [],
   "source": [
    "### CODE ###\n",
    "#!/bin/bash\n",
    "#$ -q workq\n",
    "#$ -M erwan.scaon@unilim.fr\n",
    "#$ -m bea\n",
    "#$ -l mem=8G\n",
    "#$ -l h_vmem=12G\n",
    "#$ -N star_idx\n",
    "#$ -o /home/escaon/work/PTCB/star_idx.o\n",
    "#$ -e /home/escaon/work/PTCB/star_idx.e\n",
    "\n",
    "work='/home/escaon/work/PTCB/Mus_musculus';\n",
    "star='/usr/local/bioinfo/src/STAR/STAR-2.5.2b/bin/Linux_x86_64_static/STAR'\n",
    "nt=8;\n",
    "\n",
    "$star --runThreadN $nt \\\n",
    "      --runMode genomeGenerate \\\n",
    "      --genomeDir $work \\\n",
    "      --genomeFastaFiles $work/GCA_000001635.7_GRCm38.p5_genomic.fna \\\n",
    "      --sjdbGTFfile $work/GCA_000001635.7_GRCm38.p5_genomic.gff \\\n",
    "      --sjdbGTFtagExonParentTranscript Parent \\\n",
    "      --sjdbOverhang 150;"
   ]
  },
  {
   "cell_type": "code",
   "execution_count": null,
   "metadata": {
    "code_folding": [
     0
    ],
    "collapsed": true
   },
   "outputs": [],
   "source": [
    "### CODE ###\n",
    "qsub -pe parallel_smp 8 star_idx.sh;"
   ]
  },
  {
   "cell_type": "markdown",
   "metadata": {},
   "source": [
    "#### 3.1.2) Kallisto :"
   ]
  },
  {
   "cell_type": "markdown",
   "metadata": {},
   "source": [
    "On Genotoul via Kallisto, version 0.43.0 :"
   ]
  },
  {
   "cell_type": "code",
   "execution_count": null,
   "metadata": {
    "code_folding": [
     0
    ],
    "collapsed": true
   },
   "outputs": [],
   "source": [
    "### CODE ###\n",
    "#!/bin/bash\n",
    "#$ -q workq\n",
    "#$ -m bea\n",
    "#$ -l mem=8G\n",
    "#$ -l h_vmem=120G\n",
    "\n",
    "#####Index KALLISTO\n",
    "kallisto index --make-unique -i /home/hbastien/work/PTCB/mm10_transcriptome/Mus_musculus.GRCm38.cdna.all.idx /home/hbastien/work/PTCB/mm10_transcriptome/Mus_musculus.GRCm38.cdna.all.fa"
   ]
  },
  {
   "cell_type": "code",
   "execution_count": null,
   "metadata": {
    "code_folding": [
     0
    ],
    "collapsed": true
   },
   "outputs": [],
   "source": [
    "### CODE ###\n",
    "qsub simple_index_kallisto.sh;"
   ]
  },
  {
   "cell_type": "markdown",
   "metadata": {},
   "source": [
    "### 3.2) Map reads :"
   ]
  },
  {
   "cell_type": "markdown",
   "metadata": {},
   "source": [
    "###### 3.2.1) CRIBL"
   ]
  },
  {
   "cell_type": "markdown",
   "metadata": {},
   "source": [
    "First script : star_3B4_R_EP.sh"
   ]
  },
  {
   "cell_type": "code",
   "execution_count": null,
   "metadata": {
    "code_folding": [
     0
    ],
    "collapsed": true
   },
   "outputs": [],
   "source": [
    "### CODE ###\n",
    "#!/bin/bash\n",
    "#$ -q workq\n",
    "#$ -M erwan.scaon@unilim.fr\n",
    "#$ -m bea\n",
    "#$ -l mem=8G\n",
    "#$ -l h_vmem=10G\n",
    "#$ -N star_3B4_R_EP\n",
    "#$ -o /home/escaon/work/PTCB/star_3B4_R_EP.o\n",
    "#$ -e /home/escaon/work/PTCB/star_3B4_R_EP.e\n",
    "\n",
    "star='/usr/local/bioinfo/src/STAR/STAR-2.5.2b/bin/Linux_x86_64_static/STAR';\n",
    "save='/home/escaon/save/PTCB/Reads_raw_Nice_trim';\n",
    "work='/home/escaon/work/PTCB';\n",
    "nt=8;\n",
    "\n",
    "for id in '3B4_R_EP';\n",
    "do $star --runThreadN $nt \\\n",
    "         --genomeDir $work/Mus_musculus \\\n",
    "         --readFilesIn $save/${id%_*}'_1_EP_paired.fastq.gz' $save/${id%_*}'_2_EP_paired.fastq.gz' \\\n",
    "         --readFilesCommand zcat \\\n",
    "         --outFileNamePrefix $work/Mapped_vs_GRCm38.p5/$id'_' \\\n",
    "         --outSAMtype BAM SortedByCoordinate;\n",
    "done;"
   ]
  },
  {
   "cell_type": "code",
   "execution_count": null,
   "metadata": {
    "code_folding": [
     0
    ],
    "collapsed": true
   },
   "outputs": [],
   "source": [
    "### CODE ###\n",
    "qsub -pe parallel_smp 8 star_3B4_R_EP.sh;"
   ]
  },
  {
   "cell_type": "markdown",
   "metadata": {},
   "source": [
    "Duplicate this script for others EP datasets & launch jobs :"
   ]
  },
  {
   "cell_type": "code",
   "execution_count": null,
   "metadata": {
    "code_folding": [
     0
    ],
    "collapsed": true
   },
   "outputs": [],
   "source": [
    "### CODE ###\n",
    "for id in '3B4_S_EP' '3pRR_R_EP' '3pRR_S_EP' 'DEL_R_EP' \\\n",
    "          'DEL_S_EP' 'IRIS_R_EP' 'IRIS_S_EP' 'PAL_R_EP' \\\n",
    "          'PAL_S_EP' 'WT_R_EP' 'WT_S_EP';\n",
    "do  cp star_3B4_R_EP.sh star_$id.sh;\n",
    "    sed -i \"s/3B4_R_EP/$id/\" star_$id.sh;\n",
    "    qsub -pe parallel_smp 8 star_$id.sh;\n",
    "done;"
   ]
  },
  {
   "cell_type": "markdown",
   "metadata": {},
   "source": [
    "Create a base script for YD, duplicate it & launch jobs :"
   ]
  },
  {
   "cell_type": "code",
   "execution_count": null,
   "metadata": {
    "code_folding": [
     0
    ],
    "collapsed": true,
    "scrolled": false
   },
   "outputs": [],
   "source": [
    "### CODE ###\n",
    "cp star_WT_R_EP.sh star_WT_R_YD.sh;\n",
    "grep --color 'EP' star_WT_R_YD.sh; # check if we are not going to destroy anything\n",
    "sed -i \"s/EP/YD/\" star_WT_R_YD.sh;\n",
    "qsub -pe parallel_smp 8 star_WT_R_YD.sh;\n",
    "\n",
    "for id in '3pRR_R_YD' '3pRR_S_YD' 'EU_R_YD' 'EU_S_YD' \\\n",
    "          'MAR_R_YD' 'MAR_S_YD' 'WT_S_YD';\n",
    "do  cp star_WT_R_YD.sh star_$id.sh;\n",
    "    sed -i \"s/WT_R_YD/$id/\" star_$id.sh;\n",
    "    qsub -pe parallel_smp 8 star_$id.sh;\n",
    "done;"
   ]
  },
  {
   "cell_type": "markdown",
   "metadata": {},
   "source": [
    "###### 3.2.2) Pefanis"
   ]
  },
  {
   "cell_type": "markdown",
   "metadata": {},
   "source": [
    "###### Paired end :"
   ]
  },
  {
   "cell_type": "code",
   "execution_count": null,
   "metadata": {
    "code_folding": [
     0
    ],
    "collapsed": true
   },
   "outputs": [],
   "source": [
    "### CODE ###\n",
    "#!/bin/bash\n",
    "#$ -q workq\n",
    "#$ -m bea\n",
    "#$ -l mem=8G\n",
    "#$ -l h_vmem=30G\n",
    "#\n",
    "\n",
    "#####Alignment STAR PE\n",
    "for id in 'SRR1302208' 'SRR1302283' 'SRR1302786' 'SRR1302787' 'SRR1302788' 'SRR1302789';\n",
    "do\n",
    "/usr/local/bioinfo/src/STAR/STAR-2.5.2b/bin/Linux_x86_64_static/STAR --genomeDir /home/hbastien/work/PTCB/Mus_musculus/ --readFilesIn /home/hbastien/work/PTCB/Pefanis/'Trimmed_paired_'$id'_1.fastq' /home/hbastien/work/PTCB/Pefanis/'Trimmed_paired_'$id'_2.fastq' --outFileNamePrefix Experiment_PE_Star$id\n",
    "done"
   ]
  },
  {
   "cell_type": "code",
   "execution_count": null,
   "metadata": {
    "collapsed": true
   },
   "outputs": [],
   "source": [
    "### CODE ###\n",
    "qsub manageStarPE.sh"
   ]
  },
  {
   "cell_type": "markdown",
   "metadata": {},
   "source": [
    "###### Single end :"
   ]
  },
  {
   "cell_type": "code",
   "execution_count": null,
   "metadata": {
    "code_folding": [
     0
    ],
    "collapsed": true
   },
   "outputs": [],
   "source": [
    "### CODE ###\n",
    "#!/bin/bash\n",
    "#$ -q workq\n",
    "#$ -m bea\n",
    "#$ -l mem=8G\n",
    "#$ -l h_vmem=30G\n",
    "#\n",
    "\n",
    "#####Alignment STAR SE\n",
    "for id in 'SRR1302414' 'SRR1302785';\n",
    "do\n",
    "/usr/local/bioinfo/src/STAR/STAR-2.5.2b/bin/Linux_x86_64_static/STAR --genomeDir /home/hbastien/work/PTCB/Mus_musculus/ --readFilesIn /home/hbastien/work/PTCB/Pefanis/'Trimmed_'$id'_1.fastq' --outFileNamePrefix Experiment_SE_Star$id\n",
    "done"
   ]
  },
  {
   "cell_type": "code",
   "execution_count": null,
   "metadata": {
    "collapsed": true
   },
   "outputs": [],
   "source": [
    "### CODE ###\n",
    "qsub manageStarSE.sh"
   ]
  },
  {
   "cell_type": "markdown",
   "metadata": {},
   "source": [
    "### 3.3) Index BAM"
   ]
  },
  {
   "cell_type": "code",
   "execution_count": null,
   "metadata": {
    "code_folding": [
     0
    ],
    "collapsed": true
   },
   "outputs": [],
   "source": [
    "### CODE ###\n",
    "#!/bin/bash\n",
    "#$ -q workq\n",
    "#$ -M erwan.scaon@unilim.fr\n",
    "#$ -m bea\n",
    "#$ -l mem=40G\n",
    "#$ -l h_vmem=48G\n",
    "#$ -N samtools_idx\n",
    "#$ -o /home/escaon/work/PTCB/samtools_idx.o\n",
    "#$ -e /home/escaon/work/PTCB/samtools_idx.e\n",
    "\n",
    "work='/home/escaon/work/PTCB/Mapped_vs_GRCm38.p5';\n",
    "\n",
    "cd $work;\n",
    "for f in *.bam;\n",
    "do samtools index $f;\n",
    "done;"
   ]
  },
  {
   "cell_type": "code",
   "execution_count": null,
   "metadata": {
    "code_folding": [
     0
    ],
    "collapsed": true
   },
   "outputs": [],
   "source": [
    "### CODE ###\n",
    "qsub samtools_idx.sh;"
   ]
  },
  {
   "cell_type": "markdown",
   "metadata": {},
   "source": [
    "### 3.4) RNA-seq alignment QC"
   ]
  },
  {
   "cell_type": "markdown",
   "metadata": {},
   "source": [
    "http://rseqc.sourceforge.net"
   ]
  },
  {
   "cell_type": "markdown",
   "metadata": {},
   "source": [
    "## 4) Counts"
   ]
  },
  {
   "cell_type": "markdown",
   "metadata": {},
   "source": [
    "##### Retrieve BAMs locally :"
   ]
  },
  {
   "cell_type": "code",
   "execution_count": null,
   "metadata": {
    "code_folding": [
     0
    ],
    "collapsed": true
   },
   "outputs": [],
   "source": [
    "### CODE ###\n",
    "mkdir -p ~/Desktop/PTCB/BISCEm/Outputs;\n",
    "sudo scp -r escaon@genotoul.toulouse.inra.fr:/home/escaon/work/PTCB/Mapped_vs_GRCm38.p5 ~/Desktop/PTCB/BISCEm/Outputs;\n",
    "sudo scp -r hbastien@genotoul.toulouse.inra.fr:/home/hbastien/work/PTCB/Mapped_vs_GRCm38.p5 /run/user/1000/gvfs/smb-share:server=ubox.unilim.fr,share=biscem/BioInformatique/Responsables/Commun/PTCB/Outputs/Star"
   ]
  },
  {
   "cell_type": "markdown",
   "metadata": {},
   "source": [
    "Before starting the counts, we need to create a \"chr.aliases\" file which link chrs names in GRCm38.p5 with chrs names in GENCODE annotations. This file was created from this assembly report :"
   ]
  },
  {
   "cell_type": "code",
   "execution_count": null,
   "metadata": {
    "code_folding": [
     0
    ],
    "collapsed": true
   },
   "outputs": [],
   "source": [
    "### CODE ###\n",
    "wget -q ftp://ftp.ncbi.nlm.nih.gov/genomes/all/GCA/000/001/635/\\\n",
    "GCA_000001635.7_GRCm38.p5/GCA_000001635.7_GRCm38.p5_assembly_report.txt;"
   ]
  },
  {
   "cell_type": "markdown",
   "metadata": {},
   "source": [
    "### 4.1) FeatureCounts"
   ]
  },
  {
   "cell_type": "markdown",
   "metadata": {},
   "source": [
    "Count with featureCounts (Rsubread 1.24.2) :"
   ]
  },
  {
   "cell_type": "markdown",
   "metadata": {},
   "source": [
    "#### 4.1.1) CRIBL"
   ]
  },
  {
   "cell_type": "code",
   "execution_count": null,
   "metadata": {
    "code_folding": [
     0
    ],
    "collapsed": true
   },
   "outputs": [],
   "source": [
    "### CODE ###\n",
    "path='/home/erwann/Desktop/PTCB/BISCEm';\n",
    "cd $path/Outputs/Star;\n",
    "for id in '3B4_R_EP' '3B4_S_EP' '3pRR_R_EP' '3pRR_S_EP' \\\n",
    "          'DEL_R_EP' 'DEL_S_EP' 'IRIS_R_EP' 'IRIS_S_EP' \\\n",
    "          'PAL_R_EP' 'PAL_S_EP' 'WT_R_EP' 'WT_S_EP' \\\n",
    "          '3pRR_R_YD' '3pRR_S_YD' 'EU_R_YD' 'EU_S_YD' \\\n",
    "          'MAR_R_YD' 'MAR_S_YD' 'WT_R_YD' 'WT_S_YD';\n",
    "do Rscript $path/Scripts/featureCounts.R $id;\n",
    "done &>> $path/Outputs/FeatureCounts/featureCounts.verbose;"
   ]
  },
  {
   "cell_type": "markdown",
   "metadata": {},
   "source": [
    "Content of featureCounts.R :"
   ]
  },
  {
   "cell_type": "code",
   "execution_count": null,
   "metadata": {
    "code_folding": [
     0
    ],
    "collapsed": true
   },
   "outputs": [],
   "source": [
    "### CODE ###\n",
    "#!/usr/bin/env Rscript\n",
    "\n",
    "args = commandArgs(trailingOnly=TRUE)\n",
    "in_file = paste(args[1], 'bam', sep = '.')\n",
    "out_file = paste('../FeatureCounts/', args[1], '.tsv', sep = '')\n",
    "\n",
    "library(Rsubread)\n",
    "\n",
    "fc = featureCounts(files=in_file,\n",
    "                   annot.ext=\"../../Data/Mus_musculus/gencode.vM14.chr_patch_hapl_scaff.annotation.gtf\",\n",
    "                   isGTFAnnotationFile=TRUE,\n",
    "                   GTF.featureType=\"exon\",\n",
    "                   GTF.attrType=\"gene_id\",\n",
    "                   chrAliases=\"../../Data/Mus_musculus/chr.aliases\",\n",
    "                   allowMultiOverlap=FALSE,\n",
    "                   ignoreDup=FALSE,\n",
    "                   isPairedEnd=TRUE,\n",
    "                   nthreads=8,\n",
    "                   minMQS=0,\n",
    "                   maxMOp=10,\n",
    "                   checkFragLength=FALSE,\n",
    "                   useMetaFeatures=TRUE,\n",
    "                   strandSpecific=2,\n",
    "                   requireBothEndsMapped=TRUE,\n",
    "                   countChimericFragments=FALSE,\n",
    "                   primaryOnly=TRUE)\n",
    "write.table(fc$counts, out_file, append= T, sep='\\t', col.names=NA)"
   ]
  },
  {
   "cell_type": "markdown",
   "metadata": {},
   "source": [
    "#### 4.2.2) Pefanis"
   ]
  },
  {
   "cell_type": "markdown",
   "metadata": {},
   "source": [
    "##### a) Paired end"
   ]
  },
  {
   "cell_type": "code",
   "execution_count": null,
   "metadata": {
    "code_folding": [
     0
    ],
    "collapsed": true
   },
   "outputs": [],
   "source": [
    "### CODE ###\n",
    "path='/run/user/1000/gvfs/smb-share:server=ubox.unilim.fr,share=biscem/BioInformatique/Responsables/Commun/PTCB';\n",
    "cd $path/Outputs/Star;\n",
    "for id in 'SRR1302208' 'SRR1302283' 'SRR1302786' 'SRR1302787' 'SRR1302788' 'SRR1302789';\n",
    "do Rscript $path/Scripts/featureCounts.R $id;\n",
    "done &>> $path/Outputs/FeatureCounts/featureCounts.verbose;"
   ]
  },
  {
   "cell_type": "markdown",
   "metadata": {},
   "source": [
    "Content of featureCounts.R :"
   ]
  },
  {
   "cell_type": "code",
   "execution_count": null,
   "metadata": {
    "code_folding": [
     0
    ],
    "collapsed": true
   },
   "outputs": [],
   "source": [
    "### CODE ###\n",
    "#!/usr/bin/env Rscript\n",
    "\n",
    "args = commandArgs(trailingOnly=TRUE)\n",
    "in_file = paste(args[1], 'bam', sep = '.')\n",
    "out_file = paste('/run/user/1000/gvfs/smb-share:server=ubox.unilim.fr,share=biscem/BioInformatique/Responsables/Commun/PTCB/Outputs/FeatureCounts/', args[1], '.tsv', sep = '')\n",
    "\n",
    "library(Rsubread)\n",
    "print(paste('/run/user/1000/gvfs/smb-share:server=ubox.unilim.fr,share=biscem/BioInformatique/Responsables/Commun/PTCB/Star/', in_file, sep = ''))\n",
    "fc = featureCounts(files=paste('/run/user/1000/gvfs/smb-share:server=ubox.unilim.fr,share=biscem/BioInformatique/Responsables/Commun/PTCB/Star/', in_file, sep = ''),\n",
    "                   annot.ext=\"/run/user/1000/gvfs/smb-share:server=ubox.unilim.fr,share=biscem/BioInformatique/Responsables/Commun/PTCB/Data/Mus_musculus/gencode.vM14.chr_patch_hapl_scaff.annotation.gtf\",\n",
    "                   isGTFAnnotationFile=TRUE,\n",
    "                   GTF.featureType=\"exon\",\n",
    "                   GTF.attrType=\"gene_id\",\n",
    "                   chrAliases=\"/run/user/1000/gvfs/smb-share:server=ubox.unilim.fr,share=biscem/BioInformatique/Responsables/Commun/PTCB/chr.aliases\",\n",
    "                   allowMultiOverlap=FALSE,\n",
    "                   ignoreDup=FALSE,\n",
    "                   isPairedEnd=TRUE,\n",
    "                   nthreads=8,\n",
    "                   minMQS=0,\n",
    "                   maxMOp=10,\n",
    "                   checkFragLength=FALSE,\n",
    "                   useMetaFeatures=TRUE,\n",
    "                   strandSpecific=2,\n",
    "                   requireBothEndsMapped=TRUE,\n",
    "                   countChimericFragments=FALSE,\n",
    "                   primaryOnly=TRUE)\n",
    "write.table(fc$counts, out_file, append= T, sep='\\t', col.names=NA)"
   ]
  },
  {
   "cell_type": "markdown",
   "metadata": {},
   "source": [
    "##### b) Single end"
   ]
  },
  {
   "cell_type": "code",
   "execution_count": null,
   "metadata": {
    "code_folding": [
     0
    ],
    "collapsed": true
   },
   "outputs": [],
   "source": [
    "### CODE ###\n",
    "path='/run/user/1000/gvfs/smb-share:server=ubox.unilim.fr,share=biscem/BioInformatique/Responsables/Commun/PTCB';\n",
    "cd $path/Outputs/Star;\n",
    "for id in 'SRR1302414' 'SRR1302785';\n",
    "do Rscript $path/Scripts/featureCounts.R $id;\n",
    "done &>> $path/Outputs/FeatureCounts/featureCounts.verbose;"
   ]
  },
  {
   "cell_type": "markdown",
   "metadata": {},
   "source": [
    "Content of featureCounts.R :"
   ]
  },
  {
   "cell_type": "code",
   "execution_count": null,
   "metadata": {
    "code_folding": [
     0
    ],
    "collapsed": true
   },
   "outputs": [],
   "source": [
    "### CODE ###\n",
    "#!/usr/bin/env Rscript\n",
    "\n",
    "args = commandArgs(trailingOnly=TRUE)\n",
    "in_file = paste(args[1], 'bam', sep = '.')\n",
    "out_file = paste('/run/user/1000/gvfs/smb-share:server=ubox.unilim.fr,share=biscem/BioInformatique/Responsables/Commun/PTCB/Outputs/FeatureCounts/', args[1], '.tsv', sep = '')\n",
    "\n",
    "library(Rsubread)\n",
    "print(paste('/run/user/1000/gvfs/smb-share:server=ubox.unilim.fr,share=biscem/BioInformatique/Responsables/Commun/PTCB/Star/', in_file, sep = ''))\n",
    "fc = featureCounts(files=paste('/run/user/1000/gvfs/smb-share:server=ubox.unilim.fr,share=biscem/BioInformatique/Responsables/Commun/PTCB/Star/', in_file, sep = ''),\n",
    "                   annot.ext=\"/run/user/1000/gvfs/smb-share:server=ubox.unilim.fr,share=biscem/BioInformatique/Responsables/Commun/PTCB/Data/Mus_musculus/gencode.vM14.chr_patch_hapl_scaff.annotation.gtf\",\n",
    "                   isGTFAnnotationFile=TRUE,\n",
    "                   GTF.featureType=\"exon\",\n",
    "                   GTF.attrType=\"gene_id\",\n",
    "                   chrAliases=\"/run/user/1000/gvfs/smb-share:server=ubox.unilim.fr,share=biscem/BioInformatique/Responsables/Commun/PTCB/chr.aliases\",\n",
    "                   allowMultiOverlap=FALSE,\n",
    "                   ignoreDup=FALSE,\n",
    "                   isPairedEnd=FALSE,\n",
    "                   nthreads=8,\n",
    "                   minMQS=0,\n",
    "                   maxMOp=10,\n",
    "                   checkFragLength=FALSE,\n",
    "                   useMetaFeatures=TRUE,\n",
    "                   strandSpecific=0,\n",
    "                   countChimericFragments=FALSE,\n",
    "                   primaryOnly=TRUE)\n",
    "write.table(fc$counts, out_file, append= T, sep='\\t', col.names=NA)"
   ]
  },
  {
   "cell_type": "markdown",
   "metadata": {},
   "source": [
    "### 4.2) Kallisto"
   ]
  },
  {
   "cell_type": "markdown",
   "metadata": {},
   "source": [
    "On Genotoul via Kallisto, version 0.43.0 :"
   ]
  },
  {
   "cell_type": "markdown",
   "metadata": {},
   "source": [
    "#### 4.2.1) CRIBL"
   ]
  },
  {
   "cell_type": "code",
   "execution_count": null,
   "metadata": {
    "code_folding": [
     0
    ],
    "collapsed": true
   },
   "outputs": [],
   "source": [
    "### CODE ###\n",
    "#!/bin/bash\n",
    "#$ -q workq\n",
    "#$ -m bea\n",
    "#$ -l mem=8G\n",
    "#$ -l h_vmem=30G\n",
    "#\n",
    "\n",
    "#####Alignment KALLISTO\n",
    "for id in '3B4_R' '3B4_S' '3pRR_R' '3pRR_S' 'DEL_R' 'DEL_S' 'IRIS_R' 'IRIS_S' 'PAL_R' 'PAL_S' 'WT_R' 'WT_S';\n",
    "do\n",
    "kallisto quant -i /home/hbastien/work/PTCB/mm10_transcriptome/Mus_musculus.GRCm38.cdna.all.idx -o kallisto$id'EP' -b 100 --rf-stranded /home/escaon/save/PTCB/Reads_raw_Nice_trim/$id'_1_EP_paired.fastq.gz' /home/escaon/save/PTCB/Reads_raw_Nice_trim/$id'_2_EP_paired.fastq.gz'\n",
    "done\n",
    "for id in '3pRR_R' '3pRR_S' 'EU_R' 'EU_S' 'MAR_R' 'MAR_S' 'WT_R' 'WT_S';\n",
    "do\n",
    "kallisto quant -i /home/hbastien/work/PTCB/mm10_transcriptome/Mus_musculus.GRCm38.cdna.all.idx -o kallisto$id'YD' -b 100 --rf-stranded /home/escaon/save/PTCB/Reads_raw_Nice_trim/$id'_1_YD_paired.fastq.gz' /home/escaon/save/PTCB/Reads_raw_Nice_trim/$id'_2_YD_paired.fastq.gz'\n",
    "done"
   ]
  },
  {
   "cell_type": "code",
   "execution_count": null,
   "metadata": {
    "code_folding": [
     0
    ],
    "collapsed": true
   },
   "outputs": [],
   "source": [
    "### CODE ###\n",
    "qsub manageKallisto.sh"
   ]
  },
  {
   "cell_type": "markdown",
   "metadata": {},
   "source": [
    "#### 4.2.2) Pefanis"
   ]
  },
  {
   "cell_type": "markdown",
   "metadata": {},
   "source": [
    "##### a) Paired end"
   ]
  },
  {
   "cell_type": "code",
   "execution_count": null,
   "metadata": {
    "code_folding": [
     0
    ],
    "collapsed": true
   },
   "outputs": [],
   "source": [
    "### CODE ###\n",
    "#!/bin/bash\n",
    "#$ -q workq\n",
    "#$ -m bea\n",
    "#$ -l mem=8G\n",
    "#$ -l h_vmem=30G\n",
    "#\n",
    "\n",
    "#####Alignment KALLISTO PE\n",
    "for id in 'SRR1302208' 'SRR1302283' 'SRR1302786' 'SRR1302787' 'SRR1302788' 'SRR1302789';\n",
    "do\n",
    "kallisto quant -i /home/hbastien/work/PTCB/mm10_transcriptome/Mus_musculus.GRCm38.cdna.all.idx -o kallisto$id -b 100 /home/hbastien/work/PTCB/Pefanis_rebuild/'Trimmed_paired_'$id'_1.fastq' /home/hbastien/work/PTCB/Pefanis_rebuild/'Trimmed_paired_'$id'_2.fastq'\n",
    "done"
   ]
  },
  {
   "cell_type": "code",
   "execution_count": null,
   "metadata": {
    "code_folding": [
     0
    ],
    "collapsed": true
   },
   "outputs": [],
   "source": [
    "### CODE ###\n",
    "qsub manageKallistoPE.sh"
   ]
  },
  {
   "cell_type": "markdown",
   "metadata": {},
   "source": [
    "##### b) Single end"
   ]
  },
  {
   "cell_type": "code",
   "execution_count": null,
   "metadata": {
    "code_folding": [
     0
    ],
    "collapsed": true
   },
   "outputs": [],
   "source": [
    "### CODE ###\n",
    "#!/bin/bash\n",
    "#$ -q workq\n",
    "#$ -m bea\n",
    "#$ -l mem=8G\n",
    "#$ -l h_vmem=30G\n",
    "#\n",
    "\n",
    "#####Alignment KALLISTO SE\n",
    "for id in 'SRR1302414' 'SRR1302785';\n",
    "do\n",
    "kallisto quant -i /home/hbastien/work/PTCB/mm10_transcriptome/Mus_musculus.GRCm38.cdna.all.idx -o kallisto$id -b 100 --single -l 100 -s 20 /home/hbastien/work/PTCB/Pefanis_rebuild/'Trimmed_'$id'_1.fastq'\n",
    "done"
   ]
  },
  {
   "cell_type": "code",
   "execution_count": null,
   "metadata": {
    "code_folding": [
     0
    ],
    "collapsed": true
   },
   "outputs": [],
   "source": [
    "### CODE ###\n",
    "qsub manageKallistoSE.sh"
   ]
  },
  {
   "cell_type": "markdown",
   "metadata": {},
   "source": [
    "##### Retrieve count files locally :"
   ]
  },
  {
   "cell_type": "code",
   "execution_count": null,
   "metadata": {
    "code_folding": [
     0
    ],
    "collapsed": true
   },
   "outputs": [],
   "source": [
    "### CODE ###\n",
    "sudo scp -r hbastien@genotoul.toulouse.inra.fr:/home/hbastien/work/PTCB/kallisto* /run/user/1000/gvfs/smb-share:server=ubox.unilim.fr,share=biscem/BioInformatique/Responsables/Commun/PTCB/Outputs/Kallisto"
   ]
  },
  {
   "cell_type": "markdown",
   "metadata": {},
   "source": [
    "### 4.3) Downstream analysis compatibility\n",
    "Slightly modify featureCounts output to make it compatible with future steps of the analysis.\n",
    "We want our gene names to be the same than those contained in ensembl when retrieved with biomart."
   ]
  },
  {
   "cell_type": "markdown",
   "metadata": {},
   "source": [
    "#### 4.3.1) FeatureCounts"
   ]
  },
  {
   "cell_type": "markdown",
   "metadata": {},
   "source": [
    "Remove spreadsheet hidden ' \" ' for downstream compatility with our awk manipulation :"
   ]
  },
  {
   "cell_type": "code",
   "execution_count": null,
   "metadata": {
    "code_folding": [
     0
    ],
    "collapsed": true
   },
   "outputs": [],
   "source": [
    "### CODE ###\n",
    "cd ~/Desktop/PTCB/BISCEm/Outputs/FeatureCounts;\n",
    "for f in *.tsv;\n",
    "do sed 's/\\\"//g' $f > ${f%.*}\".temp.tsv\";\n",
    "done;"
   ]
  },
  {
   "cell_type": "markdown",
   "metadata": {},
   "source": [
    "Use awk sub to convert \"ENSMUSG00000098104.12\" -> \"ENSMUSG00000098104\" :"
   ]
  },
  {
   "cell_type": "code",
   "execution_count": null,
   "metadata": {
    "code_folding": [
     0
    ],
    "collapsed": true
   },
   "outputs": [],
   "source": [
    "### CODE ###\n",
    "for f in *.temp.tsv;\n",
    "do awk -F '\\t' -v OFS='\\t' 'NR > 1 {sub(/\\.[0-9]*/, \"\", $1)} 1' $f > ${f%%.*}\"_ensembl_gene_id.tsv\";\n",
    "done;\n",
    "rm *.temp.tsv;"
   ]
  },
  {
   "cell_type": "markdown",
   "metadata": {},
   "source": [
    "Check that the removal of \".[0-9]?\" from the gene id column did not change the number of unique gene ids :"
   ]
  },
  {
   "cell_type": "code",
   "execution_count": null,
   "metadata": {
    "code_folding": [
     0
    ],
    "collapsed": true
   },
   "outputs": [],
   "source": [
    "### CODE ###\n",
    "for f in *.tsv;\n",
    "do awk -F '\\t' '{print $1}' $f | sort -u | wc -l;\n",
    "done;"
   ]
  },
  {
   "cell_type": "markdown",
   "metadata": {},
   "source": [
    "We did show that transforming gene name \"ENSMUSG00000098104.12\" -> \"ENSMUSG00000098104\" did not change the number unique gene names."
   ]
  },
  {
   "cell_type": "markdown",
   "metadata": {},
   "source": [
    "#### 4.3.2) Kallisto"
   ]
  },
  {
   "cell_type": "markdown",
   "metadata": {},
   "source": [
    "Remove spreadsheet hidden ' \" ' for downstream compatility with our awk manipulation :"
   ]
  },
  {
   "cell_type": "code",
   "execution_count": null,
   "metadata": {
    "code_folding": [
     0
    ],
    "collapsed": true
   },
   "outputs": [],
   "source": [
    "### CODE ###\n",
    "cd /run/user/1000/gvfs/smb-share:server=ubox.unilim.fr,share=biscem/BioInformatique/Responsables/Commun/PTCB/Outputs/Kallisto;\n",
    "for d in ./*;\n",
    "do sed 's/\\\"//g' $d/\"abundance.tsv\" > $d/\"abundance.temp.tsv\";\n",
    "done;"
   ]
  },
  {
   "cell_type": "markdown",
   "metadata": {},
   "source": [
    "Use awk sub to convert \"ENSMUSG00000098104.12\" -> \"ENSMUSG00000098104\" :"
   ]
  },
  {
   "cell_type": "code",
   "execution_count": null,
   "metadata": {
    "code_folding": [
     0
    ],
    "collapsed": true
   },
   "outputs": [],
   "source": [
    "### CODE ###\n",
    "for d in ./*;\n",
    "do awk -F '\\t' -v OFS='\\t' 'NR > 1 {sub(/\\.[0-9]*/, \"\", $1)} 1' $d/\"abundance.tsv\" > $d/\"abundance_ensembl_gene_id.tsv\";\n",
    "rm $d/*.temp.tsv;\n",
    "done;"
   ]
  },
  {
   "cell_type": "markdown",
   "metadata": {},
   "source": [
    "Check that the removal of \".[0-9]?\" from the gene id column did not change the number of unique gene ids :"
   ]
  },
  {
   "cell_type": "code",
   "execution_count": null,
   "metadata": {
    "code_folding": [
     0
    ],
    "collapsed": true
   },
   "outputs": [],
   "source": [
    "### CODE ###\n",
    "for d in ./*;\n",
    "do awk -F '\\t' '{print $1}' $d/\"abundance.tsv\" | sort -u | wc -l;\n",
    "done;"
   ]
  },
  {
   "cell_type": "markdown",
   "metadata": {},
   "source": [
    "We did show that transforming gene name \"ENSMUSG00000098104.12\" -> \"ENSMUSG00000098104\" did not change the number unique gene names."
   ]
  },
  {
   "cell_type": "markdown",
   "metadata": {},
   "source": [
    "## 5) DE analysis"
   ]
  },
  {
   "cell_type": "markdown",
   "metadata": {},
   "source": [
    "Perfomed with DESeq2_1.16.1 (using Bioconductor 3.5 (BiocInstaller 1.26.0), R 3.4.1 (2017-06-30)) :"
   ]
  },
  {
   "cell_type": "markdown",
   "metadata": {},
   "source": [
    "### 5.1) Resting \"R\" vs Stimulated \"S\" for the same mouse model (MAR, DEL ...) + MA and Volcano plots"
   ]
  },
  {
   "cell_type": "markdown",
   "metadata": {},
   "source": [
    "#### 5.1.1) No replicates"
   ]
  },
  {
   "cell_type": "markdown",
   "metadata": {},
   "source": [
    "##### With FeatureCounts :"
   ]
  },
  {
   "cell_type": "code",
   "execution_count": null,
   "metadata": {
    "code_folding": [],
    "collapsed": true
   },
   "outputs": [],
   "source": [
    "### CODE ###\n",
    "path='/run/user/1000/gvfs/smb-share:server=ubox.unilim.fr,share=biscem/BioInformatique/Responsables/Commun/PTCB';\n",
    "cd $path/Outputs/DESeq2;\n",
    "arrayR=('3B4_R_EP' '3pRR_R_EP' 'DEL_R_EP' 'IRIS_R_EP' 'PAL_R_EP' 'WT_R_EP' '3pRR_R_YD' 'EU_R_YD' 'MAR_R_YD' 'WT_R_YD')\n",
    "arrayS=('3B4_S_EP' '3pRR_S_EP' 'DEL_S_EP' 'IRIS_S_EP' 'PAL_S_EP' 'WT_S_EP' '3pRR_S_YD' 'EU_S_YD' 'MAR_S_YD' 'WT_S_YD')\n",
    "\n",
    "length=${#arrayR[@]}\n",
    "for ((i=0;i<=$length-1;i++));\n",
    "do\n",
    "Rscript $path/Scripts/deseq2_R_vs_S_no_replicates_fc.R ${arrayR[$i]} ${arrayS[$i]} &>> $path/Outputs/DESeq2/Verbose/deseq2_R_vs_S_no_replicates_fc.verbose;\n",
    "done;"
   ]
  },
  {
   "cell_type": "markdown",
   "metadata": {},
   "source": [
    "Content of deseq2_R_vs_S_no_replicates_fc.R :"
   ]
  },
  {
   "cell_type": "code",
   "execution_count": 1,
   "metadata": {
    "code_folding": [
     0
    ],
    "collapsed": true
   },
   "outputs": [],
   "source": [
    "### CODE ###\n",
    "#!/usr/bin/env Rscript\n",
    "\n",
    "# Open featureCounts results for the same mouse model & experiment\n",
    "args = commandArgs(trailingOnly=TRUE)\n",
    "\n",
    "#TEST#\n",
    "#args = c('3B4_R_EP', '3B4_S_EP')\n",
    "\n",
    "R = read.table(paste(\"../FeatureCounts/\",args[1],\"_ensembl_gene_id.tsv\", sep=\"\"))\n",
    "S = read.table(paste(\"../FeatureCounts/\",args[2],\"_ensembl_gene_id.tsv\", sep=\"\"))\n",
    "\n",
    "df = data.frame(row.names = row.names(R),\n",
    "                        R = R[1],\n",
    "                        S = S[1])\n",
    "\n",
    "colnames(df) <- c(args[1], args[2])\n",
    "\n",
    "# Create design\n",
    "condition <- c('R', 'S')\n",
    "type <- c('paired-end', 'paired-end')\n",
    "df_infos <- data.frame(condition, type)\n",
    "row.names(df_infos) <- c(args[1], args[2])\n",
    "\n",
    "all(rownames(df_infos) %in% colnames(df))\n",
    "# Start DESeq2 analysis\n",
    "library(\"DESeq2\")\n",
    "dds <- DESeqDataSetFromMatrix(countData = df,\n",
    "                              colData = df_infos,\n",
    "                              design = ~ condition)\n",
    "# Pre-filtering removing rows that have only 0 or 1 read\n",
    "dds <- dds[ rowSums(counts(dds)) > 1, ]\n",
    "# Check on many genes it discarded\n",
    "summary(dds)\n",
    "# Set factor to tell which one is the control group\n",
    "dds$condition <- factor(dds$condition, levels=c('R','S'))\n",
    "# Start actual DE analysis\n",
    "dds <- DESeq(dds)\n",
    "res <- results(dds)\n",
    "# We are using DESeq2_1.16.1, thus betaPrior is set to 'FALSE' and we need to obtain shrunken LFCs with function ‘lfcShrink’.\n",
    "# https://support.bioconductor.org/p/95695/\n",
    "res <- lfcShrink(dds,\n",
    "       contrast=c(\"condition\",\"R\",\"S\"),\n",
    "       res=res)\n",
    "summary(res, alpha=0.05)\n",
    "# MA plot : the log2 of ratio of the counts between two conditions is represented as a function of the log2 of the mean of the counts\n",
    "png(paste('Bastien/R_vs_S_',substr(args[1], 1,nchar(args[1])-5),'_',substr(args[1],nchar(args[1])-1,nchar(args[1])), '_fc_MA.png', sep=\"\"))\n",
    "plotMA(res,\n",
    "       ylim=c(min(res$log2FoldChange),\n",
    "        max(res$log2FoldChange)))\n",
    "dev.off()\n",
    "# Volcano plot : the log10 of the adjusted pvalue is represented as a function of the log2 of ratio of the counts.\n",
    "png(paste('Bastien/R_vs_S_',substr(args[1], 1,nchar(args[1])-5),'_',substr(args[1],nchar(args[1])-1,nchar(args[1])), '_fc_volcano.png', sep=\"\"))\n",
    "plot(res$log2FoldChange,\n",
    "     -log10(res$padj),\n",
    "     xlim=c(min(res$log2FoldChange), max(res$log2FoldChange)),\n",
    "     ylim=c(0, 15),\n",
    "     xlab=\"log2 fold change\",\n",
    "     ylab=\"-log10 p-value\",\n",
    "     type=\"n\")\n",
    "sel <- which(res$log2FoldChange>=1)\n",
    "points(res[sel,\"log2FoldChange\"], -log10(res[sel,\"padj\"]),col=\"red\")\n",
    "sel <- which(res$log2FoldChange<1 & res$log2FoldChange>-1)\n",
    "points(res[sel,\"log2FoldChange\"], -log10(res[sel,\"padj\"]),col=\"grey\")\n",
    "sel <- which(res$log2FoldChange<=-1)\n",
    "points(res[sel,\"log2FoldChange\"], -log10(res[sel,\"padj\"]),col=\"green\")\n",
    "sel <- which(res$padj>0.05)\n",
    "points(res[sel,\"log2FoldChange\"], -log10(res[sel,\"padj\"]),col=\"black\")\n",
    "abline(v=1,lty=3)\n",
    "abline(v=-1,lty=3)\n",
    "dev.off()\n",
    "# Retrieve normalized counts for each condition for future merge\n",
    "dds <- estimateSizeFactors(dds)\n",
    "# Print sizeFactors for future BAM normalization\n",
    "sizeFactors(dds)\n",
    "nor_counts <- counts(dds, normalized=TRUE)\n",
    "nor_counts_df <- as.data.frame(nor_counts)\n",
    "library(data.table)\n",
    "nor_counts_df <- setDT(nor_counts_df, keep.rownames = TRUE)[]\n",
    "colnames(nor_counts_df)[1] <- \"ensembl_gene_id\"\n",
    "colnames(nor_counts_df)[2] <- \"R_normalized_count\"\n",
    "colnames(nor_counts_df)[3] <- \"S_normalized_count\"\n",
    "# Then tidy = TRUE for compatibility with biomaRt merge\n",
    "res <- results(dds, tidy = TRUE)\n",
    "colnames(res)[1] <- \"ensembl_gene_id\"\n",
    "# Check\n",
    "summary(res)\n",
    "head(res)\n",
    "# Add biotypes infos\n",
    "# Get ensembl infos\n",
    "library(\"biomaRt\")\n",
    "mart <- biomaRt::useMart(biomart = \"ENSEMBL_MART_ENSEMBL\",\n",
    "                        dataset = \"mmusculus_gene_ensembl\",\n",
    "                        host = 'ensembl.org')             \n",
    "mart_infos <- biomaRt::getBM(attributes = c(\"ensembl_gene_id\",\n",
    "                                            \"external_gene_name\",\n",
    "                                            \"gene_biotype\"),\n",
    "                                            mart = mart)\n",
    "# Merge our DE results with ensembl infos for based on same gene_id in column\n",
    "res_biotyped <- merge(x = res,\n",
    "                      y = mart_infos,\n",
    "                      by = \"ensembl_gene_id\",\n",
    "                      all.x = TRUE)\n",
    "# Re-order columns & rename some to make more sense\n",
    "res_biotyped <- res_biotyped[,c(1,8,9,2:7)]\n",
    "colnames(res_biotyped)[2] <- \"ensembl_gene_name\"\n",
    "colnames(res_biotyped)[3] <- \"ensembl_gene_biotype\"\n",
    "# Add normalized counts info\n",
    "res_biotyped_counts <- merge(x = res_biotyped,\n",
    "                             y = nor_counts_df,\n",
    "                             by = \"ensembl_gene_id\",\n",
    "                             all.x = TRUE)\n",
    "\n",
    "#Transform exponential to decimal\n",
    "options(scipen = 50)\n",
    "\n",
    "# Save the result in a TSV\n",
    "write.table(res_biotyped_counts,\n",
    "            paste('Bastien/R_vs_S_',substr(args[1], 1,nchar(args[1])-5),'_',substr(args[1],nchar(args[1])-1,nchar(args[1])), '_fc.tsv', sep=\"\"),\n",
    "            append=F, sep='\\t',\n",
    "            col.names=T,\n",
    "            row.names=F)"
   ]
  },
  {
   "cell_type": "markdown",
   "metadata": {},
   "source": [
    "##### With Kallisto :"
   ]
  },
  {
   "cell_type": "code",
   "execution_count": null,
   "metadata": {
    "code_folding": [],
    "collapsed": true
   },
   "outputs": [],
   "source": [
    "### CODE ###\n",
    "path='/run/user/1000/gvfs/smb-share:server=ubox.unilim.fr,share=biscem/BioInformatique/Responsables/Commun/PTCB';\n",
    "cd $path/Outputs/DESeq2;\n",
    "arrayR=('3B4_R_EP' '3pRR_R_EP' 'DEL_R_EP' 'IRIS_R_EP' 'PAL_R_EP' 'WT_R_EP' '3pRR_R_YD' 'EU_R_YD' 'MAR_R_YD' 'WT_R_YD')\n",
    "arrayS=('3B4_S_EP' '3pRR_S_EP' 'DEL_S_EP' 'IRIS_S_EP' 'PAL_S_EP' 'WT_S_EP' '3pRR_S_YD' 'EU_S_YD' 'MAR_S_YD' 'WT_S_YD')\n",
    "\n",
    "length=${#arrayR[@]}\n",
    "for ((i=0;i<=$length-1;i++));\n",
    "do\n",
    "Rscript $path/Scripts/deseq2_R_vs_S_no_replicates_ka.R ${arrayR[$i]} ${arrayS[$i]} &>> $path/Outputs/DESeq2/Verbose/deseq2_R_vs_S_no_replicates_ka.verbose;\n",
    "done;"
   ]
  },
  {
   "cell_type": "markdown",
   "metadata": {},
   "source": [
    "Content of deseq2_R_vs_S_no_replicates_ka.R :"
   ]
  },
  {
   "cell_type": "code",
   "execution_count": null,
   "metadata": {
    "code_folding": [
     0
    ],
    "collapsed": true
   },
   "outputs": [],
   "source": [
    "### CODE ###\n",
    "#!/usr/bin/env Rscript\n",
    "\n",
    "# Open featureCounts results for the same mouse model & experiment\n",
    "\n",
    "library(\"tximport\")\n",
    "library(\"biomaRt\")\n",
    "library(\"GenomicFeatures\")\n",
    "\n",
    "args = commandArgs(trailingOnly=TRUE)\n",
    "\n",
    "#TEST#\n",
    "#args = c('3B4_R_EP', '3B4_S_EP')\n",
    "\n",
    "R = paste(\"../Kallisto/kallisto\",args[1],\"/abundance_ensembl_gene_id.tsv\", sep=\"\")\n",
    "S = paste(\"../Kallisto/kallisto\",args[2],\"/abundance_ensembl_gene_id.tsv\", sep=\"\")\n",
    "\n",
    "files <- file.path(c(R, S))\n",
    "names(files) <- paste0(c(args[1], args[2]))\n",
    "files\n",
    "\n",
    "mart <- biomaRt::useMart(biomart = \"ENSEMBL_MART_ENSEMBL\",\n",
    "                        dataset = \"mmusculus_gene_ensembl\",\n",
    "                        host = 'ensembl.org')             \n",
    "mart_infos <- biomaRt::getBM(attributes = c(\"ensembl_transcript_id\",\n",
    "                                            \"external_gene_name\",\n",
    "                                            \"gene_biotype\"),\n",
    "                                            mart = mart)\n",
    "\n",
    "mmusculusEnsembl <- makeTxDbFromBiomart(dataset=\"mmusculus_gene_ensembl\")\n",
    "\n",
    "k <- keys(mmusculusEnsembl, keytype = \"GENEID\")\n",
    "df <- select(mmusculusEnsembl, keys = k, keytype = \"GENEID\", columns = \"TXNAME\")\n",
    "tx2gene <- df[, 2:1]\n",
    "txi.kallisto.tsv <- tximport(files, type = \"kallisto\", tx2gene = tx2gene)\n",
    "df <- data.frame(txi.kallisto.tsv$counts, check.names = FALSE)\n",
    "condition <- c('R', 'S')\n",
    "type <- c('paired-end', 'paired-end')\n",
    "df_infos <- data.frame(condition, type)\n",
    "row.names(df_infos) <- c(args[1],args[2])\n",
    "all(rownames(df_infos) %in% colnames(df))\n",
    "# Start DESeq2 analysis\n",
    "library(\"DESeq2\")\n",
    "dds <- DESeqDataSetFromTximport(txi.kallisto.tsv, df_infos, ~condition) \n",
    "dds <- dds[ rowSums(counts(dds)) > 1, ]\n",
    "dds$condition <- factor(dds$condition, levels=c('R','S'))\n",
    "dds <- DESeq(dds)\n",
    "res <- results(dds)\n",
    "res <- lfcShrink(dds, contrast=c(\"condition\",\"R\",\"S\"), res=res)\n",
    "\n",
    "# MA plot : the log2 of ratio of the counts between two conditions is represented as a function of the log2 of the mean of the counts\n",
    "png(paste('Bastien/R_vs_S_',substr(args[1], 1,nchar(args[1])-5),'_',substr(args[1],nchar(args[1])-1,nchar(args[1])), '_ka_MA.png', sep=\"\"))\n",
    "plotMA(res,\n",
    "       ylim=c(min(res$log2FoldChange),\n",
    "        max(res$log2FoldChange)))\n",
    "dev.off()\n",
    "\n",
    "# Volcano plot : the log10 of the adjusted pvalue is represented as a function of the log2 of ratio of the counts.\n",
    "png(paste('Bastien/R_vs_S_',substr(args[1], 1,nchar(args[1])-5),'_',substr(args[1],nchar(args[1])-1,nchar(args[1])), '_ka_volcano.png', sep=\"\"))\n",
    "\n",
    "plot(res$log2FoldChange,\n",
    "     -log10(res$padj),\n",
    "     xlim=c(min(res$log2FoldChange), max(res$log2FoldChange)),\n",
    "     ylim=c(0, 15),\n",
    "     xlab=\"log2 fold change\",\n",
    "     ylab=\"-log10 p-value\",\n",
    "     type=\"n\")\n",
    "\n",
    "sel <- which(res$log2FoldChange>=1)\n",
    "points(res[sel,\"log2FoldChange\"], -log10(res[sel,\"padj\"]),col=\"red\")\n",
    "sel <- which(res$log2FoldChange<1 & res$log2FoldChange>-1)\n",
    "points(res[sel,\"log2FoldChange\"], -log10(res[sel,\"padj\"]),col=\"grey\")\n",
    "sel <- which(res$log2FoldChange<=-1)\n",
    "points(res[sel,\"log2FoldChange\"], -log10(res[sel,\"padj\"]),col=\"green\")\n",
    "sel <- which(res$padj>0.05)\n",
    "points(res[sel,\"log2FoldChange\"], -log10(res[sel,\"padj\"]),col=\"black\")\n",
    "abline(v=1,lty=3)\n",
    "abline(v=-1,lty=3)\n",
    "dev.off()\n",
    "# Retrieve normalized counts for each condition for future merge\n",
    "dds <- estimateSizeFactors(dds)\n",
    "# Print sizeFactors for future BAM normalization\n",
    "sizeFactors(dds)\n",
    "nor_counts <- counts(dds, normalized=TRUE)\n",
    "nor_counts_df <- as.data.frame(nor_counts)\n",
    "library(data.table)\n",
    "nor_counts_df <- setDT(nor_counts_df, keep.rownames = TRUE)[]\n",
    "\n",
    "colnames(nor_counts_df)[1] <- \"ensembl_gene_id\"\n",
    "colnames(nor_counts_df)[2] <- \"R_normalized_count\"\n",
    "colnames(nor_counts_df)[3] <- \"S_normalized_count\"\n",
    "\n",
    "# Then tidy = TRUE for compatibility with biomaRt merge\n",
    "res <- results(dds, tidy = TRUE)\n",
    "colnames(res)[1] <- \"ensembl_gene_id\"\n",
    "# Check\n",
    "summary(res)\n",
    "head(res)\n",
    "# Add biotypes infos\n",
    "# Get ensembl infos\n",
    "library(\"biomaRt\")\n",
    "mart <- biomaRt::useMart(biomart = \"ENSEMBL_MART_ENSEMBL\",\n",
    "                        dataset = \"mmusculus_gene_ensembl\",\n",
    "                        host = 'ensembl.org')             \n",
    "mart_infos <- biomaRt::getBM(attributes = c(\"ensembl_gene_id\",\n",
    "                                            \"external_gene_name\",\n",
    "                                            \"gene_biotype\"),\n",
    "                                            mart = mart)\n",
    "# Merge our DE results with ensembl infos for based on same gene_id in column\n",
    "res_biotyped <- merge(x = res,\n",
    "                      y = mart_infos,\n",
    "                      by = \"ensembl_gene_id\",\n",
    "                      all.x = TRUE)\n",
    "# Re-order columns & rename some to make more sense\n",
    "res_biotyped <- res_biotyped[,c(1,8,9,2:7)]\n",
    "colnames(res_biotyped)[2] <- \"ensembl_gene_name\"\n",
    "colnames(res_biotyped)[3] <- \"ensembl_gene_biotype\"\n",
    "# Add normalized counts info\n",
    "res_biotyped_counts <- merge(x = res_biotyped,\n",
    "                             y = nor_counts_df,\n",
    "                             by = \"ensembl_gene_id\",\n",
    "                             all.x = TRUE)\n",
    "\n",
    "#Transform exponential to decimal\n",
    "options(scipen = 50)\n",
    "\n",
    "# Save the result in a TSV\n",
    "write.table(res_biotyped_counts,\n",
    "            paste('Bastien/R_vs_S_',substr(args[1], 1,nchar(args[1])-5),'_',substr(args[1],nchar(args[1])-1,nchar(args[1])), '_ka.tsv', sep=\"\"),\n",
    "            append=F, sep='\\t',\n",
    "            col.names=T,\n",
    "            row.names=F)"
   ]
  },
  {
   "cell_type": "markdown",
   "metadata": {},
   "source": [
    "#### 5.1.2) With replicates when available (i.e., 1 sample coming from Eric Pinaud \"EP\" and 1 from Yves Denizot \"YD\")"
   ]
  },
  {
   "cell_type": "markdown",
   "metadata": {},
   "source": [
    "##### With FeatureCounts :"
   ]
  },
  {
   "cell_type": "code",
   "execution_count": null,
   "metadata": {
    "code_folding": [],
    "collapsed": true
   },
   "outputs": [],
   "source": [
    "### CODE ###\n",
    "path='/run/user/1000/gvfs/smb-share:server=ubox.unilim.fr,share=biscem/BioInformatique/Responsables/Commun/PTCB';\n",
    "cd $path/Outputs/DESeq2;\n",
    "arrayR1=('3pRR_R_EP' 'WT_R_EP')\n",
    "arrayR2=('3pRR_R_YD' 'WT_R_YD')\n",
    "arrayS1=('3pRR_S_EP' 'WT_S_EP')\n",
    "arrayS2=('3pRR_S_YD' 'WT_S_YD')\n",
    "\n",
    "length=${#arrayR1[@]}\n",
    "for ((i=0;i<=$length-1;i++));\n",
    "do\n",
    "Rscript $path/Scripts/deseq2_R_vs_S_with_replicates_fc.R ${arrayR1[$i]} ${arrayR2[$i]} ${arrayS1[$i]} ${arrayS2[$i]} &>> $path/Outputs/DESeq2/Verbose/deseq2_R_vs_S_with_replicates_fc.verbose;\n",
    "done;"
   ]
  },
  {
   "cell_type": "markdown",
   "metadata": {},
   "source": [
    "Content of deseq2_R_vs_S_with_replicates_fc.R :"
   ]
  },
  {
   "cell_type": "code",
   "execution_count": null,
   "metadata": {
    "code_folding": [
     0
    ],
    "collapsed": true
   },
   "outputs": [],
   "source": [
    "### CODE ###\n",
    "#!/usr/bin/env Rscript\n",
    "\n",
    "# Open featureCounts results for the same mouse model regardless of the experiment\n",
    "\n",
    "args = commandArgs(trailingOnly=TRUE)\n",
    "\n",
    "#TEST#\n",
    "#args = c('3pRR_R_EP', '3pRR_R_YD', '3pRR_S_EP', '3pRR_S_YD')\n",
    "\n",
    "R1 = read.table(paste(\"../FeatureCounts/\",args[1],\"_ensembl_gene_id.tsv\", sep=\"\"))\n",
    "R2 = read.table(paste(\"../FeatureCounts/\",args[2],\"_ensembl_gene_id.tsv\", sep=\"\"))\n",
    "S1 = read.table(paste(\"../FeatureCounts/\",args[3],\"_ensembl_gene_id.tsv\", sep=\"\"))\n",
    "S2 = read.table(paste(\"../FeatureCounts/\",args[4],\"_ensembl_gene_id.tsv\", sep=\"\"))\n",
    "\n",
    "paste(\"../FeatureCounts/\",args[1],\"_ensembl_gene_id.tsv\", sep=\"\")\n",
    "paste(\"../FeatureCounts/\",args[2],\"_ensembl_gene_id.tsv\", sep=\"\")\n",
    "paste(\"../FeatureCounts/\",args[3],\"_ensembl_gene_id.tsv\", sep=\"\")\n",
    "paste(\"../FeatureCounts/\",args[4],\"_ensembl_gene_id.tsv\", sep=\"\")\n",
    "\n",
    "df = data.frame(row.names = row.names(R1),\n",
    "\t\t\t\t\t   R1 = R1[1],\n",
    "\t\t\t\t\t   R2 = R2[1],\n",
    "\t\t\t\t\t   S1 = S1[1],\n",
    "\t\t\t\t\t   S2 = S2[1])\n",
    "\n",
    "colnames(df) <- c(args[1], args[2], args[3], args[4])\n",
    "                       \n",
    "# Create design\n",
    "condition <- c('R', 'R', 'S', 'S')\n",
    "type <- c('paired-end', 'paired-end', 'paired-end', 'paired-end')\n",
    "df_infos <- data.frame(condition, type)\n",
    "row.names(df_infos) <- c(args[1], args[2], args[3], args[4])\n",
    "\n",
    "all(rownames(df_infos) %in% colnames(df))\n",
    "# Start DESeq2 analysis\n",
    "library(\"DESeq2\")\n",
    "dds <- DESeqDataSetFromMatrix(countData = df, colData = df_infos, design = ~ condition)\n",
    "\n",
    "# Pre-filtering removing rows that have only 0 or 1 read\n",
    "dds <- dds[ rowSums(counts(dds)) > 1, ]\n",
    "# Check on many genes it discarded\n",
    "summary(dds)\n",
    "# Set factor to tell which one is the control group\n",
    "dds$condition <- factor(dds$condition, levels=c('R','S'))\n",
    "# Start actual DE analysis\n",
    "dds <- DESeq(dds)\n",
    "res <- results(dds)\n",
    "# We are using DESeq2_1.16.1, thus betaPrior is set to 'FALSE' and we need to obtain shrunken LFCs with function ‘lfcShrink’.\n",
    "# https://support.bioconductor.org/p/95695/\n",
    "res <- lfcShrink(dds,\n",
    "       contrast=c(\"condition\",\"R\",\"S\"),\n",
    "       res=res)\n",
    "summary(res, alpha=0.05)\n",
    "# MA plot : the log2 of ratio of the counts between two conditions is represented as a function of the log2 of the mean of the counts\n",
    "png(paste('Bastien/R_vs_S_',substr(args[1], 1,nchar(args[1])-5), '_dup_fc_MA.png', sep=\"\"))\n",
    "plotMA(res,\n",
    "       ylim=c(min(res$log2FoldChange),\n",
    "        max(res$log2FoldChange)))\n",
    "dev.off()\n",
    "# Volcano plot : the log10 of the adjusted pvalue is represented as a function of the log2 of ratio of the counts.\n",
    "png(paste('Bastien/R_vs_S_',substr(args[1], 1,nchar(args[1])-5), '_dup_fc_volcano.png', sep=\"\"))\n",
    "plot(res$log2FoldChange,\n",
    "     -log10(res$padj),\n",
    "     xlim=c(min(res$log2FoldChange), max(res$log2FoldChange)),\n",
    "     ylim=c(0, 15),\n",
    "     xlab=\"log2 fold change\",\n",
    "     ylab=\"-log10 p-value\",\n",
    "     type=\"n\")\n",
    "sel <- which(res$log2FoldChange>=1)\n",
    "points(res[sel,\"log2FoldChange\"], -log10(res[sel,\"padj\"]),col=\"red\")\n",
    "sel <- which(res$log2FoldChange<1 & res$log2FoldChange>-1)\n",
    "points(res[sel,\"log2FoldChange\"], -log10(res[sel,\"padj\"]),col=\"grey\")\n",
    "sel <- which(res$log2FoldChange<=-1)\n",
    "points(res[sel,\"log2FoldChange\"], -log10(res[sel,\"padj\"]),col=\"green\")\n",
    "sel <- which(res$padj>0.05)\n",
    "points(res[sel,\"log2FoldChange\"], -log10(res[sel,\"padj\"]),col=\"black\")\n",
    "abline(v=1,lty=3)\n",
    "abline(v=-1,lty=3)\n",
    "dev.off()\n",
    "# Retrieve normalized counts for each condition for future merge\n",
    "dds <- estimateSizeFactors(dds)\n",
    "# Print sizeFactors for future BAM normalization\n",
    "sizeFactors(dds)\n",
    "nor_counts <- counts(dds, normalized=TRUE)\n",
    "nor_counts_df <- as.data.frame(nor_counts)\n",
    "library(data.table)\n",
    "nor_counts_df <- setDT(nor_counts_df, keep.rownames = TRUE)[]\n",
    "colnames(nor_counts_df)[1] <- \"ensembl_gene_id\"\n",
    "colnames(nor_counts_df)[2] <- \"R_EP_normalized_count\"\n",
    "colnames(nor_counts_df)[3] <- \"R_YD_normalized_count\"\n",
    "colnames(nor_counts_df)[4] <- \"S_EP_normalized_count\"\n",
    "colnames(nor_counts_df)[5] <- \"S_YD_normalized_count\"\n",
    "# Then tidy = TRUE for compatibility with biomaRt merge\n",
    "res <- results(dds, tidy = TRUE)\n",
    "colnames(res)[1] <- \"ensembl_gene_id\"\n",
    "# Check\n",
    "summary(res)\n",
    "head(res)\n",
    "# Add biotypes infos\n",
    "# Get ensembl infos\n",
    "library(\"biomaRt\")\n",
    "mart <- biomaRt::useMart(biomart = \"ENSEMBL_MART_ENSEMBL\",\n",
    "                        dataset = \"mmusculus_gene_ensembl\",\n",
    "                        host = 'ensembl.org')             \n",
    "mart_infos <- biomaRt::getBM(attributes = c(\"ensembl_gene_id\",\n",
    "                                            \"external_gene_name\",\n",
    "                                            \"gene_biotype\"),\n",
    "                                            mart = mart)\n",
    "# Merge our DE results with ensembl infos for based on same gene_id in column\n",
    "res_biotyped <- merge(x = res,\n",
    "                      y = mart_infos,\n",
    "                      by = \"ensembl_gene_id\",\n",
    "                      all.x = TRUE)\n",
    "# Re-order columns & rename some to make more sense\n",
    "res_biotyped <- res_biotyped[,c(1,8,9,2:7)]\n",
    "colnames(res_biotyped)[2] <- \"ensembl_gene_name\"\n",
    "colnames(res_biotyped)[3] <- \"ensembl_gene_biotype\"\n",
    "# Add normalized counts info\n",
    "res_biotyped_counts <- merge(x = res_biotyped,\n",
    "                             y = nor_counts_df,\n",
    "                             by = \"ensembl_gene_id\",\n",
    "                             all.x = TRUE)\n",
    "\n",
    "#Transform exponential to decimal\n",
    "options(scipen = 50)\n",
    "\n",
    "# Save the result in a TSV\n",
    "write.table(res_biotyped_counts,\n",
    "            paste('Bastien/R_vs_S_',substr(args[1], 1,nchar(args[1])-5), '_dup_fc.tsv', sep=\"\"),\n",
    "            append=F, sep='\\t',\n",
    "            col.names=T,\n",
    "            row.names=F)"
   ]
  },
  {
   "cell_type": "markdown",
   "metadata": {},
   "source": [
    "##### With Kallisto :"
   ]
  },
  {
   "cell_type": "code",
   "execution_count": null,
   "metadata": {
    "code_folding": [],
    "collapsed": true
   },
   "outputs": [],
   "source": [
    "### CODE ###\n",
    "path='/run/user/1000/gvfs/smb-share:server=ubox.unilim.fr,share=biscem/BioInformatique/Responsables/Commun/PTCB';\n",
    "cd $path/Outputs/DESeq2;\n",
    "arrayR1=('3pRR_R_EP' 'WT_R_EP')\n",
    "arrayR2=('3pRR_R_YD' 'WT_R_YD')\n",
    "arrayS1=('3pRR_S_EP' 'WT_S_EP')\n",
    "arrayS2=('3pRR_S_YD' 'WT_S_YD')\n",
    "\n",
    "length=${#arrayR1[@]}\n",
    "for ((i=0;i<=$length-1;i++));\n",
    "do\n",
    "Rscript $path/Scripts/deseq2_R_vs_S_with_replicates_ka.R ${arrayR1[$i]} ${arrayR2[$i]} ${arrayS1[$i]} ${arrayS2[$i]} &>> $path/Outputs/DESeq2/Verbose/deseq2_R_vs_S_with_replicates_ka.verbose;\n",
    "done;"
   ]
  },
  {
   "cell_type": "markdown",
   "metadata": {},
   "source": [
    "Content of deseq2_R_vs_S_with_replicates_ka.R :"
   ]
  },
  {
   "cell_type": "code",
   "execution_count": null,
   "metadata": {
    "code_folding": [
     0
    ],
    "collapsed": true
   },
   "outputs": [],
   "source": [
    "### CODE ###\n",
    "#!/usr/bin/env Rscript\n",
    "\n",
    "# Open kallisto results for the same mouse model & experiment\n",
    "\n",
    "library(\"tximport\")\n",
    "library(\"biomaRt\")\n",
    "library(\"GenomicFeatures\")\n",
    "\n",
    "args = commandArgs(trailingOnly=TRUE)\n",
    "\n",
    "#TEST#\n",
    "#args = c('3pRR_R_EP', '3pRR_R_YD', '3pRR_S_EP', '3pRR_S_YD')\n",
    "\n",
    "# Open featureCounts results for the same mouse model regardless of the experiment\n",
    "R1 = paste(\"../Kallisto/kallisto\",args[1],\"/abundance_ensembl_gene_id.tsv\", sep=\"\")\n",
    "R2 = paste(\"../Kallisto/kallisto\",args[2],\"/abundance_ensembl_gene_id.tsv\", sep=\"\")\n",
    "S1 = paste(\"../Kallisto/kallisto\",args[3],\"/abundance_ensembl_gene_id.tsv\", sep=\"\")\n",
    "S2 = paste(\"../Kallisto/kallisto\",args[4],\"/abundance_ensembl_gene_id.tsv\", sep=\"\")\n",
    "\n",
    "files <- file.path(c(R1, R2, S1, S2))\n",
    "names(files) <- paste0(c(args[1], args[2], args[3], args[4]))\n",
    "files\n",
    "                       \n",
    "mart <- biomaRt::useMart(biomart = \"ENSEMBL_MART_ENSEMBL\",\n",
    "                        dataset = \"mmusculus_gene_ensembl\",\n",
    "                        host = 'ensembl.org')             \n",
    "mart_infos <- biomaRt::getBM(attributes = c(\"ensembl_transcript_id\",\n",
    "                                            \"external_gene_name\",\n",
    "                                            \"gene_biotype\"),\n",
    "                                            mart = mart)\n",
    "\n",
    "mmusculusEnsembl <- makeTxDbFromBiomart(dataset=\"mmusculus_gene_ensembl\")\n",
    "\n",
    "k <- keys(mmusculusEnsembl, keytype = \"GENEID\")\n",
    "df <- select(mmusculusEnsembl, keys = k, keytype = \"GENEID\", columns = \"TXNAME\")\n",
    "tx2gene <- df[, 2:1]\n",
    "txi.kallisto.tsv <- tximport(files, type = \"kallisto\", tx2gene = tx2gene)\n",
    "df <- data.frame(txi.kallisto.tsv$counts, check.names = FALSE)\n",
    "condition <- c('R', 'R', 'S', 'S')\n",
    "type <- c('paired-end', 'paired-end', 'paired-end', 'paired-end')\n",
    "df_infos <- data.frame(condition, type)\n",
    "row.names(df_infos) <- c(args[1], args[2], args[3], args[4])\n",
    "\n",
    "all(rownames(df_infos) %in% colnames(df))\n",
    "# Start DESeq2 analysis\n",
    "library(\"DESeq2\")\n",
    "dds <- DESeqDataSetFromTximport(txi.kallisto.tsv, df_infos, ~condition) \n",
    "dds <- dds[ rowSums(counts(dds)) > 1, ]\n",
    "dds$condition <- factor(dds$condition, levels=c('R','S'))\n",
    "dds <- DESeq(dds)\n",
    "res <- results(dds)\n",
    "res <- lfcShrink(dds, contrast=c(\"condition\",\"R\",\"S\"), res=res)\n",
    "\n",
    "summary(res, alpha=0.05)\n",
    "# MA plot : the log2 of ratio of the counts between two conditions is represented as a function of the log2 of the mean of the counts\n",
    "png(paste('Bastien/R_vs_S_',substr(args[1], 1,nchar(args[1])-5), '_dup_ka_MA.png', sep=\"\"))\n",
    "plotMA(res,\n",
    "       ylim=c(min(res$log2FoldChange),\n",
    "        max(res$log2FoldChange)))\n",
    "dev.off()\n",
    "# Volcano plot : the log10 of the adjusted pvalue is represented as a function of the log2 of ratio of the counts.\n",
    "png(paste('Bastien/R_vs_S_',substr(args[1], 1,nchar(args[1])-5), '_dup_ka_volcano.png', sep=\"\"))\n",
    "plot(res$log2FoldChange,\n",
    "     -log10(res$padj),\n",
    "     xlim=c(min(res$log2FoldChange), max(res$log2FoldChange)),\n",
    "     ylim=c(0, 15),\n",
    "     xlab=\"log2 fold change\",\n",
    "     ylab=\"-log10 p-value\",\n",
    "     type=\"n\")\n",
    "sel <- which(res$log2FoldChange>=1)\n",
    "points(res[sel,\"log2FoldChange\"], -log10(res[sel,\"padj\"]),col=\"red\")\n",
    "sel <- which(res$log2FoldChange<1 & res$log2FoldChange>-1)\n",
    "points(res[sel,\"log2FoldChange\"], -log10(res[sel,\"padj\"]),col=\"grey\")\n",
    "sel <- which(res$log2FoldChange<=-1)\n",
    "points(res[sel,\"log2FoldChange\"], -log10(res[sel,\"padj\"]),col=\"green\")\n",
    "sel <- which(res$padj>0.05)\n",
    "points(res[sel,\"log2FoldChange\"], -log10(res[sel,\"padj\"]),col=\"black\")\n",
    "abline(v=1,lty=3)\n",
    "abline(v=-1,lty=3)\n",
    "dev.off()\n",
    "# Retrieve normalized counts for each condition for future merge\n",
    "dds <- estimateSizeFactors(dds)\n",
    "# Print sizeFactors for future BAM normalization\n",
    "sizeFactors(dds)\n",
    "nor_counts <- counts(dds, normalized=TRUE)\n",
    "nor_counts_df <- as.data.frame(nor_counts)\n",
    "library(data.table)\n",
    "nor_counts_df <- setDT(nor_counts_df, keep.rownames = TRUE)[]\n",
    "\n",
    "colnames(nor_counts_df)[1] <- \"ensembl_gene_id\"\n",
    "colnames(nor_counts_df)[2] <- \"R_EP_normalized_count\"\n",
    "colnames(nor_counts_df)[3] <- \"R_YD_normalized_count\"\n",
    "colnames(nor_counts_df)[4] <- \"S_EP_normalized_count\"\n",
    "colnames(nor_counts_df)[5] <- \"S_YD_normalized_count\"\n",
    "\n",
    "# Then tidy = TRUE for compatibility with biomaRt merge\n",
    "res <- results(dds, tidy = TRUE)\n",
    "colnames(res)[1] <- \"ensembl_gene_id\"\n",
    "# Check\n",
    "summary(res)\n",
    "head(res)\n",
    "# Add biotypes infos\n",
    "# Get ensembl infos\n",
    "library(\"biomaRt\")\n",
    "mart <- biomaRt::useMart(biomart = \"ENSEMBL_MART_ENSEMBL\",\n",
    "                        dataset = \"mmusculus_gene_ensembl\",\n",
    "                        host = 'ensembl.org')             \n",
    "mart_infos <- biomaRt::getBM(attributes = c(\"ensembl_gene_id\",\n",
    "                                            \"external_gene_name\",\n",
    "                                            \"gene_biotype\"),\n",
    "                                            mart = mart)\n",
    "# Merge our DE results with ensembl infos for based on same gene_id in column\n",
    "res_biotyped <- merge(x = res,\n",
    "                      y = mart_infos,\n",
    "                      by = \"ensembl_gene_id\",\n",
    "                      all.x = TRUE)\n",
    "# Re-order columns & rename some to make more sense\n",
    "res_biotyped <- res_biotyped[,c(1,8,9,2:7)]\n",
    "colnames(res_biotyped)[2] <- \"ensembl_gene_name\"\n",
    "colnames(res_biotyped)[3] <- \"ensembl_gene_biotype\"\n",
    "# Add normalized counts info\n",
    "res_biotyped_counts <- merge(x = res_biotyped,\n",
    "                             y = nor_counts_df,\n",
    "                             by = \"ensembl_gene_id\",\n",
    "                             all.x = TRUE)\n",
    "\n",
    "#Transform exponential to decimal\n",
    "options(scipen = 50)\n",
    "\n",
    "# Save the result in a TSV\n",
    "write.table(res_biotyped_counts,\n",
    "            paste('Bastien/R_vs_S_',substr(args[1], 1,nchar(args[1])-5), '_dup_ka.tsv', sep=\"\"),\n",
    "            append=F, sep='\\t',\n",
    "            col.names=T,\n",
    "            row.names=F)"
   ]
  },
  {
   "cell_type": "markdown",
   "metadata": {},
   "source": [
    "#### 5.1.3) ???USEFUL??? Pooled R vs S with all mouse models & WT (EP, YD, EP+YD)"
   ]
  },
  {
   "cell_type": "code",
   "execution_count": null,
   "metadata": {
    "code_folding": [
     0
    ],
    "collapsed": true
   },
   "outputs": [],
   "source": [
    "### CODE ###\n",
    "path='/home/erwann/Desktop/PTCB/BISCEm';\n",
    "cd $path/Outputs/DESeq2;\n",
    "Rscript $path/Scripts/deseq2_R_vs_S_pooled.R &>> $path/Outputs/DESeq2/Verbose/deseq2_R_vs_S_pooled.verbose;"
   ]
  },
  {
   "cell_type": "markdown",
   "metadata": {},
   "source": [
    "Content of deseq2_R_vs_S_pooled.R for the first comparison :"
   ]
  },
  {
   "cell_type": "code",
   "execution_count": null,
   "metadata": {
    "code_folding": [
     0
    ],
    "collapsed": true
   },
   "outputs": [],
   "source": [
    "### CODE ###\n",
    "#!/usr/bin/env Rscript\n",
    "\n",
    "############################\n",
    "### all_EP_R vs all_EP_S ###\n",
    "############################\n",
    "# Open featureCounts results for the same mouse model regardless of the experiment\n",
    "threeB4_R_EP = read.table(\"../FeatureCounts/3B4_R_EP_ensembl_gene_id.tsv\")\n",
    "threepRR_R_EP = read.table(\"../FeatureCounts/3pRR_R_EP_ensembl_gene_id.tsv\")\n",
    "DEL_R_EP = read.table(\"../FeatureCounts/DEL_R_EP_ensembl_gene_id.tsv\")\n",
    "IRIS_R_EP = read.table(\"../FeatureCounts/IRIS_R_EP_ensembl_gene_id.tsv\")\n",
    "PAL_R_EP = read.table(\"../FeatureCounts/PAL_R_EP_ensembl_gene_id.tsv\")\n",
    "WT_R_EP = read.table(\"../FeatureCounts/WT_R_EP_ensembl_gene_id.tsv\")\n",
    "threeB4_S_EP = read.table(\"../FeatureCounts/3B4_S_EP_ensembl_gene_id.tsv\")\n",
    "threepRR_S_EP = read.table(\"../FeatureCounts/3pRR_S_EP_ensembl_gene_id.tsv\")\n",
    "DEL_S_EP = read.table(\"../FeatureCounts/DEL_S_EP_ensembl_gene_id.tsv\")\n",
    "IRIS_S_EP = read.table(\"../FeatureCounts/IRIS_S_EP_ensembl_gene_id.tsv\")\n",
    "PAL_S_EP = read.table(\"../FeatureCounts/PAL_S_EP_ensembl_gene_id.tsv\")\n",
    "WT_S_EP = read.table(\"../FeatureCounts/WT_S_EP_ensembl_gene_id.tsv\")\n",
    "all_pooled = data.frame(row.names = row.names(threeB4_R_EP),\n",
    "                        threeB4_R_EP = threeB4_R_EP$X3B4_R_EP.bam,\n",
    "                        threepRR_R_EP = threepRR_R_EP$X3pRR_R_EP.bam,\n",
    "                        DEL_R_EP = DEL_R_EP$DEL_R_EP.bam,\n",
    "                        IRIS_R_EP = IRIS_R_EP$IRIS_R_EP.bam,\n",
    "                        PAL_R_EP = PAL_R_EP$PAL_R_EP.bam,\n",
    "                        WT_R_EP =  WT_R_EP$WT_R_EP.bam,\n",
    "                        threeB4_S_EP = threeB4_S_EP$X3B4_S_EP.bam,\n",
    "                        threepRR_S_EP = threepRR_S_EP$X3pRR_S_EP.bam,\n",
    "                        DEL_S_EP = DEL_S_EP$DEL_S_EP.bam,\n",
    "                        IRIS_S_EP = IRIS_S_EP$IRIS_S_EP.bam,\n",
    "                        PAL_S_EP = PAL_S_EP$PAL_S_EP.bam,\n",
    "                        WT_S_EP = WT_S_EP$WT_S_EP.bam)\n",
    "all_pooled$threeB4_R_EP=as.numeric(as.character(all_pooled$threeB4_R_EP))\n",
    "all_pooled$threepRR_R_EP=as.numeric(as.character(all_pooled$threepRR_R_EP))\n",
    "all_pooled$DEL_R_EP=as.numeric(as.character(all_pooled$DEL_R_EP))\n",
    "all_pooled$IRIS_R_EP=as.numeric(as.character(all_pooled$IRIS_R_EP))\n",
    "all_pooled$PAL_R_EP=as.numeric(as.character(all_pooled$PAL_R_EP))\n",
    "all_pooled$WT_R_EP=as.numeric(as.character(all_pooled$WT_R_EP))\n",
    "all_pooled$threeB4_S_EP=as.numeric(as.character(all_pooled$threeB4_S_EP))\n",
    "all_pooled$threepRR_S_EP=as.numeric(as.character(all_pooled$threepRR_S_EP))\n",
    "all_pooled$DEL_S_EP=as.numeric(as.character(all_pooled$DEL_S_EP))\n",
    "all_pooled$IRIS_S_EP=as.numeric(as.character(all_pooled$IRIS_S_EP))\n",
    "all_pooled$PAL_S_EP=as.numeric(as.character(all_pooled$PAL_S_EP))\n",
    "all_pooled$WT_S_EP=as.numeric(as.character(all_pooled$WT_S_EP))\n",
    "# Create design\n",
    "condition <- c('R', 'R', 'R', 'R', 'R', 'R', 'S', 'S', 'S', 'S', 'S', 'S')\n",
    "type <- c('paired-end', 'paired-end', 'paired-end', 'paired-end', 'paired-end', 'paired-end', 'paired-end', 'paired-end', 'paired-end', 'paired-end', 'paired-end', 'paired-end')\n",
    "all_pooled_infos <- data.frame(condition, type)\n",
    "row.names(all_pooled_infos) <- c('threeB4_R_EP', 'threepRR_R_EP', 'DEL_R_EP', 'IRIS_R_EP', 'PAL_R_EP', 'WT_R_EP', 'threeB4_S_EP', 'threepRR_S_EP', 'DEL_S_EP', 'IRIS_S_EP', 'PAL_S_EP', 'WT_S_EP')\n",
    "# Sanity check\n",
    "head(all_pooled)\n",
    "tail(all_pooled)\n",
    "all_pooled_infos\n",
    "all(rownames(all_pooled_infos) %in% colnames(all_pooled))\n",
    "# Start DESeq2 analysis\n",
    "library(\"DESeq2\")\n",
    "dds <- DESeqDataSetFromMatrix(countData = all_pooled,\n",
    "\t\t\t\t\t\t\t                colData = all_pooled_infos,\n",
    "\t\t\t\t\t\t\t                design = ~ condition)\n",
    "# Sanity check\n",
    "dds\n",
    "# Pre-filtering removing rows that have only 0 or 1 read\n",
    "dds <- dds[ rowSums(counts(dds)) > 1, ]\n",
    "# Check on many genes it discarded\n",
    "summary(dds)\n",
    "# Set factor to tell which one is the control group\n",
    "dds$condition <- factor(dds$condition, levels=c('R','S'))\n",
    "# Start actual DE analysis\n",
    "dds <- DESeq(dds)\n",
    "res <- results(dds)\n",
    "# We are using DESeq2_1.16.1, thus betaPrior is set to 'FALSE' and we need to obtain shrunken LFCs with function ‘lfcShrink’.\n",
    "# https://support.bioconductor.org/p/95695/\n",
    "res <- lfcShrink(dds,\n",
    "                 contrast=c(\"condition\",\"R\",\"S\"),\n",
    "                 res=res)\n",
    "summary(res, alpha=0.05)\n",
    "# MA plot : the log2 of ratio of the counts between two conditions is represented as a function of the log2 of the mean of the counts\n",
    "png('R_vs_S_pooled/Plots/R_vs_S_pooled_EP_MA.png')\n",
    "plotMA(res,\n",
    "       ylim=c(min(res$log2FoldChange),\n",
    "        max(res$log2FoldChange)))\n",
    "dev.off()\n",
    "# Volcano plot : the log10 of the adjusted pvalue is represented as a function of the log2 of ratio of the counts.\n",
    "png('R_vs_S_pooled/Plots/R_vs_S_pooled_EP_volcano.png')\n",
    "plot(res$log2FoldChange,\n",
    "     -log10(res$padj),\n",
    "     xlim=c(min(res$log2FoldChange), max(res$log2FoldChange)),\n",
    "     ylim=c(0, 15),\n",
    "     xlab=\"log2 fold change\",\n",
    "     ylab=\"-log10 p-value\",\n",
    "     type=\"n\")\n",
    "sel <- which(res$log2FoldChange>=1)\n",
    "points(res[sel,\"log2FoldChange\"], -log10(res[sel,\"padj\"]),col=\"red\")\n",
    "sel <- which(res$log2FoldChange<1 & res$log2FoldChange>-1)\n",
    "points(res[sel,\"log2FoldChange\"], -log10(res[sel,\"padj\"]),col=\"grey\")\n",
    "sel <- which(res$log2FoldChange<=-1)\n",
    "points(res[sel,\"log2FoldChange\"], -log10(res[sel,\"padj\"]),col=\"green\")\n",
    "sel <- which(res$padj>0.05)\n",
    "points(res[sel,\"log2FoldChange\"], -log10(res[sel,\"padj\"]),col=\"black\")\n",
    "abline(v=1,lty=3)\n",
    "abline(v=-1,lty=3)\n",
    "dev.off()\n",
    "# Retrieve normalized counts for each condition for future merge\n",
    "dds <- estimateSizeFactors(dds)\n",
    "nor_counts <- counts(dds, normalized=TRUE)\n",
    "nor_counts_df <- as.data.frame(nor_counts)\n",
    "library(data.table)\n",
    "nor_counts_df <- setDT(nor_counts_df, keep.rownames = TRUE)[]\n",
    "colnames(nor_counts_df)[1] <- \"ensembl_gene_id\"\n",
    "colnames(nor_counts_df)[2] <- \"threeB4_R_normalized_count\"\n",
    "colnames(nor_counts_df)[3] <- \"threepRR_R_normalized_count\"\n",
    "colnames(nor_counts_df)[4] <- \"DEL_R_normalized_count\"\n",
    "colnames(nor_counts_df)[5] <- \"IRIS_R_normalized_count\"\n",
    "colnames(nor_counts_df)[6] <- \"PAL_R_normalized_count\"\n",
    "colnames(nor_counts_df)[7] <- \"WT_R_normalized_count\"\n",
    "colnames(nor_counts_df)[8] <- \"threeB4_S_normalized_count\"\n",
    "colnames(nor_counts_df)[9] <- \"threepRR_S_normalized_count\"\n",
    "colnames(nor_counts_df)[10] <- \"DEL_S_normalized_count\"\n",
    "colnames(nor_counts_df)[11] <- \"IRIS_S_normalized_count\"\n",
    "colnames(nor_counts_df)[12] <- \"PAL_S_normalized_count\"\n",
    "colnames(nor_counts_df)[13] <- \"WT_S_normalized_count\"\n",
    "# Then tidy = TRUE for compatibility with biomaRt merge\n",
    "res <- results(dds, tidy = TRUE)\n",
    "colnames(res)[1] <- \"ensembl_gene_id\"\n",
    "# Check\n",
    "summary(res)\n",
    "head(res)\n",
    "# Add biotypes infos\n",
    "# Get ensembl infos\n",
    "library(\"biomaRt\")\n",
    "mart <- biomaRt::useMart(biomart = \"ENSEMBL_MART_ENSEMBL\",\n",
    "                         dataset = \"mmusculus_gene_ensembl\",\n",
    "                         host = 'ensembl.org')             \n",
    "mart_infos <- biomaRt::getBM(attributes = c(\"ensembl_gene_id\",\n",
    "                                            \"external_gene_name\",\n",
    "                                            \"gene_biotype\"),\n",
    "                                            mart = mart)\n",
    "# Merge our DE results with ensembl infos for based on same gene_id in column\n",
    "res_biotyped <- merge(x = res,\n",
    "                      y = mart_infos,\n",
    "                      by = \"ensembl_gene_id\",\n",
    "                      all.x = TRUE)\n",
    "# Re-order columns & rename some to make more sense\n",
    "res_biotyped <- res_biotyped[,c(1,8,9,2:7)]\n",
    "colnames(res_biotyped)[2] <- \"ensembl_gene_name\"\n",
    "colnames(res_biotyped)[3] <- \"ensembl_gene_biotype\"\n",
    "# Add normalized counts info\n",
    "res_biotyped_counts <- merge(x = res_biotyped,\n",
    "                             y = nor_counts_df,\n",
    "                             by = \"ensembl_gene_id\",\n",
    "                             all.x = TRUE)\n",
    "# Save the result in a TSV\n",
    "write.table(res_biotyped_counts,\n",
    "            'R_vs_S_pooled/R_vs_S_pooled_EP.tsv',\n",
    "            append=F, sep='\\t',\n",
    "            col.names=T,\n",
    "            row.names=F)"
   ]
  },
  {
   "cell_type": "markdown",
   "metadata": {},
   "source": [
    "### 5.2) Mutant vs WT (for R and for S)"
   ]
  },
  {
   "cell_type": "markdown",
   "metadata": {},
   "source": [
    "#### 5.2.1) No replicates"
   ]
  },
  {
   "cell_type": "markdown",
   "metadata": {},
   "source": [
    "##### With FeatureCounts :"
   ]
  },
  {
   "cell_type": "code",
   "execution_count": null,
   "metadata": {
    "code_folding": [],
    "collapsed": true
   },
   "outputs": [],
   "source": [
    "### CODE ###\n",
    "path='/run/user/1000/gvfs/smb-share:server=ubox.unilim.fr,share=biscem/BioInformatique/Responsables/Commun/PTCB';\n",
    "cd $path/Outputs/DESeq2;\n",
    "array=('3B4_R_EP' '3B4_S_EP' '3pRR_R_EP' '3pRR_S_EP' 'DEL_R_EP' 'DEL_S_EP' 'IRIS_R_EP' 'IRIS_S_EP' 'PAL_R_EP' 'PAL_S_EP' '3pRR_R_YD' '3pRR_S_YD' 'EU_R_YD' 'EU_S_YD' 'MAR_R_YD' 'MAR_S_YD')\n",
    "\n",
    "length=${#array[@]}\n",
    "for ((i=0;i<=$length-1;i++));\n",
    "do\n",
    "Rscript $path/Scripts/deseq2_mutant_vs_wt_no_replicates_fc.R ${array[$i]} &>> $path/Outputs/DESeq2/Verbose/deseq2_mutant_vs_wt_no_replicates_fc.verbose;\n",
    "done;"
   ]
  },
  {
   "cell_type": "markdown",
   "metadata": {},
   "source": [
    "Content of deseq2_mutant_vs_wt_no_replicates_fc.R :"
   ]
  },
  {
   "cell_type": "code",
   "execution_count": 2,
   "metadata": {
    "code_folding": [
     0
    ],
    "collapsed": true
   },
   "outputs": [],
   "source": [
    "### CODE ###\n",
    "#!/usr/bin/env Rscript\n",
    "\n",
    "# Open featureCounts results for the same mouse model & experiment\n",
    "args = commandArgs(trailingOnly=TRUE)\n",
    "\n",
    "#TEST#\n",
    "#args <- c('3B4_R_EP')\n",
    "\n",
    "WT = read.table(paste(\"../FeatureCounts/WT\",substr(args[1], nchar(args[1])-4,nchar(args[1])),\"_ensembl_gene_id.tsv\", sep=\"\"))\n",
    "KO = read.table(paste(\"../FeatureCounts/\",args[1],\"_ensembl_gene_id.tsv\", sep=\"\"))\n",
    "\n",
    "paste(\"../FeatureCounts/WT\",substr(args[1], nchar(args[1])-4,nchar(args[1])),\"_ensembl_gene_id.tsv\", sep=\"\")\n",
    "paste(\"../FeatureCounts/\",args[1],\"_ensembl_gene_id.tsv\", sep=\"\")\n",
    "\n",
    "df = data.frame(row.names = row.names(WT),\n",
    "                        WT = WT[1],\n",
    "                        KO = KO[1])\n",
    "\n",
    "colnames(df) <- c(paste(\"WT\",substr(args[1], nchar(args[1])-4,nchar(args[1])), sep=\"\"), args[1])\n",
    "# Create design\n",
    "condition <- c('WT', 'KO')\n",
    "type <- c('paired-end', 'paired-end')\n",
    "df_infos <- data.frame(condition, type)\n",
    "row.names(df_infos) <- c(paste(\"WT\",substr(args[1], nchar(args[1])-4,nchar(args[1])), sep=\"\"), args[1])\n",
    "\n",
    "all(rownames(df_infos) %in% colnames(df))\n",
    "\n",
    "# Start DESeq2 analysis\n",
    "library(\"DESeq2\")\n",
    "dds <- DESeqDataSetFromMatrix(countData = df,\n",
    "                              colData = df_infos,\n",
    "                              design = ~ condition)\n",
    "\n",
    "# Pre-filtering removing rows that have only 0 or 1 read\n",
    "dds <- dds[ rowSums(counts(dds)) > 1, ]\n",
    "# Check on many genes it discarded\n",
    "summary(dds)\n",
    "# Set factor to tell which one is the control group\n",
    "dds$condition <- factor(dds$condition, levels=c('WT','KO'))\n",
    "# Start actual DE analysis\n",
    "dds <- DESeq(dds)\n",
    "res <- results(dds)\n",
    "# We are using DESeq2_1.16.1, thus betaPrior is set to 'FALSE' and we need to obtain shrunken LFCs with function ‘lfcShrink’.\n",
    "# https://support.bioconductor.org/p/95695/\n",
    "res <- lfcShrink(dds,\n",
    "       contrast=c(\"condition\",\"WT\",\"KO\"),\n",
    "       res=res)\n",
    "summary(res, alpha=0.05)\n",
    "# MA plot : the log2 of ratio of the counts between two conditions is represented as a function of the log2 of the mean of the counts\n",
    "png(paste('Bastien/',substr(args[1],1,nchar(args[1])-5),'_vs_WT_',substr(args[1],nchar(args[1])-3,nchar(args[1])), '_fc_MA.png', sep=\"\"))\n",
    "plotMA(res,\n",
    "       ylim=c(min(res$log2FoldChange),\n",
    "        max(res$log2FoldChange)))\n",
    "dev.off()\n",
    "\n",
    "# Volcano plot : the log10 of the adjusted pvalue is represented as a function of the log2 of ratio of the counts.\n",
    "png(paste('Bastien/',substr(args[1],1,nchar(args[1])-5),'_vs_WT_',substr(args[1],nchar(args[1])-3,nchar(args[1])), '_fc_volcano.png', sep=\"\"))\n",
    "plot(res$log2FoldChange,\n",
    "     -log10(res$padj),\n",
    "     xlim=c(min(res$log2FoldChange), max(res$log2FoldChange)),\n",
    "     ylim=c(0, 15),\n",
    "     xlab=\"log2 fold change\",\n",
    "     ylab=\"-log10 p-value\",\n",
    "     type=\"n\")\n",
    "sel <- which(res$log2FoldChange>=1)\n",
    "points(res[sel,\"log2FoldChange\"], -log10(res[sel,\"padj\"]),col=\"red\")\n",
    "sel <- which(res$log2FoldChange<1 & res$log2FoldChange>-1)\n",
    "points(res[sel,\"log2FoldChange\"], -log10(res[sel,\"padj\"]),col=\"grey\")\n",
    "sel <- which(res$log2FoldChange<=-1)\n",
    "points(res[sel,\"log2FoldChange\"], -log10(res[sel,\"padj\"]),col=\"green\")\n",
    "sel <- which(res$padj>0.05)\n",
    "points(res[sel,\"log2FoldChange\"], -log10(res[sel,\"padj\"]),col=\"black\")\n",
    "abline(v=1,lty=3)\n",
    "abline(v=-1,lty=3)\n",
    "dev.off()\n",
    "# Retrieve normalized counts for each condition for future merge\n",
    "dds <- estimateSizeFactors(dds)\n",
    "# Print sizeFactors for future BAM normalization\n",
    "sizeFactors(dds)\n",
    "nor_counts <- counts(dds, normalized=TRUE)\n",
    "nor_counts_df <- as.data.frame(nor_counts)\n",
    "library(data.table)\n",
    "nor_counts_df <- setDT(nor_counts_df, keep.rownames = TRUE)[]\n",
    "colnames(nor_counts_df)[1] <- \"ensembl_gene_id\"\n",
    "colnames(nor_counts_df)[2] <- \"WT_normalized_count\"\n",
    "colnames(nor_counts_df)[3] <- \"KO_count\"\n",
    "# Then tidy = TRUE for compatibility with biomaRt merge\n",
    "res <- results(dds, tidy = TRUE)\n",
    "colnames(res)[1] <- \"ensembl_gene_id\"\n",
    "# Check\n",
    "summary(res)\n",
    "head(res)\n",
    "# Add biotypes infos\n",
    "# Get ensembl infos\n",
    "library(\"biomaRt\")\n",
    "mart <- biomaRt::useMart(biomart = \"ENSEMBL_MART_ENSEMBL\",\n",
    "                        dataset = \"mmusculus_gene_ensembl\",\n",
    "                        host = 'ensembl.org')             \n",
    "mart_infos <- biomaRt::getBM(attributes = c(\"ensembl_gene_id\",\n",
    "                                            \"external_gene_name\",\n",
    "                                            \"gene_biotype\"),\n",
    "                                            mart = mart)\n",
    "# Merge our DE results with ensembl infos for based on same gene_id in column\n",
    "res_biotyped <- merge(x = res,\n",
    "                      y = mart_infos,\n",
    "                      by = \"ensembl_gene_id\",\n",
    "                      all.x = TRUE)\n",
    "# Re-order columns & rename some to make more sense\n",
    "res_biotyped <- res_biotyped[,c(1,8,9,2:7)]\n",
    "colnames(res_biotyped)[2] <- \"ensembl_gene_name\"\n",
    "colnames(res_biotyped)[3] <- \"ensembl_gene_biotype\"\n",
    "# Add normalized counts info\n",
    "res_biotyped_counts <- merge(x = res_biotyped,\n",
    "                             y = nor_counts_df,\n",
    "                             by = \"ensembl_gene_id\",\n",
    "                             all.x = TRUE)\n",
    "\n",
    "#Transform exponential to decimal\n",
    "options(scipen = 50)\n",
    "\n",
    "# Save the result in a TSV\n",
    "write.table(res_biotyped_counts,\n",
    "            paste('Bastien/',substr(args[1],1,nchar(args[1])-5),'_vs_WT_',substr(args[1],nchar(args[1])-3,nchar(args[1])), '_fc.tsv', sep=\"\"),\n",
    "            append=F, sep='\\t',\n",
    "            col.names=T,\n",
    "            row.names=F)"
   ]
  },
  {
   "cell_type": "markdown",
   "metadata": {},
   "source": [
    "##### With Kallisto :"
   ]
  },
  {
   "cell_type": "code",
   "execution_count": null,
   "metadata": {
    "code_folding": [],
    "collapsed": true
   },
   "outputs": [],
   "source": [
    "### CODE ###\n",
    "path='/run/user/1000/gvfs/smb-share:server=ubox.unilim.fr,share=biscem/BioInformatique/Responsables/Commun/PTCB';\n",
    "cd $path/Outputs/DESeq2;\n",
    "array=('3B4_R_EP' '3B4_S_EP' '3pRR_R_EP' '3pRR_S_EP' 'DEL_R_EP' 'DEL_S_EP' 'IRIS_R_EP' 'IRIS_S_EP' 'PAL_R_EP' 'PAL_S_EP' '3pRR_R_YD' '3pRR_S_YD' 'EU_R_YD' 'EU_S_YD' 'MAR_R_YD' 'MAR_S_YD')\n",
    "\n",
    "length=${#array[@]}\n",
    "for ((i=0;i<=$length-1;i++));\n",
    "do\n",
    "Rscript $path/Scripts/deseq2_mutant_vs_wt_no_replicates_ka.R ${array[$i]} &>> $path/Outputs/DESeq2/Verbose/deseq2_mutant_vs_wt_no_replicates_ka.verbose;\n",
    "done;"
   ]
  },
  {
   "cell_type": "markdown",
   "metadata": {},
   "source": [
    "Content of deseq2_mutant_vs_wt_no_replicates_ka.R :"
   ]
  },
  {
   "cell_type": "code",
   "execution_count": null,
   "metadata": {
    "code_folding": [
     0
    ],
    "collapsed": true
   },
   "outputs": [],
   "source": [
    "### CODE ###\n",
    "#!/usr/bin/env Rscript\n",
    "\n",
    "# Open kallisto results for the same mouse model & experiment\n",
    "\n",
    "library(\"tximport\")\n",
    "library(\"biomaRt\")\n",
    "library(\"GenomicFeatures\")\n",
    "\n",
    "args = commandArgs(trailingOnly=TRUE)\n",
    "\n",
    "#TEST#\n",
    "#args <- c('3B4_R_EP')\n",
    "\n",
    "WT = paste(\"../Kallisto/kallistoWT\",substr(args[1], nchar(args[1])-4,nchar(args[1])),\"/abundance_ensembl_gene_id.tsv\", sep=\"\")\n",
    "KO = paste(\"../Kallisto/kallisto\",args[1],\"/abundance_ensembl_gene_id.tsv\", sep=\"\")\n",
    "\n",
    "WT\n",
    "KO\n",
    "\n",
    "files <- file.path(c(WT, KO))\n",
    "names(files) <- paste0(c(paste0(\"WT\",substr(args[1], nchar(args[1])-4,nchar(args[1]))), args[1]))\n",
    "files\n",
    "\n",
    "mart <- biomaRt::useMart(biomart = \"ENSEMBL_MART_ENSEMBL\",\n",
    "                        dataset = \"mmusculus_gene_ensembl\",\n",
    "                        host = 'ensembl.org')             \n",
    "mart_infos <- biomaRt::getBM(attributes = c(\"ensembl_transcript_id\",\n",
    "                                            \"external_gene_name\",\n",
    "                                            \"gene_biotype\"),\n",
    "                                            mart = mart)\n",
    "\n",
    "mmusculusEnsembl <- makeTxDbFromBiomart(dataset=\"mmusculus_gene_ensembl\")\n",
    "\n",
    "k <- keys(mmusculusEnsembl, keytype = \"GENEID\")\n",
    "df <- select(mmusculusEnsembl, keys = k, keytype = \"GENEID\", columns = \"TXNAME\")\n",
    "tx2gene <- df[, 2:1]\n",
    "txi.kallisto.tsv <- tximport(files, type = \"kallisto\", tx2gene = tx2gene)\n",
    "df <- data.frame(txi.kallisto.tsv$counts, check.names = FALSE)\n",
    "\n",
    "# Create design\n",
    "condition <- c('WT', 'KO')\n",
    "type <- c('paired-end', 'paired-end')\n",
    "df_infos <- data.frame(condition, type)\n",
    "row.names(df_infos) <- c(paste(\"WT\",substr(args[1], nchar(args[1])-4,nchar(args[1])), sep=\"\"), args[1])\n",
    "\n",
    "all(rownames(df_infos) %in% colnames(df))\n",
    "\n",
    "# Start DESeq2 analysis\n",
    "library(\"DESeq2\")\n",
    "dds <- DESeqDataSetFromTximport(txi.kallisto.tsv, df_infos, ~condition) \n",
    "dds <- dds[ rowSums(counts(dds)) > 1, ]\n",
    "dds$condition <- factor(dds$condition, levels=c('WT','KO'))\n",
    "dds <- DESeq(dds)\n",
    "res <- results(dds)\n",
    "res <- lfcShrink(dds, contrast=c(\"condition\",\"WT\",\"KO\"), res=res)\n",
    "summary(res, alpha=0.05)\n",
    "# MA plot : the log2 of ratio of the counts between two conditions is represented as a function of the log2 of the mean of the counts\n",
    "png(paste('Bastien/',substr(args[1],1,nchar(args[1])-5),'_vs_WT_',substr(args[1],nchar(args[1])-3,nchar(args[1])), '_ka_MA.png', sep=\"\"))\n",
    "plotMA(res,\n",
    "       ylim=c(min(res$log2FoldChange),\n",
    "        max(res$log2FoldChange)))\n",
    "dev.off()\n",
    "\n",
    "# Volcano plot : the log10 of the adjusted pvalue is represented as a function of the log2 of ratio of the counts.\n",
    "png(paste('Bastien/',substr(args[1],1,nchar(args[1])-5),'_vs_WT_',substr(args[1],nchar(args[1])-3,nchar(args[1])), '_ka_volcano.png', sep=\"\"))\n",
    "plot(res$log2FoldChange,\n",
    "     -log10(res$padj),\n",
    "     xlim=c(min(res$log2FoldChange), max(res$log2FoldChange)),\n",
    "     ylim=c(0, 15),\n",
    "     xlab=\"log2 fold change\",\n",
    "     ylab=\"-log10 p-value\",\n",
    "     type=\"n\")\n",
    "sel <- which(res$log2FoldChange>=1)\n",
    "points(res[sel,\"log2FoldChange\"], -log10(res[sel,\"padj\"]),col=\"red\")\n",
    "sel <- which(res$log2FoldChange<1 & res$log2FoldChange>-1)\n",
    "points(res[sel,\"log2FoldChange\"], -log10(res[sel,\"padj\"]),col=\"grey\")\n",
    "sel <- which(res$log2FoldChange<=-1)\n",
    "points(res[sel,\"log2FoldChange\"], -log10(res[sel,\"padj\"]),col=\"green\")\n",
    "sel <- which(res$padj>0.05)\n",
    "points(res[sel,\"log2FoldChange\"], -log10(res[sel,\"padj\"]),col=\"black\")\n",
    "abline(v=1,lty=3)\n",
    "abline(v=-1,lty=3)\n",
    "dev.off()\n",
    "# Retrieve normalized counts for each condition for future merge\n",
    "dds <- estimateSizeFactors(dds)\n",
    "# Print sizeFactors for future BAM normalization\n",
    "sizeFactors(dds)\n",
    "nor_counts <- counts(dds, normalized=TRUE)\n",
    "nor_counts_df <- as.data.frame(nor_counts)\n",
    "library(data.table)\n",
    "nor_counts_df <- setDT(nor_counts_df, keep.rownames = TRUE)[]\n",
    "colnames(nor_counts_df)[1] <- \"ensembl_gene_id\"\n",
    "colnames(nor_counts_df)[2] <- \"WT_normalized_count\"\n",
    "colnames(nor_counts_df)[3] <- \"KO_count\"\n",
    "# Then tidy = TRUE for compatibility with biomaRt merge\n",
    "res <- results(dds, tidy = TRUE)\n",
    "colnames(res)[1] <- \"ensembl_gene_id\"\n",
    "# Check\n",
    "summary(res)\n",
    "head(res)\n",
    "# Add biotypes infos\n",
    "# Get ensembl infos\n",
    "library(\"biomaRt\")\n",
    "mart <- biomaRt::useMart(biomart = \"ENSEMBL_MART_ENSEMBL\",\n",
    "                        dataset = \"mmusculus_gene_ensembl\",\n",
    "                        host = 'ensembl.org')             \n",
    "mart_infos <- biomaRt::getBM(attributes = c(\"ensembl_gene_id\",\n",
    "                                            \"external_gene_name\",\n",
    "                                            \"gene_biotype\"),\n",
    "                                            mart = mart)\n",
    "# Merge our DE results with ensembl infos for based on same gene_id in column\n",
    "res_biotyped <- merge(x = res,\n",
    "                      y = mart_infos,\n",
    "                      by = \"ensembl_gene_id\",\n",
    "                      all.x = TRUE)\n",
    "# Re-order columns & rename some to make more sense\n",
    "res_biotyped <- res_biotyped[,c(1,8,9,2:7)]\n",
    "colnames(res_biotyped)[2] <- \"ensembl_gene_name\"\n",
    "colnames(res_biotyped)[3] <- \"ensembl_gene_biotype\"\n",
    "# Add normalized counts info\n",
    "res_biotyped_counts <- merge(x = res_biotyped,\n",
    "                             y = nor_counts_df,\n",
    "                             by = \"ensembl_gene_id\",\n",
    "                             all.x = TRUE)\n",
    "\n",
    "#Transform exponential to decimal\n",
    "options(scipen = 50)\n",
    "\n",
    "# Save the result in a TSV\n",
    "write.table(res_biotyped_counts,\n",
    "            paste('Bastien/',substr(args[1],1,nchar(args[1])-5),'_vs_WT_',substr(args[1],nchar(args[1])-3,nchar(args[1])), '_ka.tsv', sep=\"\"),\n",
    "            append=F, sep='\\t',\n",
    "            col.names=T,\n",
    "            row.names=F)"
   ]
  },
  {
   "cell_type": "markdown",
   "metadata": {},
   "source": [
    "#### 5.2.2) With replicates when available (i.e., 1 sample coming from Eric Pinaud \"EP\" and 1 from Yves Denizot \"YD\")"
   ]
  },
  {
   "cell_type": "markdown",
   "metadata": {},
   "source": [
    "##### 5.2.2.1) CRIBL"
   ]
  },
  {
   "cell_type": "markdown",
   "metadata": {},
   "source": [
    "##### With FeatureCounts :"
   ]
  },
  {
   "cell_type": "code",
   "execution_count": null,
   "metadata": {
    "code_folding": [],
    "collapsed": true
   },
   "outputs": [],
   "source": [
    "### CODE ###\n",
    "path='/run/user/1000/gvfs/smb-share:server=ubox.unilim.fr,share=biscem/BioInformatique/Responsables/Commun/PTCB';\n",
    "cd $path/Outputs/DESeq2;\n",
    "arrayR1=('3pRR_R_EP' '3pRR_S_EP')\n",
    "arrayR2=('3pRR_R_YD' '3pRR_S_YD')\n",
    "length=${#arrayR1[@]}\n",
    "for ((i=0;i<=$length-1;i++));\n",
    "do\n",
    "Rscript $path/Scripts/deseq2_mutant_vs_wt_with_replicates_fc.R ${arrayR1[$i]} ${arrayR2[$i]} &>> $path/Outputs/DESeq2/Verbose/deseq2_mutant_vs_wt_with_replicates_fc.verbose;\n",
    "done;"
   ]
  },
  {
   "cell_type": "markdown",
   "metadata": {},
   "source": [
    "Content of deseq2_mutant_vs_wt_with_replicates_fc.R :"
   ]
  },
  {
   "cell_type": "code",
   "execution_count": null,
   "metadata": {
    "code_folding": [
     0
    ],
    "collapsed": true
   },
   "outputs": [],
   "source": [
    "### CODE ###\n",
    "#!/usr/bin/env Rscript\n",
    "\n",
    "# Open featureCounts results for the same mouse model regardless of the experiment\n",
    "args = commandArgs(trailingOnly=TRUE)\n",
    "\n",
    "#TEST#\n",
    "#args <- c('3pRR_R_EP', '3pRR_R_YD')\n",
    "\n",
    "WT1 = read.table(paste(\"../FeatureCounts/WT\",substr(args[1], nchar(args[1])-4,nchar(args[1])),\"_ensembl_gene_id.tsv\", sep=\"\"))\n",
    "WT2 = read.table(paste(\"../FeatureCounts/WT\",substr(args[2], nchar(args[2])-4,nchar(args[2])),\"_ensembl_gene_id.tsv\", sep=\"\"))\n",
    "KO1 = read.table(paste(\"../FeatureCounts/\",args[1],\"_ensembl_gene_id.tsv\", sep=\"\"))\n",
    "KO2 = read.table(paste(\"../FeatureCounts/\",args[2],\"_ensembl_gene_id.tsv\", sep=\"\"))\n",
    "\n",
    "paste(\"../FeatureCounts/WT\",substr(args[1], nchar(args[1])-4,nchar(args[1])),\"_ensembl_gene_id.tsv\", sep=\"\")\n",
    "paste(\"../FeatureCounts/WT\",substr(args[2], nchar(args[2])-4,nchar(args[2])),\"_ensembl_gene_id.tsv\", sep=\"\")\n",
    "paste(\"../FeatureCounts/\",args[1],\"_ensembl_gene_id.tsv\", sep=\"\")\n",
    "paste(\"../FeatureCounts/\",args[2],\"_ensembl_gene_id.tsv\", sep=\"\")\n",
    "\n",
    "\n",
    "df = data.frame(row.names = row.names(WT1),\n",
    "             WT1 = WT1[1],\n",
    "             WT2 = WT2[1],\n",
    "             KO1 = KO1[1],\n",
    "             KO2 = KO2[1])\n",
    "\n",
    "head(df)\n",
    "colnames(df) <- c(paste(\"WT\",substr(args[1], nchar(args[1])-4,nchar(args[1])), sep=\"\"),paste(\"WT\",substr(args[2], nchar(args[2])-4,nchar(args[2])), sep=\"\"),args[1],args[2])\n",
    "head(df)\n",
    "# Create design\n",
    "condition <- c('WT', 'WT', 'KO', 'KO')\n",
    "type <- c('paired-end', 'paired-end', 'paired-end', 'paired-end')\n",
    "df_infos <- data.frame(condition, type)\n",
    "row.names(df_infos) <- c(paste(\"WT\",substr(args[1], nchar(args[1])-4,nchar(args[1])), sep=\"\"),paste(\"WT\",substr(args[2], nchar(args[2])-4,nchar(args[2])), sep=\"\"),args[1],args[2])\n",
    "all(rownames(df_infos) %in% colnames(df))\n",
    "\n",
    "# Start DESeq2 analysis\n",
    "library(\"DESeq2\")\n",
    "dds <- DESeqDataSetFromMatrix(countData = df,\n",
    "                              colData = df_infos,\n",
    "                              design = ~ condition)\n",
    "\n",
    "# Pre-filtering removing rows that have only 0 or 1 read\n",
    "dds <- dds[ rowSums(counts(dds)) > 1, ]\n",
    "# Check on many genes it discarded\n",
    "summary(dds)\n",
    "# Set factor to tell which one is the control group\n",
    "dds$condition <- factor(dds$condition, levels=c('WT','KO'))\n",
    "\n",
    "# Start actual DE analysis\n",
    "dds <- DESeq(dds)\n",
    "res <- results(dds)\n",
    "# We are using DESeq2_1.16.1, thus betaPrior is set to 'FALSE' and we need to obtain shrunken LFCs with function ‘lfcShrink’.\n",
    "# https://support.bioconductor.org/p/95695/\n",
    "res <- lfcShrink(dds,\n",
    "       contrast=c(\"condition\",\"WT\",\"KO\"),\n",
    "       res=res)\n",
    "summary(res, alpha=0.05)\n",
    "# MA plot : the log2 of ratio of the counts between two conditions is represented as a function of the log2 of the mean of the counts\n",
    "png(paste('Bastien/',substr(args[1],1,nchar(args[1])-5),'_vs_WT_',substr(args[1],nchar(args[1])-3,nchar(args[1])-2), 'dup_fc_MA.png', sep=\"\"))\n",
    "plotMA(res,\n",
    "       ylim=c(min(res$log2FoldChange),\n",
    "        max(res$log2FoldChange)))\n",
    "dev.off()\n",
    "\n",
    "# Volcano plot : the log10 of the adjusted pvalue is represented as a function of the log2 of ratio of the counts.\n",
    "png(paste('Bastien/',substr(args[1],1,nchar(args[1])-5),'_vs_WT_',substr(args[1],nchar(args[1])-3,nchar(args[1])-2), 'dup_fc_volcano.png', sep=\"\"))\n",
    "plot(res$log2FoldChange,\n",
    "     -log10(res$padj),\n",
    "     xlim=c(min(res$log2FoldChange), max(res$log2FoldChange)),\n",
    "     ylim=c(0, 15),\n",
    "     xlab=\"log2 fold change\",\n",
    "     ylab=\"-log10 p-value\",\n",
    "     type=\"n\")\n",
    "\n",
    "sel <- which(res$log2FoldChange>=1)\n",
    "points(res[sel,\"log2FoldChange\"], -log10(res[sel,\"padj\"]),col=\"red\")\n",
    "sel <- which(res$log2FoldChange<1 & res$log2FoldChange>-1)\n",
    "points(res[sel,\"log2FoldChange\"], -log10(res[sel,\"padj\"]),col=\"grey\")\n",
    "sel <- which(res$log2FoldChange<=-1)\n",
    "points(res[sel,\"log2FoldChange\"], -log10(res[sel,\"padj\"]),col=\"green\")\n",
    "sel <- which(res$padj>0.05)\n",
    "points(res[sel,\"log2FoldChange\"], -log10(res[sel,\"padj\"]),col=\"black\")\n",
    "abline(v=1,lty=3)\n",
    "abline(v=-1,lty=3)\n",
    "dev.off()\n",
    "# Retrieve normalized counts for each condition for future merge\n",
    "dds <- estimateSizeFactors(dds)\n",
    "# Print sizeFactors for future BAM normalization\n",
    "sizeFactors(dds)\n",
    "nor_counts <- counts(dds, normalized=TRUE)\n",
    "nor_counts_df <- as.data.frame(nor_counts)\n",
    "library(data.table)\n",
    "nor_counts_df <- setDT(nor_counts_df, keep.rownames = TRUE)[]\n",
    "\n",
    "colnames(nor_counts_df)[1] <- \"ensembl_gene_id\"\n",
    "colnames(nor_counts_df)[2] <- \"WT1_normalized_count\"\n",
    "colnames(nor_counts_df)[3] <- \"WT2_normalized_count\"\n",
    "colnames(nor_counts_df)[4] <- \"KO1_normalized_count\"\n",
    "colnames(nor_counts_df)[5] <- \"KO2_normalized_count\"\n",
    "# Then tidy = TRUE for compatibility with biomaRt merge\n",
    "res <- results(dds, tidy = TRUE)\n",
    "colnames(res)[1] <- \"ensembl_gene_id\"\n",
    "# Check\n",
    "summary(res)\n",
    "head(res)\n",
    "# Add biotypes infos\n",
    "# Get ensembl infos\n",
    "library(\"biomaRt\")\n",
    "mart <- biomaRt::useMart(biomart = \"ENSEMBL_MART_ENSEMBL\",\n",
    "                        dataset = \"mmusculus_gene_ensembl\",\n",
    "                        host = 'ensembl.org')             \n",
    "mart_infos <- biomaRt::getBM(attributes = c(\"ensembl_gene_id\",\n",
    "                                            \"external_gene_name\",\n",
    "                                            \"gene_biotype\"),\n",
    "                                            mart = mart)\n",
    "# Merge our DE results with ensembl infos for based on same gene_id in column\n",
    "res_biotyped <- merge(x = res,\n",
    "                      y = mart_infos,\n",
    "                      by = \"ensembl_gene_id\",\n",
    "                      all.x = TRUE)\n",
    "# Re-order columns & rename some to make more sense\n",
    "res_biotyped <- res_biotyped[,c(1,8,9,2:7)]\n",
    "colnames(res_biotyped)[2] <- \"ensembl_gene_name\"\n",
    "colnames(res_biotyped)[3] <- \"ensembl_gene_biotype\"\n",
    "# Add normalized counts info\n",
    "res_biotyped_counts <- merge(x = res_biotyped,\n",
    "                             y = nor_counts_df,\n",
    "                             by = \"ensembl_gene_id\",\n",
    "                             all.x = TRUE)\n",
    "\n",
    "#Transform exponential to decimal\n",
    "options(scipen = 50)\n",
    "\n",
    "# Save the result in a TSV\n",
    "write.table(res_biotyped_counts,\n",
    "            paste('Bastien/',substr(args[1],1,nchar(args[1])-5),'_vs_WT_',substr(args[1],nchar(args[1])-3,nchar(args[1])-2), 'dup_fc.tsv', sep=\"\"),\n",
    "            append=F, sep='\\t',\n",
    "            col.names=T,\n",
    "            row.names=F)"
   ]
  },
  {
   "cell_type": "markdown",
   "metadata": {},
   "source": [
    "##### With Kallisto :"
   ]
  },
  {
   "cell_type": "code",
   "execution_count": null,
   "metadata": {
    "code_folding": [],
    "collapsed": true
   },
   "outputs": [],
   "source": [
    "### CODE ###\n",
    "path='/run/user/1000/gvfs/smb-share:server=ubox.unilim.fr,share=biscem/BioInformatique/Responsables/Commun/PTCB';\n",
    "cd $path/Outputs/DESeq2;\n",
    "arrayR1=('3pRR_R_EP' '3pRR_S_EP')\n",
    "arrayR2=('3pRR_R_YD' '3pRR_S_YD')\n",
    "length=${#arrayR1[@]}\n",
    "for ((i=0;i<=$length-1;i++));\n",
    "do\n",
    "Rscript $path/Scripts/deseq2_mutant_vs_wt_with_replicates_ka.R ${arrayR1[$i]} ${arrayR2[$i]} &>> $path/Outputs/DESeq2/Verbose/deseq2_mutant_vs_wt_with_replicates_ka.verbose;\n",
    "done;"
   ]
  },
  {
   "cell_type": "markdown",
   "metadata": {},
   "source": [
    "Content of deseq2_mutant_vs_wt_with_replicates_ka.R :"
   ]
  },
  {
   "cell_type": "code",
   "execution_count": null,
   "metadata": {
    "code_folding": [
     0
    ],
    "collapsed": true
   },
   "outputs": [],
   "source": [
    "### CODE ###\n",
    "#!/usr/bin/env Rscript\n",
    "\n",
    "# Open kallisto results for the same mouse model & experiment\n",
    "\n",
    "library(\"tximport\")\n",
    "library(\"biomaRt\")\n",
    "library(\"GenomicFeatures\")\n",
    "\n",
    "args = commandArgs(trailingOnly=TRUE)\n",
    "\n",
    "#TEST#\n",
    "#args <- c('3pRR_R_EP', '3pRR_R_YD')\n",
    "\n",
    "WT1 = paste(\"../Kallisto/kallistoWT\",substr(args[1], nchar(args[1])-4,nchar(args[1])),\"/abundance_ensembl_gene_id.tsv\", sep=\"\")\n",
    "WT2 = paste(\"../Kallisto/kallistoWT\",substr(args[2], nchar(args[2])-4,nchar(args[2])),\"/abundance_ensembl_gene_id.tsv\", sep=\"\")\n",
    "KO1 = paste(\"../Kallisto/kallisto\",args[1],\"/abundance_ensembl_gene_id.tsv\", sep=\"\")\n",
    "KO2 = paste(\"../Kallisto/kallisto\",args[2],\"/abundance_ensembl_gene_id.tsv\", sep=\"\")\n",
    "\n",
    "WT1\n",
    "WT2\n",
    "KO1\n",
    "KO2\n",
    "\n",
    "files <- file.path(c(WT1, WT2, KO1, KO2))\n",
    "names(files) <- paste0(c(paste0(\"WT\",substr(args[1], nchar(args[1])-4,nchar(args[1]))), paste0(\"WT\",substr(args[2], nchar(args[2])-4,nchar(args[2]))), args[1], args[2]))\n",
    "files\n",
    "\n",
    "mart <- biomaRt::useMart(biomart = \"ENSEMBL_MART_ENSEMBL\",\n",
    "                        dataset = \"mmusculus_gene_ensembl\",\n",
    "                        host = 'ensembl.org')             \n",
    "mart_infos <- biomaRt::getBM(attributes = c(\"ensembl_transcript_id\",\n",
    "                                            \"external_gene_name\",\n",
    "                                            \"gene_biotype\"),\n",
    "                                            mart = mart)\n",
    "\n",
    "mmusculusEnsembl <- makeTxDbFromBiomart(dataset=\"mmusculus_gene_ensembl\")\n",
    "\n",
    "k <- keys(mmusculusEnsembl, keytype = \"GENEID\")\n",
    "df <- select(mmusculusEnsembl, keys = k, keytype = \"GENEID\", columns = \"TXNAME\")\n",
    "tx2gene <- df[, 2:1]\n",
    "txi.kallisto.tsv <- tximport(files, type = \"kallisto\", tx2gene = tx2gene)\n",
    "df <- data.frame(txi.kallisto.tsv$counts, check.names = FALSE)\n",
    "\n",
    "# Create design\n",
    "condition <- c('WT', 'WT', 'KO', 'KO')\n",
    "type <- c('paired-end', 'paired-end', 'paired-end', 'paired-end')\n",
    "df_infos <- data.frame(condition, type)\n",
    "row.names(df_infos) <- c(paste(\"WT\",substr(args[1], nchar(args[1])-4,nchar(args[1])), sep=\"\"),paste(\"WT\",substr(args[2], nchar(args[2])-4,nchar(args[2])), sep=\"\"),args[1],args[2])\n",
    "all(rownames(df_infos) %in% colnames(df))\n",
    "\n",
    "# Start DESeq2 analysis\n",
    "library(\"DESeq2\")\n",
    "dds <- DESeqDataSetFromTximport(txi.kallisto.tsv, df_infos, ~condition) \n",
    "dds <- dds[ rowSums(counts(dds)) > 1, ]\n",
    "dds$condition <- factor(dds$condition, levels=c('WT','KO'))\n",
    "dds <- DESeq(dds)\n",
    "res <- results(dds)\n",
    "res <- lfcShrink(dds, contrast=c(\"condition\",\"WT\",\"KO\"), res=res)\n",
    "\n",
    "# MA plot : the log2 of ratio of the counts between two conditions is represented as a function of the log2 of the mean of the counts\n",
    "png(paste('Bastien/',substr(args[1],1,nchar(args[1])-5),'_vs_WT_',substr(args[1],nchar(args[1])-3,nchar(args[1])-2), 'dup_ka_MA.png', sep=\"\"))\n",
    "plotMA(res,\n",
    "       ylim=c(min(res$log2FoldChange),\n",
    "        max(res$log2FoldChange)))\n",
    "dev.off()\n",
    "\n",
    "# Volcano plot : the log10 of the adjusted pvalue is represented as a function of the log2 of ratio of the counts.\n",
    "png(paste('Bastien/',substr(args[1],1,nchar(args[1])-5),'_vs_WT_',substr(args[1],nchar(args[1])-3,nchar(args[1])-2), 'dup_ka_volcano.png', sep=\"\"))\n",
    "plot(res$log2FoldChange,\n",
    "     -log10(res$padj),\n",
    "     xlim=c(min(res$log2FoldChange), max(res$log2FoldChange)),\n",
    "     ylim=c(0, 15),\n",
    "     xlab=\"log2 fold change\",\n",
    "     ylab=\"-log10 p-value\",\n",
    "     type=\"n\")\n",
    "\n",
    "sel <- which(res$log2FoldChange>=1)\n",
    "points(res[sel,\"log2FoldChange\"], -log10(res[sel,\"padj\"]),col=\"red\")\n",
    "sel <- which(res$log2FoldChange<1 & res$log2FoldChange>-1)\n",
    "points(res[sel,\"log2FoldChange\"], -log10(res[sel,\"padj\"]),col=\"grey\")\n",
    "sel <- which(res$log2FoldChange<=-1)\n",
    "points(res[sel,\"log2FoldChange\"], -log10(res[sel,\"padj\"]),col=\"green\")\n",
    "sel <- which(res$padj>0.05)\n",
    "points(res[sel,\"log2FoldChange\"], -log10(res[sel,\"padj\"]),col=\"black\")\n",
    "abline(v=1,lty=3)\n",
    "abline(v=-1,lty=3)\n",
    "dev.off()\n",
    "# Retrieve normalized counts for each condition for future merge\n",
    "dds <- estimateSizeFactors(dds)\n",
    "# Print sizeFactors for future BAM normalization\n",
    "sizeFactors(dds)\n",
    "nor_counts <- counts(dds, normalized=TRUE)\n",
    "nor_counts_df <- as.data.frame(nor_counts)\n",
    "library(data.table)\n",
    "nor_counts_df <- setDT(nor_counts_df, keep.rownames = TRUE)[]\n",
    "\n",
    "colnames(nor_counts_df)[1] <- \"ensembl_gene_id\"\n",
    "colnames(nor_counts_df)[2] <- \"WT1_normalized_count\"\n",
    "colnames(nor_counts_df)[3] <- \"WT2_normalized_count\"\n",
    "colnames(nor_counts_df)[4] <- \"KO1_normalized_count\"\n",
    "colnames(nor_counts_df)[5] <- \"KO2_normalized_count\"\n",
    "# Then tidy = TRUE for compatibility with biomaRt merge\n",
    "res <- results(dds, tidy = TRUE)\n",
    "colnames(res)[1] <- \"ensembl_gene_id\"\n",
    "# Check\n",
    "summary(res)\n",
    "head(res)\n",
    "# Add biotypes infos\n",
    "# Get ensembl infos\n",
    "library(\"biomaRt\")\n",
    "mart <- biomaRt::useMart(biomart = \"ENSEMBL_MART_ENSEMBL\",\n",
    "                        dataset = \"mmusculus_gene_ensembl\",\n",
    "                        host = 'ensembl.org')             \n",
    "mart_infos <- biomaRt::getBM(attributes = c(\"ensembl_gene_id\",\n",
    "                                            \"external_gene_name\",\n",
    "                                            \"gene_biotype\"),\n",
    "                                            mart = mart)\n",
    "# Merge our DE results with ensembl infos for based on same gene_id in column\n",
    "res_biotyped <- merge(x = res,\n",
    "                      y = mart_infos,\n",
    "                      by = \"ensembl_gene_id\",\n",
    "                      all.x = TRUE)\n",
    "# Re-order columns & rename some to make more sense\n",
    "res_biotyped <- res_biotyped[,c(1,8,9,2:7)]\n",
    "colnames(res_biotyped)[2] <- \"ensembl_gene_name\"\n",
    "colnames(res_biotyped)[3] <- \"ensembl_gene_biotype\"\n",
    "# Add normalized counts info\n",
    "res_biotyped_counts <- merge(x = res_biotyped,\n",
    "                             y = nor_counts_df,\n",
    "                             by = \"ensembl_gene_id\",\n",
    "                             all.x = TRUE)\n",
    "\n",
    "#Transform exponential to decimal\n",
    "options(scipen = 50)\n",
    "\n",
    "# Save the result in a TSV\n",
    "write.table(res_biotyped_counts,\n",
    "            paste('Bastien/',substr(args[1],1,nchar(args[1])-5),'_vs_WT_',substr(args[1],nchar(args[1])-3,nchar(args[1])-2), 'dup_ka.tsv', sep=\"\"),\n",
    "            append=F, sep='\\t',\n",
    "            col.names=T,\n",
    "            row.names=F)"
   ]
  },
  {
   "cell_type": "markdown",
   "metadata": {},
   "source": [
    "##### 5.2.2.2) Pefanis"
   ]
  },
  {
   "cell_type": "markdown",
   "metadata": {},
   "source": [
    "##### With FeatureCounts :"
   ]
  },
  {
   "cell_type": "code",
   "execution_count": null,
   "metadata": {
    "code_folding": [],
    "collapsed": true
   },
   "outputs": [],
   "source": [
    "### CODE ###\n",
    "path='/run/user/1000/gvfs/smb-share:server=ubox.unilim.fr,share=biscem/BioInformatique/Responsables/Commun/PTCB';\n",
    "cd $path/Outputs/DESeq2;\n",
    "Rscript $path/Scripts/deseq2_mutant_vs_wt_pefanis_with_replicates_fc.R SRR1302208 SRR1302283 SRR1302414 SRR1302785 SRR1302786 SRR1302787 SRR1302788 SRR1302789 &>> $path/Outputs/DESeq2/Verbose/deseq2_mutant_vs_wt_pefanis_with_replicates_fc.verbose;"
   ]
  },
  {
   "cell_type": "markdown",
   "metadata": {},
   "source": [
    "Content of deseq2_mutant_vs_wt_pefanis_with_replicates_fc.R :"
   ]
  },
  {
   "cell_type": "code",
   "execution_count": null,
   "metadata": {
    "code_folding": [
     0
    ],
    "collapsed": true
   },
   "outputs": [],
   "source": [
    "### CODE ###\n",
    "#!/usr/bin/env Rscript\n",
    "\n",
    "# Open featureCounts results for the same mouse model regardless of the experiment\n",
    "\n",
    "args = commandArgs(trailingOnly=TRUE)\n",
    "\n",
    "#TEST#\n",
    "#args <- c('SRR1302208', 'SRR1302283', 'SRR1302414', 'SRR1302785', 'SRR1302786', 'SRR1302787', 'SRR1302788', 'SRR1302789')\n",
    "\n",
    "WT1 = read.table(paste(\"../FeatureCounts/\",args[1],\"_ensembl_gene_id.tsv\", sep=\"\"))\n",
    "KO1 = read.table(paste(\"../FeatureCounts/\",args[2],\"_ensembl_gene_id.tsv\", sep=\"\"))\n",
    "WT2 = read.table(paste(\"../FeatureCounts/\",args[3],\"_ensembl_gene_id.tsv\", sep=\"\"))\n",
    "KO2 = read.table(paste(\"../FeatureCounts/\",args[4],\"_ensembl_gene_id.tsv\", sep=\"\"))\n",
    "WT3 = read.table(paste(\"../FeatureCounts/\",args[5],\"_ensembl_gene_id.tsv\", sep=\"\"))\n",
    "KO3 = read.table(paste(\"../FeatureCounts/\",args[6],\"_ensembl_gene_id.tsv\", sep=\"\"))\n",
    "WT4 = read.table(paste(\"../FeatureCounts/\",args[7],\"_ensembl_gene_id.tsv\", sep=\"\"))\n",
    "KO4 = read.table(paste(\"../FeatureCounts/\",args[8],\"_ensembl_gene_id.tsv\", sep=\"\"))\n",
    "\n",
    "paste(\"../FeatureCounts/\",args[1],\"_ensembl_gene_id.tsv\", sep=\"\")\n",
    "paste(\"../FeatureCounts/\",args[2],\"_ensembl_gene_id.tsv\", sep=\"\")\n",
    "paste(\"../FeatureCounts/\",args[3],\"_ensembl_gene_id.tsv\", sep=\"\")\n",
    "paste(\"../FeatureCounts/\",args[4],\"_ensembl_gene_id.tsv\", sep=\"\")\n",
    "paste(\"../FeatureCounts/\",args[5],\"_ensembl_gene_id.tsv\", sep=\"\")\n",
    "paste(\"../FeatureCounts/\",args[6],\"_ensembl_gene_id.tsv\", sep=\"\")\n",
    "paste(\"../FeatureCounts/\",args[7],\"_ensembl_gene_id.tsv\", sep=\"\")\n",
    "paste(\"../FeatureCounts/\",args[8],\"_ensembl_gene_id.tsv\", sep=\"\")\n",
    "\n",
    "df = data.frame(row.names = row.names(WT1),\n",
    "             WT1 = WT1[1],\n",
    "             KO1 = KO1[1],\n",
    "             WT2 = WT2[1],\n",
    "             KO2 = KO2[1],\n",
    "             WT3 = WT3[1],\n",
    "             KO3 = KO3[1],\n",
    "             WT4 = WT4[1],\n",
    "             KO4 = KO4[1])\n",
    "\n",
    "head(df)\n",
    "colnames(df) <- c(args[1],args[2],args[3],args[4],args[5],args[6],args[7],args[8])\n",
    "head(df)\n",
    "# Create design\n",
    "condition <- c('WT', 'KO', 'WT', 'KO', 'WT', 'KO', 'WT', 'KO')\n",
    "type <- c('paired-end', 'paired-end', 'single-end', 'single-end', 'paired-end', 'paired-end', 'paired-end', 'paired-end')\n",
    "df_infos <- data.frame(condition, type)\n",
    "row.names(df_infos) <- c(args[1],args[2],args[3],args[4],args[5],args[6],args[7],args[8])\n",
    "all(rownames(df_infos) %in% colnames(df))\n",
    "\n",
    "# Start DESeq2 analysis\n",
    "library(\"DESeq2\")\n",
    "dds <- DESeqDataSetFromMatrix(countData = df,\n",
    "                              colData = df_infos,\n",
    "                              design = ~ condition)\n",
    "\n",
    "# Sanity check\n",
    "dds\n",
    "\n",
    "# Pre-filtering removing rows that have only 0 or 1 read\n",
    "dds <- dds[ rowSums(counts(dds)) > 1, ]\n",
    "# Check on many genes it discarded\n",
    "summary(dds)\n",
    "# Set factor to tell which one is the control group\n",
    "dds$condition <- factor(dds$condition, levels=c('WT','KO'))\n",
    "\n",
    "# Start actual DE analysis\n",
    "dds <- DESeq(dds)\n",
    "res <- results(dds)\n",
    "# We are using DESeq2_1.16.1, thus betaPrior is set to 'FALSE' and we need to obtain shrunken LFCs with function ‘lfcShrink’.\n",
    "# https://support.bioconductor.org/p/95695/\n",
    "res <- lfcShrink(dds,\n",
    "       contrast=c(\"condition\",\"WT\",\"KO\"),\n",
    "       res=res)\n",
    "summary(res, alpha=0.05)\n",
    "# MA plot : the log2 of ratio of the counts between two conditions is represented as a function of the log2 of the mean of the counts\n",
    "png('Bastien/KO_vs_WT_pefanis_dup_fc_MA.png')\n",
    "plotMA(res,\n",
    "       ylim=c(min(res$log2FoldChange),\n",
    "        max(res$log2FoldChange)))\n",
    "dev.off()\n",
    "\n",
    "# Volcano plot : the log10 of the adjusted pvalue is represented as a function of the log2 of ratio of the counts.\n",
    "png('Bastien/KO_vs_WT_pefanis_dup_fc_volcano.png')\n",
    "plot(res$log2FoldChange,\n",
    "     -log10(res$padj),\n",
    "     xlim=c(min(res$log2FoldChange), max(res$log2FoldChange)),\n",
    "     ylim=c(0, 15),\n",
    "     xlab=\"log2 fold change\",\n",
    "     ylab=\"-log10 p-value\",\n",
    "     type=\"n\")\n",
    "\n",
    "sel <- which(res$log2FoldChange>=1)\n",
    "points(res[sel,\"log2FoldChange\"], -log10(res[sel,\"padj\"]),col=\"red\")\n",
    "sel <- which(res$log2FoldChange<1 & res$log2FoldChange>-1)\n",
    "points(res[sel,\"log2FoldChange\"], -log10(res[sel,\"padj\"]),col=\"grey\")\n",
    "sel <- which(res$log2FoldChange<=-1)\n",
    "points(res[sel,\"log2FoldChange\"], -log10(res[sel,\"padj\"]),col=\"green\")\n",
    "sel <- which(res$padj>0.05)\n",
    "points(res[sel,\"log2FoldChange\"], -log10(res[sel,\"padj\"]),col=\"black\")\n",
    "abline(v=1,lty=3)\n",
    "abline(v=-1,lty=3)\n",
    "dev.off()\n",
    "# Retrieve normalized counts for each condition for future merge\n",
    "dds <- estimateSizeFactors(dds)\n",
    "# Print sizeFactors for future BAM normalization\n",
    "sizeFactors(dds)\n",
    "nor_counts <- counts(dds, normalized=TRUE)\n",
    "nor_counts_df <- as.data.frame(nor_counts)\n",
    "library(data.table)\n",
    "nor_counts_df <- setDT(nor_counts_df, keep.rownames = TRUE)[]\n",
    "\n",
    "colnames(nor_counts_df)[1] <- \"ensembl_gene_id\"\n",
    "colnames(nor_counts_df)[2] <- \"WT1_normalized_count\"\n",
    "colnames(nor_counts_df)[3] <- \"KO1_normalized_count\"\n",
    "colnames(nor_counts_df)[4] <- \"WT2_normalized_count\"\n",
    "colnames(nor_counts_df)[5] <- \"KO2_normalized_count\"\n",
    "colnames(nor_counts_df)[6] <- \"WT3_normalized_count\"\n",
    "colnames(nor_counts_df)[7] <- \"KO3_normalized_count\"\n",
    "colnames(nor_counts_df)[8] <- \"WT4_normalized_count\"\n",
    "colnames(nor_counts_df)[9] <- \"KO4_normalized_count\"\n",
    "# Then tidy = TRUE for compatibility with biomaRt merge\n",
    "res <- results(dds, tidy = TRUE)\n",
    "colnames(res)[1] <- \"ensembl_gene_id\"\n",
    "# Check\n",
    "summary(res)\n",
    "head(res)\n",
    "# Add biotypes infos\n",
    "# Get ensembl infos\n",
    "library(\"biomaRt\")\n",
    "mart <- biomaRt::useMart(biomart = \"ENSEMBL_MART_ENSEMBL\",\n",
    "                        dataset = \"mmusculus_gene_ensembl\",\n",
    "                        host = 'ensembl.org')             \n",
    "mart_infos <- biomaRt::getBM(attributes = c(\"ensembl_gene_id\",\n",
    "                                            \"external_gene_name\",\n",
    "                                            \"gene_biotype\"),\n",
    "                                            mart = mart)\n",
    "# Merge our DE results with ensembl infos for based on same gene_id in column\n",
    "res_biotyped <- merge(x = res,\n",
    "                      y = mart_infos,\n",
    "                      by = \"ensembl_gene_id\",\n",
    "                      all.x = TRUE)\n",
    "# Re-order columns & rename some to make more sense\n",
    "res_biotyped <- res_biotyped[,c(1,8,9,2:7)]\n",
    "colnames(res_biotyped)[2] <- \"ensembl_gene_name\"\n",
    "colnames(res_biotyped)[3] <- \"ensembl_gene_biotype\"\n",
    "# Add normalized counts info\n",
    "res_biotyped_counts <- merge(x = res_biotyped,\n",
    "                             y = nor_counts_df,\n",
    "                             by = \"ensembl_gene_id\",\n",
    "                             all.x = TRUE)\n",
    "\n",
    "#Transform exponential to decimal\n",
    "options(scipen = 50)\n",
    "\n",
    "# Save the result in a TSV\n",
    "write.table(res_biotyped_counts,\n",
    "            'Bastien/KO_vs_WT_pefanis_dup_fc.tsv',\n",
    "            append=F, sep='\\t',\n",
    "            col.names=T,\n",
    "            row.names=F)"
   ]
  },
  {
   "cell_type": "markdown",
   "metadata": {},
   "source": [
    "##### With Kallisto :"
   ]
  },
  {
   "cell_type": "code",
   "execution_count": null,
   "metadata": {
    "code_folding": [],
    "collapsed": true
   },
   "outputs": [],
   "source": [
    "### CODE ###\n",
    "path='/run/user/1000/gvfs/smb-share:server=ubox.unilim.fr,share=biscem/BioInformatique/Responsables/Commun/PTCB';\n",
    "cd $path/Outputs/DESeq2;\n",
    "Rscript $path/Scripts/deseq2_mutant_vs_wt_pefanis_with_replicates_ka.R SRR1302208 SRR1302283 SRR1302414 SRR1302785 SRR1302786 SRR1302787 SRR1302788 SRR1302789 &>> $path/Outputs/DESeq2/Verbose/deseq2_mutant_vs_wt_pefanis_with_replicates_ka.verbose;"
   ]
  },
  {
   "cell_type": "markdown",
   "metadata": {},
   "source": [
    "Content of deseq2_mutant_vs_wt_pefanis_with_replicates_ka.R :"
   ]
  },
  {
   "cell_type": "code",
   "execution_count": null,
   "metadata": {
    "code_folding": [
     0
    ],
    "collapsed": true
   },
   "outputs": [],
   "source": [
    "### CODE ###\n",
    "#!/usr/bin/env Rscript\n",
    "\n",
    "library(\"tximport\")\n",
    "library(\"biomaRt\")\n",
    "library(\"GenomicFeatures\")\n",
    "\n",
    "args = commandArgs(trailingOnly=TRUE)\n",
    "\n",
    "#TEST#\n",
    "#args <- c('SRR1302208', 'SRR1302283', 'SRR1302414', 'SRR1302785', 'SRR1302786', 'SRR1302787', 'SRR1302788', 'SRR1302789')\n",
    "\n",
    "WT1 = paste(\"../Kallisto/kallisto\",args[1],\"/abundance_ensembl_gene_id.tsv\", sep=\"\")\n",
    "KO1 = paste(\"../Kallisto/kallisto\",args[2],\"/abundance_ensembl_gene_id.tsv\", sep=\"\")\n",
    "WT2 = paste(\"../Kallisto/kallisto\",args[3],\"/abundance_ensembl_gene_id.tsv\", sep=\"\")\n",
    "KO2 = paste(\"../Kallisto/kallisto\",args[4],\"/abundance_ensembl_gene_id.tsv\", sep=\"\")\n",
    "WT3 = paste(\"../Kallisto/kallisto\",args[5],\"/abundance_ensembl_gene_id.tsv\", sep=\"\")\n",
    "KO3 = paste(\"../Kallisto/kallisto\",args[6],\"/abundance_ensembl_gene_id.tsv\", sep=\"\")\n",
    "WT4 = paste(\"../Kallisto/kallisto\",args[7],\"/abundance_ensembl_gene_id.tsv\", sep=\"\")\n",
    "KO4 = paste(\"../Kallisto/kallisto\",args[8],\"/abundance_ensembl_gene_id.tsv\", sep=\"\")\n",
    "\n",
    "WT1\n",
    "KO1\n",
    "WT2\n",
    "KO2\n",
    "WT3\n",
    "KO3\n",
    "WT4\n",
    "KO4\n",
    "\n",
    "files <- file.path(c(WT1, KO1, WT2, KO2, WT3, KO3, WT4, KO4))\n",
    "names(files) <- paste0(c(args[1], args[2], args[3], args[4], args[5], args[6], args[7], args[8]))\n",
    "files\n",
    "\n",
    "mart <- biomaRt::useMart(biomart = \"ENSEMBL_MART_ENSEMBL\",\n",
    "                        dataset = \"mmusculus_gene_ensembl\",\n",
    "                        host = 'ensembl.org')             \n",
    "mart_infos <- biomaRt::getBM(attributes = c(\"ensembl_transcript_id\",\n",
    "                                            \"external_gene_name\",\n",
    "                                            \"gene_biotype\"),\n",
    "                                            mart = mart)\n",
    "\n",
    "mmusculusEnsembl <- makeTxDbFromBiomart(dataset=\"mmusculus_gene_ensembl\")\n",
    "\n",
    "k <- keys(mmusculusEnsembl, keytype = \"GENEID\")\n",
    "df <- select(mmusculusEnsembl, keys = k, keytype = \"GENEID\", columns = \"TXNAME\")\n",
    "tx2gene <- df[, 2:1]\n",
    "txi.kallisto.tsv <- tximport(files, type = \"kallisto\", tx2gene = tx2gene)\n",
    "df <- data.frame(txi.kallisto.tsv$counts, check.names = FALSE)\n",
    "\n",
    "condition <- c('WT', 'KO', 'WT', 'KO', 'WT', 'KO', 'WT', 'KO')\n",
    "type <- c('paired-end', 'paired-end', 'single-end', 'single-end', 'paired-end', 'paired-end', 'paired-end', 'paired-end')\n",
    "df_infos <- data.frame(condition, type)\n",
    "row.names(df_infos) <- c(args[1],args[2],args[3],args[4],args[5],args[6],args[7],args[8])\n",
    "all(rownames(df_infos) %in% colnames(df))\n",
    "# Start DESeq2 analysis\n",
    "library(\"DESeq2\")\n",
    "dds <- DESeqDataSetFromTximport(txi.kallisto.tsv, df_infos, ~condition) \n",
    "dds <- dds[ rowSums(counts(dds)) > 1, ]\n",
    "dds$condition <- factor(dds$condition, levels=c('WT','KO'))\n",
    "dds <- DESeq(dds)\n",
    "res <- results(dds)\n",
    "res <- lfcShrink(dds, contrast=c(\"condition\",\"WT\",\"KO\"), res=res)\n",
    "\n",
    "# MA plot : the log2 of ratio of the counts between two conditions is represented as a function of the log2 of the mean of the counts\n",
    "png('Bastien/KO_vs_WT_pefanis_dup_ka_MA.png')\n",
    "plotMA(res,\n",
    "       ylim=c(min(res$log2FoldChange),\n",
    "        max(res$log2FoldChange)))\n",
    "dev.off()\n",
    "# Volcano plot : the log10 of the adjusted pvalue is represented as a function of the log2 of ratio of the counts.\n",
    "png('Bastien/KO_vs_WT_pefanis_dup_ka_volcano.png')\n",
    "plot(res$log2FoldChange,\n",
    "     -log10(res$padj),\n",
    "     xlim=c(min(res$log2FoldChange), max(res$log2FoldChange)),\n",
    "     ylim=c(0, 15),\n",
    "     xlab=\"log2 fold change\",\n",
    "     ylab=\"-log10 p-value\",\n",
    "     type=\"n\")\n",
    "\n",
    "sel <- which(res$log2FoldChange>=1)\n",
    "points(res[sel,\"log2FoldChange\"], -log10(res[sel,\"padj\"]),col=\"red\")\n",
    "sel <- which(res$log2FoldChange<1 & res$log2FoldChange>-1)\n",
    "points(res[sel,\"log2FoldChange\"], -log10(res[sel,\"padj\"]),col=\"grey\")\n",
    "sel <- which(res$log2FoldChange<=-1)\n",
    "points(res[sel,\"log2FoldChange\"], -log10(res[sel,\"padj\"]),col=\"green\")\n",
    "sel <- which(res$padj>0.05)\n",
    "points(res[sel,\"log2FoldChange\"], -log10(res[sel,\"padj\"]),col=\"black\")\n",
    "abline(v=1,lty=3)\n",
    "abline(v=-1,lty=3)\n",
    "dev.off()\n",
    "# Retrieve normalized counts for each condition for future merge\n",
    "dds <- estimateSizeFactors(dds)\n",
    "# Print sizeFactors for future BAM normalization\n",
    "sizeFactors(dds)\n",
    "nor_counts <- counts(dds, normalized=TRUE)\n",
    "nor_counts_df <- as.data.frame(nor_counts)\n",
    "library(data.table)\n",
    "nor_counts_df <- setDT(nor_counts_df, keep.rownames = TRUE)[]\n",
    "\n",
    "colnames(nor_counts_df)[1] <- \"ensembl_gene_id\"\n",
    "colnames(nor_counts_df)[2] <- \"WT1_normalized_count\"\n",
    "colnames(nor_counts_df)[3] <- \"KO1_normalized_count\"\n",
    "colnames(nor_counts_df)[4] <- \"WT2_normalized_count\"\n",
    "colnames(nor_counts_df)[5] <- \"KO2_normalized_count\"\n",
    "colnames(nor_counts_df)[6] <- \"WT3_normalized_count\"\n",
    "colnames(nor_counts_df)[7] <- \"KO3_normalized_count\"\n",
    "colnames(nor_counts_df)[8] <- \"WT4_normalized_count\"\n",
    "colnames(nor_counts_df)[9] <- \"KO4_normalized_count\"\n",
    "# Then tidy = TRUE for compatibility with biomaRt merge\n",
    "res <- results(dds, tidy = TRUE)\n",
    "colnames(res)[1] <- \"ensembl_gene_id\"\n",
    "# Check\n",
    "summary(res)\n",
    "head(res)\n",
    "# Add biotypes infos\n",
    "# Get ensembl infos\n",
    "library(\"biomaRt\")\n",
    "mart <- biomaRt::useMart(biomart = \"ENSEMBL_MART_ENSEMBL\",\n",
    "                        dataset = \"mmusculus_gene_ensembl\",\n",
    "                        host = 'ensembl.org')             \n",
    "mart_infos <- biomaRt::getBM(attributes = c(\"ensembl_gene_id\",\n",
    "                                            \"external_gene_name\",\n",
    "                                            \"gene_biotype\"),\n",
    "                                            mart = mart)\n",
    "# Merge our DE results with ensembl infos for based on same gene_id in column\n",
    "res_biotyped <- merge(x = res,\n",
    "                      y = mart_infos,\n",
    "                      by = \"ensembl_gene_id\",\n",
    "                      all.x = TRUE)\n",
    "# Re-order columns & rename some to make more sense\n",
    "res_biotyped <- res_biotyped[,c(1,8,9,2:7)]\n",
    "colnames(res_biotyped)[2] <- \"ensembl_gene_name\"\n",
    "colnames(res_biotyped)[3] <- \"ensembl_gene_biotype\"\n",
    "# Add normalized counts info\n",
    "res_biotyped_counts <- merge(x = res_biotyped,\n",
    "                             y = nor_counts_df,\n",
    "                             by = \"ensembl_gene_id\",\n",
    "                             all.x = TRUE)\n",
    "\n",
    "#Transform exponential to decimal\n",
    "options(scipen = 50)\n",
    "\n",
    "# Save the result in a TSV\n",
    "write.table(res_biotyped_counts,\n",
    "            'Bastien/KO_vs_WT_pefanis_dup_ka.tsv',\n",
    "            append=F, sep='\\t',\n",
    "            col.names=T,\n",
    "            row.names=F)"
   ]
  },
  {
   "cell_type": "markdown",
   "metadata": {},
   "source": [
    "### ???USEFUL??? Mutant vs Mutant"
   ]
  },
  {
   "cell_type": "markdown",
   "metadata": {},
   "source": [
    "### 5.3) Output formatting"
   ]
  },
  {
   "cell_type": "markdown",
   "metadata": {},
   "source": [
    "##### Point to Comma :"
   ]
  },
  {
   "cell_type": "code",
   "execution_count": null,
   "metadata": {
    "code_folding": [
     0
    ],
    "collapsed": true
   },
   "outputs": [],
   "source": [
    "### CODE ###\n",
    "cd ~/Desktop/PTCB/BISCEm/Outputs/DESeq2/Mutant_vs_WT_no_replicates;\n",
    "mkdir -p Comma;\n",
    "for f in *.tsv;\n",
    "do sed 's/\\./,/g' $f > Comma/${f%.*}'_comma.tsv';\n",
    "done;\n",
    "\n",
    "cd ~/Desktop/PTCB/BISCEm/Outputs/DESeq2/Mutant_vs_WT_with_replicates;\n",
    "mkdir -p Comma;\n",
    "for f in *.tsv;\n",
    "do sed 's/\\./,/g' $f > Comma/${f%.*}'_comma.tsv';\n",
    "done;\n",
    "\n",
    "cd ~/Desktop/PTCB/BISCEm/Outputs/DESeq2/R_vs_S_no_replicates;\n",
    "mkdir -p Comma;\n",
    "for f in *.tsv;\n",
    "do sed 's/\\./,/g' $f > Comma/${f%.*}'_comma.tsv';\n",
    "done;\n",
    "\n",
    "cd ~/Desktop/PTCB/BISCEm/Outputs/DESeq2/R_vs_S_pooled;\n",
    "mkdir -p Comma;\n",
    "for f in *.tsv;\n",
    "do sed 's/\\./,/g' $f > Comma/${f%.*}'_comma.tsv';\n",
    "done;\n",
    "\n",
    "cd ~/Desktop/PTCB/BISCEm/Outputs/DESeq2/R_vs_S_with_replicates;\n",
    "mkdir -p Comma;\n",
    "for f in *.tsv;\n",
    "do sed 's/\\./,/g' $f > Comma/${f%.*}'_comma.tsv';\n",
    "done;"
   ]
  },
  {
   "cell_type": "markdown",
   "metadata": {},
   "source": [
    "##### Top DE genes (no-replicates) :"
   ]
  },
  {
   "cell_type": "code",
   "execution_count": null,
   "metadata": {
    "code_folding": [
     0
    ],
    "collapsed": true
   },
   "outputs": [],
   "source": [
    "### CODE ###\n",
    "cd ~/Desktop/PTCB/BISCEm/Outputs/DESeq2/Mutant_vs_WT_no_replicates;\n",
    "mkdir -p Filtered_top_DE;\n",
    "for f in *.tsv;\n",
    "do awk -F '\\t' \\\n",
    "       'NR<2 \\\n",
    "       {print $0}' \\\n",
    "       $f \\\n",
    "       > Filtered_top_DE/${f%.*}\"_top_DE.tsv\";\n",
    "   awk -F '\\t' \\\n",
    "       'NR>1 \\\n",
    "       {if($5 > 2 || $5 < -2) \\\n",
    "        if($8 < 0.05) \\\n",
    "        if($10 >= 100 || $11 >= 100) \\\n",
    "        print $0}' \\\n",
    "        $f \\\n",
    "        >> Filtered_top_DE/${f%.*}\"_top_DE.tsv\";\n",
    "done;\n",
    "\n",
    "cd ~/Desktop/PTCB/BISCEm/Outputs/DESeq2/R_vs_S_no_replicates;\n",
    "mkdir -p Filtered_top_DE;\n",
    "for f in *.tsv;\n",
    "do awk -F '\\t' \\\n",
    "       'NR<2 \\\n",
    "       {print $0}' \\\n",
    "       $f \\\n",
    "       > Filtered_top_DE/${f%.*}\"_top_DE.tsv\";\n",
    "   awk -F '\\t' \\\n",
    "       'NR>1 \\\n",
    "       {if($5 > 2 || $5 < -2) \\\n",
    "        if($8 < 0.05) \\\n",
    "        if($10 >= 100 || $11 >= 100) \\\n",
    "        print $0}' \\\n",
    "        $f \\\n",
    "        >> Filtered_top_DE/${f%.*}\"_top_DE.tsv\";\n",
    "done;"
   ]
  },
  {
   "cell_type": "markdown",
   "metadata": {},
   "source": [
    "##### Top DE genes (with-replicates) :"
   ]
  },
  {
   "cell_type": "code",
   "execution_count": null,
   "metadata": {
    "code_folding": [
     0
    ],
    "collapsed": true
   },
   "outputs": [],
   "source": [
    "### CODE ###\n",
    "cd ~/Desktop/PTCB/BISCEm/Outputs/DESeq2/Mutant_vs_WT_with_replicates;\n",
    "mkdir -p Filtered_top_DE;\n",
    "for f in *.tsv;\n",
    "do awk -F '\\t' \\\n",
    "       'NR<2 \\\n",
    "       {print $0}' \\\n",
    "       $f \\\n",
    "       > Filtered_top_DE/${f%.*}\"_top_DE.tsv\";\n",
    "   awk -F '\\t' \\\n",
    "       'NR>1 \\\n",
    "       {if($9 < 0.05) \\\n",
    "        print $0}' \\\n",
    "        $f \\\n",
    "        >> Filtered_top_DE/${f%.*}\"_top_DE.tsv\";\n",
    "done;\n",
    "\n",
    "cd ~/Desktop/PTCB/BISCEm/Outputs/DESeq2/R_vs_S_pooled;\n",
    "mkdir -p Filtered_top_DE;\n",
    "for f in *.tsv;\n",
    "do awk -F '\\t' \\\n",
    "       'NR<2 \\\n",
    "       {print $0}' \\\n",
    "       $f \\\n",
    "       > Filtered_top_DE/${f%.*}\"_top_DE.tsv\";\n",
    "   awk -F '\\t' \\\n",
    "       'NR>1 \\\n",
    "       {if($9 < 0.05) \\\n",
    "        print $0}' \\\n",
    "        $f \\\n",
    "        >> Filtered_top_DE/${f%.*}\"_top_DE.tsv\";\n",
    "done;\n",
    "\n",
    "cd ~/Desktop/PTCB/BISCEm/Outputs/DESeq2/R_vs_S_with_replicates;\n",
    "mkdir -p Filtered_top_DE;\n",
    "for f in *.tsv;\n",
    "do awk -F '\\t' \\\n",
    "       'NR<2 \\\n",
    "       {print $0}' \\\n",
    "       $f \\\n",
    "       > Filtered_top_DE/${f%.*}\"_top_DE.tsv\";\n",
    "   awk -F '\\t' \\\n",
    "       'NR>1 \\\n",
    "       {if($9 < 0.05) \\\n",
    "        print $0}' \\\n",
    "        $f \\\n",
    "        >> Filtered_top_DE/${f%.*}\"_top_DE.tsv\";\n",
    "done;"
   ]
  },
  {
   "cell_type": "code",
   "execution_count": null,
   "metadata": {
    "collapsed": true
   },
   "outputs": [],
   "source": [
    "## 6) "
   ]
  },
  {
   "cell_type": "markdown",
   "metadata": {},
   "source": [
    "##### Genes of interest list for MAR vs WT :"
   ]
  },
  {
   "cell_type": "code",
   "execution_count": null,
   "metadata": {
    "code_folding": [
     0
    ],
    "collapsed": true
   },
   "outputs": [],
   "source": [
    "### CODE ###\n",
    "# On filtered results\n",
    "cd ~/Desktop/PTCB/BISCEm/Outputs/DESeq2/Mutant_vs_WT_no_replicates/Filtered_top_DE;\n",
    "while read line;\n",
    "do grep $line MAR_vs_WT_R_YD_top_DE.tsv;\n",
    "done < ~/Desktop/PTCB/BISCEm/Mar/genes_of_interest_mar.tsv;\n",
    "# Nothing\n",
    "while read line;\n",
    "do grep $line MAR_vs_WT_S_YD_top_DE.tsv;\n",
    "done < ~/Desktop/PTCB/BISCEm/Mar/genes_of_interest_mar.tsv;\n",
    "# Nothing\n",
    "\n",
    "# Given that there was nothing on filtered, at least output those in raw data\n",
    "cd ~/Desktop/PTCB/BISCEm/Outputs/DESeq2/Mutant_vs_WT_no_replicates;\n",
    "while read line;\n",
    "do grep $line MAR_vs_WT_R_YD.tsv;\n",
    "done < ~/Desktop/PTCB/BISCEm/Mar/genes_of_interest_mar.tsv > ~/Desktop/PTCB/BISCEm/Mar/MAR_vs_WT_R_YD_gon.tsv;\n",
    "while read line;\n",
    "do grep $line MAR_vs_WT_S_YD.tsv;\n",
    "done < ~/Desktop/PTCB/BISCEm/Mar/genes_of_interest_mar.tsv > ~/Desktop/PTCB/BISCEm/Mar/MAR_vs_WT_S_YD_gon.tsv;"
   ]
  },
  {
   "cell_type": "markdown",
   "metadata": {
    "code_folding": []
   },
   "source": [
    "### 5.5) Heatmap"
   ]
  },
  {
   "cell_type": "markdown",
   "metadata": {},
   "source": [
    "#### 5.5.1) Heatmap R vs S"
   ]
  },
  {
   "cell_type": "markdown",
   "metadata": {},
   "source": [
    "##### With FeatureCounts :"
   ]
  },
  {
   "cell_type": "code",
   "execution_count": null,
   "metadata": {
    "code_folding": [],
    "collapsed": true
   },
   "outputs": [],
   "source": [
    "### CODE ###\n",
    "path='/run/user/1000/gvfs/smb-share:server=ubox.unilim.fr,share=biscem/BioInformatique/Responsables/Commun/PTCB';\n",
    "cd $path;\n",
    "Rscript $path/Scripts/deseq2_heatmap_RvS_fc_nocluster.R &>> $path/Outputs/deseq2_heatmap_RvS_fc_nocluster.verbose;"
   ]
  },
  {
   "cell_type": "markdown",
   "metadata": {},
   "source": [
    "Content of deseq2_heatmap_RvS_fc_nocluster.R :"
   ]
  },
  {
   "cell_type": "code",
   "execution_count": null,
   "metadata": {
    "collapsed": true
   },
   "outputs": [],
   "source": [
    "### CODE ###"
   ]
  },
  {
   "cell_type": "markdown",
   "metadata": {},
   "source": [
    "##### With Kallisto :"
   ]
  },
  {
   "cell_type": "code",
   "execution_count": null,
   "metadata": {
    "collapsed": true
   },
   "outputs": [],
   "source": [
    "### CODE ###\n",
    "path='/run/user/1000/gvfs/smb-share:server=ubox.unilim.fr,share=biscem/BioInformatique/Responsables/Commun/PTCB';\n",
    "cd $path;\n",
    "Rscript $path/Scripts/deseq2_heatmap_RvS_ka_nocluster.R &>> $path/Outputs/deseq2_heatmap_RvS_ka_nocluster.verbose;"
   ]
  },
  {
   "cell_type": "markdown",
   "metadata": {},
   "source": [
    "Content of deseq2_heatmap_RvS_ka_nocluster.R :"
   ]
  },
  {
   "cell_type": "code",
   "execution_count": 1,
   "metadata": {
    "collapsed": true
   },
   "outputs": [],
   "source": [
    "### CODE ###"
   ]
  },
  {
   "cell_type": "markdown",
   "metadata": {},
   "source": [
    "#### 5.5.2) Heatmap Mutant vs WT"
   ]
  },
  {
   "cell_type": "markdown",
   "metadata": {},
   "source": [
    "#### a) Resting heatmap"
   ]
  },
  {
   "cell_type": "markdown",
   "metadata": {},
   "source": [
    "##### With FeatureCounts :"
   ]
  },
  {
   "cell_type": "code",
   "execution_count": null,
   "metadata": {
    "collapsed": true
   },
   "outputs": [],
   "source": [
    "### CODE ###\n",
    "path='/run/user/1000/gvfs/smb-share:server=ubox.unilim.fr,share=biscem/BioInformatique/Responsables/Commun/PTCB';\n",
    "cd $path;\n",
    "Rscript $path/Scripts/deseq2_heatmap_MutantvWT_R_fc_nocluster.R &>> $path/Outputs/deseq2_heatmap_MutantvWT_R_fc_nocluster.verbose;"
   ]
  },
  {
   "cell_type": "markdown",
   "metadata": {},
   "source": [
    "Content of deseq2_heatmap_MutantvWT_R_fc_nocluster.R :"
   ]
  },
  {
   "cell_type": "code",
   "execution_count": 3,
   "metadata": {
    "collapsed": true
   },
   "outputs": [],
   "source": [
    "### CODE ###"
   ]
  },
  {
   "cell_type": "markdown",
   "metadata": {},
   "source": [
    "##### With Kallisto"
   ]
  },
  {
   "cell_type": "code",
   "execution_count": null,
   "metadata": {
    "collapsed": true
   },
   "outputs": [],
   "source": [
    "### CODE ###\n",
    "path='/run/user/1000/gvfs/smb-share:server=ubox.unilim.fr,share=biscem/BioInformatique/Responsables/Commun/PTCB';\n",
    "cd $path;\n",
    "Rscript $path/Scripts/deseq2_heatmap_MutantvWT_R_ka_nocluster.R &>> $path/Outputs/deseq2_heatmap_MutantvWT_R_ka_nocluster.verbose;"
   ]
  },
  {
   "cell_type": "markdown",
   "metadata": {},
   "source": [
    "Content of deseq2_heatmap_MutantvWT_R_ka_nocluster.R :"
   ]
  },
  {
   "cell_type": "code",
   "execution_count": null,
   "metadata": {
    "collapsed": true
   },
   "outputs": [],
   "source": [
    "### CODE ###"
   ]
  },
  {
   "cell_type": "markdown",
   "metadata": {},
   "source": [
    "#### b) Stimulated heatmap"
   ]
  },
  {
   "cell_type": "markdown",
   "metadata": {},
   "source": [
    "##### With FeatureCounts :"
   ]
  },
  {
   "cell_type": "code",
   "execution_count": 7,
   "metadata": {
    "collapsed": true
   },
   "outputs": [],
   "source": [
    "### CODE ###\n",
    "path='/run/user/1000/gvfs/smb-share:server=ubox.unilim.fr,share=biscem/BioInformatique/Responsables/Commun/PTCB';\n",
    "cd $path;\n",
    "Rscript $path/Scripts/deseq2_heatmap_MutantvWT_S_fc_nocluster.R &>> $path/Outputs/deseq2_heatmap_MutantvWT_S_fc_nocluster.verbose;"
   ]
  },
  {
   "cell_type": "markdown",
   "metadata": {},
   "source": [
    "Content of deseq2_heatmap_MutantvWT_S_fc_nocluster.R :"
   ]
  },
  {
   "cell_type": "code",
   "execution_count": 8,
   "metadata": {
    "collapsed": true
   },
   "outputs": [],
   "source": [
    "### CODE ###"
   ]
  },
  {
   "cell_type": "markdown",
   "metadata": {},
   "source": [
    "##### With Kallisto :"
   ]
  },
  {
   "cell_type": "code",
   "execution_count": null,
   "metadata": {
    "collapsed": true
   },
   "outputs": [],
   "source": [
    "### CODE ###\n",
    "path='/run/user/1000/gvfs/smb-share:server=ubox.unilim.fr,share=biscem/BioInformatique/Responsables/Commun/PTCB';\n",
    "cd $path;\n",
    "Rscript $path/Scripts/deseq2_heatmap_MutantvWT_S_ka_nocluster.R &>> $path/Outputs/deseq2_heatmap_R_MutantvWT_S_ka_nocluster.verbose;"
   ]
  },
  {
   "cell_type": "markdown",
   "metadata": {},
   "source": [
    "Content of deseq2_heatmap_MutantvWT_S_ka_nocluster.R :"
   ]
  },
  {
   "cell_type": "code",
   "execution_count": null,
   "metadata": {
    "collapsed": true
   },
   "outputs": [],
   "source": [
    "### CODE ###"
   ]
  }
 ],
 "metadata": {
  "anaconda-cloud": {},
  "celltoolbar": "Raw Cell Format",
  "kernelspec": {
   "display_name": "Bash",
   "language": "bash",
   "name": "bash"
  },
  "language_info": {
   "codemirror_mode": "shell",
   "file_extension": ".sh",
   "mimetype": "text/x-sh",
   "name": "bash"
  }
 },
 "nbformat": 4,
 "nbformat_minor": 1
}
