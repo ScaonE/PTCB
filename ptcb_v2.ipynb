{
 "cells": [
  {
   "cell_type": "markdown",
   "metadata": {},
   "source": [
    "# PTCB project"
   ]
  },
  {
   "cell_type": "markdown",
   "metadata": {},
   "source": [
    "##### TODO\n",
    "- Kallisto : Quantification des transcrits.\n",
    "\n",
    "\n",
    "- QC step after mapping => rseqc (http://rseqc.sourceforge.net/).\n",
    "\n",
    "\n",
    "- Comparaison avec résultats de Nice.\n",
    "\n",
    "\n",
    "- Justifier l'utilisation de DESeq2 pour les cas sans réplicats : <br>\n",
    "Pourquoi lui plutot que par exemple EdgeR ? <br>\n",
    "Ecrire noir sur blanc les limitations des analyses 1vs1.\n",
    "\n",
    "\n",
    "- Justifier / vérifier que les comptes sont bien strand-specific : <br>\n",
    "Soit trouver littérature qui dit que featureCounts, à partir de l'annotation (GENCODE), ne compte que les paires de reads qui ont pour brin originel le brin +/- indiqué pour chaque gène. Trouver également littérature qui justifie pour Kallisto (on sait déjà pour ces deux outils qu'il y a des paramètres de strand-spécificité). <br>\n",
    "Soit vérifier un cas \"à la main\", cad trouver dans un dataset un endroit où il y a profondeur de reads sur chaque brin, et alors vérifier que les comptes sont bons.\n",
    "\n",
    "\n",
    "- Exploration des transcrits anti-sens : <br>\n",
    "Finir de setup Sandrine pour utilisation d'IGV (outil sur son PC + load bigwig et annotation GENCODE). <br>\n",
    "Ajouter annotation manquantes \"à la main\" (custom track d'annotation) sur le locus IgH quand Sandrine nous les aura fourni. <br>\n",
    "Tester le pipeline UClnrR pour une exploration systématique : http://bioinformaticstools.mayo.edu/research/uclncr-pipeline."
   ]
  },
  {
   "cell_type": "markdown",
   "metadata": {},
   "source": [
    "##### Notes"
   ]
  },
  {
   "cell_type": "markdown",
   "metadata": {},
   "source": [
    "Report :\n",
    "http://unil.im/Ly33D\n",
    "\n",
    "Normalization :\n",
    "http://unil.im/kdTj5\n",
    "\n",
    "FeatureCounts tests :\n",
    "http://unil.im/2sAq6\n",
    "\n",
    "Read counts step by step :\n",
    "http://unil.im/Ic1Wc\n",
    "\n",
    "Pefanis : Correspond à du stimulé.\n",
    "\n",
    "Réplicats (incoming) : 1 R \"Eµ FL KO\" (replicat de Yves EU), 1 R MAR Ko (replicat de Yves) & 2 R cEµ KO.\n",
    "\n",
    "Histoire de recomb/transloc random qui peuvent générer des reads en anti-sens sur le génome => need de prendre le BAM, de soustraire tous les reads qui sont sur un locus : \"gene pos pos strand\" connu, puis de regarder ce qu'il reste."
   ]
  },
  {
   "cell_type": "markdown",
   "metadata": {},
   "source": [
    "## 1) Data"
   ]
  },
  {
   "cell_type": "markdown",
   "metadata": {},
   "source": [
    "### 1.1) Raw reads"
   ]
  },
  {
   "cell_type": "markdown",
   "metadata": {},
   "source": [
    "#### 1.1.1) CRIBL data"
   ]
  },
  {
   "cell_type": "markdown",
   "metadata": {},
   "source": [
    "Stored @Sophia Antipolis : <br>\n",
    "Eric : 3B4, 3pRR, DEL, IRIS, PAL, WT. <br>\n",
    "Yves : 3pRR, EU, MAR, WT. <br>\n",
    "Replicates (incoming) : EU-R (~Yves), MAR-R (~Yves), 2 CEU-R (new)."
   ]
  },
  {
   "cell_type": "code",
   "execution_count": null,
   "metadata": {
    "code_folding": [
     0
    ],
    "collapsed": true
   },
   "outputs": [],
   "source": [
    "### CODE ###\n",
    "mkdir -p ~/Desktop/PTCB/BISCEm/Data/Reads_raw_Nice;\n",
    "cd ~/Desktop/PTCB/BISCEm/Data/Reads_raw_Nice;"
   ]
  },
  {
   "cell_type": "code",
   "execution_count": null,
   "metadata": {
    "code_folding": [
     0
    ],
    "collapsed": true
   },
   "outputs": [],
   "source": [
    "### CODE ###\n",
    "axel -q http://www.genomique.info/data/public/000-export/151109_pinaud.tar;\n",
    "axel -q http://www.genomique.info/data/public/000-export/DEL_IRIS_fastq.tar;\n",
    "axel -q http://www.genomique.info/data/public/000-export/160627_denizot.tar;\n",
    "tar -xvf *.tar;"
   ]
  },
  {
   "cell_type": "markdown",
   "metadata": {},
   "source": [
    "And some files renaming (for which I lost the script)."
   ]
  },
  {
   "cell_type": "markdown",
   "metadata": {},
   "source": [
    "#### 1.1.2) Pefanis data"
   ]
  },
  {
   "cell_type": "markdown",
   "metadata": {},
   "source": [
    "Retrieve all \"BC\" samples : https://www.ncbi.nlm.nih.gov/sra?term=SRP042355 :"
   ]
  },
  {
   "cell_type": "code",
   "execution_count": null,
   "metadata": {
    "code_folding": [
     0
    ],
    "collapsed": true
   },
   "outputs": [],
   "source": [
    "### CODE ###\n",
    "for id in 'SRR1302208' 'SRR1302283' 'SRR1302414' \\\n",
    "           'SRR1302785' 'SRR1302786' 'SRR1302787' \\\n",
    "           'SRR1302788' 'SRR1302789' 'SRR1984164' \\\n",
    "           'SRR1984166' 'SRR1984167' 'SRR1984178';\n",
    "do fastq-dump -O . --split-files $id;\n",
    "done;"
   ]
  },
  {
   "cell_type": "markdown",
   "metadata": {},
   "source": [
    "### 1.2) Mus musculus"
   ]
  },
  {
   "cell_type": "markdown",
   "metadata": {},
   "source": [
    "#### 1.2.1) Reference genome & associated GFF"
   ]
  },
  {
   "cell_type": "markdown",
   "metadata": {},
   "source": [
    "Downloaded from the \"Genome Reference Consortium\", latesst realease = GRCm38.p5 :"
   ]
  },
  {
   "cell_type": "code",
   "execution_count": null,
   "metadata": {
    "code_folding": [
     0
    ],
    "collapsed": true
   },
   "outputs": [],
   "source": [
    "### CODE ###\n",
    "mkdir -p ~/Desktop/PTCB/BISCEm/Data/Mus_musculus;\n",
    "cd ~/Desktop/PTCB/BISCEm/Data/Mus_musculus;"
   ]
  },
  {
   "cell_type": "code",
   "execution_count": null,
   "metadata": {
    "code_folding": [
     0
    ],
    "collapsed": true
   },
   "outputs": [],
   "source": [
    "### CODE ###\n",
    "url='ftp://ftp.ncbi.nlm.nih.gov/genomes/all/GCA/000/001/635/GCA_000001635.7_GRCm38.p5';\n",
    "axel -q $url/GCA_000001635.7_GRCm38.p5_genomic.fna.gz;\n",
    "wget -nv $url/GCA_000001635.7_GRCm38.p5_genomic.gff.gz;\n",
    "unpigz *_GRCm38.p5_genomic*;"
   ]
  },
  {
   "cell_type": "markdown",
   "metadata": {},
   "source": [
    "Check if they contains the same sequences names :"
   ]
  },
  {
   "cell_type": "code",
   "execution_count": null,
   "metadata": {
    "code_folding": [
     0
    ],
    "collapsed": true
   },
   "outputs": [],
   "source": [
    "### CODE ###\n",
    "grep '^>' GCA_000001635.7_GRCm38.p5_genomic.fna | sort -u > fna.txt\n",
    "sed -i 's/>//' fna.txt \n",
    "awk -F \"[[:space:]]\" '{print $1}' fna.txt > fna_final.txt\n",
    "awk -F \"\\t\" '{if($0 !~ /^#/) print $1}' GCA_000001635.7_GRCm38.p5_genomic.gff | sort -u > gff.txt\n",
    "diff fna_final.txt gff.txt"
   ]
  },
  {
   "cell_type": "markdown",
   "metadata": {},
   "source": [
    "If the diff command produce no output, it's okay. <br>\n",
    "One last thing, to avoid potential incompatilities in downstream analysis :"
   ]
  },
  {
   "cell_type": "code",
   "execution_count": null,
   "metadata": {
    "code_folding": [
     0
    ],
    "collapsed": true
   },
   "outputs": [],
   "source": [
    "### CODE ###\n",
    "grep '^>' GCA_000001635.7_GRCm38.p5_genomic.fna | head -2;\n",
    "awk -F \"\\t\" '{if($0 !~ /^#/) print $1}' GCA_000001635.7_GRCm38.p5_genomic.gff | head -2;"
   ]
  },
  {
   "cell_type": "markdown",
   "metadata": {},
   "source": [
    "What we have just shown is that sequences headers in the FNA file are more verbose than the associated name for the same sequence in the GFF file. Given that this extra info is not critical, let's discard it & check that we did this successfully :"
   ]
  },
  {
   "cell_type": "code",
   "execution_count": null,
   "metadata": {
    "code_folding": [
     0
    ],
    "collapsed": true
   },
   "outputs": [],
   "source": [
    "### CODE ###\n",
    "gawk -i inplace -F \"[[:space:]]\" '{if($0 ~ /^>/) $0 = $1; print}' GCA_000001635.7_GRCm38.p5_genomic.fna;\n",
    "grep '^>' GCA_000001635.7_GRCm38.p5_genomic.fna | head -2;\n",
    "awk -F \"\\t\" '{if($0 !~ /^#/) print $1}' GCA_000001635.7_GRCm38.p5_genomic.gff | head -2;"
   ]
  },
  {
   "cell_type": "markdown",
   "metadata": {},
   "source": [
    "Load stuff on Genotoul :"
   ]
  },
  {
   "cell_type": "code",
   "execution_count": null,
   "metadata": {
    "code_folding": [
     0
    ],
    "collapsed": true
   },
   "outputs": [],
   "source": [
    "### CODE ###\n",
    "sudo scp *_GRCm38.p5_genomic* escaon@genotoul.toulouse.inra.fr:/home/escaon/work/PTCB/Mus_musculus;"
   ]
  },
  {
   "cell_type": "markdown",
   "metadata": {},
   "source": [
    "Remove useless files & compress the remaining for local storage :"
   ]
  },
  {
   "cell_type": "code",
   "execution_count": null,
   "metadata": {
    "code_folding": [
     0
    ],
    "collapsed": true
   },
   "outputs": [],
   "source": [
    "### CODE ###\n",
    "rm *.txt;\n",
    "pigz *_GRCm38.p5_genomic*;"
   ]
  },
  {
   "cell_type": "markdown",
   "metadata": {},
   "source": [
    "#### 1.2.2) Reference transcriptome"
   ]
  },
  {
   "cell_type": "markdown",
   "metadata": {},
   "source": [
    "Which refererence transcriptome to use with Kallisto ? <br>\n",
    "\n",
    "Asked question : I plan to work with Kallisto on the mus musculus transcriptome : Which DB should I use to retrieve the transcriptome ? : Genbank, Ensembl or UCSC ? <br>\n",
    "\n",
    "Answer (Kallisto authors) : \"Anyway, our links would simply point you to the ensembl transcriptome when it exists. We typically use this as it is fairly complete (by comparison with others) and the transcript to gene name mapping is pretty nice (also by comparison with others).\" <br>\n",
    "\n",
    "Thus we retrieve transcriptome from Ensembl latest release and use cdna + ncrna (to covern almost as many genes as the gencode annotation used with featureCounts). <br>"
   ]
  },
  {
   "cell_type": "code",
   "execution_count": null,
   "metadata": {
    "code_folding": [
     0
    ],
    "collapsed": true
   },
   "outputs": [],
   "source": [
    "### CODE ###\n",
    "mkdir -p /media/sf_raid/Data/PTCB/mm10_transcriptome;\n",
    "cd /media/sf_raid/Data/PTCB/mm10_transcriptome;"
   ]
  },
  {
   "cell_type": "code",
   "execution_count": null,
   "metadata": {
    "code_folding": [
     0
    ],
    "collapsed": true,
    "scrolled": true
   },
   "outputs": [],
   "source": [
    "### CODE ###\n",
    "url='ftp://ftp.ensembl.org/pub/release-90/fasta/mus_musculus';\n",
    "axel -q $url/cdna/Mus_musculus.GRCm38.cdna.all.fa.gz;\n",
    "axel -q $url/ncrna/Mus_musculus.GRCm38.ncrna.fa.gz;\n",
    "cat Mus_musculus.GRCm38.cdna.all.fa.gz \\\n",
    "    Mus_musculus.GRCm38.ncrna.fa.gz \\\n",
    "    > mus_musculus_ensembl_grcm38_r90_cdna_and_ncrna.fasta.gz;"
   ]
  },
  {
   "cell_type": "markdown",
   "metadata": {},
   "source": [
    "Load stuff on Genotoul :"
   ]
  },
  {
   "cell_type": "code",
   "execution_count": null,
   "metadata": {
    "code_folding": [
     0
    ],
    "collapsed": true
   },
   "outputs": [],
   "source": [
    "### CODE ###\n",
    "sudo scp mus_musculus_ensembl_grcm38_r90_cdna_and_ncrna.fasta.gz \\\n",
    "     hbastien@genotoul.toulouse.inra.fr:/home/hbastien/work/PTCB/mm10_transcriptome;"
   ]
  },
  {
   "cell_type": "markdown",
   "metadata": {},
   "source": [
    "#### 1.2.3) GTF annotations"
   ]
  },
  {
   "cell_type": "markdown",
   "metadata": {},
   "source": [
    "For future use with featureCounts.<br>\n",
    "\n",
    "Downloaded from \"GENCODE\" (for GRCm38.p5 genome). <br>\n",
    "\"It contains the comprehensive gene annotation on the reference chromosomes, scaffolds, assembly patches and alternate loci (haplotypes)\". <br>\n",
    "More precisely, it annotate a lot of gene/transcript biotypes : https://www.gencodegenes.org/gencode_biotypes.html."
   ]
  },
  {
   "cell_type": "code",
   "execution_count": null,
   "metadata": {
    "code_folding": [
     0
    ],
    "collapsed": true
   },
   "outputs": [],
   "source": [
    "### CODE ###\n",
    "axel -q ftp://ftp.sanger.ac.uk/pub/gencode/Gencode_mouse/\\\n",
    "release_M14/gencode.vM14.chr_patch_hapl_scaff.annotation.gtf.gz;"
   ]
  },
  {
   "cell_type": "markdown",
   "metadata": {},
   "source": [
    "#### 1.2.4) Ensembl vs GENCODE"
   ]
  },
  {
   "cell_type": "markdown",
   "metadata": {},
   "source": [
    "We want at some point to compare results obtained with the \"genomic path\", i.e. STAR + featureCounts + DESeq2 vs results from the \"transcriptomic path\", i.e. Kallisto + DESeq2. Thus, we need make sure that featureCounts (using GENCODE annotations) and Kallisto (using transcriptomes sequences) will compute reads counts at the gene level for approximately the same genes. <br>"
   ]
  },
  {
   "cell_type": "markdown",
   "metadata": {},
   "source": [
    "##### Get Ensembl genes name list contained in GENCODE gtf : "
   ]
  },
  {
   "cell_type": "code",
   "execution_count": null,
   "metadata": {
    "code_folding": [
     0
    ],
    "collapsed": true
   },
   "outputs": [],
   "source": [
    "### CODE ###\n",
    "cd ~/Desktop/PTCB/BISCEm/Data/Mus_musculus;\n",
    "unpigz gencode.vM14.chr_patch_hapl_scaff.annotation.gtf.gz;\n",
    "awk -F \" \" '{if($0 !~ /^#/) print $10}' gencode.vM14.chr_patch_hapl_scaff.annotation.gtf | sort -u > gencode_gene_ids_u.txt;\n",
    "sed -i 's/;//g' gencode_gene_ids_u.txt;\n",
    "sed -i 's/\\\"//g' gencode_gene_ids_u.txt;\n",
    "awk -F '\\t' -v OFS='\\t' '{sub(/\\.[0-9]*/, \"\", $1)} 1' gencode_gene_ids_u.txt > gencode_gene_ids_u_proper.txt;\n",
    "wc -l gencode_gene_ids_u_proper.txt;\n",
    "# 52366 gencode_gene_ids_u_proper.txt\n",
    "rm gencode_gene_ids_u.txt;\n",
    "pigz gencode.vM14.chr_patch_hapl_scaff.annotation.gtf;\n",
    "cp gencode_gene_ids_u_proper.txt ~/Desktop/PTCB/BISCEm/Ensembl_transcriptome_vs_gencode;"
   ]
  },
  {
   "cell_type": "markdown",
   "metadata": {},
   "source": [
    "##### Get Ensembl genes name list contained in our Ensembl transcriptome :"
   ]
  },
  {
   "cell_type": "code",
   "execution_count": null,
   "metadata": {
    "code_folding": [
     0
    ],
    "collapsed": true
   },
   "outputs": [],
   "source": [
    "### CODE ###\n",
    "cd ~/Desktop/PTCB/BISCEm/Ensembl_transcriptome_vs_gencode;\n",
    "# DL\n",
    "axel -q ftp://ftp.ensembl.org/pub/release-90/fasta/mus_musculus/cdna/Mus_musculus.GRCm38.cdna.all.fa.gz;\n",
    "axel -q ftp://ftp.ensembl.org/pub/release-90/fasta/mus_musculus/ncrna/Mus_musculus.GRCm38.ncrna.fa.gz;\n",
    "# Grep non-fasta lines\n",
    "zgrep '^>' Mus_musculus.GRCm38.cdna.all.fa.gz > headers_cdna.txt;\n",
    "zgrep '^>' Mus_musculus.GRCm38.ncrna.fa.gz > headers_ncrna.txt;\n",
    "# Count number of transcripts\n",
    "for f in *.txt;\n",
    "do printf $f\"\\t\";\n",
    "   sort -u $f | wc -l;\n",
    "done;\n",
    "# headers_cdna.txt    109282\n",
    "# headers_ncrna.txt    19932\n",
    "# Clear formatting -> ensembl_gene_name\n",
    "awk -F \" \" '{print $4}' headers_cdna.txt > genes_cdna.txt;\n",
    "awk -F \" \" '{print $4}' headers_ncrna.txt > genes_ncrna.txt;\n",
    "sort -u genes_cdna.txt > genes_cdna_u.txt;\n",
    "sort -u genes_ncrna.txt > genes_ncrna_u.txt;\n",
    "awk -F \"\\t\" '{sub(/\\.[0-9]*/, \"\", $1)} 1' genes_cdna_u.txt > genes_cdna_u_v2.txt;\n",
    "awk -F \"\\t\" '{sub(/\\.[0-9]*/, \"\", $1)} 1' genes_ncrna_u.txt > genes_ncrna_u_v2.txt;\n",
    "awk -F \"\\t\" '{sub(/gene:/, \"\", $1)} 1' genes_cdna_u_v2.txt > genes_cdna_u_v3.txt;\n",
    "awk -F \"\\t\" '{sub(/gene:/, \"\", $1)} 1' genes_ncrna_u_v2.txt > genes_ncrna_u_v3.txt;\n",
    "wc -l *_v3.txt;\n",
    "# 34839 genes_cdna_u_v3.txt\n",
    "# 15220 genes_ncrna_u_v3.txt\n",
    "# 50059 total\n",
    "cat genes_cdna_u_v3.txt genes_ncrna_u_v3.txt > genes_cdna_and_ncrna.txt;\n",
    "sort -u genes_cdna_and_ncrna.txt > genes_cdna_and_ncrna_u.txt;\n",
    "wc -l genes_cdna_and_ncrna_u.txt;\n",
    "# 50059 genes_cdna_and_ncrna_u.txt;\n",
    "rm !(gencode_gene_ids_u_proper.txt|genes_cdna_and_ncrna_u.txt);"
   ]
  },
  {
   "cell_type": "markdown",
   "metadata": {},
   "source": [
    "##### Finally, check their intersection :"
   ]
  },
  {
   "cell_type": "code",
   "execution_count": null,
   "metadata": {
    "code_folding": [
     0
    ],
    "collapsed": true
   },
   "outputs": [],
   "source": [
    "### CODE ###\n",
    "comm gencode_gene_ids_u_proper.txt genes_cdna_and_ncrna_u.txt > comm_gencode_vs_ensembl.tsv;\n",
    "printf \"unique to gencode :\\t\"; awk -F \"\\t\" '{if($1 != \"\") print $1}' comm_gencode_vs_ensembl.tsv | wc -l;\n",
    "printf \"unique to ensembl :\\t\"; awk -F \"\\t\" '{if($2 != \"\") print $2}' comm_gencode_vs_ensembl.tsv | wc -l;\n",
    "printf \"common to both :\\t\"; awk -F \"\\t\" '{if($3 != \"\") print $3}' comm_gencode_vs_ensembl.tsv | wc -l;\n",
    "# unique to gencode :    3047\n",
    "# unique to ensembl :    740\n",
    "# common to both :    49319"
   ]
  },
  {
   "cell_type": "markdown",
   "metadata": {},
   "source": [
    "49319 genes are common (92.87%), so we consider that we can compare DE results with counts coming from featureCounts and from Kallisto."
   ]
  },
  {
   "cell_type": "markdown",
   "metadata": {},
   "source": [
    "## 2) Raw reads QC & filtering"
   ]
  },
  {
   "cell_type": "markdown",
   "metadata": {},
   "source": [
    "### 2.1) FastQC"
   ]
  },
  {
   "cell_type": "markdown",
   "metadata": {},
   "source": [
    "#### 2.1.1) CRIBL data"
   ]
  },
  {
   "cell_type": "markdown",
   "metadata": {},
   "source": [
    "Setup working directory & paths :"
   ]
  },
  {
   "cell_type": "code",
   "execution_count": null,
   "metadata": {
    "code_folding": [
     0
    ],
    "collapsed": true
   },
   "outputs": [],
   "source": [
    "### CODE ###\n",
    "reads_dir='/home/erwann/Desktop/PTCB/BISCEm/Data/Reads_raw_Nice';\n",
    "cd $reads_dir;\n",
    "mkdir -p $reads_dir/QC;\n",
    "mkdir -p ~/Software/FastQC/Outputs/PTCB;"
   ]
  },
  {
   "cell_type": "markdown",
   "metadata": {},
   "source": [
    "Launch FastQC :"
   ]
  },
  {
   "cell_type": "code",
   "execution_count": null,
   "metadata": {
    "code_folding": [
     0
    ],
    "collapsed": true
   },
   "outputs": [],
   "source": [
    "### CODE ###\n",
    "for f in *.fastq.gz;\n",
    "do echo $f; fastqc --outdir ~/Software/FastQC/Outputs/PTCB -f fastq $f;\n",
    "done >> $reads_dir/QC/fastqc.verbose;"
   ]
  },
  {
   "cell_type": "markdown",
   "metadata": {},
   "source": [
    "#### 2.1.2) Pefanis data"
   ]
  },
  {
   "cell_type": "markdown",
   "metadata": {},
   "source": [
    "The exact same thing, just change file and directory names"
   ]
  },
  {
   "cell_type": "markdown",
   "metadata": {},
   "source": [
    "### 2.2) MultiQC"
   ]
  },
  {
   "cell_type": "markdown",
   "metadata": {},
   "source": [
    "#### 2.2.1) CRIBL data"
   ]
  },
  {
   "cell_type": "markdown",
   "metadata": {},
   "source": [
    "We compile FastqQC analysis for all the data & at the sequencing-run level (EP & YD), to highlight potential run effect."
   ]
  },
  {
   "cell_type": "code",
   "execution_count": null,
   "metadata": {
    "code_folding": [
     0
    ],
    "collapsed": true
   },
   "outputs": [],
   "source": [
    "### CODE ###\n",
    "fastqc_dir='/home/erwann/Software/FastQC/Outputs/PTCB';\n",
    "mkdir -p $reads_dir/QC;\n",
    "multiqc $fastqc_dir \\\n",
    "        -n ptcb \\\n",
    "        -o $reads_dir/QC \\\n",
    "        -m fastqc -f > $reads_dir/QC/multiQC_ptcb.verbose 2>&1;\n",
    "multiqc $fastqc_dir/*_EP_fastqc* \\\n",
    "        -n ptcb_ep \\\n",
    "        -o $reads_dir/QC \\\n",
    "        -m fastqc -f > $reads_dir/QC/multiQC_ptcb_ep.verbose 2>&1;\n",
    "multiqc $fastqc_dir/*_YD_fastqc* \\\n",
    "        -n ptcb_yd \\\n",
    "        -o $reads_dir/QC \\\n",
    "        -m fastqc -f > $reads_dir/QC/multiQC_ptcb_yd.verbose 2>&1;"
   ]
  },
  {
   "cell_type": "markdown",
   "metadata": {},
   "source": [
    "Visualize QC results :"
   ]
  },
  {
   "cell_type": "code",
   "execution_count": null,
   "metadata": {
    "code_folding": [
     0
    ],
    "collapsed": true
   },
   "outputs": [],
   "source": [
    "### CODE ###\n",
    "chromium-browser $reads_dir/QC/*.html;"
   ]
  },
  {
   "cell_type": "markdown",
   "metadata": {},
   "source": [
    "Conclusions :\n",
    "Nice data overall. We can be a bit stringent during filtering to keep HQ reads."
   ]
  },
  {
   "cell_type": "markdown",
   "metadata": {},
   "source": [
    "#### 2.2.2) Pefanis data"
   ]
  },
  {
   "cell_type": "markdown",
   "metadata": {},
   "source": [
    "The exact same thing, just change file and directory names"
   ]
  },
  {
   "cell_type": "markdown",
   "metadata": {},
   "source": [
    "### 2.3) Filtering"
   ]
  },
  {
   "cell_type": "markdown",
   "metadata": {},
   "source": [
    "Trimmomatic 0.36"
   ]
  },
  {
   "cell_type": "markdown",
   "metadata": {
    "collapsed": true
   },
   "source": [
    "For both data CRIBL & Pefanis, FastQC detected Illumina 1.9 encoding. Referring to https://en.wikipedia.org/wiki/FASTQ_format, Illumina 1.8+ => Phred+33.\n",
    "\n",
    "Sequences are trimmed with $TRIM = ~/Software/Trimmomatic_0.36/trimmomatic-0.36.jar.\n",
    "Given MultiQC output, we trim starting and ending bases if their quality is < 25. We then trim with a sliding window of 5 bases, cutting the read at those bases if the mean quality drops below 25. Finally, we discard sequence < 50 nts."
   ]
  },
  {
   "cell_type": "markdown",
   "metadata": {},
   "source": [
    "#### 2.3.1) CRIBL data"
   ]
  },
  {
   "cell_type": "code",
   "execution_count": null,
   "metadata": {
    "code_folding": [
     0
    ],
    "collapsed": true
   },
   "outputs": [],
   "source": [
    "### CODE ###\n",
    "$TRIM = ~/Software/Trimmomatic_0.36/trimmomatic-0.36.jar\n",
    "cd ~/Desktop/PTCB/BISCEm/Data/Reads_raw_Nice;\n",
    "mkdir -p ../Reads_raw_Nice_trim;\n",
    "for id in '3B4_R_1_EP' '3B4_S_1_EP' '3pRR_R_1_EP' '3pRR_S_1_EP' \\\n",
    "          'DEL_R_1_EP' 'DEL_S_1_EP' 'IRIS_R_1_EP' 'IRIS_S_1_EP' \\\n",
    "          'PAL_R_1_EP' 'PAL_S_1_EP' 'WT_R_1_EP' 'WT_S_1_EP';\n",
    "do java -jar $TRIM PE -threads 8 \\\n",
    "                      -phred33 \\\n",
    "                      $id.fastq.gz \\\n",
    "                      ${id%_*_*}'_2_EP.fastq.gz' \\\n",
    "                      ../Reads_raw_Nice_trim/$id'_paired.fastq.gz' \\\n",
    "                      ../Reads_raw_Nice_trim/$id'_unpaired.fastq.gz' \\\n",
    "                      ../Reads_raw_Nice_trim/${id%_*_*}'_2_EP_paired.fastq.gz' \\\n",
    "                      ../Reads_raw_Nice_trim/${id%_*_*}'_2_EP_unpaired.fastq.gz' \\\n",
    "                      LEADING:25 TRAILING:25 SLIDINGWINDOW:5:25 MINLEN:50;\n",
    "done &>> trim_EP.verbose;\n",
    "\n",
    "for id in '3pRR_R_1_YD' '3pRR_S_1_YD' 'EU_R_1_YD' 'EU_S_1_YD' \\\n",
    "          'MAR_R_1_YD' 'MAR_S_1_YD' 'WT_R_1_YD' 'WT_S_1_YD';\n",
    "do java -jar $TRIM PE -threads 8 \\\n",
    "                      -phred33 \\\n",
    "                      $id.fastq.gz \\\n",
    "                      ${id%_*_*}'_2_YD.fastq.gz' \\\n",
    "                      ../Reads_raw_Nice_trim/$id'_paired.fastq.gz' \\\n",
    "                      ../Reads_raw_Nice_trim/$id'_unpaired.fastq.gz' \\\n",
    "                      ../Reads_raw_Nice_trim/${id%_*_*}'_2_YD_paired.fastq.gz' \\\n",
    "                      ../Reads_raw_Nice_trim/${id%_*_*}'_2_YD_unpaired.fastq.gz' \\\n",
    "                      LEADING:25 TRAILING:25 SLIDINGWINDOW:5:25 MINLEN:50;\n",
    "done &>> trim_YD.verbose;"
   ]
  },
  {
   "cell_type": "markdown",
   "metadata": {},
   "source": [
    "#### 2.3.2) Pefanis data"
   ]
  },
  {
   "cell_type": "code",
   "execution_count": null,
   "metadata": {
    "code_folding": [
     0
    ],
    "collapsed": true
   },
   "outputs": [],
   "source": [
    "### CODE ###\n",
    "$TRIM = ~/Software/Trimmomatic_0.36/trimmomatic-0.36.jar\n",
    "cd /media/raid/Data/PTCB/Pefanis;\n",
    "mkdir -p Trimmomatic;\n",
    "for id in 'SRR1302208' 'SRR1302283' 'SRR1302786' 'SRR1302787' \\\n",
    "          'SRR1302788' 'SRR1302789';\n",
    "do java -jar $TRIM PE -threads 8 \\\n",
    "                      -phred33 \\\n",
    "                      $id'_1.fastq' \\\n",
    "                      $id'_2.fastq' \\\n",
    "                      ./Trimmomatic/$id'_1.paired.fastq' \\\n",
    "                      ./Trimmomatic/$id'_1.unpaired.fastq' \\\n",
    "                      ./Trimmomatic/$id'_2.paired.fastq' \\\n",
    "                      ./Trimmomatic/$id'_2.unpaired.fastq' \\\n",
    "                      LEADING:25 TRAILING:25 SLIDINGWINDOW:5:25 MINLEN:50;\n",
    "done &>> trim_PE.verbose;\n",
    "for id in 'SRR1302414' 'SRR1302785';\n",
    "do java -jar $TRIM SE -threads 8 \\\n",
    "                      -phred33 \\\n",
    "                      $id'_1.fastq' \\\n",
    "                      ./Trimmomatic/$id'_1.paired.fastq' \\\n",
    "                      ./Trimmomatic/$id'_1.unpaired.fastq' \\\n",
    "                      LEADING:25 TRAILING:25 SLIDINGWINDOW:5:25 MINLEN:50;\n",
    "done &>> trim_SE.verbose;"
   ]
  },
  {
   "cell_type": "markdown",
   "metadata": {},
   "source": [
    "## 3) Mapping"
   ]
  },
  {
   "cell_type": "markdown",
   "metadata": {},
   "source": [
    "### 3.1) Build index :"
   ]
  },
  {
   "cell_type": "markdown",
   "metadata": {},
   "source": [
    "#### 3.1.1) STAR :"
   ]
  },
  {
   "cell_type": "markdown",
   "metadata": {},
   "source": [
    "On Genotoul via STAR, version 2.5.2b :"
   ]
  },
  {
   "cell_type": "code",
   "execution_count": null,
   "metadata": {
    "code_folding": [
     0
    ],
    "collapsed": true
   },
   "outputs": [],
   "source": [
    "### CODE ###\n",
    "#!/bin/bash\n",
    "#$ -q workq\n",
    "#$ -M erwan.scaon@unilim.fr\n",
    "#$ -m bea\n",
    "#$ -l mem=8G\n",
    "#$ -l h_vmem=12G\n",
    "#$ -N star_idx\n",
    "#$ -o /home/escaon/work/PTCB/star_idx.o\n",
    "#$ -e /home/escaon/work/PTCB/star_idx.e\n",
    "\n",
    "work='/home/escaon/work/PTCB/Mus_musculus';\n",
    "star='/usr/local/bioinfo/src/STAR/STAR-2.5.2b/bin/Linux_x86_64_static/STAR'\n",
    "nt=8;\n",
    "\n",
    "$star --runThreadN $nt \\\n",
    "      --runMode genomeGenerate \\\n",
    "      --genomeDir $work \\\n",
    "      --genomeFastaFiles $work/GCA_000001635.7_GRCm38.p5_genomic.fna \\\n",
    "      --sjdbGTFfile $work/GCA_000001635.7_GRCm38.p5_genomic.gff \\\n",
    "      --sjdbGTFtagExonParentTranscript Parent \\\n",
    "      --sjdbOverhang 150;"
   ]
  },
  {
   "cell_type": "code",
   "execution_count": null,
   "metadata": {
    "code_folding": [
     0
    ],
    "collapsed": true
   },
   "outputs": [],
   "source": [
    "### CODE ###\n",
    "qsub -pe parallel_smp 8 star_idx.sh;"
   ]
  },
  {
   "cell_type": "markdown",
   "metadata": {},
   "source": [
    "#### 3.1.2) Kallisto :"
   ]
  },
  {
   "cell_type": "markdown",
   "metadata": {},
   "source": [
    "On Genotoul via Kallisto, version 0.43.0 :"
   ]
  },
  {
   "cell_type": "code",
   "execution_count": null,
   "metadata": {
    "code_folding": [
     0
    ],
    "collapsed": true
   },
   "outputs": [],
   "source": [
    "### CODE ###\n",
    "#!/bin/bash\n",
    "#$ -q workq\n",
    "#$ -m bea\n",
    "#$ -l mem=8G\n",
    "#$ -l h_vmem=120G\n",
    "\n",
    "#####Index KALLISTO\n",
    "kallisto index --make-unique -i /home/hbastien/work/PTCB/mm10_transcriptome/Mus_musculus.GRCm38.cdna.all.idx /home/hbastien/work/PTCB/mm10_transcriptome/Mus_musculus.GRCm38.cdna.all.fa"
   ]
  },
  {
   "cell_type": "code",
   "execution_count": null,
   "metadata": {
    "code_folding": [
     0
    ],
    "collapsed": true
   },
   "outputs": [],
   "source": [
    "### CODE ###\n",
    "qsub simple_index_kallisto.sh;"
   ]
  },
  {
   "cell_type": "markdown",
   "metadata": {},
   "source": [
    "### 3.2) Map reads :"
   ]
  },
  {
   "cell_type": "markdown",
   "metadata": {},
   "source": [
    "###### 3.2.1) CRIBL data"
   ]
  },
  {
   "cell_type": "markdown",
   "metadata": {},
   "source": [
    "First script : star_3B4_R_EP.sh"
   ]
  },
  {
   "cell_type": "code",
   "execution_count": null,
   "metadata": {
    "code_folding": [
     0
    ],
    "collapsed": true
   },
   "outputs": [],
   "source": [
    "### CODE ###\n",
    "#!/bin/bash\n",
    "#$ -q workq\n",
    "#$ -M erwan.scaon@unilim.fr\n",
    "#$ -m bea\n",
    "#$ -l mem=8G\n",
    "#$ -l h_vmem=10G\n",
    "#$ -N star_3B4_R_EP\n",
    "#$ -o /home/escaon/work/PTCB/star_3B4_R_EP.o\n",
    "#$ -e /home/escaon/work/PTCB/star_3B4_R_EP.e\n",
    "\n",
    "star='/usr/local/bioinfo/src/STAR/STAR-2.5.2b/bin/Linux_x86_64_static/STAR';\n",
    "save='/home/escaon/save/PTCB/Reads_raw_Nice_trim';\n",
    "work='/home/escaon/work/PTCB';\n",
    "nt=8;\n",
    "\n",
    "for id in '3B4_R_EP';\n",
    "do $star --runThreadN $nt \\\n",
    "         --genomeDir $work/Mus_musculus \\\n",
    "         --readFilesIn $save/${id%_*}'_1_EP_paired.fastq.gz' $save/${id%_*}'_2_EP_paired.fastq.gz' \\\n",
    "         --readFilesCommand zcat \\\n",
    "         --outFileNamePrefix $work/Mapped_vs_GRCm38.p5/$id'_' \\\n",
    "         --outSAMtype BAM SortedByCoordinate;\n",
    "done;"
   ]
  },
  {
   "cell_type": "code",
   "execution_count": null,
   "metadata": {
    "code_folding": [
     0
    ],
    "collapsed": true
   },
   "outputs": [],
   "source": [
    "### CODE ###\n",
    "qsub -pe parallel_smp 8 star_3B4_R_EP.sh;"
   ]
  },
  {
   "cell_type": "markdown",
   "metadata": {},
   "source": [
    "Duplicate this script for others EP datasets & launch jobs :"
   ]
  },
  {
   "cell_type": "code",
   "execution_count": null,
   "metadata": {
    "code_folding": [
     0
    ],
    "collapsed": true
   },
   "outputs": [],
   "source": [
    "### CODE ###\n",
    "for id in '3B4_S_EP' '3pRR_R_EP' '3pRR_S_EP' 'DEL_R_EP' \\\n",
    "          'DEL_S_EP' 'IRIS_R_EP' 'IRIS_S_EP' 'PAL_R_EP' \\\n",
    "          'PAL_S_EP' 'WT_R_EP' 'WT_S_EP';\n",
    "do  cp star_3B4_R_EP.sh star_$id.sh;\n",
    "    sed -i \"s/3B4_R_EP/$id/\" star_$id.sh;\n",
    "    qsub -pe parallel_smp 8 star_$id.sh;\n",
    "done;"
   ]
  },
  {
   "cell_type": "markdown",
   "metadata": {},
   "source": [
    "Create a base script for YD, duplicate it & launch jobs :"
   ]
  },
  {
   "cell_type": "code",
   "execution_count": null,
   "metadata": {
    "code_folding": [
     0
    ],
    "collapsed": true,
    "scrolled": false
   },
   "outputs": [],
   "source": [
    "### CODE ###\n",
    "cp star_WT_R_EP.sh star_WT_R_YD.sh;\n",
    "grep --color 'EP' star_WT_R_YD.sh; # check if we are not going to destroy anything\n",
    "sed -i \"s/EP/YD/\" star_WT_R_YD.sh;\n",
    "qsub -pe parallel_smp 8 star_WT_R_YD.sh;\n",
    "\n",
    "for id in '3pRR_R_YD' '3pRR_S_YD' 'EU_R_YD' 'EU_S_YD' \\\n",
    "          'MAR_R_YD' 'MAR_S_YD' 'WT_S_YD';\n",
    "do  cp star_WT_R_YD.sh star_$id.sh;\n",
    "    sed -i \"s/WT_R_YD/$id/\" star_$id.sh;\n",
    "    qsub -pe parallel_smp 8 star_$id.sh;\n",
    "done;"
   ]
  },
  {
   "cell_type": "markdown",
   "metadata": {},
   "source": [
    "###### 3.2.2) Pefanis data"
   ]
  },
  {
   "cell_type": "markdown",
   "metadata": {},
   "source": [
    "###### Paired end :"
   ]
  },
  {
   "cell_type": "code",
   "execution_count": null,
   "metadata": {
    "code_folding": [
     0
    ],
    "collapsed": true
   },
   "outputs": [],
   "source": [
    "### CODE ###\n",
    "#!/bin/bash\n",
    "#$ -q workq\n",
    "#$ -m bea\n",
    "#$ -l mem=8G\n",
    "#$ -l h_vmem=30G\n",
    "#\n",
    "\n",
    "#####Alignment STAR PE\n",
    "for id in 'SRR1302208' 'SRR1302283' 'SRR1302786' 'SRR1302787' 'SRR1302788' 'SRR1302789';\n",
    "do\n",
    "/usr/local/bioinfo/src/STAR/STAR-2.5.2b/bin/Linux_x86_64_static/STAR --genomeDir /home/hbastien/work/PTCB/Mus_musculus/ --readFilesIn /home/hbastien/work/PTCB/Pefanis/'Trimmed_paired_'$id'_1.fastq' /home/hbastien/work/PTCB/Pefanis/'Trimmed_paired_'$id'_2.fastq' --outFileNamePrefix Experiment_PE_Star$id\n",
    "done"
   ]
  },
  {
   "cell_type": "code",
   "execution_count": null,
   "metadata": {
    "code_folding": [
     0
    ],
    "collapsed": true
   },
   "outputs": [],
   "source": [
    "### CODE ###\n",
    "qsub manageStarPE.sh"
   ]
  },
  {
   "cell_type": "markdown",
   "metadata": {},
   "source": [
    "###### Single end :"
   ]
  },
  {
   "cell_type": "code",
   "execution_count": null,
   "metadata": {
    "code_folding": [
     0
    ],
    "collapsed": true
   },
   "outputs": [],
   "source": [
    "### CODE ###\n",
    "#!/bin/bash\n",
    "#$ -q workq\n",
    "#$ -m bea\n",
    "#$ -l mem=8G\n",
    "#$ -l h_vmem=30G\n",
    "#\n",
    "\n",
    "#####Alignment STAR SE\n",
    "for id in 'SRR1302414' 'SRR1302785';\n",
    "do\n",
    "/usr/local/bioinfo/src/STAR/STAR-2.5.2b/bin/Linux_x86_64_static/STAR --genomeDir /home/hbastien/work/PTCB/Mus_musculus/ --readFilesIn /home/hbastien/work/PTCB/Pefanis/'Trimmed_'$id'_1.fastq' --outFileNamePrefix Experiment_SE_Star$id\n",
    "done"
   ]
  },
  {
   "cell_type": "code",
   "execution_count": null,
   "metadata": {
    "code_folding": [
     0
    ],
    "collapsed": true
   },
   "outputs": [],
   "source": [
    "### CODE ###\n",
    "qsub manageStarSE.sh"
   ]
  },
  {
   "cell_type": "markdown",
   "metadata": {},
   "source": [
    "### 3.3) Index BAM"
   ]
  },
  {
   "cell_type": "code",
   "execution_count": null,
   "metadata": {
    "code_folding": [
     0
    ],
    "collapsed": true
   },
   "outputs": [],
   "source": [
    "### CODE ###\n",
    "#!/bin/bash\n",
    "#$ -q workq\n",
    "#$ -M erwan.scaon@unilim.fr\n",
    "#$ -m bea\n",
    "#$ -l mem=40G\n",
    "#$ -l h_vmem=48G\n",
    "#$ -N samtools_idx\n",
    "#$ -o /home/escaon/work/PTCB/samtools_idx.o\n",
    "#$ -e /home/escaon/work/PTCB/samtools_idx.e\n",
    "\n",
    "work='/home/escaon/work/PTCB/Mapped_vs_GRCm38.p5';\n",
    "\n",
    "cd $work;\n",
    "for f in *.bam;\n",
    "do samtools index $f;\n",
    "done;"
   ]
  },
  {
   "cell_type": "code",
   "execution_count": null,
   "metadata": {
    "code_folding": [
     0
    ],
    "collapsed": true
   },
   "outputs": [],
   "source": [
    "### CODE ###\n",
    "qsub samtools_idx.sh;"
   ]
  },
  {
   "cell_type": "markdown",
   "metadata": {},
   "source": [
    "### 3.4) RNA-seq alignment QC"
   ]
  },
  {
   "cell_type": "markdown",
   "metadata": {},
   "source": [
    "http://rseqc.sourceforge.net"
   ]
  },
  {
   "cell_type": "markdown",
   "metadata": {},
   "source": [
    "## 4) Counts"
   ]
  },
  {
   "cell_type": "markdown",
   "metadata": {},
   "source": [
    "##### Retrieve BAMs locally :"
   ]
  },
  {
   "cell_type": "code",
   "execution_count": null,
   "metadata": {
    "code_folding": [
     0
    ],
    "collapsed": true
   },
   "outputs": [],
   "source": [
    "### CODE ###\n",
    "mkdir -p ~/Desktop/PTCB/BISCEm/Outputs;\n",
    "sudo scp -r escaon@genotoul.toulouse.inra.fr:/home/escaon/work/PTCB/Mapped_vs_GRCm38.p5 ~/Desktop/PTCB/BISCEm/Outputs;\n",
    "sudo scp -r hbastien@genotoul.toulouse.inra.fr:/home/hbastien/work/PTCB/Mapped_vs_GRCm38.p5 /run/user/1000/gvfs/smb-share:server=ubox.unilim.fr,share=biscem/BioInformatique/Responsables/Commun/PTCB/Outputs/Star"
   ]
  },
  {
   "cell_type": "markdown",
   "metadata": {},
   "source": [
    "Before starting the counts, we need to create a \"chr.aliases\" file which link chrs names in GRCm38.p5 with chrs names in GENCODE annotations. This file was created from this assembly report :"
   ]
  },
  {
   "cell_type": "code",
   "execution_count": null,
   "metadata": {
    "code_folding": [
     0
    ],
    "collapsed": true
   },
   "outputs": [],
   "source": [
    "### CODE ###\n",
    "wget -q ftp://ftp.ncbi.nlm.nih.gov/genomes/all/GCA/000/001/635/\\\n",
    "GCA_000001635.7_GRCm38.p5/GCA_000001635.7_GRCm38.p5_assembly_report.txt;"
   ]
  },
  {
   "cell_type": "markdown",
   "metadata": {},
   "source": [
    "### 4.1) FeatureCounts"
   ]
  },
  {
   "cell_type": "markdown",
   "metadata": {},
   "source": [
    "Count with featureCounts (Rsubread 1.24.2) :"
   ]
  },
  {
   "cell_type": "markdown",
   "metadata": {},
   "source": [
    "#### 4.1.1) CRIBL data"
   ]
  },
  {
   "cell_type": "code",
   "execution_count": null,
   "metadata": {
    "code_folding": [
     0
    ],
    "collapsed": true
   },
   "outputs": [],
   "source": [
    "### CODE ###\n",
    "path='/home/erwann/Desktop/PTCB/BISCEm';\n",
    "cd $path/Outputs/Star;\n",
    "for id in '3B4_R_EP' '3B4_S_EP' '3pRR_R_EP' '3pRR_S_EP' \\\n",
    "          'DEL_R_EP' 'DEL_S_EP' 'IRIS_R_EP' 'IRIS_S_EP' \\\n",
    "          'PAL_R_EP' 'PAL_S_EP' 'WT_R_EP' 'WT_S_EP' \\\n",
    "          '3pRR_R_YD' '3pRR_S_YD' 'EU_R_YD' 'EU_S_YD' \\\n",
    "          'MAR_R_YD' 'MAR_S_YD' 'WT_R_YD' 'WT_S_YD';\n",
    "do Rscript $path/Scripts/featureCounts.R $id;\n",
    "done &>> $path/Outputs/FeatureCounts/featureCounts.verbose;"
   ]
  },
  {
   "cell_type": "markdown",
   "metadata": {},
   "source": [
    "Content of featureCounts.R :"
   ]
  },
  {
   "cell_type": "code",
   "execution_count": null,
   "metadata": {
    "code_folding": [
     0
    ],
    "collapsed": true
   },
   "outputs": [],
   "source": [
    "### CODE ###\n",
    "#!/usr/bin/env Rscript\n",
    "\n",
    "args = commandArgs(trailingOnly=TRUE)\n",
    "in_file = paste(args[1], 'bam', sep = '.')\n",
    "out_file = paste('../FeatureCounts/', args[1], '.tsv', sep = '')\n",
    "\n",
    "library(Rsubread)\n",
    "\n",
    "fc = featureCounts(files=in_file,\n",
    "                   annot.ext=\"../../Data/Mus_musculus/gencode.vM14.chr_patch_hapl_scaff.annotation.gtf\",\n",
    "                   isGTFAnnotationFile=TRUE,\n",
    "                   GTF.featureType=\"exon\",\n",
    "                   GTF.attrType=\"gene_id\",\n",
    "                   chrAliases=\"../../Data/Mus_musculus/chr.aliases\",\n",
    "                   allowMultiOverlap=FALSE,\n",
    "                   ignoreDup=FALSE,\n",
    "                   isPairedEnd=TRUE,\n",
    "                   nthreads=8,\n",
    "                   minMQS=0,\n",
    "                   maxMOp=10,\n",
    "                   checkFragLength=FALSE,\n",
    "                   useMetaFeatures=TRUE,\n",
    "                   strandSpecific=2,\n",
    "                   requireBothEndsMapped=TRUE,\n",
    "                   countChimericFragments=FALSE,\n",
    "                   primaryOnly=TRUE)\n",
    "write.table(fc$counts, out_file, append= T, sep='\\t', col.names=NA)"
   ]
  },
  {
   "cell_type": "markdown",
   "metadata": {},
   "source": [
    "#### 4.2.2) Pefanis data"
   ]
  },
  {
   "cell_type": "markdown",
   "metadata": {},
   "source": [
    "##### a) Paired end"
   ]
  },
  {
   "cell_type": "code",
   "execution_count": null,
   "metadata": {
    "code_folding": [
     0
    ],
    "collapsed": true
   },
   "outputs": [],
   "source": [
    "### CODE ###\n",
    "path='/run/user/1000/gvfs/smb-share:server=ubox.unilim.fr,share=biscem/BioInformatique/Responsables/Commun/PTCB';\n",
    "cd $path/Outputs/Star;\n",
    "for id in 'SRR1302208' 'SRR1302283' 'SRR1302786' 'SRR1302787' 'SRR1302788' 'SRR1302789';\n",
    "do Rscript $path/Scripts/featureCounts.R $id;\n",
    "done &>> $path/Outputs/FeatureCounts/featureCounts.verbose;"
   ]
  },
  {
   "cell_type": "markdown",
   "metadata": {},
   "source": [
    "Content of featureCounts.R :"
   ]
  },
  {
   "cell_type": "code",
   "execution_count": null,
   "metadata": {
    "code_folding": [
     0
    ],
    "collapsed": true
   },
   "outputs": [],
   "source": [
    "### CODE ###\n",
    "#!/usr/bin/env Rscript\n",
    "\n",
    "args = commandArgs(trailingOnly=TRUE)\n",
    "in_file = paste(args[1], 'bam', sep = '.')\n",
    "out_file = paste('/run/user/1000/gvfs/smb-share:server=ubox.unilim.fr,share=biscem/BioInformatique/Responsables/Commun/PTCB/Outputs/FeatureCounts/', args[1], '.tsv', sep = '')\n",
    "\n",
    "library(Rsubread)\n",
    "print(paste('/run/user/1000/gvfs/smb-share:server=ubox.unilim.fr,share=biscem/BioInformatique/Responsables/Commun/PTCB/Star/', in_file, sep = ''))\n",
    "fc = featureCounts(files=paste('/run/user/1000/gvfs/smb-share:server=ubox.unilim.fr,share=biscem/BioInformatique/Responsables/Commun/PTCB/Star/', in_file, sep = ''),\n",
    "                   annot.ext=\"/run/user/1000/gvfs/smb-share:server=ubox.unilim.fr,share=biscem/BioInformatique/Responsables/Commun/PTCB/Data/Mus_musculus/gencode.vM14.chr_patch_hapl_scaff.annotation.gtf\",\n",
    "                   isGTFAnnotationFile=TRUE,\n",
    "                   GTF.featureType=\"exon\",\n",
    "                   GTF.attrType=\"gene_id\",\n",
    "                   chrAliases=\"/run/user/1000/gvfs/smb-share:server=ubox.unilim.fr,share=biscem/BioInformatique/Responsables/Commun/PTCB/chr.aliases\",\n",
    "                   allowMultiOverlap=FALSE,\n",
    "                   ignoreDup=FALSE,\n",
    "                   isPairedEnd=TRUE,\n",
    "                   nthreads=8,\n",
    "                   minMQS=0,\n",
    "                   maxMOp=10,\n",
    "                   checkFragLength=FALSE,\n",
    "                   useMetaFeatures=TRUE,\n",
    "                   strandSpecific=2,\n",
    "                   requireBothEndsMapped=TRUE,\n",
    "                   countChimericFragments=FALSE,\n",
    "                   primaryOnly=TRUE)\n",
    "write.table(fc$counts, out_file, append= T, sep='\\t', col.names=NA)"
   ]
  },
  {
   "cell_type": "markdown",
   "metadata": {},
   "source": [
    "##### b) Single end"
   ]
  },
  {
   "cell_type": "code",
   "execution_count": null,
   "metadata": {
    "code_folding": [
     0
    ],
    "collapsed": true
   },
   "outputs": [],
   "source": [
    "### CODE ###\n",
    "path='/run/user/1000/gvfs/smb-share:server=ubox.unilim.fr,share=biscem/BioInformatique/Responsables/Commun/PTCB';\n",
    "cd $path/Outputs/Star;\n",
    "for id in 'SRR1302414' 'SRR1302785';\n",
    "do Rscript $path/Scripts/featureCounts.R $id;\n",
    "done &>> $path/Outputs/FeatureCounts/featureCounts.verbose;"
   ]
  },
  {
   "cell_type": "markdown",
   "metadata": {},
   "source": [
    "Content of featureCounts.R :"
   ]
  },
  {
   "cell_type": "code",
   "execution_count": null,
   "metadata": {
    "code_folding": [
     0
    ],
    "collapsed": true
   },
   "outputs": [],
   "source": [
    "### CODE ###\n",
    "#!/usr/bin/env Rscript\n",
    "\n",
    "args = commandArgs(trailingOnly=TRUE)\n",
    "in_file = paste(args[1], 'bam', sep = '.')\n",
    "out_file = paste('/run/user/1000/gvfs/smb-share:server=ubox.unilim.fr,share=biscem/BioInformatique/Responsables/Commun/PTCB/Outputs/FeatureCounts/', args[1], '.tsv', sep = '')\n",
    "\n",
    "library(Rsubread)\n",
    "print(paste('/run/user/1000/gvfs/smb-share:server=ubox.unilim.fr,share=biscem/BioInformatique/Responsables/Commun/PTCB/Star/', in_file, sep = ''))\n",
    "fc = featureCounts(files=paste('/run/user/1000/gvfs/smb-share:server=ubox.unilim.fr,share=biscem/BioInformatique/Responsables/Commun/PTCB/Star/', in_file, sep = ''),\n",
    "                   annot.ext=\"/run/user/1000/gvfs/smb-share:server=ubox.unilim.fr,share=biscem/BioInformatique/Responsables/Commun/PTCB/Data/Mus_musculus/gencode.vM14.chr_patch_hapl_scaff.annotation.gtf\",\n",
    "                   isGTFAnnotationFile=TRUE,\n",
    "                   GTF.featureType=\"exon\",\n",
    "                   GTF.attrType=\"gene_id\",\n",
    "                   chrAliases=\"/run/user/1000/gvfs/smb-share:server=ubox.unilim.fr,share=biscem/BioInformatique/Responsables/Commun/PTCB/chr.aliases\",\n",
    "                   allowMultiOverlap=FALSE,\n",
    "                   ignoreDup=FALSE,\n",
    "                   isPairedEnd=FALSE,\n",
    "                   nthreads=8,\n",
    "                   minMQS=0,\n",
    "                   maxMOp=10,\n",
    "                   checkFragLength=FALSE,\n",
    "                   useMetaFeatures=TRUE,\n",
    "                   strandSpecific=0,\n",
    "                   countChimericFragments=FALSE,\n",
    "                   primaryOnly=TRUE)\n",
    "write.table(fc$counts, out_file, append= T, sep='\\t', col.names=NA)"
   ]
  },
  {
   "cell_type": "markdown",
   "metadata": {},
   "source": [
    "### 4.2) Kallisto"
   ]
  },
  {
   "cell_type": "markdown",
   "metadata": {},
   "source": [
    "On Genotoul via Kallisto, version 0.43.0 :"
   ]
  },
  {
   "cell_type": "markdown",
   "metadata": {},
   "source": [
    "#### 4.2.1) CRIBL data"
   ]
  },
  {
   "cell_type": "code",
   "execution_count": null,
   "metadata": {
    "code_folding": [
     0
    ],
    "collapsed": true
   },
   "outputs": [],
   "source": [
    "### CODE ###\n",
    "#!/bin/bash\n",
    "#$ -q workq\n",
    "#$ -m bea\n",
    "#$ -l mem=8G\n",
    "#$ -l h_vmem=30G\n",
    "#\n",
    "\n",
    "#####Alignment KALLISTO\n",
    "for id in '3B4_R' '3B4_S' '3pRR_R' '3pRR_S' 'DEL_R' 'DEL_S' 'IRIS_R' 'IRIS_S' 'PAL_R' 'PAL_S' 'WT_R' 'WT_S';\n",
    "do\n",
    "kallisto quant -i /home/hbastien/work/PTCB/mm10_transcriptome/Mus_musculus.GRCm38.cdna.all.idx -o kallisto$id'EP' -b 100 --rf-stranded /home/escaon/save/PTCB/Reads_raw_Nice_trim/$id'_1_EP_paired.fastq.gz' /home/escaon/save/PTCB/Reads_raw_Nice_trim/$id'_2_EP_paired.fastq.gz'\n",
    "done\n",
    "for id in '3pRR_R' '3pRR_S' 'EU_R' 'EU_S' 'MAR_R' 'MAR_S' 'WT_R' 'WT_S';\n",
    "do\n",
    "kallisto quant -i /home/hbastien/work/PTCB/mm10_transcriptome/Mus_musculus.GRCm38.cdna.all.idx -o kallisto$id'YD' -b 100 --rf-stranded /home/escaon/save/PTCB/Reads_raw_Nice_trim/$id'_1_YD_paired.fastq.gz' /home/escaon/save/PTCB/Reads_raw_Nice_trim/$id'_2_YD_paired.fastq.gz'\n",
    "done"
   ]
  },
  {
   "cell_type": "code",
   "execution_count": null,
   "metadata": {
    "code_folding": [
     0
    ],
    "collapsed": true
   },
   "outputs": [],
   "source": [
    "### CODE ###\n",
    "qsub manageKallisto.sh"
   ]
  },
  {
   "cell_type": "markdown",
   "metadata": {},
   "source": [
    "#### 4.2.2) Pefanis data"
   ]
  },
  {
   "cell_type": "markdown",
   "metadata": {},
   "source": [
    "##### a) Paired end"
   ]
  },
  {
   "cell_type": "code",
   "execution_count": null,
   "metadata": {
    "code_folding": [
     0
    ],
    "collapsed": true
   },
   "outputs": [],
   "source": [
    "### CODE ###\n",
    "#!/bin/bash\n",
    "#$ -q workq\n",
    "#$ -m bea\n",
    "#$ -l mem=8G\n",
    "#$ -l h_vmem=30G\n",
    "#\n",
    "\n",
    "#####Alignment KALLISTO PE\n",
    "for id in 'SRR1302208' 'SRR1302283' 'SRR1302786' 'SRR1302787' 'SRR1302788' 'SRR1302789';\n",
    "do\n",
    "kallisto quant -i /home/hbastien/work/PTCB/mm10_transcriptome/Mus_musculus.GRCm38.cdna.all.idx -o kallisto$id -b 100 /home/hbastien/work/PTCB/Pefanis_rebuild/'Trimmed_paired_'$id'_1.fastq' /home/hbastien/work/PTCB/Pefanis_rebuild/'Trimmed_paired_'$id'_2.fastq'\n",
    "done"
   ]
  },
  {
   "cell_type": "code",
   "execution_count": null,
   "metadata": {
    "code_folding": [
     0
    ],
    "collapsed": true
   },
   "outputs": [],
   "source": [
    "### CODE ###\n",
    "qsub manageKallistoPE.sh"
   ]
  },
  {
   "cell_type": "markdown",
   "metadata": {},
   "source": [
    "##### b) Single end"
   ]
  },
  {
   "cell_type": "code",
   "execution_count": null,
   "metadata": {
    "code_folding": [
     0
    ],
    "collapsed": true
   },
   "outputs": [],
   "source": [
    "### CODE ###\n",
    "#!/bin/bash\n",
    "#$ -q workq\n",
    "#$ -m bea\n",
    "#$ -l mem=8G\n",
    "#$ -l h_vmem=30G\n",
    "#\n",
    "\n",
    "#####Alignment KALLISTO SE\n",
    "for id in 'SRR1302414' 'SRR1302785';\n",
    "do\n",
    "kallisto quant -i /home/hbastien/work/PTCB/mm10_transcriptome/Mus_musculus.GRCm38.cdna.all.idx -o kallisto$id -b 100 --single -l 100 -s 20 /home/hbastien/work/PTCB/Pefanis_rebuild/'Trimmed_'$id'_1.fastq'\n",
    "done"
   ]
  },
  {
   "cell_type": "code",
   "execution_count": null,
   "metadata": {
    "code_folding": [
     0
    ],
    "collapsed": true
   },
   "outputs": [],
   "source": [
    "### CODE ###\n",
    "qsub manageKallistoSE.sh"
   ]
  },
  {
   "cell_type": "markdown",
   "metadata": {},
   "source": [
    "##### Retrieve count files locally :"
   ]
  },
  {
   "cell_type": "code",
   "execution_count": null,
   "metadata": {
    "code_folding": [
     0
    ],
    "collapsed": true
   },
   "outputs": [],
   "source": [
    "### CODE ###\n",
    "sudo scp -r hbastien@genotoul.toulouse.inra.fr:/home/hbastien/work/PTCB/kallisto* /run/user/1000/gvfs/smb-share:server=ubox.unilim.fr,share=biscem/BioInformatique/Responsables/Commun/PTCB/Outputs/Kallisto"
   ]
  },
  {
   "cell_type": "markdown",
   "metadata": {},
   "source": [
    "### 4.3) Downstream analysis compatibility\n",
    "Slightly modify featureCounts output to make it compatible with future steps of the analysis.\n",
    "We want our gene names to be the same than those contained in ensembl when retrieved with biomart."
   ]
  },
  {
   "cell_type": "markdown",
   "metadata": {},
   "source": [
    "#### 4.3.1) FeatureCounts"
   ]
  },
  {
   "cell_type": "markdown",
   "metadata": {},
   "source": [
    "Remove spreadsheet hidden ' \" ' for downstream compatility with our awk manipulation :"
   ]
  },
  {
   "cell_type": "code",
   "execution_count": null,
   "metadata": {
    "code_folding": [
     0
    ],
    "collapsed": true
   },
   "outputs": [],
   "source": [
    "### CODE ###\n",
    "cd ~/Desktop/PTCB/BISCEm/Outputs/FeatureCounts;\n",
    "for f in *.tsv;\n",
    "do sed 's/\\\"//g' $f > ${f%.*}\".temp.tsv\";\n",
    "done;"
   ]
  },
  {
   "cell_type": "markdown",
   "metadata": {},
   "source": [
    "Use awk sub to convert \"ENSMUSG00000098104.12\" -> \"ENSMUSG00000098104\" :"
   ]
  },
  {
   "cell_type": "code",
   "execution_count": null,
   "metadata": {
    "code_folding": [
     0
    ],
    "collapsed": true
   },
   "outputs": [],
   "source": [
    "### CODE ###\n",
    "for f in *.temp.tsv;\n",
    "do awk -F '\\t' -v OFS='\\t' 'NR > 1 {sub(/\\.[0-9]*/, \"\", $1)} 1' $f > ${f%%.*}\"_ensembl_gene_id.tsv\";\n",
    "done;\n",
    "rm *.temp.tsv;"
   ]
  },
  {
   "cell_type": "markdown",
   "metadata": {},
   "source": [
    "Check that the removal of \".[0-9]?\" from the gene id column did not change the number of unique gene ids :"
   ]
  },
  {
   "cell_type": "code",
   "execution_count": null,
   "metadata": {
    "code_folding": [
     0
    ],
    "collapsed": true
   },
   "outputs": [],
   "source": [
    "### CODE ###\n",
    "for f in *.tsv;\n",
    "do awk -F '\\t' '{print $1}' $f | sort -u | wc -l;\n",
    "done;"
   ]
  },
  {
   "cell_type": "markdown",
   "metadata": {},
   "source": [
    "We did show that transforming gene name \"ENSMUSG00000098104.12\" -> \"ENSMUSG00000098104\" did not change the number unique gene names."
   ]
  },
  {
   "cell_type": "markdown",
   "metadata": {},
   "source": [
    "#### 4.3.2) Kallisto"
   ]
  },
  {
   "cell_type": "markdown",
   "metadata": {},
   "source": [
    "Remove spreadsheet hidden ' \" ' for downstream compatility with our awk manipulation :"
   ]
  },
  {
   "cell_type": "code",
   "execution_count": null,
   "metadata": {
    "code_folding": [
     0
    ],
    "collapsed": true
   },
   "outputs": [],
   "source": [
    "### CODE ###\n",
    "cd /run/user/1000/gvfs/smb-share:server=ubox.unilim.fr,share=biscem/BioInformatique/Responsables/Commun/PTCB/Outputs/Kallisto;\n",
    "for d in ./*;\n",
    "do sed 's/\\\"//g' $d/\"abundance.tsv\" > $d/\"abundance.temp.tsv\";\n",
    "done;"
   ]
  },
  {
   "cell_type": "markdown",
   "metadata": {},
   "source": [
    "Use awk sub to convert \"ENSMUSG00000098104.12\" -> \"ENSMUSG00000098104\" :"
   ]
  },
  {
   "cell_type": "code",
   "execution_count": null,
   "metadata": {
    "code_folding": [
     0
    ],
    "collapsed": true
   },
   "outputs": [],
   "source": [
    "### CODE ###\n",
    "for d in ./*;\n",
    "do awk -F '\\t' -v OFS='\\t' 'NR > 1 {sub(/\\.[0-9]*/, \"\", $1)} 1' $d/\"abundance.tsv\" > $d/\"abundance_ensembl_gene_id.tsv\";\n",
    "rm $d/*.temp.tsv;\n",
    "done;"
   ]
  },
  {
   "cell_type": "markdown",
   "metadata": {},
   "source": [
    "Check that the removal of \".[0-9]?\" from the gene id column did not change the number of unique gene ids :"
   ]
  },
  {
   "cell_type": "code",
   "execution_count": null,
   "metadata": {
    "code_folding": [
     0
    ],
    "collapsed": true
   },
   "outputs": [],
   "source": [
    "### CODE ###\n",
    "for d in ./*;\n",
    "do awk -F '\\t' '{print $1}' $d/\"abundance.tsv\" | sort -u | wc -l;\n",
    "done;"
   ]
  },
  {
   "cell_type": "markdown",
   "metadata": {},
   "source": [
    "We did show that transforming gene name \"ENSMUSG00000098104.12\" -> \"ENSMUSG00000098104\" did not change the number unique gene names."
   ]
  },
  {
   "cell_type": "markdown",
   "metadata": {},
   "source": [
    "## 5) DE analysis"
   ]
  },
  {
   "cell_type": "markdown",
   "metadata": {},
   "source": [
    "Perfomed with DESeq2_1.16.1 (using Bioconductor 3.5 (BiocInstaller 1.26.0), R 3.4.1 (2017-06-30)) :"
   ]
  },
  {
   "cell_type": "markdown",
   "metadata": {},
   "source": [
    "##### A quick word regarding comparisions with no replicates"
   ]
  },
  {
   "cell_type": "markdown",
   "metadata": {},
   "source": [
    "From DESeq2 documentation (https://bioconductor.org/packages/release/bioc/vignettes/DESeq2/inst/doc/DESeq2.html#can-i-use-deseq2-to-analyze-a-dataset-without-replicates) : <br>\n",
    "Without replicates, a warning is printed, that the samples are treated as replicates for estimation of dispersion. This kind of analysis is only useful for exploring the data, but will not provide the kind of proper statistical inference on differences between groups. Without biological replicates, it is not possible to estimate the biological variability of each gene."
   ]
  },
  {
   "cell_type": "markdown",
   "metadata": {},
   "source": [
    "### 5.1) Resting vs Stimulated for the same mouse model + MA and Volcano plots"
   ]
  },
  {
   "cell_type": "markdown",
   "metadata": {},
   "source": [
    "#### 5.1.1) No replicates"
   ]
  },
  {
   "cell_type": "markdown",
   "metadata": {},
   "source": [
    "##### With FeatureCounts :"
   ]
  },
  {
   "cell_type": "code",
   "execution_count": 1,
   "metadata": {
    "code_folding": [],
    "collapsed": true
   },
   "outputs": [],
   "source": [
    "### CODE ###\n",
    "pathway='/run/user/1000/gvfs/smb-share:server=ubox.unilim.fr,share=biscem/BioInformatique/Responsables/Commun/PTCB';\n",
    "cd $pathway;\n",
    "arrayR=('3B4_R_EP' '3pRR_R_EP' 'DEL_R_EP' 'IRIS_R_EP' 'PAL_R_EP' 'WT_R_EP' '3pRR_R_YD' 'EU_R_YD' 'MAR_R_YD' 'WT_R_YD')\n",
    "arrayS=('3B4_S_EP' '3pRR_S_EP' 'DEL_S_EP' 'IRIS_S_EP' 'PAL_S_EP' 'WT_S_EP' '3pRR_S_YD' 'EU_S_YD' 'MAR_S_YD' 'WT_S_YD')\n",
    "\n",
    "length=${#arrayR[@]}\n",
    "for ((i=0;i<=$length-1;i++));\n",
    "do\n",
    "Rscript $pathway/Scripts/deseq2_R_vs_S_no_replicates_fc.R ${arrayR[$i]} ${arrayS[$i]} &>> $pathway/Outputs/DESeq2/Verbose/deseq2_R_vs_S_no_replicates_fc.verbose;\n",
    "done;"
   ]
  },
  {
   "cell_type": "markdown",
   "metadata": {},
   "source": [
    "Content of deseq2_R_vs_S_no_replicates_fc.R :"
   ]
  },
  {
   "cell_type": "code",
   "execution_count": 1,
   "metadata": {
    "code_folding": [],
    "collapsed": true
   },
   "outputs": [],
   "source": [
    "### CODE ###"
   ]
  },
  {
   "cell_type": "markdown",
   "metadata": {},
   "source": [
    "##### With Kallisto :"
   ]
  },
  {
   "cell_type": "code",
   "execution_count": 2,
   "metadata": {
    "code_folding": [],
    "collapsed": true
   },
   "outputs": [],
   "source": [
    "### CODE ###\n",
    "pathway='/run/user/1000/gvfs/smb-share:server=ubox.unilim.fr,share=biscem/BioInformatique/Responsables/Commun/PTCB';\n",
    "cd $pathway;\n",
    "arrayR=('3B4_R_EP' '3pRR_R_EP' 'DEL_R_EP' 'IRIS_R_EP' 'PAL_R_EP' 'WT_R_EP' '3pRR_R_YD' 'EU_R_YD' 'MAR_R_YD' 'WT_R_YD')\n",
    "arrayS=('3B4_S_EP' '3pRR_S_EP' 'DEL_S_EP' 'IRIS_S_EP' 'PAL_S_EP' 'WT_S_EP' '3pRR_S_YD' 'EU_S_YD' 'MAR_S_YD' 'WT_S_YD')\n",
    "\n",
    "length=${#arrayR[@]}\n",
    "for ((i=0;i<=$length-1;i++));\n",
    "do\n",
    "Rscript $pathway/Scripts/deseq2_R_vs_S_no_replicates_ka.R ${arrayR[$i]} ${arrayS[$i]} &>> $pathway/Outputs/DESeq2/Verbose/deseq2_R_vs_S_no_replicates_ka.verbose;\n",
    "done;"
   ]
  },
  {
   "cell_type": "markdown",
   "metadata": {},
   "source": [
    "Content of deseq2_R_vs_S_no_replicates_ka.R :"
   ]
  },
  {
   "cell_type": "code",
   "execution_count": null,
   "metadata": {
    "code_folding": [],
    "collapsed": true
   },
   "outputs": [],
   "source": [
    "### CODE ###"
   ]
  },
  {
   "cell_type": "markdown",
   "metadata": {},
   "source": [
    "#### 5.1.2) With replicates when available (i.e., 1 sample coming from Eric Pinaud and 1 from Yves Denizot)"
   ]
  },
  {
   "cell_type": "markdown",
   "metadata": {},
   "source": [
    "##### With FeatureCounts :"
   ]
  },
  {
   "cell_type": "code",
   "execution_count": 3,
   "metadata": {
    "code_folding": [],
    "collapsed": true
   },
   "outputs": [],
   "source": [
    "### CODE ###\n",
    "pathway='/run/user/1000/gvfs/smb-share:server=ubox.unilim.fr,share=biscem/BioInformatique/Responsables/Commun/PTCB';\n",
    "cd $pathway;\n",
    "arrayR1=('3pRR_R_EP' 'WT_R_EP')\n",
    "arrayR2=('3pRR_R_YD' 'WT_R_YD')\n",
    "arrayS1=('3pRR_S_EP' 'WT_S_EP')\n",
    "arrayS2=('3pRR_S_YD' 'WT_S_YD')\n",
    "\n",
    "length=${#arrayR1[@]}\n",
    "for ((i=0;i<=$length-1;i++));\n",
    "do\n",
    "Rscript $pathway/Scripts/deseq2_R_vs_S_with_replicates_fc.R ${arrayR1[$i]} ${arrayR2[$i]} ${arrayS1[$i]} ${arrayS2[$i]} &>> $pathway/Outputs/DESeq2/Verbose/deseq2_R_vs_S_with_replicates_fc.verbose;\n",
    "done;"
   ]
  },
  {
   "cell_type": "markdown",
   "metadata": {},
   "source": [
    "Content of deseq2_R_vs_S_with_replicates_fc.R :"
   ]
  },
  {
   "cell_type": "code",
   "execution_count": null,
   "metadata": {
    "code_folding": [],
    "collapsed": true
   },
   "outputs": [],
   "source": [
    "### CODE ###"
   ]
  },
  {
   "cell_type": "markdown",
   "metadata": {},
   "source": [
    "##### With Kallisto :"
   ]
  },
  {
   "cell_type": "code",
   "execution_count": 4,
   "metadata": {
    "code_folding": [],
    "collapsed": true
   },
   "outputs": [],
   "source": [
    "### CODE ###\n",
    "pathway='/run/user/1000/gvfs/smb-share:server=ubox.unilim.fr,share=biscem/BioInformatique/Responsables/Commun/PTCB';\n",
    "cd $pathway;\n",
    "arrayR1=('3pRR_R_EP' 'WT_R_EP')\n",
    "arrayR2=('3pRR_R_YD' 'WT_R_YD')\n",
    "arrayS1=('3pRR_S_EP' 'WT_S_EP')\n",
    "arrayS2=('3pRR_S_YD' 'WT_S_YD')\n",
    "\n",
    "length=${#arrayR1[@]}\n",
    "for ((i=0;i<=$length-1;i++));\n",
    "do\n",
    "Rscript $pathway/Scripts/deseq2_R_vs_S_with_replicates_ka.R ${arrayR1[$i]} ${arrayR2[$i]} ${arrayS1[$i]} ${arrayS2[$i]} &>> $pathway/Outputs/DESeq2/Verbose/deseq2_R_vs_S_with_replicates_ka.verbose;\n",
    "done;"
   ]
  },
  {
   "cell_type": "markdown",
   "metadata": {},
   "source": [
    "Content of deseq2_R_vs_S_with_replicates_ka.R :"
   ]
  },
  {
   "cell_type": "code",
   "execution_count": null,
   "metadata": {
    "code_folding": [],
    "collapsed": true
   },
   "outputs": [],
   "source": [
    "### CODE ###"
   ]
  },
  {
   "cell_type": "markdown",
   "metadata": {},
   "source": [
    "#### 5.1.3) Pooled R vs S with all mouse models & WT (EP, YD, EP+YD)"
   ]
  },
  {
   "cell_type": "markdown",
   "metadata": {},
   "source": [
    "Dunno if this comparison is useful"
   ]
  },
  {
   "cell_type": "code",
   "execution_count": null,
   "metadata": {
    "code_folding": [],
    "collapsed": true
   },
   "outputs": [],
   "source": [
    "### CODE ###\n",
    "path='/home/erwann/Desktop/PTCB/BISCEm';\n",
    "Rscript $path/Scripts/deseq2_R_vs_S_pooled.R &>> $path/Outputs/DESeq2/Verbose/deseq2_R_vs_S_pooled.verbose;"
   ]
  },
  {
   "cell_type": "markdown",
   "metadata": {},
   "source": [
    "Content of deseq2_R_vs_S_pooled.R for the first comparison :"
   ]
  },
  {
   "cell_type": "code",
   "execution_count": null,
   "metadata": {
    "code_folding": [],
    "collapsed": true
   },
   "outputs": [],
   "source": [
    "### CODE ###"
   ]
  },
  {
   "cell_type": "markdown",
   "metadata": {},
   "source": [
    "### 5.2) Mutant vs WT (for R and for S)"
   ]
  },
  {
   "cell_type": "markdown",
   "metadata": {},
   "source": [
    "#### 5.2.1) No replicates"
   ]
  },
  {
   "cell_type": "markdown",
   "metadata": {},
   "source": [
    "##### With FeatureCounts :"
   ]
  },
  {
   "cell_type": "code",
   "execution_count": 5,
   "metadata": {
    "code_folding": [],
    "collapsed": true
   },
   "outputs": [],
   "source": [
    "### CODE ###\n",
    "pathway='/run/user/1000/gvfs/smb-share:server=ubox.unilim.fr,share=biscem/BioInformatique/Responsables/Commun/PTCB';\n",
    "cd $pathway;\n",
    "array=('3B4_R_EP' '3B4_S_EP' '3pRR_R_EP' '3pRR_S_EP' 'DEL_R_EP' 'DEL_S_EP' 'IRIS_R_EP' 'IRIS_S_EP' 'PAL_R_EP' 'PAL_S_EP' '3pRR_R_YD' '3pRR_S_YD' 'EU_R_YD' 'EU_S_YD' 'MAR_R_YD' 'MAR_S_YD')\n",
    "\n",
    "length=${#array[@]}\n",
    "for ((i=0;i<=$length-1;i++));\n",
    "do\n",
    "Rscript $pathway/Scripts/deseq2_mutant_vs_wt_no_replicates_fc.R ${array[$i]} &>> $pathway/Outputs/DESeq2/Verbose/deseq2_mutant_vs_wt_no_replicates_fc.verbose;\n",
    "done;"
   ]
  },
  {
   "cell_type": "markdown",
   "metadata": {},
   "source": [
    "Content of deseq2_mutant_vs_wt_no_replicates_fc.R :"
   ]
  },
  {
   "cell_type": "code",
   "execution_count": 2,
   "metadata": {
    "code_folding": [],
    "collapsed": true
   },
   "outputs": [],
   "source": [
    "### CODE ###"
   ]
  },
  {
   "cell_type": "markdown",
   "metadata": {},
   "source": [
    "##### With Kallisto :"
   ]
  },
  {
   "cell_type": "code",
   "execution_count": 6,
   "metadata": {
    "code_folding": [],
    "collapsed": true
   },
   "outputs": [],
   "source": [
    "### CODE ###\n",
    "pathway='/run/user/1000/gvfs/smb-share:server=ubox.unilim.fr,share=biscem/BioInformatique/Responsables/Commun/PTCB';\n",
    "cd $pathway;\n",
    "array=('3B4_R_EP' '3B4_S_EP' '3pRR_R_EP' '3pRR_S_EP' 'DEL_R_EP' 'DEL_S_EP' 'IRIS_R_EP' 'IRIS_S_EP' 'PAL_R_EP' 'PAL_S_EP' '3pRR_R_YD' '3pRR_S_YD' 'EU_R_YD' 'EU_S_YD' 'MAR_R_YD' 'MAR_S_YD')\n",
    "\n",
    "length=${#array[@]}\n",
    "for ((i=0;i<=$length-1;i++));\n",
    "do\n",
    "Rscript $pathway/Scripts/deseq2_mutant_vs_wt_no_replicates_ka.R ${array[$i]} &>> $pathway/Outputs/DESeq2/Verbose/deseq2_mutant_vs_wt_no_replicates_ka.verbose;\n",
    "done;"
   ]
  },
  {
   "cell_type": "markdown",
   "metadata": {},
   "source": [
    "Content of deseq2_mutant_vs_wt_no_replicates_ka.R :"
   ]
  },
  {
   "cell_type": "code",
   "execution_count": null,
   "metadata": {
    "code_folding": [],
    "collapsed": true
   },
   "outputs": [],
   "source": [
    "### CODE ###"
   ]
  },
  {
   "cell_type": "markdown",
   "metadata": {},
   "source": [
    "#### 5.2.2) With replicates when available (i.e., 1 sample coming from Eric Pinaud \"EP\" and 1 from Yves Denizot \"YD\")"
   ]
  },
  {
   "cell_type": "markdown",
   "metadata": {},
   "source": [
    "##### 5.2.2.1) CRIBL"
   ]
  },
  {
   "cell_type": "markdown",
   "metadata": {},
   "source": [
    "##### With FeatureCounts :"
   ]
  },
  {
   "cell_type": "code",
   "execution_count": 7,
   "metadata": {
    "code_folding": [],
    "collapsed": true
   },
   "outputs": [],
   "source": [
    "### CODE ###\n",
    "pathway='/run/user/1000/gvfs/smb-share:server=ubox.unilim.fr,share=biscem/BioInformatique/Responsables/Commun/PTCB';\n",
    "cd $pathway;\n",
    "arrayR1=('3pRR_R_EP' '3pRR_S_EP')\n",
    "arrayR2=('3pRR_R_YD' '3pRR_S_YD')\n",
    "length=${#arrayR1[@]}\n",
    "for ((i=0;i<=$length-1;i++));\n",
    "do\n",
    "Rscript $pathway/Scripts/deseq2_mutant_vs_wt_with_replicates_fc.R ${arrayR1[$i]} ${arrayR2[$i]} &>> $pathway/Outputs/DESeq2/Verbose/deseq2_mutant_vs_wt_with_replicates_fc.verbose;\n",
    "done;"
   ]
  },
  {
   "cell_type": "markdown",
   "metadata": {},
   "source": [
    "Content of deseq2_mutant_vs_wt_with_replicates_fc.R :"
   ]
  },
  {
   "cell_type": "code",
   "execution_count": null,
   "metadata": {
    "code_folding": [],
    "collapsed": true
   },
   "outputs": [],
   "source": [
    "### CODE ###"
   ]
  },
  {
   "cell_type": "markdown",
   "metadata": {},
   "source": [
    "##### With Kallisto :"
   ]
  },
  {
   "cell_type": "code",
   "execution_count": 8,
   "metadata": {
    "code_folding": [],
    "collapsed": true
   },
   "outputs": [],
   "source": [
    "### CODE ###\n",
    "pathway='/run/user/1000/gvfs/smb-share:server=ubox.unilim.fr,share=biscem/BioInformatique/Responsables/Commun/PTCB';\n",
    "cd $pathway;\n",
    "arrayR1=('3pRR_R_EP' '3pRR_S_EP')\n",
    "arrayR2=('3pRR_R_YD' '3pRR_S_YD')\n",
    "length=${#arrayR1[@]}\n",
    "for ((i=0;i<=$length-1;i++));\n",
    "do\n",
    "Rscript $pathway/Scripts/deseq2_mutant_vs_wt_with_replicates_ka.R ${arrayR1[$i]} ${arrayR2[$i]} &>> $pathway/Outputs/DESeq2/Verbose/deseq2_mutant_vs_wt_with_replicates_ka.verbose;\n",
    "done;"
   ]
  },
  {
   "cell_type": "markdown",
   "metadata": {},
   "source": [
    "Content of deseq2_mutant_vs_wt_with_replicates_ka.R :"
   ]
  },
  {
   "cell_type": "code",
   "execution_count": null,
   "metadata": {
    "code_folding": [],
    "collapsed": true
   },
   "outputs": [],
   "source": [
    "### CODE ###"
   ]
  },
  {
   "cell_type": "markdown",
   "metadata": {},
   "source": [
    "##### 5.2.2.2) Pefanis"
   ]
  },
  {
   "cell_type": "markdown",
   "metadata": {},
   "source": [
    "##### With FeatureCounts :"
   ]
  },
  {
   "cell_type": "code",
   "execution_count": 23,
   "metadata": {
    "code_folding": [],
    "collapsed": true
   },
   "outputs": [],
   "source": [
    "### CODE ###\n",
    "pathway='/run/user/1000/gvfs/smb-share:server=ubox.unilim.fr,share=biscem/BioInformatique/Responsables/Commun/PTCB';\n",
    "cd $pathway;\n",
    "Rscript $pathway/Scripts/deseq2_mutant_vs_wt_pefanis_with_replicates_fc.R SRR1302208 SRR1302283 SRR1302414 SRR1302785 SRR1302786 SRR1302787 SRR1302788 SRR1302789 &>> $pathway/Outputs/DESeq2/Verbose/deseq2_mutant_vs_wt_pefanis_with_replicates_fc.verbose;"
   ]
  },
  {
   "cell_type": "markdown",
   "metadata": {},
   "source": [
    "Content of deseq2_mutant_vs_wt_pefanis_with_replicates_fc.R :"
   ]
  },
  {
   "cell_type": "code",
   "execution_count": null,
   "metadata": {
    "code_folding": [],
    "collapsed": true
   },
   "outputs": [],
   "source": [
    "### CODE ###"
   ]
  },
  {
   "cell_type": "markdown",
   "metadata": {},
   "source": [
    "##### With Kallisto :"
   ]
  },
  {
   "cell_type": "code",
   "execution_count": 10,
   "metadata": {
    "code_folding": [],
    "collapsed": true
   },
   "outputs": [],
   "source": [
    "### CODE ###\n",
    "pathway='/run/user/1000/gvfs/smb-share:server=ubox.unilim.fr,share=biscem/BioInformatique/Responsables/Commun/PTCB';\n",
    "cd $pathway;\n",
    "Rscript $pathway/Scripts/deseq2_mutant_vs_wt_pefanis_with_replicates_ka.R SRR1302208 SRR1302283 SRR1302414 SRR1302785 SRR1302786 SRR1302787 SRR1302788 SRR1302789 &>> $pathway/Outputs/DESeq2/Verbose/deseq2_mutant_vs_wt_pefanis_with_replicates_ka.verbose;"
   ]
  },
  {
   "cell_type": "markdown",
   "metadata": {},
   "source": [
    "Content of deseq2_mutant_vs_wt_pefanis_with_replicates_ka.R :"
   ]
  },
  {
   "cell_type": "code",
   "execution_count": null,
   "metadata": {
    "code_folding": [],
    "collapsed": true
   },
   "outputs": [],
   "source": [
    "### CODE ###"
   ]
  },
  {
   "cell_type": "markdown",
   "metadata": {},
   "source": [
    "### 5.3) Output formatting"
   ]
  },
  {
   "cell_type": "markdown",
   "metadata": {},
   "source": [
    "##### Point to Comma :"
   ]
  },
  {
   "cell_type": "code",
   "execution_count": null,
   "metadata": {
    "code_folding": [
     0
    ],
    "collapsed": true
   },
   "outputs": [],
   "source": [
    "### CODE ###\n",
    "cd ~/Desktop/PTCB/BISCEm/Outputs/DESeq2/Mutant_vs_WT_no_replicates;\n",
    "mkdir -p Comma;\n",
    "for f in *.tsv;\n",
    "do sed 's/\\./,/g' $f > Comma/${f%.*}'_comma.tsv';\n",
    "done;\n",
    "\n",
    "cd ~/Desktop/PTCB/BISCEm/Outputs/DESeq2/Mutant_vs_WT_with_replicates;\n",
    "mkdir -p Comma;\n",
    "for f in *.tsv;\n",
    "do sed 's/\\./,/g' $f > Comma/${f%.*}'_comma.tsv';\n",
    "done;\n",
    "\n",
    "cd ~/Desktop/PTCB/BISCEm/Outputs/DESeq2/R_vs_S_no_replicates;\n",
    "mkdir -p Comma;\n",
    "for f in *.tsv;\n",
    "do sed 's/\\./,/g' $f > Comma/${f%.*}'_comma.tsv';\n",
    "done;\n",
    "\n",
    "cd ~/Desktop/PTCB/BISCEm/Outputs/DESeq2/R_vs_S_pooled;\n",
    "mkdir -p Comma;\n",
    "for f in *.tsv;\n",
    "do sed 's/\\./,/g' $f > Comma/${f%.*}'_comma.tsv';\n",
    "done;\n",
    "\n",
    "cd ~/Desktop/PTCB/BISCEm/Outputs/DESeq2/R_vs_S_with_replicates;\n",
    "mkdir -p Comma;\n",
    "for f in *.tsv;\n",
    "do sed 's/\\./,/g' $f > Comma/${f%.*}'_comma.tsv';\n",
    "done;"
   ]
  },
  {
   "cell_type": "markdown",
   "metadata": {},
   "source": [
    "##### Top DE genes (no-replicates) :"
   ]
  },
  {
   "cell_type": "code",
   "execution_count": null,
   "metadata": {
    "code_folding": [
     0
    ],
    "collapsed": true
   },
   "outputs": [],
   "source": [
    "### CODE ###\n",
    "cd ~/Desktop/PTCB/BISCEm/Outputs/DESeq2/Mutant_vs_WT_no_replicates;\n",
    "mkdir -p Filtered_top_DE;\n",
    "for f in *.tsv;\n",
    "do awk -F '\\t' \\\n",
    "       'NR<2 \\\n",
    "       {print $0}' \\\n",
    "       $f \\\n",
    "       > Filtered_top_DE/${f%.*}\"_top_DE.tsv\";\n",
    "   awk -F '\\t' \\\n",
    "       'NR>1 \\\n",
    "       {if($5 > 2 || $5 < -2) \\\n",
    "        if($8 < 0.05) \\\n",
    "        if($10 >= 100 || $11 >= 100) \\\n",
    "        print $0}' \\\n",
    "        $f \\\n",
    "        >> Filtered_top_DE/${f%.*}\"_top_DE.tsv\";\n",
    "done;\n",
    "\n",
    "cd ~/Desktop/PTCB/BISCEm/Outputs/DESeq2/R_vs_S_no_replicates;\n",
    "mkdir -p Filtered_top_DE;\n",
    "for f in *.tsv;\n",
    "do awk -F '\\t' \\\n",
    "       'NR<2 \\\n",
    "       {print $0}' \\\n",
    "       $f \\\n",
    "       > Filtered_top_DE/${f%.*}\"_top_DE.tsv\";\n",
    "   awk -F '\\t' \\\n",
    "       'NR>1 \\\n",
    "       {if($5 > 2 || $5 < -2) \\\n",
    "        if($8 < 0.05) \\\n",
    "        if($10 >= 100 || $11 >= 100) \\\n",
    "        print $0}' \\\n",
    "        $f \\\n",
    "        >> Filtered_top_DE/${f%.*}\"_top_DE.tsv\";\n",
    "done;"
   ]
  },
  {
   "cell_type": "markdown",
   "metadata": {},
   "source": [
    "##### Top DE genes (with-replicates) :"
   ]
  },
  {
   "cell_type": "code",
   "execution_count": null,
   "metadata": {
    "code_folding": [
     0
    ],
    "collapsed": true
   },
   "outputs": [],
   "source": [
    "### CODE ###\n",
    "cd ~/Desktop/PTCB/BISCEm/Outputs/DESeq2/Mutant_vs_WT_with_replicates;\n",
    "mkdir -p Filtered_top_DE;\n",
    "for f in *.tsv;\n",
    "do awk -F '\\t' \\\n",
    "       'NR<2 \\\n",
    "       {print $0}' \\\n",
    "       $f \\\n",
    "       > Filtered_top_DE/${f%.*}\"_top_DE.tsv\";\n",
    "   awk -F '\\t' \\\n",
    "       'NR>1 \\\n",
    "       {if($9 < 0.05) \\\n",
    "        print $0}' \\\n",
    "        $f \\\n",
    "        >> Filtered_top_DE/${f%.*}\"_top_DE.tsv\";\n",
    "done;\n",
    "\n",
    "cd ~/Desktop/PTCB/BISCEm/Outputs/DESeq2/R_vs_S_pooled;\n",
    "mkdir -p Filtered_top_DE;\n",
    "for f in *.tsv;\n",
    "do awk -F '\\t' \\\n",
    "       'NR<2 \\\n",
    "       {print $0}' \\\n",
    "       $f \\\n",
    "       > Filtered_top_DE/${f%.*}\"_top_DE.tsv\";\n",
    "   awk -F '\\t' \\\n",
    "       'NR>1 \\\n",
    "       {if($9 < 0.05) \\\n",
    "        print $0}' \\\n",
    "        $f \\\n",
    "        >> Filtered_top_DE/${f%.*}\"_top_DE.tsv\";\n",
    "done;\n",
    "\n",
    "cd ~/Desktop/PTCB/BISCEm/Outputs/DESeq2/R_vs_S_with_replicates;\n",
    "mkdir -p Filtered_top_DE;\n",
    "for f in *.tsv;\n",
    "do awk -F '\\t' \\\n",
    "       'NR<2 \\\n",
    "       {print $0}' \\\n",
    "       $f \\\n",
    "       > Filtered_top_DE/${f%.*}\"_top_DE.tsv\";\n",
    "   awk -F '\\t' \\\n",
    "       'NR>1 \\\n",
    "       {if($9 < 0.05) \\\n",
    "        print $0}' \\\n",
    "        $f \\\n",
    "        >> Filtered_top_DE/${f%.*}\"_top_DE.tsv\";\n",
    "done;"
   ]
  },
  {
   "cell_type": "markdown",
   "metadata": {},
   "source": [
    "##### Genes of interest list for MAR vs WT :"
   ]
  },
  {
   "cell_type": "markdown",
   "metadata": {},
   "source": [
    "List \"genes_of_interest_mar.tsv\" is constructed from :\n",
    "- All members of the ARID family\n",
    "- All members of thee SATB family\n",
    "- Cux1\n",
    "- AID off targets genes in Liu et al., Nature Letters, 02/2008, Supp Fig1\n",
    "- Genes on the first page of Yamane et al., Nature Immunology, 01/2011, S1 Table"
   ]
  },
  {
   "cell_type": "code",
   "execution_count": null,
   "metadata": {
    "code_folding": [
     0
    ],
    "collapsed": true
   },
   "outputs": [],
   "source": [
    "### CODE ###\n",
    "# On filtered results\n",
    "cd ~/Desktop/PTCB/BISCEm/Outputs/DESeq2/Mutant_vs_WT_no_replicates/Filtered_top_DE;\n",
    "while read line;\n",
    "do grep $line MAR_vs_WT_R_YD_top_DE.tsv;\n",
    "done < ~/Desktop/PTCB/BISCEm/Mar/genes_of_interest_mar.tsv;\n",
    "# Nothing\n",
    "while read line;\n",
    "do grep $line MAR_vs_WT_S_YD_top_DE.tsv;\n",
    "done < ~/Desktop/PTCB/BISCEm/Mar/genes_of_interest_mar.tsv;\n",
    "# Nothing\n",
    "\n",
    "# Given that there was nothing on filtered, at least output those in raw data\n",
    "cd ~/Desktop/PTCB/BISCEm/Outputs/DESeq2/Mutant_vs_WT_no_replicates;\n",
    "while read line;\n",
    "do grep $line MAR_vs_WT_R_YD.tsv;\n",
    "done < ~/Desktop/PTCB/BISCEm/Mar/genes_of_interest_mar.tsv > ~/Desktop/PTCB/BISCEm/Mar/MAR_vs_WT_R_YD_gon.tsv;\n",
    "while read line;\n",
    "do grep $line MAR_vs_WT_S_YD.tsv;\n",
    "done < ~/Desktop/PTCB/BISCEm/Mar/genes_of_interest_mar.tsv > ~/Desktop/PTCB/BISCEm/Mar/MAR_vs_WT_S_YD_gon.tsv;"
   ]
  },
  {
   "cell_type": "markdown",
   "metadata": {
    "code_folding": []
   },
   "source": [
    "### 5.5) Heatmap"
   ]
  },
  {
   "cell_type": "markdown",
   "metadata": {},
   "source": [
    "#### 5.5.1) Heatmap R vs S"
   ]
  },
  {
   "cell_type": "code",
   "execution_count": 28,
   "metadata": {
    "code_folding": [],
    "collapsed": true
   },
   "outputs": [],
   "source": [
    "### CODE ###\n",
    "pathway='/run/user/1000/gvfs/smb-share:server=ubox.unilim.fr,share=biscem/BioInformatique/Responsables/Commun/PTCB';\n",
    "cd $pathway;\n",
    "array=('3B4_EP' '3pRR_EP' '3pRR_YD' 'DEL_EP' 'IRIS_EP' 'PAL_EP' 'EU_YD' 'MAR_YD' 'WT_EP' 'WT_YD')\n",
    "\n",
    "length=${#array[@]}\n",
    "for ((i=0;i<=$length-1;i++));\n",
    "do\n",
    "Rscript $pathway/Scripts/heatmap_RvS.R ${array[$i]} &>> $pathway/Outputs/Heatmap/Verbose/heatmap_RvS.verbose;\n",
    "done;"
   ]
  },
  {
   "cell_type": "markdown",
   "metadata": {},
   "source": [
    "Content of deseq2_heatmap_RvS_fc_nocluster.R :"
   ]
  },
  {
   "cell_type": "code",
   "execution_count": null,
   "metadata": {
    "collapsed": true
   },
   "outputs": [],
   "source": [
    "### CODE ###"
   ]
  },
  {
   "cell_type": "markdown",
   "metadata": {},
   "source": [
    "#### 5.5.2) Heatmap Mutant vs WT"
   ]
  },
  {
   "cell_type": "markdown",
   "metadata": {},
   "source": [
    "##### a) Resting heatmap"
   ]
  },
  {
   "cell_type": "code",
   "execution_count": 27,
   "metadata": {
    "code_folding": [],
    "collapsed": true
   },
   "outputs": [],
   "source": [
    "### CODE ###\n",
    "pathway='/run/user/1000/gvfs/smb-share:server=ubox.unilim.fr,share=biscem/BioInformatique/Responsables/Commun/PTCB';\n",
    "cd $pathway;\n",
    "array=('3B4_vs_WT_R_EP' '3pRR_vs_WT_R_EP' '3pRR_vs_WT_R_YD' 'DEL_vs_WT_R_EP' 'IRIS_vs_WT_R_EP' 'PAL_vs_WT_R_EP' 'EU_vs_WT_R_YD' 'MAR_vs_WT_R_YD')\n",
    "\n",
    "length=${#array[@]}\n",
    "for ((i=0;i<=$length-1;i++));\n",
    "do\n",
    "Rscript $pathway/Scripts/heatmap_MutantvWT_R.R ${array[$i]} &>> $pathway/Outputs/Heatmap/Verbose/heatmap_MutantvWT_R.verbose;\n",
    "done;"
   ]
  },
  {
   "cell_type": "markdown",
   "metadata": {},
   "source": [
    "Content of heatmap_MutantvWT_R.R :"
   ]
  },
  {
   "cell_type": "code",
   "execution_count": 3,
   "metadata": {
    "collapsed": true
   },
   "outputs": [],
   "source": [
    "### CODE ###"
   ]
  },
  {
   "cell_type": "markdown",
   "metadata": {},
   "source": [
    "##### b) Stimulated heatmap"
   ]
  },
  {
   "cell_type": "markdown",
   "metadata": {},
   "source": [
    "##### CRIBL"
   ]
  },
  {
   "cell_type": "code",
   "execution_count": 26,
   "metadata": {
    "code_folding": [],
    "collapsed": true
   },
   "outputs": [],
   "source": [
    "### CODE ###\n",
    "pathway='/run/user/1000/gvfs/smb-share:server=ubox.unilim.fr,share=biscem/BioInformatique/Responsables/Commun/PTCB';\n",
    "cd $pathway;\n",
    "array=('3B4_vs_WT_S_EP' '3pRR_vs_WT_S_EP' '3pRR_vs_WT_S_YD' 'DEL_vs_WT_S_EP' 'IRIS_vs_WT_S_EP' 'PAL_vs_WT_S_EP' 'EU_vs_WT_S_YD' 'MAR_vs_WT_S_YD')\n",
    "\n",
    "length=${#array[@]}\n",
    "for ((i=0;i<=$length-1;i++));\n",
    "do\n",
    "Rscript $pathway/Scripts/heatmap_MutantvWT_S.R ${array[$i]} &>> $pathway/Outputs/Heatmap/Verbose/heatmap_MutantvWT_S.verbose;\n",
    "done;"
   ]
  },
  {
   "cell_type": "markdown",
   "metadata": {},
   "source": [
    "Content of heatmap_MutantvWT_S.R :"
   ]
  },
  {
   "cell_type": "code",
   "execution_count": 8,
   "metadata": {
    "collapsed": true
   },
   "outputs": [],
   "source": [
    "### CODE ###"
   ]
  },
  {
   "cell_type": "markdown",
   "metadata": {},
   "source": [
    "##### Pefanis"
   ]
  },
  {
   "cell_type": "code",
   "execution_count": 25,
   "metadata": {
    "collapsed": true
   },
   "outputs": [],
   "source": [
    "### CODE ###\n",
    "pathway='/run/user/1000/gvfs/smb-share:server=ubox.unilim.fr,share=biscem/BioInformatique/Responsables/Commun/PTCB';\n",
    "cd $pathway;\n",
    "array=('KO_vs_WT_pefanis_dup')\n",
    "\n",
    "length=${#array[@]}\n",
    "for ((i=0;i<=$length-1;i++));\n",
    "do\n",
    "Rscript $pathway/Scripts/heatmap_MutantvWT_S_pefanis.R ${array[$i]} &>> $pathway/Outputs/Heatmap/Verbose/heatmap_MutantvWT_S_pefanis.verbose;\n",
    "done;"
   ]
  },
  {
   "cell_type": "markdown",
   "metadata": {},
   "source": [
    "Content of heatmap_MutantvWT_S_pefanis.R"
   ]
  },
  {
   "cell_type": "code",
   "execution_count": null,
   "metadata": {
    "collapsed": true
   },
   "outputs": [],
   "source": [
    "### CODE ###"
   ]
  },
  {
   "cell_type": "markdown",
   "metadata": {},
   "source": [
    "#### 5.5.3) Normalized counts heatmap"
   ]
  },
  {
   "cell_type": "markdown",
   "metadata": {},
   "source": [
    "The goal is to plot all significantly DE genes on a heatmap for all DESeq2 comparisons, even 1vs1 comparisons. The log2 of normalized counts is best suited for this purpose, as explained here : https://support.bioconductor.org/p/76712/. <br>\n",
    "\n",
    "For instance, consider 3B4_R vs 3B4_S comparison. To obtain a heatmap showing DE genes, we need a variable with values for both R and S. Log2(fold_change) cannot achieve this. Counts can fulfil this task, but we want to normalize them to avoid misinterpretation. It is suggested to use variance stabilized normalized counts (varianceStabilizingTransformation function). Given that the DE genes we consider significant are already filtered (on log2(fold_change), p_value and counts), they have robust counts and in those situations, varianceStabilizingTransformation is equivalent to using log2(normalized_count). Thus for the sake of simplicity, we will use log2(normalized_count)."
   ]
  },
  {
   "cell_type": "markdown",
   "metadata": {},
   "source": [
    "### 5.6) Normalized visualisation"
   ]
  },
  {
   "cell_type": "markdown",
   "metadata": {},
   "source": [
    "After DE genes have been called, biologists want to go back to \"the gene level\" and visualize said DE genes in a genome browser, with associated read pileup / coverage for each condition. <br>\n",
    "\n",
    "Two things have to be considered here : <br>\n",
    "- Direct visualization from raw BAMs is skewed, because DESeq2 called the DE genes based on normalized counts, not raw counts. Thus we need to \"normalize the BAM\". This is achieved by retrieving for each DESeq2 comparision the result of the \"sizeFactors(dds)\" command.  <br>\n",
    "See p5 of https://bioconductor.org/packages/release/bioc/manuals/DESeq2/man/DESeq2.pdf : \"whether or not to divide the counts by the size factors\".  <br>\n",
    "An example : Consider the 1vs1 comparison of WT_R_EP vs WT_S_EP. Associated size factors are 0.8560343 (R) and 1.1681774 (S). In the DESeq2 output, take a random result : \"ENSMUSG00000000078\", which have associated normalized counts : 10241.41 (R) & 925.37 (S). Now check that there were indeed obtained by dividing raw featureCounts counts by size factor : Count value for R : 8767, divided by 0.8560343 = 10241.41 & count value for S : 1081, divided by 1.1681774 = 925.37. <br>\n",
    "\n",
    "\n",
    "- Our data is paired and strand-specific, thus we can and should split BAM for the read pairs on the forward and on the reverse strand. This is achieved with the \"filterRNAstrand\" option within the bamCoverage software."
   ]
  },
  {
   "cell_type": "code",
   "execution_count": null,
   "metadata": {
    "code_folding": [
     0
    ],
    "collapsed": true
   },
   "outputs": [],
   "source": [
    "### CODE ###\n",
    "# Set paths & folders for normalized BAMs creation\n",
    "biscem='/home/erwann/Desktop/PTCB/BISCEm';\n",
    "mkdir -p $biscem/Outputs/Normalized_BAM/R_vs_S_no_replicates;\n",
    "mkdir -p $biscem/Outputs/Normalized_BAM/R_vs_S_with_replicates;\n",
    "mkdir -p $biscem/Outputs/Normalized_BAM/Mutant_vs_WT_no_replicates;\n",
    "mkdir -p $biscem/Outputs/Normalized_BAM/Mutant_vs_WT_with_replicates;\n",
    "mkdir -p $biscem/Outputs/Normalized_BAM/Verbose;\n",
    "\n",
    "############################\n",
    "### R_vs_S_no_replicates ###\n",
    "############################\n",
    "# Set scales for R_vs_S_no_replicates\n",
    "scale_3B4_R_EP=1.0019940;\n",
    "scale_3B4_S_EP=0.9980099;\n",
    "scale_3pRR_R_EP=1.0258757;\n",
    "scale_3pRR_S_EP=0.9747769;\n",
    "scale_DEL_R_EP=0.9876488;\n",
    "scale_DEL_S_EP=1.0125057;\n",
    "scale_IRIS_R_EP=1;\n",
    "scale_IRIS_S_EP=1;\n",
    "scale_PAL_R_EP=0.9251799;\n",
    "scale_PAL_S_EP=1.0808709;\n",
    "scale_WT_R_EP=0.8560343;\n",
    "scale_WT_S_EP=1.1681774;\n",
    "scale_3pRR_R_YD=1.4699883;\n",
    "scale_3pRR_S_YD=0.6802775;\n",
    "scale_EU_R_YD=1.0939116;\n",
    "scale_EU_S_YD=0.9141506;\n",
    "scale_MAR_R_YD=1.7791104;\n",
    "scale_MAR_S_YD=0.5620787;\n",
    "scale_WT_R_YD=0.9906975;\n",
    "scale_WT_S_YD=1.0093899;\n",
    "\n",
    "# Proceed BAMs with bamCoverage\n",
    "cd $biscem/Outputs/Mapped_vs_GRCm38.p5;\n",
    "for f in *.bam;\n",
    "do scale=$(eval printf \"$\"\"scale_\"${f%.*});\n",
    "   bamCoverage --bam $f \\\n",
    "               --outFileName $biscem/Outputs/Normalized_BAM/R_vs_S_no_replicates/${f%.*}\"_forward_strand.bedgraph\" \\\n",
    "               --outFileFormat bedgraph \\\n",
    "               --scaleFactor $scale \\\n",
    "               --filterRNAstrand forward \\\n",
    "               --binSize 1 \\\n",
    "               --numberOfProcessors max \\\n",
    "               --verbose;\n",
    "   bamCoverage --bam $f \\\n",
    "               --outFileName $biscem/Outputs/Normalized_BAM/R_vs_S_no_replicates/${f%.*}\"_reverse_strand.bedgraph\" \\\n",
    "               --outFileFormat bedgraph \\\n",
    "               --scaleFactor $scale \\\n",
    "               --filterRNAstrand reverse \\\n",
    "               --binSize 1 \\\n",
    "               --numberOfProcessors max \\\n",
    "               --verbose;\n",
    "done &>> $biscem/Outputs/Normalized_BAM/Verbose/r_vs_s_no_replicates.verbose;\n",
    "\n",
    "##############################\n",
    "### R_vs_S_with_replicates ###\n",
    "##############################\n",
    "# Set scales for R_vs_S_with_replicates\n",
    "scale_3pRR_R_EP=1.5761964;\n",
    "scale_3pRR_R_YD=0.9873693;\n",
    "scale_3pRR_S_EP=1.4713837;\n",
    "scale_3pRR_S_YD=0.4476779;\n",
    "scale_WT_R_EP=0.9898616;\n",
    "scale_WT_R_YD=0.8120548;\n",
    "scale_WT_S_EP=1.4213428;\n",
    "scale_WT_S_YD=0.8887980;\n",
    "\n",
    "# Proceed BAMs with bamCoverage\n",
    "cd $biscem/Outputs/Mapped_vs_GRCm38.p5;\n",
    "for id in '3pRR_R_EP' '3pRR_R_YD' '3pRR_S_EP' '3pRR_S_YD' 'WT_R_EP' 'WT_R_YD' 'WT_S_EP' 'WT_S_YD';\n",
    "do scale=$(eval printf \"$\"\"scale_\"$id);\n",
    "   bamCoverage --bam $id.bam \\\n",
    "               --outFileName $biscem/Outputs/Normalized_BAM/R_vs_S_with_replicates/$id\"_forward_strand.bedgraph\" \\\n",
    "               --outFileFormat bedgraph \\\n",
    "               --scaleFactor $scale \\\n",
    "               --filterRNAstrand forward \\\n",
    "               --binSize 1 \\\n",
    "               --numberOfProcessors max \\\n",
    "               --verbose;\n",
    "   bamCoverage --bam $id.bam \\\n",
    "               --outFileName $biscem/Outputs/Normalized_BAM/R_vs_S_with_replicates/$id\"_reverse_strand.bedgraph\" \\\n",
    "               --outFileFormat bedgraph \\\n",
    "               --scaleFactor $scale \\\n",
    "               --filterRNAstrand reverse \\\n",
    "               --binSize 1 \\\n",
    "               --numberOfProcessors max \\\n",
    "               --verbose;\n",
    "done &>> $biscem/Outputs/Normalized_BAM/Verbose/r_vs_s_with_replicates.verbose;\n",
    "\n",
    "##################################\n",
    "### Mutant_vs_WT_no_replicates ###\n",
    "##################################\n",
    "# Set scales for Mutant_vs_WT_no_replicates\n",
    "scale_WT_3B4_R_EP=0.8551271; \n",
    "scale_3B4_R_EP=1.1694168;\n",
    "scale_WT_3B4_S_EP=1.0536938;\n",
    "scale_3B4_S_EP=0.9490423;\n",
    "scale_WT_3pRR_R_EP=0.8129696;\n",
    "scale_3pRR_R_EP=1.2300583;\n",
    "scale_WT_3pRR_S_EP=1.0164029;\n",
    "scale_3pRR_S_EP=0.9838618;\n",
    "scale_WT_DEL_R_EP=0.8951107;\n",
    "scale_DEL_R_EP=1.1171802;\n",
    "scale_WT_DEL_S_EP=1.0173134;\n",
    "scale_DEL_S_EP=0.9829813;\n",
    "scale_WT_IRIS_R_EP=0.8257228;\n",
    "scale_IRIS_R_EP=1.2110601;\n",
    "scale_WT_IRIS_S_EP=0.9916549;\n",
    "scale_IRIS_S_EP=1.0084153;\n",
    "scale_WT_PAL_R_EP=0.8831167;\n",
    "scale_PAL_R_EP=1.1323531;\n",
    "scale_WT_PAL_S_EP=0.9969528;\n",
    "scale_PAL_S_EP=1.0030566;\n",
    "scale_WT_3pRR_R_YD=0.9364606;\n",
    "scale_3pRR_R_YD=1.0678505;\n",
    "scale_WT_3pRR_S_YD=1.4142136;\n",
    "scale_3pRR_S_YD=0.7071068;\n",
    "scale_WT_EU_R_YD=1.1547005;\n",
    "scale_EU_R_YD=0.8660254;\n",
    "scale_WT_EU_S_YD=1.3740364;\n",
    "scale_EU_S_YD=0.7277828;\n",
    "scale_WT_MAR_R_YD=0.8312094;\n",
    "scale_MAR_R_YD=1.2030663;\n",
    "scale_WT_MAR_S_YD=1.544631;\n",
    "scale_MAR_S_YD=0.647404;\n",
    "\n",
    "# Proceed BAMs with bamCoverage\n",
    "cd $biscem/Outputs/Mapped_vs_GRCm38.p5;\n",
    "for id in '3B4_R_EP' '3B4_S_EP' '3pRR_R_EP' '3pRR_S_EP' 'DEL_R_EP' 'DEL_S_EP' 'IRIS_R_EP' 'IRIS_S_EP' 'PAL_R_EP' 'PAL_S_EP' '3pRR_R_YD' '3pRR_S_YD' 'EU_R_YD' 'EU_S_YD' 'MAR_R_YD' 'MAR_S_YD';\n",
    "do scale=$(eval printf \"$\"\"scale_\"$id);\n",
    "   bamCoverage --bam $id.bam \\\n",
    "               --outFileName $biscem/Outputs/Normalized_BAM/Mutant_vs_WT_no_replicates/$id\"_forward_strand.bedgraph\" \\\n",
    "               --outFileFormat bedgraph \\\n",
    "               --scaleFactor $scale \\\n",
    "               --filterRNAstrand forward \\\n",
    "               --binSize 1 \\\n",
    "               --numberOfProcessors max \\\n",
    "               --verbose;\n",
    "   bamCoverage --bam $id.bam \\\n",
    "               --outFileName $biscem/Outputs/Normalized_BAM/Mutant_vs_WT_no_replicates/$id\"_reverse_strand.bedgraph\" \\\n",
    "               --outFileFormat bedgraph \\\n",
    "               --scaleFactor $scale \\\n",
    "               --filterRNAstrand reverse \\\n",
    "               --binSize 1 \\\n",
    "               --numberOfProcessors max \\\n",
    "               --verbose;\n",
    "   scale=$(eval printf \"$\"\"scale_WT_\"$id);\n",
    "   mutant=${id%%_*};\n",
    "   wt_file=$(echo $id | sed 's/'$mutant'/WT/g');\n",
    "   bamCoverage --bam $wt_file.bam \\\n",
    "               --outFileName $biscem/Outputs/Normalized_BAM/Mutant_vs_WT_no_replicates/\"WT_\"$id\"_forward_strand.bedgraph\" \\\n",
    "               --outFileFormat bedgraph \\\n",
    "               --scaleFactor $scale \\\n",
    "               --filterRNAstrand forward \\\n",
    "               --binSize 1 \\\n",
    "               --numberOfProcessors max \\\n",
    "               --verbose;\n",
    "   bamCoverage --bam $wt_file.bam \\\n",
    "               --outFileName $biscem/Outputs/Normalized_BAM/Mutant_vs_WT_no_replicates/\"WT_\"$id\"_reverse_strand.bedgraph\" \\\n",
    "               --outFileFormat bedgraph \\\n",
    "               --scaleFactor $scale \\\n",
    "               --filterRNAstrand reverse \\\n",
    "               --binSize 1 \\\n",
    "               --numberOfProcessors max \\\n",
    "               --verbose;\n",
    "done &>> $biscem/Outputs/Normalized_BAM/Verbose/mutant_vs_wt_no_replicates.verbose;\n",
    "\n",
    "####################################\n",
    "### Mutant_vs_WT_with_replicates ###\n",
    "####################################\n",
    "# Set scales for Mutant_vs_WT_with_replicates\n",
    "scale_WT_R_EP=0.9528320;\n",
    "scale_WT_R_YD=0.7785160;\n",
    "scale_threepRR_R_EP=1.5078916;\n",
    "scale_threepRR_R_YD=0.8942223;\n",
    "scale_WT_S_EP=1.5711080;\n",
    "scale_WT_S_YD=0.9494035;\n",
    "scale_threepRR_S_EP=1.5365522;\n",
    "scale_threepRR_S_YD=0.4591498;\n",
    "\n",
    "# Proceed BAMs with bamCoverage\n",
    "cd $biscem/Outputs/Mapped_vs_GRCm38.p5;\n",
    "for id in 'WT_R_EP' 'WT_R_YD' 'threepRR_R_EP' 'threepRR_R_YD' 'WT_S_EP' 'WT_S_YD' 'threepRR_S_EP' 'threepRR_S_YD';\n",
    "do scale=$(eval printf \"$\"\"scale_\"$id);\n",
    "   bamCoverage --bam $id.bam \\\n",
    "               --outFileName $biscem/Outputs/Normalized_BAM/Mutant_vs_WT_with_replicates/$id\"_forward_strand.bedgraph\" \\\n",
    "               --outFileFormat bedgraph \\\n",
    "               --scaleFactor $scale \\\n",
    "               --filterRNAstrand forward \\\n",
    "               --binSize 1 \\\n",
    "               --numberOfProcessors max \\\n",
    "               --verbose;\n",
    "   bamCoverage --bam $id.bam \\\n",
    "               --outFileName $biscem/Outputs/Normalized_BAM/Mutant_vs_WT_with_replicates/$id\"_reverse_strand.bedgraph\" \\\n",
    "               --outFileFormat bedgraph \\\n",
    "               --scaleFactor $scale \\\n",
    "               --filterRNAstrand reverse \\\n",
    "               --binSize 1 \\\n",
    "               --numberOfProcessors max \\\n",
    "               --verbose;\n",
    "done &>> $biscem/Outputs/Normalized_BAM/Verbose/mutant_vs_wt_with_replicates.verbose;"
   ]
  },
  {
   "cell_type": "markdown",
   "metadata": {},
   "source": [
    "### 5.7) Antisense transcription"
   ]
  }
 ],
 "metadata": {
  "anaconda-cloud": {},
  "celltoolbar": "Raw Cell Format",
  "kernelspec": {
   "display_name": "Bash",
   "language": "bash",
   "name": "bash"
  },
  "language_info": {
   "codemirror_mode": "shell",
   "file_extension": ".sh",
   "mimetype": "text/x-sh",
   "name": "bash"
  }
 },
 "nbformat": 4,
 "nbformat_minor": 1
}
