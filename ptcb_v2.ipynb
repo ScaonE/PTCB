{
 "cells": [
  {
   "cell_type": "markdown",
   "metadata": {},
   "source": [
    "# PTCB project"
   ]
  },
  {
   "cell_type": "markdown",
   "metadata": {},
   "source": [
    "##### TODO\n",
    "- Exploration des transcrits anti-sens : <br>\n",
    "Finir de setup Sandrine pour utilisation d'IGV (install sur son PC + load bigwig et annotation GENCODE). <br>\n",
    "Ajouter annotation manquantes \"à la main\" (custom track d'annotation) sur le locus IgH quand Sandrine nous les aura fourni. <br>\n",
    "Tester le pipeline UClnrR pour une exploration systématique : http://bioinformaticstools.mayo.edu/research/uclncr-pipeline.\n",
    "\n",
    "\n",
    "- Kallisto : Quantification des transcrits.\n",
    "\n",
    "\n",
    "\n",
    "- Trouver le meilleur moyen de vérifier la reproductibilité des réplicats.\n",
    "\n",
    "\n",
    "- Justifier / vérifier que les comptes sont bien strand-specific : <br>\n",
    "Soit trouver littérature qui dit que featureCounts, à partir de l'annotation (GENCODE), ne compte que les paires de reads qui ont pour brin originel le brin +/- indiqué pour chaque gène. Trouver également littérature qui justifie pour Kallisto (on sait déjà pour ces deux outils qu'il y a des paramètres de strand-spécificité). <br>\n",
    "Soit vérifier un cas \"à la main\", cad trouver dans un dataset un endroit où il y a profondeur de reads sur chaque brin, et alors vérifier que les comptes sont bons.\n",
    "\n",
    "\n",
    "- QC step after mapping : <br>\n",
    "rseqc (http://rseqc.sourceforge.net/). <br>\n",
    "Launch MultiQC on STAR \"log files\".\n",
    "\n",
    "\n",
    "- Justifier l'utilisation de DESeq2 pour les cas sans réplicats : Pourquoi lui plutot que par exemple EdgeR ?\n",
    "\n",
    "\n",
    "- Comparaison avec résultats de Nice."
   ]
  },
  {
   "cell_type": "markdown",
   "metadata": {},
   "source": [
    "##### Notes"
   ]
  },
  {
   "cell_type": "markdown",
   "metadata": {},
   "source": [
    "Report :\n",
    "http://unil.im/Ly33D\n",
    "\n",
    "Normalization :\n",
    "http://unil.im/kdTj5\n",
    "\n",
    "FeatureCounts tests :\n",
    "http://unil.im/2sAq6\n",
    "\n",
    "Read counts step by step :\n",
    "http://unil.im/Ic1Wc\n",
    "\n",
    "Les souris utilisés par Limoges sont issus d'un \"croisement\" C57BL/6J avec SV129. La seule chose certaines au vue de la manipulation est que le locus IgH est 100% SV129. Pour le reste c'est hétérogène. Et rappel : Input RNA-seq <=> pool de 3 individus (ayant donc des génomes proches mais de différentes mosaïques C57BL/6J - SV129).\n",
    "\n",
    "Pefanis : Correspond à du stimulé.\n",
    "\n",
    "Réplicats (incoming) : 1 R \"Eµ FL KO\" (replicat de Yves EU), 1 R MAR Ko (replicat de Yves) & 2 R cEµ KO.\n",
    "\n",
    "Histoire de recomb/transloc random qui peuvent générer des reads en anti-sens sur le génome => need de prendre le BAM, de soustraire tous les reads qui sont sur un locus : \"gene pos pos strand\" connu, puis de regarder ce qu'il reste?\n",
    "\n",
    "Ce sont des souris mâles pour toutes les manips EP et YD."
   ]
  },
  {
   "cell_type": "markdown",
   "metadata": {},
   "source": [
    "## 1) Data"
   ]
  },
  {
   "cell_type": "markdown",
   "metadata": {},
   "source": [
    "### 1.1) Raw reads"
   ]
  },
  {
   "cell_type": "markdown",
   "metadata": {},
   "source": [
    "#### 1.1.1) CRIBL data"
   ]
  },
  {
   "cell_type": "markdown",
   "metadata": {},
   "source": [
    "Eric : 3B4, 3pRR, DEL, IRIS, PAL, WT. <br>\n",
    "Yves : 3pRR, EU, MAR, WT. <br>"
   ]
  },
  {
   "cell_type": "code",
   "execution_count": null,
   "metadata": {
    "code_folding": [
     0
    ],
    "collapsed": true
   },
   "outputs": [],
   "source": [
    "### CODE ###\n",
    "mkdir -p ~/Desktop/PTCB/BISCEm/Data/Reads_raw_Nice;\n",
    "cd ~/Desktop/PTCB/BISCEm/Data/Reads_raw_Nice;"
   ]
  },
  {
   "cell_type": "code",
   "execution_count": null,
   "metadata": {
    "code_folding": [
     0
    ],
    "collapsed": true
   },
   "outputs": [],
   "source": [
    "### CODE ###\n",
    "# Stored @Sophia Antipolis\n",
    "axel -q http://www.genomique.info/data/public/000-export/151109_pinaud.tar;\n",
    "axel -q http://www.genomique.info/data/public/000-export/DEL_IRIS_fastq.tar;\n",
    "axel -q http://www.genomique.info/data/public/000-export/160627_denizot.tar;\n",
    "tar -xvf *.tar;"
   ]
  },
  {
   "cell_type": "markdown",
   "metadata": {},
   "source": [
    "And some files renaming (for which I lost the script)."
   ]
  },
  {
   "cell_type": "markdown",
   "metadata": {},
   "source": [
    "#### 1.1.2) Pefanis data"
   ]
  },
  {
   "cell_type": "markdown",
   "metadata": {},
   "source": [
    "Retrieve all \"BC\" samples : https://www.ncbi.nlm.nih.gov/sra?term=SRP042355 :"
   ]
  },
  {
   "cell_type": "code",
   "execution_count": null,
   "metadata": {
    "code_folding": [
     0
    ],
    "collapsed": true
   },
   "outputs": [],
   "source": [
    "### CODE ###\n",
    "for id in 'SRR1302208' 'SRR1302283' 'SRR1302414' \\\n",
    "           'SRR1302785' 'SRR1302786' 'SRR1302787' \\\n",
    "           'SRR1302788' 'SRR1302789' 'SRR1984164' \\\n",
    "           'SRR1984166' 'SRR1984167' 'SRR1984178';\n",
    "do fastq-dump -O . --split-files $id;\n",
    "done;"
   ]
  },
  {
   "cell_type": "markdown",
   "metadata": {},
   "source": [
    "### 1.2) Mus musculus"
   ]
  },
  {
   "cell_type": "markdown",
   "metadata": {},
   "source": [
    "#### 1.2.1) Reference genome & associated GFF"
   ]
  },
  {
   "cell_type": "markdown",
   "metadata": {},
   "source": [
    "Downloaded from the \"Genome Reference Consortium\", latest realease = GRCm38.p5 :"
   ]
  },
  {
   "cell_type": "code",
   "execution_count": null,
   "metadata": {
    "code_folding": [
     0
    ],
    "collapsed": true
   },
   "outputs": [],
   "source": [
    "### CODE ###\n",
    "mkdir -p ~/Desktop/PTCB/BISCEm/Data/Mus_musculus;\n",
    "cd ~/Desktop/PTCB/BISCEm/Data/Mus_musculus;"
   ]
  },
  {
   "cell_type": "code",
   "execution_count": null,
   "metadata": {
    "code_folding": [
     0
    ],
    "collapsed": true
   },
   "outputs": [],
   "source": [
    "### CODE ###\n",
    "url='ftp://ftp.ncbi.nlm.nih.gov/genomes/all/GCA/000/001/635/GCA_000001635.7_GRCm38.p5';\n",
    "axel -q $url/GCA_000001635.7_GRCm38.p5_genomic.fna.gz;\n",
    "wget -nv $url/GCA_000001635.7_GRCm38.p5_genomic.gff.gz;\n",
    "unpigz *_GRCm38.p5_genomic*;"
   ]
  },
  {
   "cell_type": "markdown",
   "metadata": {},
   "source": [
    "Check if they contains the same sequences names :"
   ]
  },
  {
   "cell_type": "code",
   "execution_count": null,
   "metadata": {
    "code_folding": [
     0
    ],
    "collapsed": true
   },
   "outputs": [],
   "source": [
    "### CODE ###\n",
    "grep '^>' GCA_000001635.7_GRCm38.p5_genomic.fna | sort -u > fna.txt\n",
    "sed -i 's/>//' fna.txt \n",
    "awk -F \"[[:space:]]\" '{print $1}' fna.txt > fna_final.txt\n",
    "awk -F \"\\t\" '{if($0 !~ /^#/) print $1}' GCA_000001635.7_GRCm38.p5_genomic.gff | sort -u > gff.txt\n",
    "diff fna_final.txt gff.txt"
   ]
  },
  {
   "cell_type": "markdown",
   "metadata": {},
   "source": [
    "If the diff command produce no output, it's okay. <br>\n",
    "One last thing, to avoid potential incompatilities in downstream analysis :"
   ]
  },
  {
   "cell_type": "code",
   "execution_count": null,
   "metadata": {
    "code_folding": [
     0
    ],
    "collapsed": true
   },
   "outputs": [],
   "source": [
    "### CODE ###\n",
    "grep '^>' GCA_000001635.7_GRCm38.p5_genomic.fna | head -2;\n",
    "awk -F \"\\t\" '{if($0 !~ /^#/) print $1}' GCA_000001635.7_GRCm38.p5_genomic.gff | head -2;"
   ]
  },
  {
   "cell_type": "markdown",
   "metadata": {},
   "source": [
    "What we have just shown is that sequences headers in the FNA file are more verbose than the associated name for the same sequence in the GFF file. Given that this extra info is not critical, let's discard it & check that we did this successfully :"
   ]
  },
  {
   "cell_type": "code",
   "execution_count": null,
   "metadata": {
    "code_folding": [
     0
    ],
    "collapsed": true
   },
   "outputs": [],
   "source": [
    "### CODE ###\n",
    "gawk -i inplace -F \"[[:space:]]\" '{if($0 ~ /^>/) $0 = $1; print}' GCA_000001635.7_GRCm38.p5_genomic.fna;\n",
    "grep '^>' GCA_000001635.7_GRCm38.p5_genomic.fna | head -2;\n",
    "awk -F \"\\t\" '{if($0 !~ /^#/) print $1}' GCA_000001635.7_GRCm38.p5_genomic.gff | head -2;"
   ]
  },
  {
   "cell_type": "markdown",
   "metadata": {},
   "source": [
    "Load stuff on Genotoul :"
   ]
  },
  {
   "cell_type": "code",
   "execution_count": null,
   "metadata": {
    "code_folding": [
     0
    ],
    "collapsed": true
   },
   "outputs": [],
   "source": [
    "### CODE ###\n",
    "sudo scp *_GRCm38.p5_genomic* escaon@genotoul.toulouse.inra.fr:/home/escaon/work/PTCB/Mus_musculus;"
   ]
  },
  {
   "cell_type": "markdown",
   "metadata": {},
   "source": [
    "Remove useless files & compress the remaining for local storage :"
   ]
  },
  {
   "cell_type": "code",
   "execution_count": null,
   "metadata": {
    "code_folding": [
     0
    ],
    "collapsed": true
   },
   "outputs": [],
   "source": [
    "### CODE ###\n",
    "rm *.txt;\n",
    "pigz *_GRCm38.p5_genomic*;"
   ]
  },
  {
   "cell_type": "markdown",
   "metadata": {},
   "source": [
    "#### 1.2.2) Reference transcriptome"
   ]
  },
  {
   "cell_type": "markdown",
   "metadata": {},
   "source": [
    "Which refererence transcriptome to use with Kallisto ? <br>\n",
    "\n",
    "Asked question : I plan to work with Kallisto on the mus musculus transcriptome : Which DB should I use to retrieve the transcriptome ? : Genbank, Ensembl or UCSC ? <br>\n",
    "\n",
    "Answer (Kallisto authors) : \"Anyway, our links would simply point you to the ensembl transcriptome when it exists. We typically use this as it is fairly complete (by comparison with others) and the transcript to gene name mapping is pretty nice (also by comparison with others).\" <br>\n",
    "\n",
    "Thus we retrieve transcriptome from Ensembl latest release and use cdna + ncrna (to cover almost as many genes as the GENCODE annotation used with featureCounts). <br>"
   ]
  },
  {
   "cell_type": "code",
   "execution_count": null,
   "metadata": {
    "code_folding": [
     0
    ],
    "collapsed": true
   },
   "outputs": [],
   "source": [
    "### CODE ###\n",
    "mkdir -p /media/sf_raid/Data/PTCB/mm10_transcriptome;\n",
    "cd /media/sf_raid/Data/PTCB/mm10_transcriptome;"
   ]
  },
  {
   "cell_type": "code",
   "execution_count": null,
   "metadata": {
    "code_folding": [
     0
    ],
    "collapsed": true,
    "scrolled": true
   },
   "outputs": [],
   "source": [
    "### CODE ###\n",
    "url='ftp://ftp.ensembl.org/pub/release-90/fasta/mus_musculus';\n",
    "axel -q $url/cdna/Mus_musculus.GRCm38.cdna.all.fa.gz;\n",
    "axel -q $url/ncrna/Mus_musculus.GRCm38.ncrna.fa.gz;\n",
    "cat Mus_musculus.GRCm38.cdna.all.fa.gz \\\n",
    "    Mus_musculus.GRCm38.ncrna.fa.gz \\\n",
    "    > mus_musculus_ensembl_grcm38_r90_cdna_and_ncrna.fasta.gz;"
   ]
  },
  {
   "cell_type": "markdown",
   "metadata": {},
   "source": [
    "Load stuff on Genotoul :"
   ]
  },
  {
   "cell_type": "code",
   "execution_count": null,
   "metadata": {
    "code_folding": [
     0
    ],
    "collapsed": true
   },
   "outputs": [],
   "source": [
    "### CODE ###\n",
    "sudo scp mus_musculus_ensembl_grcm38_r90_cdna_and_ncrna.fasta.gz \\\n",
    "     hbastien@genotoul.toulouse.inra.fr:/home/hbastien/work/PTCB/mm10_transcriptome;"
   ]
  },
  {
   "cell_type": "markdown",
   "metadata": {},
   "source": [
    "#### 1.2.3) GTF annotations"
   ]
  },
  {
   "cell_type": "markdown",
   "metadata": {},
   "source": [
    "For future use with featureCounts.<br>\n",
    "\n",
    "Downloaded from \"GENCODE\" (for GRCm38.p5 genome). <br>\n",
    "\"It contains the comprehensive gene annotation on the reference chromosomes, scaffolds, assembly patches and alternate loci (haplotypes)\". <br>\n",
    "More precisely, it annotate a lot of gene/transcript biotypes : https://www.gencodegenes.org/gencode_biotypes.html."
   ]
  },
  {
   "cell_type": "code",
   "execution_count": null,
   "metadata": {
    "code_folding": [
     0
    ],
    "collapsed": true
   },
   "outputs": [],
   "source": [
    "### CODE ###\n",
    "axel -q ftp://ftp.sanger.ac.uk/pub/gencode/Gencode_mouse/\\\n",
    "release_M14/gencode.vM14.chr_patch_hapl_scaff.annotation.gtf.gz;"
   ]
  },
  {
   "cell_type": "markdown",
   "metadata": {},
   "source": [
    "#### 1.2.4) Ensembl vs GENCODE"
   ]
  },
  {
   "cell_type": "markdown",
   "metadata": {},
   "source": [
    "We want at some point to compare results obtained with the \"genomic path\", i.e. STAR + featureCounts + DESeq2 vs results from the \"transcriptomic path\", i.e. Kallisto + DESeq2. Thus, we need make sure that featureCounts (using GENCODE annotations) and Kallisto (using transcriptomes sequences) will compute reads counts at the gene level for approximately the same genes. <br>"
   ]
  },
  {
   "cell_type": "markdown",
   "metadata": {},
   "source": [
    "##### Get Ensembl genes name list contained in GENCODE gtf : "
   ]
  },
  {
   "cell_type": "code",
   "execution_count": null,
   "metadata": {
    "code_folding": [
     0
    ],
    "collapsed": true
   },
   "outputs": [],
   "source": [
    "### CODE ###\n",
    "cd ~/Desktop/PTCB/BISCEm/Data/Mus_musculus;\n",
    "unpigz gencode.vM14.chr_patch_hapl_scaff.annotation.gtf.gz;\n",
    "awk -F \" \" '{if($0 !~ /^#/) print $10}' gencode.vM14.chr_patch_hapl_scaff.annotation.gtf | sort -u > gencode_gene_ids_u.txt;\n",
    "sed -i 's/;//g' gencode_gene_ids_u.txt;\n",
    "sed -i 's/\\\"//g' gencode_gene_ids_u.txt;\n",
    "awk -F '\\t' -v OFS='\\t' '{sub(/\\.[0-9]*/, \"\", $1)} 1' gencode_gene_ids_u.txt > gencode_gene_ids_u_proper.txt;\n",
    "wc -l gencode_gene_ids_u_proper.txt;\n",
    "# 52366 gencode_gene_ids_u_proper.txt\n",
    "rm gencode_gene_ids_u.txt;\n",
    "pigz gencode.vM14.chr_patch_hapl_scaff.annotation.gtf;\n",
    "cp gencode_gene_ids_u_proper.txt ~/Desktop/PTCB/BISCEm/Ensembl_transcriptome_vs_gencode;"
   ]
  },
  {
   "cell_type": "markdown",
   "metadata": {},
   "source": [
    "##### Get Ensembl genes name list contained in our Ensembl transcriptome :"
   ]
  },
  {
   "cell_type": "code",
   "execution_count": null,
   "metadata": {
    "code_folding": [
     0
    ],
    "collapsed": true
   },
   "outputs": [],
   "source": [
    "### CODE ###\n",
    "cd ~/Desktop/PTCB/BISCEm/Ensembl_transcriptome_vs_gencode;\n",
    "# DL\n",
    "axel -q ftp://ftp.ensembl.org/pub/release-90/fasta/mus_musculus/cdna/Mus_musculus.GRCm38.cdna.all.fa.gz;\n",
    "axel -q ftp://ftp.ensembl.org/pub/release-90/fasta/mus_musculus/ncrna/Mus_musculus.GRCm38.ncrna.fa.gz;\n",
    "# Grep non-fasta lines\n",
    "zgrep '^>' Mus_musculus.GRCm38.cdna.all.fa.gz > headers_cdna.txt;\n",
    "zgrep '^>' Mus_musculus.GRCm38.ncrna.fa.gz > headers_ncrna.txt;\n",
    "# Count number of transcripts\n",
    "for f in *.txt;\n",
    "do printf $f\"\\t\";\n",
    "   sort -u $f | wc -l;\n",
    "done;\n",
    "# headers_cdna.txt    109282\n",
    "# headers_ncrna.txt    19932\n",
    "# Clear formatting -> ensembl_gene_name\n",
    "awk -F \" \" '{print $4}' headers_cdna.txt > genes_cdna.txt;\n",
    "awk -F \" \" '{print $4}' headers_ncrna.txt > genes_ncrna.txt;\n",
    "sort -u genes_cdna.txt > genes_cdna_u.txt;\n",
    "sort -u genes_ncrna.txt > genes_ncrna_u.txt;\n",
    "awk -F \"\\t\" '{sub(/\\.[0-9]*/, \"\", $1)} 1' genes_cdna_u.txt > genes_cdna_u_v2.txt;\n",
    "awk -F \"\\t\" '{sub(/\\.[0-9]*/, \"\", $1)} 1' genes_ncrna_u.txt > genes_ncrna_u_v2.txt;\n",
    "awk -F \"\\t\" '{sub(/gene:/, \"\", $1)} 1' genes_cdna_u_v2.txt > genes_cdna_u_v3.txt;\n",
    "awk -F \"\\t\" '{sub(/gene:/, \"\", $1)} 1' genes_ncrna_u_v2.txt > genes_ncrna_u_v3.txt;\n",
    "wc -l *_v3.txt;\n",
    "# 34839 genes_cdna_u_v3.txt\n",
    "# 15220 genes_ncrna_u_v3.txt\n",
    "# 50059 total\n",
    "cat genes_cdna_u_v3.txt genes_ncrna_u_v3.txt > genes_cdna_and_ncrna.txt;\n",
    "sort -u genes_cdna_and_ncrna.txt > genes_cdna_and_ncrna_u.txt;\n",
    "wc -l genes_cdna_and_ncrna_u.txt;\n",
    "# 50059 genes_cdna_and_ncrna_u.txt;\n",
    "rm !(gencode_gene_ids_u_proper.txt|genes_cdna_and_ncrna_u.txt);"
   ]
  },
  {
   "cell_type": "markdown",
   "metadata": {},
   "source": [
    "##### Finally, check their intersection :"
   ]
  },
  {
   "cell_type": "code",
   "execution_count": null,
   "metadata": {
    "code_folding": [
     0
    ],
    "collapsed": true
   },
   "outputs": [],
   "source": [
    "### CODE ###\n",
    "comm gencode_gene_ids_u_proper.txt genes_cdna_and_ncrna_u.txt > comm_gencode_vs_ensembl.tsv;\n",
    "printf \"unique to gencode :\\t\"; awk -F \"\\t\" '{if($1 != \"\") print $1}' comm_gencode_vs_ensembl.tsv | wc -l;\n",
    "printf \"unique to ensembl :\\t\"; awk -F \"\\t\" '{if($2 != \"\") print $2}' comm_gencode_vs_ensembl.tsv | wc -l;\n",
    "printf \"common to both :\\t\"; awk -F \"\\t\" '{if($3 != \"\") print $3}' comm_gencode_vs_ensembl.tsv | wc -l;\n",
    "# unique to gencode :    3047\n",
    "# unique to ensembl :    740\n",
    "# common to both :    49319"
   ]
  },
  {
   "cell_type": "markdown",
   "metadata": {},
   "source": [
    "49319 genes are common (92.87%), so we consider that we can compare DE results with counts coming from featureCounts and from Kallisto."
   ]
  },
  {
   "cell_type": "markdown",
   "metadata": {},
   "source": [
    "## 2) Raw reads QC & filtering"
   ]
  },
  {
   "cell_type": "markdown",
   "metadata": {},
   "source": [
    "### 2.1) FastQC"
   ]
  },
  {
   "cell_type": "markdown",
   "metadata": {},
   "source": [
    "#### 2.1.1) CRIBL data"
   ]
  },
  {
   "cell_type": "markdown",
   "metadata": {},
   "source": [
    "Setup working directory & paths :"
   ]
  },
  {
   "cell_type": "code",
   "execution_count": null,
   "metadata": {
    "code_folding": [
     0
    ],
    "collapsed": true
   },
   "outputs": [],
   "source": [
    "### CODE ###\n",
    "reads_dir='/home/erwann/Desktop/PTCB/BISCEm/Data/Reads_raw_Nice';\n",
    "cd $reads_dir;\n",
    "mkdir -p $reads_dir/QC;\n",
    "mkdir -p ~/Software/FastQC/Outputs/PTCB;"
   ]
  },
  {
   "cell_type": "markdown",
   "metadata": {},
   "source": [
    "Launch FastQC :"
   ]
  },
  {
   "cell_type": "code",
   "execution_count": null,
   "metadata": {
    "code_folding": [
     0
    ],
    "collapsed": true
   },
   "outputs": [],
   "source": [
    "### CODE ###\n",
    "for f in *.fastq.gz;\n",
    "do echo $f; fastqc --outdir ~/Software/FastQC/Outputs/PTCB -f fastq $f;\n",
    "done >> $reads_dir/QC/fastqc.verbose;"
   ]
  },
  {
   "cell_type": "markdown",
   "metadata": {},
   "source": [
    "#### 2.1.2) Pefanis data"
   ]
  },
  {
   "cell_type": "markdown",
   "metadata": {},
   "source": [
    "The exact same thing, just change file and directory names"
   ]
  },
  {
   "cell_type": "markdown",
   "metadata": {},
   "source": [
    "### 2.2) MultiQC"
   ]
  },
  {
   "cell_type": "markdown",
   "metadata": {},
   "source": [
    "#### 2.2.1) CRIBL data"
   ]
  },
  {
   "cell_type": "markdown",
   "metadata": {},
   "source": [
    "We compile FastqQC analysis for all the data & at the sequencing-run level (EP & YD), to highlight potential run effect."
   ]
  },
  {
   "cell_type": "code",
   "execution_count": null,
   "metadata": {
    "code_folding": [
     0
    ],
    "collapsed": true
   },
   "outputs": [],
   "source": [
    "### CODE ###\n",
    "fastqc_dir='/home/erwann/Software/FastQC/Outputs/PTCB';\n",
    "mkdir -p $reads_dir/QC;\n",
    "multiqc $fastqc_dir \\\n",
    "        -n ptcb \\\n",
    "        -o $reads_dir/QC \\\n",
    "        -m fastqc -f > $reads_dir/QC/multiQC_ptcb.verbose 2>&1;\n",
    "multiqc $fastqc_dir/*_EP_fastqc* \\\n",
    "        -n ptcb_ep \\\n",
    "        -o $reads_dir/QC \\\n",
    "        -m fastqc -f > $reads_dir/QC/multiQC_ptcb_ep.verbose 2>&1;\n",
    "multiqc $fastqc_dir/*_YD_fastqc* \\\n",
    "        -n ptcb_yd \\\n",
    "        -o $reads_dir/QC \\\n",
    "        -m fastqc -f > $reads_dir/QC/multiQC_ptcb_yd.verbose 2>&1;"
   ]
  },
  {
   "cell_type": "markdown",
   "metadata": {},
   "source": [
    "Visualize QC results :"
   ]
  },
  {
   "cell_type": "code",
   "execution_count": null,
   "metadata": {
    "code_folding": [
     0
    ],
    "collapsed": true
   },
   "outputs": [],
   "source": [
    "### CODE ###\n",
    "chromium-browser $reads_dir/QC/*.html;"
   ]
  },
  {
   "cell_type": "markdown",
   "metadata": {},
   "source": [
    "Conclusions :\n",
    "Nice data overall. We can be a bit stringent during filtering to keep HQ reads."
   ]
  },
  {
   "cell_type": "markdown",
   "metadata": {},
   "source": [
    "#### 2.2.2) Pefanis data"
   ]
  },
  {
   "cell_type": "markdown",
   "metadata": {},
   "source": [
    "The exact same thing, just change file and directory names"
   ]
  },
  {
   "cell_type": "markdown",
   "metadata": {},
   "source": [
    "### 2.3) Filtering"
   ]
  },
  {
   "cell_type": "markdown",
   "metadata": {},
   "source": [
    "Trimmomatic 0.36"
   ]
  },
  {
   "cell_type": "markdown",
   "metadata": {
    "collapsed": true
   },
   "source": [
    "For both data CRIBL & Pefanis, FastQC detected Illumina 1.9 encoding. Referring to https://en.wikipedia.org/wiki/FASTQ_format, Illumina 1.8+ => Phred+33.\n",
    "\n",
    "Sequences are trimmed with $TRIM = ~/Software/Trimmomatic_0.36/trimmomatic-0.36.jar.\n",
    "Given MultiQC output, we trim starting and ending bases if their quality is < 25. We then trim with a sliding window of 5 bases, cutting the read at those bases if the mean quality drops below 25. Finally, we discard sequence < 50 nts."
   ]
  },
  {
   "cell_type": "markdown",
   "metadata": {},
   "source": [
    "#### 2.3.1) CRIBL data"
   ]
  },
  {
   "cell_type": "code",
   "execution_count": null,
   "metadata": {
    "code_folding": [
     0
    ],
    "collapsed": true
   },
   "outputs": [],
   "source": [
    "### CODE ###\n",
    "$TRIM = ~/Software/Trimmomatic_0.36/trimmomatic-0.36.jar\n",
    "cd ~/Desktop/PTCB/BISCEm/Data/Reads_raw_Nice;\n",
    "mkdir -p ../Reads_raw_Nice_trim;\n",
    "for id in '3B4_R_1_EP' '3B4_S_1_EP' '3pRR_R_1_EP' '3pRR_S_1_EP' \\\n",
    "          'DEL_R_1_EP' 'DEL_S_1_EP' 'IRIS_R_1_EP' 'IRIS_S_1_EP' \\\n",
    "          'PAL_R_1_EP' 'PAL_S_1_EP' 'WT_R_1_EP' 'WT_S_1_EP';\n",
    "do java -jar $TRIM PE -threads 8 \\\n",
    "                      -phred33 \\\n",
    "                      $id.fastq.gz \\\n",
    "                      ${id%_*_*}'_2_EP.fastq.gz' \\\n",
    "                      ../Reads_raw_Nice_trim/$id'_paired.fastq.gz' \\\n",
    "                      ../Reads_raw_Nice_trim/$id'_unpaired.fastq.gz' \\\n",
    "                      ../Reads_raw_Nice_trim/${id%_*_*}'_2_EP_paired.fastq.gz' \\\n",
    "                      ../Reads_raw_Nice_trim/${id%_*_*}'_2_EP_unpaired.fastq.gz' \\\n",
    "                      LEADING:25 TRAILING:25 SLIDINGWINDOW:5:25 MINLEN:50;\n",
    "done &>> trim_EP.verbose;\n",
    "\n",
    "for id in '3pRR_R_1_YD' '3pRR_S_1_YD' 'EU_R_1_YD' 'EU_S_1_YD' \\\n",
    "          'MAR_R_1_YD' 'MAR_S_1_YD' 'WT_R_1_YD' 'WT_S_1_YD';\n",
    "do java -jar $TRIM PE -threads 8 \\\n",
    "                      -phred33 \\\n",
    "                      $id.fastq.gz \\\n",
    "                      ${id%_*_*}'_2_YD.fastq.gz' \\\n",
    "                      ../Reads_raw_Nice_trim/$id'_paired.fastq.gz' \\\n",
    "                      ../Reads_raw_Nice_trim/$id'_unpaired.fastq.gz' \\\n",
    "                      ../Reads_raw_Nice_trim/${id%_*_*}'_2_YD_paired.fastq.gz' \\\n",
    "                      ../Reads_raw_Nice_trim/${id%_*_*}'_2_YD_unpaired.fastq.gz' \\\n",
    "                      LEADING:25 TRAILING:25 SLIDINGWINDOW:5:25 MINLEN:50;\n",
    "done &>> trim_YD.verbose;"
   ]
  },
  {
   "cell_type": "markdown",
   "metadata": {},
   "source": [
    "#### 2.3.2) Pefanis data"
   ]
  },
  {
   "cell_type": "code",
   "execution_count": null,
   "metadata": {
    "code_folding": [
     0
    ],
    "collapsed": true
   },
   "outputs": [],
   "source": [
    "### CODE ###\n",
    "$TRIM = ~/Software/Trimmomatic_0.36/trimmomatic-0.36.jar\n",
    "cd /media/raid/Data/PTCB/Pefanis;\n",
    "mkdir -p Trimmomatic;\n",
    "for id in 'SRR1302208' 'SRR1302283' 'SRR1302786' 'SRR1302787' \\\n",
    "          'SRR1302788' 'SRR1302789';\n",
    "do java -jar $TRIM PE -threads 8 \\\n",
    "                      -phred33 \\\n",
    "                      $id'_1.fastq' \\\n",
    "                      $id'_2.fastq' \\\n",
    "                      ./Trimmomatic/$id'_1.paired.fastq' \\\n",
    "                      ./Trimmomatic/$id'_1.unpaired.fastq' \\\n",
    "                      ./Trimmomatic/$id'_2.paired.fastq' \\\n",
    "                      ./Trimmomatic/$id'_2.unpaired.fastq' \\\n",
    "                      LEADING:25 TRAILING:25 SLIDINGWINDOW:5:25 MINLEN:50;\n",
    "done &>> trim_PE.verbose;\n",
    "for id in 'SRR1302414' 'SRR1302785';\n",
    "do java -jar $TRIM SE -threads 8 \\\n",
    "                      -phred33 \\\n",
    "                      $id'_1.fastq' \\\n",
    "                      ./Trimmomatic/$id'_1.paired.fastq' \\\n",
    "                      ./Trimmomatic/$id'_1.unpaired.fastq' \\\n",
    "                      LEADING:25 TRAILING:25 SLIDINGWINDOW:5:25 MINLEN:50;\n",
    "done &>> trim_SE.verbose;"
   ]
  },
  {
   "cell_type": "markdown",
   "metadata": {},
   "source": [
    "### 2.4) QC post filtering"
   ]
  },
  {
   "cell_type": "code",
   "execution_count": null,
   "metadata": {
    "code_folding": [
     0
    ],
    "collapsed": true
   },
   "outputs": [],
   "source": [
    "### CODE ###\n",
    "reads_dir='/home/erwann/Desktop/PTCB/BISCEm/Data/Reads_raw_Nice_trim/';\n",
    "mkdir -p $reads_dir/QC;\n",
    "mkdir -p ~/Software/FastQC/Outputs/PTCB/Trim;\n",
    "for f in *.fastq.gz;\n",
    "do echo $f; fastqc --outdir ~/Software/FastQC/Outputs/PTCB/Trim -f fastq $f;\n",
    "done >> $reads_dir/QC/fastqc.verbose;"
   ]
  },
  {
   "cell_type": "code",
   "execution_count": null,
   "metadata": {
    "code_folding": [],
    "collapsed": true
   },
   "outputs": [],
   "source": [
    "### CODE ###\n",
    "fastqc_dir='/home/erwann/Software/FastQC/Outputs/PTCB/Trim';\n",
    "multiqc $fastqc_dir \\\n",
    "        -n ptcb_trim \\\n",
    "        -o $reads_dir/QC \\\n",
    "        -m fastqc -f > $reads_dir/QC/multiQC_ptcb.verbose 2>&1;\n"
   ]
  },
  {
   "cell_type": "markdown",
   "metadata": {},
   "source": [
    "## 3) Mapping"
   ]
  },
  {
   "cell_type": "markdown",
   "metadata": {},
   "source": [
    "### 3.1) Build index :"
   ]
  },
  {
   "cell_type": "markdown",
   "metadata": {},
   "source": [
    "#### 3.1.1) STAR :"
   ]
  },
  {
   "cell_type": "markdown",
   "metadata": {},
   "source": [
    "On Genotoul via STAR, version 2.5.2b :"
   ]
  },
  {
   "cell_type": "code",
   "execution_count": null,
   "metadata": {
    "code_folding": [
     0
    ],
    "collapsed": true
   },
   "outputs": [],
   "source": [
    "### CODE ###\n",
    "#!/bin/bash\n",
    "#$ -q workq\n",
    "#$ -M erwan.scaon@unilim.fr\n",
    "#$ -m bea\n",
    "#$ -l mem=8G\n",
    "#$ -l h_vmem=12G\n",
    "#$ -N star_idx\n",
    "#$ -o /home/escaon/work/PTCB/star_idx.o\n",
    "#$ -e /home/escaon/work/PTCB/star_idx.e\n",
    "\n",
    "work='/home/escaon/work/PTCB/Mus_musculus';\n",
    "star='/usr/local/bioinfo/src/STAR/STAR-2.5.2b/bin/Linux_x86_64_static/STAR'\n",
    "nt=8;\n",
    "\n",
    "$star --runThreadN $nt \\\n",
    "      --runMode genomeGenerate \\\n",
    "      --genomeDir $work \\\n",
    "      --genomeFastaFiles $work/GCA_000001635.7_GRCm38.p5_genomic.fna \\\n",
    "      --sjdbGTFfile $work/GCA_000001635.7_GRCm38.p5_genomic.gff \\\n",
    "      --sjdbGTFtagExonParentTranscript Parent \\\n",
    "      --sjdbOverhang 150;"
   ]
  },
  {
   "cell_type": "code",
   "execution_count": null,
   "metadata": {
    "code_folding": [
     0
    ],
    "collapsed": true
   },
   "outputs": [],
   "source": [
    "### CODE ###\n",
    "qsub -pe parallel_smp 8 star_idx.sh;"
   ]
  },
  {
   "cell_type": "markdown",
   "metadata": {},
   "source": [
    "#### 3.1.2) Kallisto :"
   ]
  },
  {
   "cell_type": "markdown",
   "metadata": {},
   "source": [
    "On Genotoul via Kallisto, version 0.43.0 :"
   ]
  },
  {
   "cell_type": "code",
   "execution_count": null,
   "metadata": {
    "code_folding": [
     0
    ],
    "collapsed": true
   },
   "outputs": [],
   "source": [
    "### CODE ###\n",
    "#!/bin/bash\n",
    "#$ -q workq\n",
    "#$ -m bea\n",
    "#$ -l mem=8G\n",
    "#$ -l h_vmem=120G\n",
    "\n",
    "#####Index KALLISTO\n",
    "kallisto index --make-unique -i /home/hbastien/work/PTCB/mm10_transcriptome/Mus_musculus.GRCm38.cdna.all.idx /home/hbastien/work/PTCB/mm10_transcriptome/Mus_musculus.GRCm38.cdna.all.fa"
   ]
  },
  {
   "cell_type": "code",
   "execution_count": null,
   "metadata": {
    "code_folding": [
     0
    ],
    "collapsed": true
   },
   "outputs": [],
   "source": [
    "### CODE ###\n",
    "qsub simple_index_kallisto.sh;"
   ]
  },
  {
   "cell_type": "markdown",
   "metadata": {},
   "source": [
    "### 3.2) Map reads :"
   ]
  },
  {
   "cell_type": "markdown",
   "metadata": {},
   "source": [
    "###### 3.2.1) CRIBL data"
   ]
  },
  {
   "cell_type": "markdown",
   "metadata": {},
   "source": [
    "First script : star_3B4_R_EP.sh"
   ]
  },
  {
   "cell_type": "code",
   "execution_count": null,
   "metadata": {
    "code_folding": [
     0
    ],
    "collapsed": true
   },
   "outputs": [],
   "source": [
    "### CODE ###\n",
    "#!/bin/bash\n",
    "#$ -q workq\n",
    "#$ -M erwan.scaon@unilim.fr\n",
    "#$ -m bea\n",
    "#$ -l mem=8G\n",
    "#$ -l h_vmem=10G\n",
    "#$ -N star_3B4_R_EP\n",
    "#$ -o /home/escaon/work/PTCB/star_3B4_R_EP.o\n",
    "#$ -e /home/escaon/work/PTCB/star_3B4_R_EP.e\n",
    "\n",
    "star='/usr/local/bioinfo/src/STAR/STAR-2.5.2b/bin/Linux_x86_64_static/STAR';\n",
    "save='/home/escaon/save/PTCB/Reads_raw_Nice_trim';\n",
    "work='/home/escaon/work/PTCB';\n",
    "nt=8;\n",
    "\n",
    "for id in '3B4_R_EP';\n",
    "do $star --runThreadN $nt \\\n",
    "         --genomeDir $work/Mus_musculus \\\n",
    "         --readFilesIn $save/${id%_*}'_1_EP_paired.fastq.gz' $save/${id%_*}'_2_EP_paired.fastq.gz' \\\n",
    "         --readFilesCommand zcat \\\n",
    "         --outFileNamePrefix $work/Mapped_vs_GRCm38.p5/$id'_' \\\n",
    "         --outSAMtype BAM SortedByCoordinate;\n",
    "done;"
   ]
  },
  {
   "cell_type": "code",
   "execution_count": null,
   "metadata": {
    "code_folding": [
     0
    ],
    "collapsed": true
   },
   "outputs": [],
   "source": [
    "### CODE ###\n",
    "qsub -pe parallel_smp 8 star_3B4_R_EP.sh;"
   ]
  },
  {
   "cell_type": "markdown",
   "metadata": {},
   "source": [
    "Duplicate this script for others EP datasets & launch jobs :"
   ]
  },
  {
   "cell_type": "code",
   "execution_count": null,
   "metadata": {
    "code_folding": [
     0
    ],
    "collapsed": true
   },
   "outputs": [],
   "source": [
    "### CODE ###\n",
    "for id in '3B4_S_EP' '3pRR_R_EP' '3pRR_S_EP' 'DEL_R_EP' \\\n",
    "          'DEL_S_EP' 'IRIS_R_EP' 'IRIS_S_EP' 'PAL_R_EP' \\\n",
    "          'PAL_S_EP' 'WT_R_EP' 'WT_S_EP';\n",
    "do  cp star_3B4_R_EP.sh star_$id.sh;\n",
    "    sed -i \"s/3B4_R_EP/$id/\" star_$id.sh;\n",
    "    qsub -pe parallel_smp 8 star_$id.sh;\n",
    "done;"
   ]
  },
  {
   "cell_type": "markdown",
   "metadata": {},
   "source": [
    "Create a base script for YD, duplicate it & launch jobs :"
   ]
  },
  {
   "cell_type": "code",
   "execution_count": null,
   "metadata": {
    "code_folding": [
     0
    ],
    "collapsed": true,
    "scrolled": false
   },
   "outputs": [],
   "source": [
    "### CODE ###\n",
    "cp star_WT_R_EP.sh star_WT_R_YD.sh;\n",
    "grep --color 'EP' star_WT_R_YD.sh; # check if we are not going to destroy anything\n",
    "sed -i \"s/EP/YD/\" star_WT_R_YD.sh;\n",
    "qsub -pe parallel_smp 8 star_WT_R_YD.sh;\n",
    "\n",
    "for id in '3pRR_R_YD' '3pRR_S_YD' 'EU_R_YD' 'EU_S_YD' \\\n",
    "          'MAR_R_YD' 'MAR_S_YD' 'WT_S_YD';\n",
    "do  cp star_WT_R_YD.sh star_$id.sh;\n",
    "    sed -i \"s/WT_R_YD/$id/\" star_$id.sh;\n",
    "    qsub -pe parallel_smp 8 star_$id.sh;\n",
    "done;"
   ]
  },
  {
   "cell_type": "markdown",
   "metadata": {},
   "source": [
    "###### 3.2.2) Pefanis data"
   ]
  },
  {
   "cell_type": "markdown",
   "metadata": {},
   "source": [
    "###### Paired end :"
   ]
  },
  {
   "cell_type": "code",
   "execution_count": null,
   "metadata": {
    "code_folding": [
     0
    ],
    "collapsed": true
   },
   "outputs": [],
   "source": [
    "### CODE ###\n",
    "#!/bin/bash\n",
    "#$ -q workq\n",
    "#$ -m bea\n",
    "#$ -l mem=8G\n",
    "#$ -l h_vmem=30G\n",
    "#\n",
    "\n",
    "#####Alignment STAR PE\n",
    "for id in 'SRR1302208' 'SRR1302283' 'SRR1302786' 'SRR1302787' 'SRR1302788' 'SRR1302789';\n",
    "do\n",
    "/usr/local/bioinfo/src/STAR/STAR-2.5.2b/bin/Linux_x86_64_static/STAR --genomeDir /home/hbastien/work/PTCB/Mus_musculus/ --readFilesIn /home/hbastien/work/PTCB/Pefanis/'Trimmed_paired_'$id'_1.fastq' /home/hbastien/work/PTCB/Pefanis/'Trimmed_paired_'$id'_2.fastq' --outFileNamePrefix Experiment_PE_Star$id\n",
    "done"
   ]
  },
  {
   "cell_type": "code",
   "execution_count": null,
   "metadata": {
    "code_folding": [
     0
    ],
    "collapsed": true
   },
   "outputs": [],
   "source": [
    "### CODE ###\n",
    "qsub manageStarPE.sh"
   ]
  },
  {
   "cell_type": "markdown",
   "metadata": {},
   "source": [
    "###### Single end :"
   ]
  },
  {
   "cell_type": "code",
   "execution_count": null,
   "metadata": {
    "code_folding": [
     0
    ],
    "collapsed": true
   },
   "outputs": [],
   "source": [
    "### CODE ###\n",
    "#!/bin/bash\n",
    "#$ -q workq\n",
    "#$ -m bea\n",
    "#$ -l mem=8G\n",
    "#$ -l h_vmem=30G\n",
    "#\n",
    "\n",
    "#####Alignment STAR SE\n",
    "for id in 'SRR1302414' 'SRR1302785';\n",
    "do\n",
    "/usr/local/bioinfo/src/STAR/STAR-2.5.2b/bin/Linux_x86_64_static/STAR --genomeDir /home/hbastien/work/PTCB/Mus_musculus/ --readFilesIn /home/hbastien/work/PTCB/Pefanis/'Trimmed_'$id'_1.fastq' --outFileNamePrefix Experiment_SE_Star$id\n",
    "done"
   ]
  },
  {
   "cell_type": "code",
   "execution_count": null,
   "metadata": {
    "code_folding": [
     0
    ],
    "collapsed": true
   },
   "outputs": [],
   "source": [
    "### CODE ###\n",
    "qsub manageStarSE.sh"
   ]
  },
  {
   "cell_type": "markdown",
   "metadata": {},
   "source": [
    "### 3.3) Index BAM"
   ]
  },
  {
   "cell_type": "code",
   "execution_count": null,
   "metadata": {
    "code_folding": [
     0
    ],
    "collapsed": true
   },
   "outputs": [],
   "source": [
    "### CODE ###\n",
    "#!/bin/bash\n",
    "#$ -q workq\n",
    "#$ -M erwan.scaon@unilim.fr\n",
    "#$ -m bea\n",
    "#$ -l mem=40G\n",
    "#$ -l h_vmem=48G\n",
    "#$ -N samtools_idx\n",
    "#$ -o /home/escaon/work/PTCB/samtools_idx.o\n",
    "#$ -e /home/escaon/work/PTCB/samtools_idx.e\n",
    "\n",
    "work='/home/escaon/work/PTCB/Mapped_vs_GRCm38.p5';\n",
    "\n",
    "cd $work;\n",
    "for f in *.bam;\n",
    "do samtools index $f;\n",
    "done;"
   ]
  },
  {
   "cell_type": "code",
   "execution_count": null,
   "metadata": {
    "code_folding": [
     0
    ],
    "collapsed": true
   },
   "outputs": [],
   "source": [
    "### CODE ###\n",
    "qsub samtools_idx.sh;"
   ]
  },
  {
   "cell_type": "markdown",
   "metadata": {},
   "source": [
    "### 3.4) RNA-seq alignment QC"
   ]
  },
  {
   "cell_type": "markdown",
   "metadata": {},
   "source": [
    "http://rseqc.sourceforge.net"
   ]
  },
  {
   "cell_type": "markdown",
   "metadata": {},
   "source": [
    "Conseils de Steph pour reseqc : <br>\n",
    "Salut,\n",
    "alors:\n",
    "t'as déjà les stats d'alignements avec bam_stat \n",
    "infer_experiment.py qui te permet de déterminer le protocole utilisé pour la prépa de ta librairie (ce qui t'oriente pour feature counts !)\n",
    "geneBody_coverage où tu vois le profil de couverture sur le gène : à analyser avec tous les échantillons pour voir si y en a un qui déconne !\n",
    "inner_distance : normalement centré sur la taille de ta librairie \n",
    "\n",
    "Ensuite c'est des outils d'évaluation: pour donner de l'info sur ton alignement et en gardant à l'esprit que çà peut te permettre de voir si échantillon déconne:\n",
    "read_distribution\n",
    "junction_annotation \n",
    "\n",
    "Et puis évaluer la quantité de duplicat de PCR (read_duplication) avant et après retrait avec samtools rmdup\n",
    "\n",
    "Voilà ce que j'avais utilisé en formation  (+ aussi la saturation des jonctions et la saturation de la librairie mais c'est peut-être un peu moins parlant comme info)"
   ]
  },
  {
   "cell_type": "markdown",
   "metadata": {},
   "source": [
    "## 4) Counts"
   ]
  },
  {
   "cell_type": "markdown",
   "metadata": {},
   "source": [
    "##### Retrieve BAMs locally :"
   ]
  },
  {
   "cell_type": "code",
   "execution_count": null,
   "metadata": {
    "code_folding": [
     0
    ],
    "collapsed": true
   },
   "outputs": [],
   "source": [
    "### CODE ###\n",
    "mkdir -p ~/Desktop/PTCB/BISCEm/Outputs;\n",
    "sudo scp -r escaon@genotoul.toulouse.inra.fr:/home/escaon/work/PTCB/Mapped_vs_GRCm38.p5 ~/Desktop/PTCB/BISCEm/Outputs;\n",
    "sudo scp -r hbastien@genotoul.toulouse.inra.fr:/home/hbastien/work/PTCB/Mapped_vs_GRCm38.p5 /run/user/1000/gvfs/smb-share:server=ubox.unilim.fr,share=biscem/BioInformatique/Responsables/Commun/PTCB/Outputs/Star"
   ]
  },
  {
   "cell_type": "markdown",
   "metadata": {},
   "source": [
    "Before starting the counts, we need to create a \"chr.aliases\" file which link chrs names in GRCm38.p5 with chrs names in GENCODE annotations. This file was created from this assembly report :"
   ]
  },
  {
   "cell_type": "code",
   "execution_count": null,
   "metadata": {
    "code_folding": [
     0
    ],
    "collapsed": true
   },
   "outputs": [],
   "source": [
    "### CODE ###\n",
    "wget -q ftp://ftp.ncbi.nlm.nih.gov/genomes/all/GCA/000/001/635/\\\n",
    "GCA_000001635.7_GRCm38.p5/GCA_000001635.7_GRCm38.p5_assembly_report.txt;"
   ]
  },
  {
   "cell_type": "markdown",
   "metadata": {},
   "source": [
    "### 4.1) FeatureCounts"
   ]
  },
  {
   "cell_type": "markdown",
   "metadata": {},
   "source": [
    "Count with featureCounts (Rsubread 1.24.2) :"
   ]
  },
  {
   "cell_type": "markdown",
   "metadata": {},
   "source": [
    "#### 4.1.1) CRIBL data"
   ]
  },
  {
   "cell_type": "code",
   "execution_count": null,
   "metadata": {
    "code_folding": [
     0
    ],
    "collapsed": true
   },
   "outputs": [],
   "source": [
    "### CODE ###\n",
    "path='/home/erwann/Desktop/PTCB/BISCEm';\n",
    "cd $path/Outputs/Star;\n",
    "for id in '3B4_R_EP' '3B4_S_EP' '3pRR_R_EP' '3pRR_S_EP' \\\n",
    "          'DEL_R_EP' 'DEL_S_EP' 'IRIS_R_EP' 'IRIS_S_EP' \\\n",
    "          'PAL_R_EP' 'PAL_S_EP' 'WT_R_EP' 'WT_S_EP' \\\n",
    "          '3pRR_R_YD' '3pRR_S_YD' 'EU_R_YD' 'EU_S_YD' \\\n",
    "          'MAR_R_YD' 'MAR_S_YD' 'WT_R_YD' 'WT_S_YD';\n",
    "do Rscript $path/Scripts/featureCounts.R $id;\n",
    "done &>> $path/Outputs/FeatureCounts/featureCounts.verbose;"
   ]
  },
  {
   "cell_type": "markdown",
   "metadata": {},
   "source": [
    "Content of featureCounts.R :"
   ]
  },
  {
   "cell_type": "code",
   "execution_count": null,
   "metadata": {
    "code_folding": [
     0
    ],
    "collapsed": true
   },
   "outputs": [],
   "source": [
    "### CODE ###\n",
    "#!/usr/bin/env Rscript\n",
    "\n",
    "args = commandArgs(trailingOnly=TRUE)\n",
    "in_file = paste(args[1], 'bam', sep = '.')\n",
    "out_file = paste('../FeatureCounts/', args[1], '.tsv', sep = '')\n",
    "\n",
    "library(Rsubread)\n",
    "\n",
    "fc = featureCounts(files=in_file,\n",
    "                   annot.ext=\"../../Data/Mus_musculus/gencode.vM14.chr_patch_hapl_scaff.annotation.gtf\",\n",
    "                   isGTFAnnotationFile=TRUE,\n",
    "                   GTF.featureType=\"exon\",\n",
    "                   GTF.attrType=\"gene_id\",\n",
    "                   chrAliases=\"../../Data/Mus_musculus/chr.aliases\",\n",
    "                   allowMultiOverlap=FALSE,\n",
    "                   ignoreDup=FALSE,\n",
    "                   isPairedEnd=TRUE,\n",
    "                   nthreads=8,\n",
    "                   minMQS=0,\n",
    "                   maxMOp=10,\n",
    "                   checkFragLength=FALSE,\n",
    "                   useMetaFeatures=TRUE,\n",
    "                   strandSpecific=2,\n",
    "                   requireBothEndsMapped=TRUE,\n",
    "                   countChimericFragments=FALSE,\n",
    "                   primaryOnly=TRUE)\n",
    "write.table(fc$counts, out_file, append= T, sep='\\t', col.names=NA)"
   ]
  },
  {
   "cell_type": "markdown",
   "metadata": {},
   "source": [
    "#### 4.2.2) Pefanis data"
   ]
  },
  {
   "cell_type": "markdown",
   "metadata": {},
   "source": [
    "##### a) Paired end"
   ]
  },
  {
   "cell_type": "code",
   "execution_count": null,
   "metadata": {
    "code_folding": [
     0
    ],
    "collapsed": true
   },
   "outputs": [],
   "source": [
    "### CODE ###\n",
    "path='/run/user/1000/gvfs/smb-share:server=ubox.unilim.fr,share=biscem/BioInformatique/Responsables/Commun/PTCB';\n",
    "cd $path/Outputs/Star;\n",
    "for id in 'SRR1302208' 'SRR1302283' 'SRR1302786' 'SRR1302787' 'SRR1302788' 'SRR1302789';\n",
    "do Rscript $path/Scripts/featureCounts.R $id;\n",
    "done &>> $path/Outputs/FeatureCounts/featureCounts.verbose;"
   ]
  },
  {
   "cell_type": "markdown",
   "metadata": {},
   "source": [
    "Content of featureCounts.R :"
   ]
  },
  {
   "cell_type": "code",
   "execution_count": null,
   "metadata": {
    "code_folding": [
     0
    ],
    "collapsed": true
   },
   "outputs": [],
   "source": [
    "### CODE ###\n",
    "#!/usr/bin/env Rscript\n",
    "\n",
    "args = commandArgs(trailingOnly=TRUE)\n",
    "in_file = paste(args[1], 'bam', sep = '.')\n",
    "out_file = paste('/run/user/1000/gvfs/smb-share:server=ubox.unilim.fr,share=biscem/BioInformatique/Responsables/Commun/PTCB/Outputs/FeatureCounts/', args[1], '.tsv', sep = '')\n",
    "\n",
    "library(Rsubread)\n",
    "print(paste('/run/user/1000/gvfs/smb-share:server=ubox.unilim.fr,share=biscem/BioInformatique/Responsables/Commun/PTCB/Star/', in_file, sep = ''))\n",
    "fc = featureCounts(files=paste('/run/user/1000/gvfs/smb-share:server=ubox.unilim.fr,share=biscem/BioInformatique/Responsables/Commun/PTCB/Star/', in_file, sep = ''),\n",
    "                   annot.ext=\"/run/user/1000/gvfs/smb-share:server=ubox.unilim.fr,share=biscem/BioInformatique/Responsables/Commun/PTCB/Data/Mus_musculus/gencode.vM14.chr_patch_hapl_scaff.annotation.gtf\",\n",
    "                   isGTFAnnotationFile=TRUE,\n",
    "                   GTF.featureType=\"exon\",\n",
    "                   GTF.attrType=\"gene_id\",\n",
    "                   chrAliases=\"/run/user/1000/gvfs/smb-share:server=ubox.unilim.fr,share=biscem/BioInformatique/Responsables/Commun/PTCB/chr.aliases\",\n",
    "                   allowMultiOverlap=FALSE,\n",
    "                   ignoreDup=FALSE,\n",
    "                   isPairedEnd=TRUE,\n",
    "                   nthreads=8,\n",
    "                   minMQS=0,\n",
    "                   maxMOp=10,\n",
    "                   checkFragLength=FALSE,\n",
    "                   useMetaFeatures=TRUE,\n",
    "                   strandSpecific=2,\n",
    "                   requireBothEndsMapped=TRUE,\n",
    "                   countChimericFragments=FALSE,\n",
    "                   primaryOnly=TRUE)\n",
    "write.table(fc$counts, out_file, append= T, sep='\\t', col.names=NA)"
   ]
  },
  {
   "cell_type": "markdown",
   "metadata": {},
   "source": [
    "##### b) Single end"
   ]
  },
  {
   "cell_type": "code",
   "execution_count": null,
   "metadata": {
    "code_folding": [
     0
    ],
    "collapsed": true
   },
   "outputs": [],
   "source": [
    "### CODE ###\n",
    "path='/run/user/1000/gvfs/smb-share:server=ubox.unilim.fr,share=biscem/BioInformatique/Responsables/Commun/PTCB';\n",
    "cd $path/Outputs/Star;\n",
    "for id in 'SRR1302414' 'SRR1302785';\n",
    "do Rscript $path/Scripts/featureCounts.R $id;\n",
    "done &>> $path/Outputs/FeatureCounts/featureCounts.verbose;"
   ]
  },
  {
   "cell_type": "markdown",
   "metadata": {},
   "source": [
    "Content of featureCounts.R :"
   ]
  },
  {
   "cell_type": "code",
   "execution_count": null,
   "metadata": {
    "code_folding": [
     0
    ],
    "collapsed": true
   },
   "outputs": [],
   "source": [
    "### CODE ###\n",
    "#!/usr/bin/env Rscript\n",
    "\n",
    "args = commandArgs(trailingOnly=TRUE)\n",
    "in_file = paste(args[1], 'bam', sep = '.')\n",
    "out_file = paste('/run/user/1000/gvfs/smb-share:server=ubox.unilim.fr,share=biscem/BioInformatique/Responsables/Commun/PTCB/Outputs/FeatureCounts/', args[1], '.tsv', sep = '')\n",
    "\n",
    "library(Rsubread)\n",
    "print(paste('/run/user/1000/gvfs/smb-share:server=ubox.unilim.fr,share=biscem/BioInformatique/Responsables/Commun/PTCB/Star/', in_file, sep = ''))\n",
    "fc = featureCounts(files=paste('/run/user/1000/gvfs/smb-share:server=ubox.unilim.fr,share=biscem/BioInformatique/Responsables/Commun/PTCB/Star/', in_file, sep = ''),\n",
    "                   annot.ext=\"/run/user/1000/gvfs/smb-share:server=ubox.unilim.fr,share=biscem/BioInformatique/Responsables/Commun/PTCB/Data/Mus_musculus/gencode.vM14.chr_patch_hapl_scaff.annotation.gtf\",\n",
    "                   isGTFAnnotationFile=TRUE,\n",
    "                   GTF.featureType=\"exon\",\n",
    "                   GTF.attrType=\"gene_id\",\n",
    "                   chrAliases=\"/run/user/1000/gvfs/smb-share:server=ubox.unilim.fr,share=biscem/BioInformatique/Responsables/Commun/PTCB/chr.aliases\",\n",
    "                   allowMultiOverlap=FALSE,\n",
    "                   ignoreDup=FALSE,\n",
    "                   isPairedEnd=FALSE,\n",
    "                   nthreads=8,\n",
    "                   minMQS=0,\n",
    "                   maxMOp=10,\n",
    "                   checkFragLength=FALSE,\n",
    "                   useMetaFeatures=TRUE,\n",
    "                   strandSpecific=0,\n",
    "                   countChimericFragments=FALSE,\n",
    "                   primaryOnly=TRUE)\n",
    "write.table(fc$counts, out_file, append= T, sep='\\t', col.names=NA)"
   ]
  },
  {
   "cell_type": "markdown",
   "metadata": {},
   "source": [
    "### 4.2) Kallisto"
   ]
  },
  {
   "cell_type": "markdown",
   "metadata": {},
   "source": [
    "On Genotoul via Kallisto, version 0.43.0 :"
   ]
  },
  {
   "cell_type": "markdown",
   "metadata": {},
   "source": [
    "#### 4.2.1) CRIBL data"
   ]
  },
  {
   "cell_type": "code",
   "execution_count": null,
   "metadata": {
    "code_folding": [
     0
    ],
    "collapsed": true
   },
   "outputs": [],
   "source": [
    "### CODE ###\n",
    "#!/bin/bash\n",
    "#$ -q workq\n",
    "#$ -m bea\n",
    "#$ -l mem=8G\n",
    "#$ -l h_vmem=30G\n",
    "#\n",
    "\n",
    "#####Alignment KALLISTO\n",
    "for id in '3B4_R' '3B4_S' '3pRR_R' '3pRR_S' 'DEL_R' 'DEL_S' 'IRIS_R' 'IRIS_S' 'PAL_R' 'PAL_S' 'WT_R' 'WT_S';\n",
    "do\n",
    "kallisto quant -i /home/hbastien/work/PTCB/mm10_transcriptome/Mus_musculus.GRCm38.cdna.all.idx -o kallisto$id'EP' -b 100 --rf-stranded /home/escaon/save/PTCB/Reads_raw_Nice_trim/$id'_1_EP_paired.fastq.gz' /home/escaon/save/PTCB/Reads_raw_Nice_trim/$id'_2_EP_paired.fastq.gz'\n",
    "done\n",
    "for id in '3pRR_R' '3pRR_S' 'EU_R' 'EU_S' 'MAR_R' 'MAR_S' 'WT_R' 'WT_S';\n",
    "do\n",
    "kallisto quant -i /home/hbastien/work/PTCB/mm10_transcriptome/Mus_musculus.GRCm38.cdna.all.idx -o kallisto$id'YD' -b 100 --rf-stranded /home/escaon/save/PTCB/Reads_raw_Nice_trim/$id'_1_YD_paired.fastq.gz' /home/escaon/save/PTCB/Reads_raw_Nice_trim/$id'_2_YD_paired.fastq.gz'\n",
    "done"
   ]
  },
  {
   "cell_type": "code",
   "execution_count": null,
   "metadata": {
    "code_folding": [
     0
    ],
    "collapsed": true
   },
   "outputs": [],
   "source": [
    "### CODE ###\n",
    "qsub manageKallisto.sh"
   ]
  },
  {
   "cell_type": "markdown",
   "metadata": {},
   "source": [
    "#### 4.2.2) Pefanis data"
   ]
  },
  {
   "cell_type": "markdown",
   "metadata": {},
   "source": [
    "##### a) Paired end"
   ]
  },
  {
   "cell_type": "code",
   "execution_count": null,
   "metadata": {
    "code_folding": [
     0
    ],
    "collapsed": true
   },
   "outputs": [],
   "source": [
    "### CODE ###\n",
    "#!/bin/bash\n",
    "#$ -q workq\n",
    "#$ -m bea\n",
    "#$ -l mem=8G\n",
    "#$ -l h_vmem=30G\n",
    "#\n",
    "\n",
    "#####Alignment KALLISTO PE\n",
    "for id in 'SRR1302208' 'SRR1302283' 'SRR1302786' 'SRR1302787' 'SRR1302788' 'SRR1302789';\n",
    "do\n",
    "kallisto quant -i /home/hbastien/work/PTCB/mm10_transcriptome/Mus_musculus.GRCm38.cdna.all.idx -o kallisto$id -b 100 /home/hbastien/work/PTCB/Pefanis_rebuild/'Trimmed_paired_'$id'_1.fastq' /home/hbastien/work/PTCB/Pefanis_rebuild/'Trimmed_paired_'$id'_2.fastq'\n",
    "done"
   ]
  },
  {
   "cell_type": "code",
   "execution_count": null,
   "metadata": {
    "code_folding": [
     0
    ],
    "collapsed": true
   },
   "outputs": [],
   "source": [
    "### CODE ###\n",
    "qsub manageKallistoPE.sh"
   ]
  },
  {
   "cell_type": "markdown",
   "metadata": {},
   "source": [
    "##### b) Single end"
   ]
  },
  {
   "cell_type": "code",
   "execution_count": null,
   "metadata": {
    "code_folding": [
     0
    ],
    "collapsed": true
   },
   "outputs": [],
   "source": [
    "### CODE ###\n",
    "#!/bin/bash\n",
    "#$ -q workq\n",
    "#$ -m bea\n",
    "#$ -l mem=8G\n",
    "#$ -l h_vmem=30G\n",
    "#\n",
    "\n",
    "#####Alignment KALLISTO SE\n",
    "for id in 'SRR1302414' 'SRR1302785';\n",
    "do\n",
    "kallisto quant -i /home/hbastien/work/PTCB/mm10_transcriptome/Mus_musculus.GRCm38.cdna.all.idx -o kallisto$id -b 100 --single -l 100 -s 20 /home/hbastien/work/PTCB/Pefanis_rebuild/'Trimmed_'$id'_1.fastq'\n",
    "done"
   ]
  },
  {
   "cell_type": "code",
   "execution_count": null,
   "metadata": {
    "code_folding": [
     0
    ],
    "collapsed": true
   },
   "outputs": [],
   "source": [
    "### CODE ###\n",
    "qsub manageKallistoSE.sh"
   ]
  },
  {
   "cell_type": "markdown",
   "metadata": {},
   "source": [
    "##### Retrieve count files locally :"
   ]
  },
  {
   "cell_type": "code",
   "execution_count": null,
   "metadata": {
    "code_folding": [
     0
    ],
    "collapsed": true
   },
   "outputs": [],
   "source": [
    "### CODE ###\n",
    "sudo scp -r hbastien@genotoul.toulouse.inra.fr:/home/hbastien/work/PTCB/kallisto* /run/user/1000/gvfs/smb-share:server=ubox.unilim.fr,share=biscem/BioInformatique/Responsables/Commun/PTCB/Outputs/Kallisto"
   ]
  },
  {
   "cell_type": "markdown",
   "metadata": {},
   "source": [
    "### 4.3) Downstream analysis compatibility\n",
    "Slightly modify featureCounts output to make it compatible with future steps of the analysis.\n",
    "We want our gene names to be the same than those contained in ensembl when retrieved with biomart."
   ]
  },
  {
   "cell_type": "markdown",
   "metadata": {},
   "source": [
    "#### 4.3.1) FeatureCounts"
   ]
  },
  {
   "cell_type": "markdown",
   "metadata": {},
   "source": [
    "Remove spreadsheet hidden ' \" ' for downstream compatility with our awk manipulation :"
   ]
  },
  {
   "cell_type": "code",
   "execution_count": null,
   "metadata": {
    "code_folding": [
     0
    ],
    "collapsed": true
   },
   "outputs": [],
   "source": [
    "### CODE ###\n",
    "cd ~/Desktop/PTCB/BISCEm/Outputs/FeatureCounts;\n",
    "for f in *.tsv;\n",
    "do sed 's/\\\"//g' $f > ${f%.*}\".temp.tsv\";\n",
    "done;"
   ]
  },
  {
   "cell_type": "markdown",
   "metadata": {},
   "source": [
    "Use awk sub to convert \"ENSMUSG00000098104.12\" -> \"ENSMUSG00000098104\" :"
   ]
  },
  {
   "cell_type": "code",
   "execution_count": null,
   "metadata": {
    "code_folding": [
     0
    ],
    "collapsed": true
   },
   "outputs": [],
   "source": [
    "### CODE ###\n",
    "for f in *.temp.tsv;\n",
    "do awk -F '\\t' -v OFS='\\t' 'NR > 1 {sub(/\\.[0-9]*/, \"\", $1)} 1' $f > ${f%%.*}\"_ensembl_gene_id.tsv\";\n",
    "done;\n",
    "rm *.temp.tsv;"
   ]
  },
  {
   "cell_type": "markdown",
   "metadata": {},
   "source": [
    "Check that the removal of \".[0-9]?\" from the gene id column did not change the number of unique gene ids :"
   ]
  },
  {
   "cell_type": "code",
   "execution_count": null,
   "metadata": {
    "code_folding": [
     0
    ],
    "collapsed": true
   },
   "outputs": [],
   "source": [
    "### CODE ###\n",
    "for f in *.tsv;\n",
    "do awk -F '\\t' '{print $1}' $f | sort -u | wc -l;\n",
    "done;"
   ]
  },
  {
   "cell_type": "markdown",
   "metadata": {},
   "source": [
    "We did show that transforming gene name \"ENSMUSG00000098104.12\" -> \"ENSMUSG00000098104\" did not change the number unique gene names."
   ]
  },
  {
   "cell_type": "markdown",
   "metadata": {},
   "source": [
    "#### 4.3.2) Kallisto"
   ]
  },
  {
   "cell_type": "markdown",
   "metadata": {},
   "source": [
    "Remove spreadsheet hidden ' \" ' for downstream compatility with our awk manipulation :"
   ]
  },
  {
   "cell_type": "code",
   "execution_count": null,
   "metadata": {
    "code_folding": [
     0
    ],
    "collapsed": true
   },
   "outputs": [],
   "source": [
    "### CODE ###\n",
    "cd /run/user/1000/gvfs/smb-share:server=ubox.unilim.fr,share=biscem/BioInformatique/Responsables/Commun/PTCB/Outputs/Kallisto;\n",
    "for d in ./*;\n",
    "do sed 's/\\\"//g' $d/\"abundance.tsv\" > $d/\"abundance.temp.tsv\";\n",
    "done;"
   ]
  },
  {
   "cell_type": "markdown",
   "metadata": {},
   "source": [
    "Use awk sub to convert \"ENSMUSG00000098104.12\" -> \"ENSMUSG00000098104\" :"
   ]
  },
  {
   "cell_type": "code",
   "execution_count": null,
   "metadata": {
    "code_folding": [
     0
    ],
    "collapsed": true
   },
   "outputs": [],
   "source": [
    "### CODE ###\n",
    "for d in ./*;\n",
    "do awk -F '\\t' -v OFS='\\t' 'NR > 1 {sub(/\\.[0-9]*/, \"\", $1)} 1' $d/\"abundance.tsv\" > $d/\"abundance_ensembl_gene_id.tsv\";\n",
    "rm $d/*.temp.tsv;\n",
    "done;"
   ]
  },
  {
   "cell_type": "markdown",
   "metadata": {},
   "source": [
    "Check that the removal of \".[0-9]?\" from the gene id column did not change the number of unique gene ids :"
   ]
  },
  {
   "cell_type": "code",
   "execution_count": null,
   "metadata": {
    "code_folding": [
     0
    ],
    "collapsed": true
   },
   "outputs": [],
   "source": [
    "### CODE ###\n",
    "for d in ./*;\n",
    "do awk -F '\\t' '{print $1}' $d/\"abundance.tsv\" | sort -u | wc -l;\n",
    "done;"
   ]
  },
  {
   "cell_type": "markdown",
   "metadata": {},
   "source": [
    "We did show that transforming gene name \"ENSMUSG00000098104.12\" -> \"ENSMUSG00000098104\" did not change the number unique gene names."
   ]
  },
  {
   "cell_type": "markdown",
   "metadata": {},
   "source": [
    "## 5) DE analysis"
   ]
  },
  {
   "cell_type": "markdown",
   "metadata": {},
   "source": [
    "Perfomed with DESeq2_1.16.1 (using Bioconductor 3.5 (BiocInstaller 1.26.0), R 3.4.1 (2017-06-30)) : <br>\n",
    "\n",
    "Each analysis (R script) will output a raw TSV of DE genes, a TSV of SDE genes, MA, Volcano & Correlation plots. <br>\n",
    "For 1 vs 1 comparison, SDE genes are defined as follow : DE genes having : log2(foldchange) absolute value > 2 & p-value < 0.05 & at least 100 counts in one of the two conditions. <br>\n",
    "For future comparison with replicates, SDE genes will be DE genes with adjusted p-value < 0.05."
   ]
  },
  {
   "cell_type": "markdown",
   "metadata": {},
   "source": [
    "##### A quick word regarding comparisions with no replicates"
   ]
  },
  {
   "cell_type": "markdown",
   "metadata": {},
   "source": [
    "From DESeq2 documentation (https://bioconductor.org/packages/release/bioc/vignettes/DESeq2/inst/doc/DESeq2.html#can-i-use-deseq2-to-analyze-a-dataset-without-replicates) : <br>\n",
    "Without replicates, a warning is printed, that the samples are treated as replicates for estimation of dispersion. This kind of analysis is only useful for exploring the data, but will not provide the kind of proper statistical inference on differences between groups. Without biological replicates, it is not possible to estimate the biological variability of each gene."
   ]
  },
  {
   "cell_type": "markdown",
   "metadata": {},
   "source": [
    "### 5.1) Resting vs Stimulated for the same mouse model"
   ]
  },
  {
   "cell_type": "markdown",
   "metadata": {},
   "source": [
    "#### 5.1.1) No replicates"
   ]
  },
  {
   "cell_type": "markdown",
   "metadata": {},
   "source": [
    "##### With FeatureCounts :"
   ]
  },
  {
   "cell_type": "code",
   "execution_count": 1,
   "metadata": {
    "code_folding": [
     0
    ],
    "collapsed": true
   },
   "outputs": [],
   "source": [
    "### CODE ###\n",
    "pathway='/run/user/1000/gvfs/smb-share:server=ubox.unilim.fr,share=biscem/BioInformatique/Responsables/Commun/PTCB';\n",
    "cd $pathway;\n",
    "arrayR=('3B4_R_EP' '3pRR_R_EP' 'DEL_R_EP' 'IRIS_R_EP' 'PAL_R_EP' 'WT_R_EP' '3pRR_R_YD' 'EU_R_YD' 'MAR_R_YD' 'WT_R_YD')\n",
    "arrayS=('3B4_S_EP' '3pRR_S_EP' 'DEL_S_EP' 'IRIS_S_EP' 'PAL_S_EP' 'WT_S_EP' '3pRR_S_YD' 'EU_S_YD' 'MAR_S_YD' 'WT_S_YD')\n",
    "\n",
    "length=${#arrayR[@]}\n",
    "for ((i=0;i<=$length-1;i++));\n",
    "do\n",
    "Rscript $pathway/Scripts/deseq2_R_vs_S_no_replicates_fc.R ${arrayR[$i]} ${arrayS[$i]} &>> $pathway/Outputs/DESeq2/Verbose/deseq2_R_vs_S_no_replicates_fc.verbose;\n",
    "done;"
   ]
  },
  {
   "cell_type": "markdown",
   "metadata": {},
   "source": [
    "Content of deseq2_R_vs_S_no_replicates_fc.R :"
   ]
  },
  {
   "cell_type": "code",
   "execution_count": 1,
   "metadata": {
    "code_folding": [
     0
    ],
    "collapsed": true
   },
   "outputs": [],
   "source": [
    "### CODE ###\n",
    "#!/usr/bin/env Rscript\n",
    "args = commandArgs(trailingOnly=TRUE)\n",
    "\n",
    "string = paste(substr(args[1],1,nchar(args[1])-5),'_',substr(args[1],nchar(args[1])-1,nchar(args[1])), sep=\"\")\n",
    "\n",
    "# Open featureCounts results for the same mouse model & same run\n",
    "R = read.table(paste(\"./Outputs/FeatureCounts/\",args[1],\"_ensembl_gene_id.tsv\", sep=\"\"))\n",
    "S = read.table(paste(\"./Outputs/FeatureCounts/\",args[2],\"_ensembl_gene_id.tsv\", sep=\"\"))\n",
    "\n",
    "# Print files names\n",
    "paste(\"./Outputs/FeatureCounts/\",args[1],\"_ensembl_gene_id.tsv\", sep=\"\")\n",
    "paste(\"./Outputs/FeatureCounts/\",args[2],\"_ensembl_gene_id.tsv\", sep=\"\")\n",
    "\n",
    "# Create dataframe\n",
    "df = data.frame(row.names = row.names(R),\n",
    "                R = R[1],\n",
    "                S = S[1])\n",
    "colnames(df) <- c(args[1], args[2])\n",
    "\n",
    "# Create design\n",
    "condition <- c('R', 'S')\n",
    "type <- c('paired-end', 'paired-end')\n",
    "df_infos <- data.frame(condition, type)\n",
    "row.names(df_infos) <- c(args[1], args[2])\n",
    "\n",
    "# Check of we have the same colnames in df & design\n",
    "all(rownames(df_infos) %in% colnames(df))\n",
    "\n",
    "# Start DESeq2\n",
    "library(\"DESeq2\")\n",
    "dds <- DESeqDataSetFromMatrix(countData = df,\n",
    "                              colData = df_infos,\n",
    "                              design = ~ condition)\n",
    "\n",
    "# Pre-filtering removing rows that have only 0 or 1 read\n",
    "dds <- dds[ rowSums(counts(dds)) > 1, ]\n",
    "\n",
    "# Check on many genes it discarded\n",
    "summary(dds)\n",
    "\n",
    "# Set factor to tell which one is the control group\n",
    "dds$condition <- factor(dds$condition, levels=c('R','S'))\n",
    "\n",
    "# Start actual DE analysis\n",
    "dds <- DESeq(dds)\n",
    "res <- results(dds)\n",
    "\n",
    "# We are using DESeq2_1.16.1, thus betaPrior is set to 'FALSE' and we need to obtain shrunken LFCs with function ‘lfcShrink’.\n",
    "# https://support.bioconductor.org/p/95695/\n",
    "res <- lfcShrink(dds,\n",
    "                 contrast=c(\"condition\",\"R\",\"S\"),\n",
    "                 res=res)\n",
    "\n",
    "# MA plot : the log2 of ratio of the counts between two conditions is represented as a function of the log2 of the mean of the counts\n",
    "png(paste('./Outputs/DESeq2/Plots/MA/R_vs_S_', string, '_fc_MA.png', sep=\"\"))\n",
    "plotMA(res,\n",
    "       ylim=c(min(res$log2FoldChange),\n",
    "        max(res$log2FoldChange)))\n",
    "dev.off()\n",
    "\n",
    "# Volcano plot : the log10 of the adjusted pvalue is represented as a function of the log2 of ratio of the counts.\n",
    "png(paste('./Outputs/DESeq2/Plots/Volcano/R_vs_S_', string, '_fc_volcano.png', sep=\"\"))\n",
    "plot(res$log2FoldChange,\n",
    "     -log10(res$padj),\n",
    "     xlim=c(min(res$log2FoldChange), max(res$log2FoldChange)),\n",
    "     ylim=c(0, 15),\n",
    "     xlab=\"log2 fold change\",\n",
    "     ylab=\"-log10 p-value\",\n",
    "     type=\"n\")\n",
    "sel <- which(res$log2FoldChange>=1)\n",
    "points(res[sel,\"log2FoldChange\"], -log10(res[sel,\"padj\"]),col=\"red\")\n",
    "sel <- which(res$log2FoldChange<1 & res$log2FoldChange>-1)\n",
    "points(res[sel,\"log2FoldChange\"], -log10(res[sel,\"padj\"]),col=\"grey\")\n",
    "sel <- which(res$log2FoldChange<=-1)\n",
    "points(res[sel,\"log2FoldChange\"], -log10(res[sel,\"padj\"]),col=\"green\")\n",
    "sel <- which(res$padj>0.05)\n",
    "points(res[sel,\"log2FoldChange\"], -log10(res[sel,\"padj\"]),col=\"black\")\n",
    "abline(v=1,lty=3)\n",
    "abline(v=-1,lty=3)\n",
    "dev.off()\n",
    "\n",
    "# Retrieve and print sizeFactors for future BAM normalization\n",
    "dds <- estimateSizeFactors(dds)\n",
    "sizeFactors(dds)\n",
    "\n",
    "# Retrieve normalized counts for each condition for future merge\n",
    "nor_counts <- counts(dds, normalized=TRUE)\n",
    "nor_counts_df <- as.data.frame(nor_counts)\n",
    "library(data.table)\n",
    "nor_counts_df <- setDT(nor_counts_df, keep.rownames = TRUE)[]\n",
    "colnames(nor_counts_df)[1] <- \"ensembl_gene_id\"\n",
    "colnames(nor_counts_df)[2] <- \"R_normalized_count\"\n",
    "colnames(nor_counts_df)[3] <- \"S_normalized_count\"\n",
    "\n",
    "# Then tidy = TRUE for compatibility with biomaRt merge\n",
    "res <- results(dds, tidy = TRUE)\n",
    "colnames(res)[1] <- \"ensembl_gene_id\"\n",
    "\n",
    "# Add biotypes infos thanks to ensembl annotations using biomart\n",
    "library(\"biomaRt\")\n",
    "mart <- biomaRt::useMart(biomart = \"ENSEMBL_MART_ENSEMBL\",\n",
    "                         dataset = \"mmusculus_gene_ensembl\",\n",
    "                         host = 'ensembl.org')             \n",
    "mart_infos <- biomaRt::getBM(attributes = c(\"ensembl_gene_id\",\n",
    "                                            \"external_gene_name\",\n",
    "                                            \"gene_biotype\",\n",
    "                                            \"chromosome_name\"),\n",
    "                                            mart = mart)\n",
    "\n",
    "# Merge our DE results with ensembl infos for based on same gene_id in column\n",
    "res_biotyped <- merge(x = res,\n",
    "                      y = mart_infos,\n",
    "                      by = \"ensembl_gene_id\",\n",
    "                      all.x = TRUE)\n",
    "\n",
    "####NA removed\n",
    "res_biotyped$external_gene_name[is.na(res_biotyped$external_gene_name)] <- \"None\"\n",
    "res_biotyped$gene_biotype[is.na(res_biotyped$gene_biotype)] <- \"None\"\n",
    "res_biotyped$chromosome_name[is.na(res_biotyped$chromosome_name)] <- \"None\"\n",
    "\n",
    "# Re-order columns & rename some to make more sense\n",
    "res_biotyped <- res_biotyped[,c(1,8,10,9,2:7)]\n",
    "colnames(res_biotyped)[2] <- \"ensembl_gene_name\"\n",
    "colnames(res_biotyped)[3] <- \"ensembl_chromosome\"\n",
    "colnames(res_biotyped)[4] <- \"ensembl_gene_biotype\"\n",
    "\n",
    "# Add normalized counts info\n",
    "res_biotyped_counts <- merge(x = res_biotyped,\n",
    "                             y = nor_counts_df,\n",
    "                             by = \"ensembl_gene_id\",\n",
    "                             all.x = TRUE)\n",
    "\n",
    "# Transform exponential to decimal\n",
    "options(scipen = 50)\n",
    "\n",
    "#Remove blood contamination\n",
    "res_biotyped_counts <- res_biotyped_counts[- grep(\"Hb[a,q,b]\", res_biotyped_counts$ensembl_gene_name),]\n",
    "\n",
    "\n",
    "# Save raw results in a TSV\n",
    "write.table(res_biotyped_counts,\n",
    "            paste('./Outputs/DESeq2/Raw/R_vs_S_', string, '_all_fc.tsv', sep=\"\"),\n",
    "            append=F, sep='\\t',\n",
    "            col.names=T,\n",
    "            row.names=F)\n",
    "\n",
    "# Keep Aicda for control\n",
    "keep_aicda <- res_biotyped_counts[res_biotyped_counts$ensembl_gene_name == 'Aicda',] \n",
    "\n",
    "# Filter results to keep only significantly DE genes\n",
    "res_biotyped_counts <- res_biotyped_counts[(res_biotyped_counts$pvalue<0.05 & (res_biotyped_counts$log2FoldChange<=(-2) | res_biotyped_counts$log2FoldChange>=2) & (res_biotyped_counts[11]>=100 | res_biotyped_counts[12]>=100)),]\n",
    "\n",
    "# Keep Aicda for control\n",
    "if(!'Aicda' %in% res_biotyped_counts$ensembl_gene_name){res_biotyped_counts <- rbind(res_biotyped_counts, keep_aicda)}\n",
    "\n",
    "# Save filtered results in a TSV\n",
    "write.table(res_biotyped_counts,\n",
    "            paste('./Outputs/DESeq2/Filtered/R_vs_S_', string, '_fc.tsv', sep=\"\"),\n",
    "            append=F, sep='\\t',\n",
    "            col.names=T,\n",
    "            row.names=F)\n",
    "\n",
    "# New plots to check variability between samples\n",
    "# See \"5.2 The rlog and variance stabilizing transformations\" at www.bioconductor.org/help/workflows/rnaseqGene/\n",
    "library(\"dplyr\")\n",
    "\n",
    "# log2 on normalized counts\n",
    "log2nor_df <- as_data_frame(log2(counts(dds, normalized=TRUE)[, 1:2]+1))\n",
    "log2nor_r <- cor.test(log2nor_df[[colnames(dds)[1]]],\n",
    "                      log2nor_df[[colnames(dds)[2]]],\n",
    "                      method = \"pearson\")\n",
    "\n",
    "# regularized-logarithm transformation (rlog)\n",
    "rld <- rlog(dds, blind = FALSE)\n",
    "rld_df <- as_data_frame(assay(rld)[, 1:2])\n",
    "rld_r <- cor.test(rld_df[[colnames(dds)[1]]],\n",
    "                  rld_df[[colnames(dds)[2]]],\n",
    "                  method = \"pearson\")\n",
    "\n",
    "# variance stabilizing transformation (vst)\n",
    "vsd <- varianceStabilizingTransformation(dds, blind=FALSE)\n",
    "vsd_df <- as_data_frame(assay(vsd)[, 1:2])\n",
    "vsd_r <- cor.test(vsd_df[[colnames(dds)[1]]],\n",
    "                  vsd_df[[colnames(dds)[2]]],\n",
    "                  method = \"pearson\")\n",
    "\n",
    "# Start actual plots\n",
    "library(\"ggplot2\")\n",
    "\n",
    "# log2 on normalized counts\n",
    "colnames(log2nor_df)[1:2] <- c(\"x\", \"y\")\n",
    "plot2 <- ggplot(log2nor_df,\n",
    "                aes(x = x, y = y)) +\n",
    "                geom_hex(bins = 80) +\n",
    "                coord_fixed() +\n",
    "                xlab(colnames(dds)[1]) +\n",
    "                ylab(colnames(dds)[2])\n",
    "png(paste('./Outputs/DESeq2/Plots/Correlation/R_vs_S_', string, '_fc_log2nor.png', sep=\"\"))\n",
    "plot2 + geom_text(x=4,\n",
    "                  y=15,\n",
    "                  label=paste(\"Pearson = \",\n",
    "                              round(log2nor_r$estimate,\n",
    "                                    digits=3)),\n",
    "                  color = \"red\",\n",
    "                  size = 6)\n",
    "dev.off()\n",
    "\n",
    "# regularized-logarithm transformation (rlog)\n",
    "colnames(rld_df)[1:2] <- c(\"x\", \"y\")\n",
    "plot3 <- ggplot(rld_df,\n",
    "                aes(x = x, y = y)) +\n",
    "                geom_hex(bins = 80) +\n",
    "                coord_fixed() +\n",
    "                xlab(colnames(dds)[1]) +\n",
    "                ylab(colnames(dds)[2])\n",
    "png(paste('./Outputs/DESeq2/Plots/Correlation/R_vs_S_', string, '_fc_rld.png', sep=\"\"))\n",
    "plot3 + geom_text(x=4,\n",
    "                  y=15,\n",
    "                  label=paste(\"Pearson = \",\n",
    "                              round(rld_r$estimate,\n",
    "                                    digits=3)),\n",
    "                  color = \"red\",\n",
    "                  size = 6)\n",
    "dev.off()\n",
    "\n",
    "# variance stabilizing transformation (vst)\n",
    "colnames(vsd_df)[1:2] <- c(\"x\", \"y\")\n",
    "plot4 <- ggplot(vsd_df,\n",
    "                aes(x = x, y = y)) +\n",
    "                geom_hex(bins = 80) +\n",
    "                coord_fixed() +\n",
    "                xlab(colnames(dds)[1]) +\n",
    "                ylab(colnames(dds)[2])\n",
    "png(paste('./Outputs/DESeq2/Plots/Correlation/R_vs_S_', string, '_fc_vsd.png', sep=\"\"))\n",
    "plot4 + geom_text(x=11,\n",
    "                  y=15,\n",
    "                  label=paste(\"Pearson = \",\n",
    "                              round(vsd_r$estimate,\n",
    "                                    digits=3)),\n",
    "                  color = \"red\",\n",
    "                  size = 6)\n",
    "dev.off()"
   ]
  },
  {
   "cell_type": "markdown",
   "metadata": {},
   "source": [
    "##### With Kallisto :"
   ]
  },
  {
   "cell_type": "code",
   "execution_count": 2,
   "metadata": {
    "code_folding": [
     0
    ],
    "collapsed": true
   },
   "outputs": [],
   "source": [
    "### CODE ###\n",
    "pathway='/run/user/1000/gvfs/smb-share:server=ubox.unilim.fr,share=biscem/BioInformatique/Responsables/Commun/PTCB';\n",
    "cd $pathway;\n",
    "arrayR=('3B4_R_EP' '3pRR_R_EP' 'DEL_R_EP' 'IRIS_R_EP' 'PAL_R_EP' 'WT_R_EP' '3pRR_R_YD' 'EU_R_YD' 'MAR_R_YD' 'WT_R_YD')\n",
    "arrayS=('3B4_S_EP' '3pRR_S_EP' 'DEL_S_EP' 'IRIS_S_EP' 'PAL_S_EP' 'WT_S_EP' '3pRR_S_YD' 'EU_S_YD' 'MAR_S_YD' 'WT_S_YD')\n",
    "\n",
    "length=${#arrayR[@]}\n",
    "for ((i=0;i<=$length-1;i++));\n",
    "do\n",
    "Rscript $pathway/Scripts/deseq2_R_vs_S_no_replicates_ka.R ${arrayR[$i]} ${arrayS[$i]} &>> $pathway/Outputs/DESeq2/Verbose/deseq2_R_vs_S_no_replicates_ka.verbose;\n",
    "done;"
   ]
  },
  {
   "cell_type": "markdown",
   "metadata": {},
   "source": [
    "Content of deseq2_R_vs_S_no_replicates_ka.R :"
   ]
  },
  {
   "cell_type": "code",
   "execution_count": null,
   "metadata": {
    "code_folding": [
     0
    ],
    "collapsed": true
   },
   "outputs": [],
   "source": [
    "### CODE ###\n",
    "#!/usr/bin/env Rscript\n",
    "args = commandArgs(trailingOnly=TRUE)\n",
    "string = paste(substr(args[1],1,nchar(args[1])-5),'_',substr(args[1],nchar(args[1])-1,nchar(args[1])), sep=\"\")\n",
    "\n",
    "# Open featureCounts results for the same mouse model & same run\n",
    "R = paste(\"./Outputs/Kallisto/kallisto\",args[1],\"/abundance_ensembl_gene_id.tsv\", sep=\"\")\n",
    "S = paste(\"./Outputs/Kallisto/kallisto\",args[2],\"/abundance_ensembl_gene_id.tsv\", sep=\"\")\n",
    "\n",
    "# Print files names\n",
    "files <- file.path(c(R, S))\n",
    "names(files) <- paste0(c(args[1], args[2]))\n",
    "files\n",
    "\n",
    "# use biomart to help import Kallisto results (ensembl_transcript_id)\n",
    "library(\"biomaRt\")\n",
    "mart <- biomaRt::useMart(biomart = \"ENSEMBL_MART_ENSEMBL\",\n",
    "                         dataset = \"mmusculus_gene_ensembl\",\n",
    "                         host = 'ensembl.org')             \n",
    "mart_infos <- biomaRt::getBM(attributes = c(\"ensembl_transcript_id\",\n",
    "                                            \"external_gene_name\",\n",
    "                                            \"gene_biotype\"),\n",
    "                                            mart = mart)\n",
    "\n",
    "# Do remaining needed stuff to import Kallisto counts into DESeq2\n",
    "library(\"tximport\")\n",
    "library(\"GenomicFeatures\")\n",
    "\n",
    "mmusculusEnsembl <- makeTxDbFromBiomart(dataset=\"mmusculus_gene_ensembl\")\n",
    "\n",
    "k <- keys(mmusculusEnsembl, keytype = \"GENEID\")\n",
    "df <- select(mmusculusEnsembl, keys = k, keytype = \"GENEID\", columns = \"TXNAME\")\n",
    "tx2gene <- df[, 2:1]\n",
    "txi.kallisto.tsv <- tximport(files, type = \"kallisto\", tx2gene = tx2gene)\n",
    "df <- data.frame(txi.kallisto.tsv$counts, check.names = FALSE)\n",
    "\n",
    "# Create design\n",
    "condition <- c('R', 'S')\n",
    "type <- c('paired-end', 'paired-end')\n",
    "df_infos <- data.frame(condition, type)\n",
    "row.names(df_infos) <- c(args[1],args[2])\n",
    "\n",
    "# Check of we have the same colnames in df & design\n",
    "all(rownames(df_infos) %in% colnames(df))\n",
    "\n",
    "# Start DESeq2\n",
    "library(\"DESeq2\")\n",
    "dds <- DESeqDataSetFromTximport(txi.kallisto.tsv,\n",
    "                                df_infos,\n",
    "                                ~condition)\n",
    "\n",
    "# Pre-filtering removing rows that have only 0 or 1 read\n",
    "dds <- dds[ rowSums(counts(dds)) > 1, ]\n",
    "\n",
    "# Check on many genes it discarded\n",
    "summary(dds)\n",
    "\n",
    "# Set factor to tell which one is the control group\n",
    "dds$condition <- factor(dds$condition, levels=c('R','S'))\n",
    "\n",
    "# Start actual DE analysis\n",
    "dds <- DESeq(dds)\n",
    "res <- results(dds)\n",
    "\n",
    "# We are using DESeq2_1.16.1, thus betaPrior is set to 'FALSE' and we need to obtain shrunken LFCs with function ‘lfcShrink’.\n",
    "# https://support.bioconductor.org/p/95695/\n",
    "res <- lfcShrink(dds,\n",
    "                contrast=c(\"condition\",\"R\",\"S\"),\n",
    "                res=res)\n",
    "\n",
    "# MA plot : the log2 of ratio of the counts between two conditions is represented as a function of the log2 of the mean of the counts\n",
    "png(paste('./Outputs/DESeq2/Plots/MA/R_vs_S_', string, '_ka_MA.png', sep=\"\"))\n",
    "plotMA(res,\n",
    "       ylim=c(min(res$log2FoldChange),\n",
    "        max(res$log2FoldChange)))\n",
    "dev.off()\n",
    "\n",
    "# Volcano plot : the log10 of the adjusted pvalue is represented as a function of the log2 of ratio of the counts.\n",
    "png(paste('./Outputs/DESeq2/Plots/Volcano/R_vs_S_', string, '_ka_volcano.png', sep=\"\"))\n",
    "\n",
    "plot(res$log2FoldChange,\n",
    "     -log10(res$padj),\n",
    "     xlim=c(min(res$log2FoldChange), max(res$log2FoldChange)),\n",
    "     ylim=c(0, 15),\n",
    "     xlab=\"log2 fold change\",\n",
    "     ylab=\"-log10 p-value\",\n",
    "     type=\"n\")\n",
    "\n",
    "sel <- which(res$log2FoldChange>=1)\n",
    "points(res[sel,\"log2FoldChange\"], -log10(res[sel,\"padj\"]),col=\"red\")\n",
    "sel <- which(res$log2FoldChange<1 & res$log2FoldChange>-1)\n",
    "points(res[sel,\"log2FoldChange\"], -log10(res[sel,\"padj\"]),col=\"grey\")\n",
    "sel <- which(res$log2FoldChange<=-1)\n",
    "points(res[sel,\"log2FoldChange\"], -log10(res[sel,\"padj\"]),col=\"green\")\n",
    "sel <- which(res$padj>0.05)\n",
    "points(res[sel,\"log2FoldChange\"], -log10(res[sel,\"padj\"]),col=\"black\")\n",
    "abline(v=1,lty=3)\n",
    "abline(v=-1,lty=3)\n",
    "dev.off()\n",
    "\n",
    "# Retrieve and print sizeFactors for future BAM normalization\n",
    "dds <- estimateSizeFactors(dds)\n",
    "sizeFactors(dds)\n",
    "\n",
    "# Retrieve normalized counts for each condition for future merge\n",
    "nor_counts <- counts(dds, normalized=TRUE)\n",
    "nor_counts_df <- as.data.frame(nor_counts)\n",
    "library(data.table)\n",
    "nor_counts_df <- setDT(nor_counts_df, keep.rownames = TRUE)[]\n",
    "colnames(nor_counts_df)[1] <- \"ensembl_gene_id\"\n",
    "colnames(nor_counts_df)[2] <- \"R_normalized_count\"\n",
    "colnames(nor_counts_df)[3] <- \"S_normalized_count\"\n",
    "\n",
    "# Then tidy = TRUE for compatibility with biomaRt merge\n",
    "res <- results(dds, tidy = TRUE)\n",
    "colnames(res)[1] <- \"ensembl_gene_id\"\n",
    "\n",
    "# Add biotypes infos thanks to ensembl annotations using biomart (ensembl_gene_id)\n",
    "library(\"biomaRt\")\n",
    "mart <- biomaRt::useMart(biomart = \"ENSEMBL_MART_ENSEMBL\",\n",
    "                         dataset = \"mmusculus_gene_ensembl\",\n",
    "                         host = 'ensembl.org')             \n",
    "mart_infos <- biomaRt::getBM(attributes = c(\"ensembl_gene_id\",\n",
    "                                            \"external_gene_name\",\n",
    "                                            \"gene_biotype\",\n",
    "                                            \"chromosome_name\"),\n",
    "                                            mart = mart)\n",
    "# Merge our DE results with ensembl infos for based on same gene_id in column\n",
    "res_biotyped <- merge(x = res,\n",
    "                      y = mart_infos,\n",
    "                      by = \"ensembl_gene_id\",\n",
    "                      all.x = TRUE)\n",
    "\n",
    "####NA removed\n",
    "res_biotyped$external_gene_name[is.na(res_biotyped$external_gene_name)] <- \"None\"\n",
    "res_biotyped$gene_biotype[is.na(res_biotyped$gene_biotype)] <- \"None\"\n",
    "res_biotyped$chromosome_name[is.na(res_biotyped$chromosome_name)] <- \"None\"\n",
    "\n",
    "# Re-order columns & rename some to make more sense\n",
    "res_biotyped <- res_biotyped[,c(1,8,10,9,2:7)]\n",
    "colnames(res_biotyped)[2] <- \"ensembl_gene_name\"\n",
    "colnames(res_biotyped)[3] <- \"ensembl_chromosome\"\n",
    "colnames(res_biotyped)[4] <- \"ensembl_gene_biotype\"\n",
    "\n",
    "# Add normalized counts info\n",
    "res_biotyped_counts <- merge(x = res_biotyped,\n",
    "                             y = nor_counts_df,\n",
    "                             by = \"ensembl_gene_id\",\n",
    "                             all.x = TRUE)\n",
    "\n",
    "# Transform exponential to decimal\n",
    "options(scipen = 50)\n",
    "\n",
    "#Remove blood contamination\n",
    "res_biotyped_counts <- res_biotyped_counts[- grep(\"Hb[a,q,b]\", res_biotyped_counts$ensembl_gene_name),]\n",
    "\n",
    "write.table(res_biotyped_counts,\n",
    "            paste('./Outputs/DESeq2/Raw/R_vs_S_', string, '_all_ka.tsv', sep=\"\"),\n",
    "            append=F, sep='\\t',\n",
    "            col.names=T,\n",
    "            row.names=F)\n",
    "\n",
    "# Keep Aicda for control\n",
    "keep_aicda <- res_biotyped_counts[res_biotyped_counts$ensembl_gene_name == 'Aicda',] \n",
    "\n",
    "# Filter results to keep only significantly DE genes\n",
    "res_biotyped_counts <- res_biotyped_counts[(res_biotyped_counts$pvalue<0.05 & (res_biotyped_counts$log2FoldChange<=(-2) | res_biotyped_counts$log2FoldChange>=2) & (res_biotyped_counts[11]>=100 | res_biotyped_counts[12]>=100)),]\n",
    "\n",
    "# Keep Aicda for control\n",
    "if(!'Aicda' %in% res_biotyped_counts$ensembl_gene_name){res_biotyped_counts <- rbind(res_biotyped_counts, keep_aicda)}\n",
    "\n",
    "# Save filtered results in a TSV\n",
    "write.table(res_biotyped_counts,\n",
    "            paste('./Outputs/DESeq2/Filtered/R_vs_S_', string, '_ka.tsv', sep=\"\"),\n",
    "            append=F, sep='\\t',\n",
    "            col.names=T,\n",
    "            row.names=F)\n",
    "\n",
    "# New plots to check variability between samples\n",
    "# See \"5.2 The rlog and variance stabilizing transformations\" at www.bioconductor.org/help/workflows/rnaseqGene/\n",
    "library(\"dplyr\")\n",
    "\n",
    "# log2 on normalized counts\n",
    "log2nor_df <- as_data_frame(log2(counts(dds, normalized=TRUE)[, 1:2]+1))\n",
    "log2nor_r <- cor.test(log2nor_df[[colnames(dds)[1]]],\n",
    "                      log2nor_df[[colnames(dds)[2]]],\n",
    "                      method = \"pearson\")\n",
    "\n",
    "# regularized-logarithm transformation (rlog)\n",
    "rld <- rlog(dds, blind = FALSE)\n",
    "rld_df <- as_data_frame(assay(rld)[, 1:2])\n",
    "rld_r <- cor.test(rld_df[[colnames(dds)[1]]],\n",
    "                  rld_df[[colnames(dds)[2]]],\n",
    "                  method = \"pearson\")\n",
    "\n",
    "# variance stabilizing transformation (vst)\n",
    "vsd <- varianceStabilizingTransformation(dds, blind=FALSE)\n",
    "vsd_df <- as_data_frame(assay(vsd)[, 1:2])\n",
    "vsd_r <- cor.test(vsd_df[[colnames(dds)[1]]],\n",
    "                  vsd_df[[colnames(dds)[2]]],\n",
    "                  method = \"pearson\")\n",
    "\n",
    "# Start actual plots\n",
    "library(\"ggplot2\")\n",
    "\n",
    "# log2 on normalized counts\n",
    "colnames(log2nor_df)[1:2] <- c(\"x\", \"y\")\n",
    "plot2 <- ggplot(log2nor_df,\n",
    "                aes(x = x, y = y)) +\n",
    "                geom_hex(bins = 80) +\n",
    "                coord_fixed() +\n",
    "                xlab(colnames(dds)[1]) +\n",
    "                ylab(colnames(dds)[2])\n",
    "png(paste('./Outputs/DESeq2/Plots/Correlation/R_vs_S_', string, '_ka_log2nor.png', sep=\"\"))\n",
    "plot2 + geom_text(x=4,\n",
    "                  y=15,\n",
    "                  label=paste(\"Pearson = \",\n",
    "                              round(log2nor_r$estimate,\n",
    "                                    digits=3)),\n",
    "                  color = \"red\",\n",
    "                  size = 6)\n",
    "dev.off()\n",
    "\n",
    "# regularized-logarithm transformation (rlog)\n",
    "colnames(rld_df)[1:2] <- c(\"x\", \"y\")\n",
    "plot3 <- ggplot(rld_df,\n",
    "                aes(x = x, y = y)) +\n",
    "                geom_hex(bins = 80) +\n",
    "                coord_fixed() +\n",
    "                xlab(colnames(dds)[1]) +\n",
    "                ylab(colnames(dds)[2])\n",
    "png(paste('./Outputs/DESeq2/Plots/Correlation/R_vs_S_', string, '_ka_rld.png', sep=\"\"))\n",
    "plot3 + geom_text(x=4,\n",
    "                  y=15,\n",
    "                  label=paste(\"Pearson = \",\n",
    "                              round(rld_r$estimate,\n",
    "                                    digits=3)),\n",
    "                  color = \"red\",\n",
    "                  size = 6)\n",
    "dev.off()\n",
    "\n",
    "# variance stabilizing transformation (vst)\n",
    "colnames(vsd_df)[1:2] <- c(\"x\", \"y\")\n",
    "plot4 <- ggplot(vsd_df,\n",
    "                aes(x = x, y = y)) +\n",
    "                geom_hex(bins = 80) +\n",
    "                coord_fixed() +\n",
    "                xlab(colnames(dds)[1]) +\n",
    "                ylab(colnames(dds)[2])\n",
    "png(paste('./Outputs/DESeq2/Plots/Correlation/R_vs_S_', string, '_ka_vsd.png', sep=\"\"))\n",
    "plot4 + geom_text(x=11,\n",
    "                  y=15,\n",
    "                  label=paste(\"Pearson = \",\n",
    "                              round(vsd_r$estimate,\n",
    "                                    digits=3)),\n",
    "                  color = \"red\",\n",
    "                  size = 6)\n",
    "dev.off()"
   ]
  },
  {
   "cell_type": "markdown",
   "metadata": {},
   "source": [
    "### 5.2) Mutant vs WT (for R and for S)"
   ]
  },
  {
   "cell_type": "markdown",
   "metadata": {},
   "source": [
    "#### 5.2.1) No replicates"
   ]
  },
  {
   "cell_type": "markdown",
   "metadata": {},
   "source": [
    "##### 5.2.2.1) CRIBL"
   ]
  },
  {
   "cell_type": "markdown",
   "metadata": {},
   "source": [
    "##### With FeatureCounts :"
   ]
  },
  {
   "cell_type": "code",
   "execution_count": 5,
   "metadata": {
    "code_folding": [
     0
    ],
    "collapsed": true
   },
   "outputs": [],
   "source": [
    "### CODE ###\n",
    "pathway='/run/user/1000/gvfs/smb-share:server=ubox.unilim.fr,share=biscem/BioInformatique/Responsables/Commun/PTCB';\n",
    "cd $pathway;\n",
    "array=('3B4_R_EP' '3B4_S_EP' '3pRR_R_EP' '3pRR_S_EP' 'DEL_R_EP' 'DEL_S_EP' 'IRIS_R_EP' 'IRIS_S_EP' 'PAL_R_EP' 'PAL_S_EP' '3pRR_R_YD' '3pRR_S_YD' 'EU_R_YD' 'EU_S_YD' 'MAR_R_YD' 'MAR_S_YD')\n",
    "\n",
    "length=${#array[@]}\n",
    "for ((i=0;i<=$length-1;i++));\n",
    "do\n",
    "Rscript $pathway/Scripts/deseq2_mutant_vs_wt_no_replicates_fc.R ${array[$i]} &>> $pathway/Outputs/DESeq2/Verbose/deseq2_mutant_vs_wt_no_replicates_fc.verbose;\n",
    "done;"
   ]
  },
  {
   "cell_type": "markdown",
   "metadata": {},
   "source": [
    "Content of deseq2_mutant_vs_wt_no_replicates_fc.R :"
   ]
  },
  {
   "cell_type": "code",
   "execution_count": 2,
   "metadata": {
    "code_folding": [
     0
    ],
    "collapsed": true
   },
   "outputs": [],
   "source": [
    "### CODE ###\n",
    "#!/usr/bin/env Rscript\n",
    "args = commandArgs(trailingOnly=TRUE)\n",
    "\n",
    "#args=c('3B4_R_EP')\n",
    "\n",
    "string = substr(args[1], nchar(args[1])-4,nchar(args[1]))\n",
    "string2 = paste(substr(args[1],1,nchar(args[1])-5),'_vs_WT_',substr(args[1],nchar(args[1])-3,nchar(args[1])), sep=\"\")\n",
    "\n",
    "# Open featureCounts results for WT & Mutant for the same condition (R or S) \n",
    "WT = read.table(paste(\"./Outputs/FeatureCounts/WT\",string,\"_ensembl_gene_id.tsv\", sep=\"\"))\n",
    "KO = read.table(paste(\"./Outputs/FeatureCounts/\",args[1],\"_ensembl_gene_id.tsv\", sep=\"\"))\n",
    "\n",
    "# Print files names\n",
    "paste(\"./Outputs/FeatureCounts/WT\",string,\"_ensembl_gene_id.tsv\", sep=\"\")\n",
    "paste(\"./Outputs/FeatureCounts/\",args[1],\"_ensembl_gene_id.tsv\", sep=\"\")\n",
    "\n",
    "# Create dataframe\n",
    "df = data.frame(row.names = row.names(WT),\n",
    "                WT = WT[1],\n",
    "                KO = KO[1])\n",
    "colnames(df) <- c(paste(\"WT\",string, sep=\"\"), args[1])\n",
    "\n",
    "# Create design\n",
    "condition <- c('WT', 'KO')\n",
    "type <- c('paired-end', 'paired-end')\n",
    "df_infos <- data.frame(condition, type)\n",
    "row.names(df_infos) <- c(paste(\"WT\",string, sep=\"\"), args[1])\n",
    "\n",
    "# Check of we have the same colnames in df & design\n",
    "all(rownames(df_infos) %in% colnames(df))\n",
    "\n",
    "# Start DESeq2\n",
    "library(\"DESeq2\")\n",
    "dds <- DESeqDataSetFromMatrix(countData = df,\n",
    "                              colData = df_infos,\n",
    "                              design = ~ condition)\n",
    "\n",
    "# Pre-filtering removing rows that have only 0 or 1 read\n",
    "dds <- dds[ rowSums(counts(dds)) > 1, ]\n",
    "\n",
    "# Check on many genes it discarded\n",
    "summary(dds)\n",
    "\n",
    "# Set factor to tell which one is the control group\n",
    "dds$condition <- factor(dds$condition, levels=c('WT','KO'))\n",
    "\n",
    "# Start actual DE analysis\n",
    "dds <- DESeq(dds)\n",
    "res <- results(dds)\n",
    "\n",
    "# We are using DESeq2_1.16.1, thus betaPrior is set to 'FALSE' and we need to obtain shrunken LFCs with function ‘lfcShrink’.\n",
    "# https://support.bioconductor.org/p/95695/\n",
    "res <- lfcShrink(dds,\n",
    "                 contrast=c(\"condition\",\"WT\",\"KO\"),\n",
    "                 res=res)\n",
    "\n",
    "# MA plot : the log2 of ratio of the counts between two conditions is represented as a function of the log2 of the mean of the counts\n",
    "png(paste('./Outputs/DESeq2/Plots/MA/', string2, '_fc_MA.png', sep=\"\"))\n",
    "plotMA(res,\n",
    "       ylim=c(min(res$log2FoldChange),\n",
    "       max(res$log2FoldChange)))\n",
    "dev.off()\n",
    "\n",
    "# Volcano plot : the log10 of the adjusted pvalue is represented as a function of the log2 of ratio of the counts.\n",
    "png(paste('./Outputs/DESeq2/Plots/Volcano/', string2, '_fc_volcano.png', sep=\"\"))\n",
    "plot(res$log2FoldChange,\n",
    "     -log10(res$padj),\n",
    "     xlim=c(min(res$log2FoldChange), max(res$log2FoldChange)),\n",
    "     ylim=c(0, 15),\n",
    "     xlab=\"log2 fold change\",\n",
    "     ylab=\"-log10 p-value\",\n",
    "     type=\"n\")\n",
    "sel <- which(res$log2FoldChange>=1)\n",
    "points(res[sel,\"log2FoldChange\"], -log10(res[sel,\"padj\"]),col=\"red\")\n",
    "sel <- which(res$log2FoldChange<1 & res$log2FoldChange>-1)\n",
    "points(res[sel,\"log2FoldChange\"], -log10(res[sel,\"padj\"]),col=\"grey\")\n",
    "sel <- which(res$log2FoldChange<=-1)\n",
    "points(res[sel,\"log2FoldChange\"], -log10(res[sel,\"padj\"]),col=\"green\")\n",
    "sel <- which(res$padj>0.05)\n",
    "points(res[sel,\"log2FoldChange\"], -log10(res[sel,\"padj\"]),col=\"black\")\n",
    "abline(v=1,lty=3)\n",
    "abline(v=-1,lty=3)\n",
    "dev.off()\n",
    "\n",
    "# Retrieve and print sizeFactors for future BAM normalization\n",
    "dds <- estimateSizeFactors(dds)\n",
    "sizeFactors(dds)\n",
    "\n",
    "# Retrieve normalized counts for each condition for future merge\n",
    "nor_counts <- counts(dds, normalized=TRUE)\n",
    "nor_counts_df <- as.data.frame(nor_counts)\n",
    "library(data.table)\n",
    "nor_counts_df <- setDT(nor_counts_df, keep.rownames = TRUE)[]\n",
    "colnames(nor_counts_df)[1] <- \"ensembl_gene_id\"\n",
    "colnames(nor_counts_df)[2] <- \"WT_normalized_count\"\n",
    "colnames(nor_counts_df)[3] <- \"KO_normalized_count\"\n",
    "\n",
    "# Then tidy = TRUE for compatibility with biomaRt merge\n",
    "res <- results(dds, tidy = TRUE)\n",
    "colnames(res)[1] <- \"ensembl_gene_id\"\n",
    "\n",
    "# Add biotypes infos thanks to ensembl annotations using biomart\n",
    "library(\"biomaRt\")\n",
    "mart <- biomaRt::useMart(biomart = \"ENSEMBL_MART_ENSEMBL\",\n",
    "                         dataset = \"mmusculus_gene_ensembl\",\n",
    "                         host = 'ensembl.org')             \n",
    "mart_infos <- biomaRt::getBM(attributes = c(\"ensembl_gene_id\",\n",
    "                                            \"external_gene_name\",\n",
    "                                            \"gene_biotype\",\n",
    "                                            \"chromosome_name\"),\n",
    "                                            mart = mart)\n",
    "\n",
    "# Merge our DE results with ensembl infos for based on same gene_id in column\n",
    "res_biotyped <- merge(x = res,\n",
    "                      y = mart_infos,\n",
    "                      by = \"ensembl_gene_id\",\n",
    "                      all.x = TRUE)\n",
    "\n",
    "####NA removed\n",
    "res_biotyped$external_gene_name[is.na(res_biotyped$external_gene_name)] <- \"None\"\n",
    "res_biotyped$gene_biotype[is.na(res_biotyped$gene_biotype)] <- \"None\"\n",
    "res_biotyped$chromosome_name[is.na(res_biotyped$chromosome_name)] <- \"None\"\n",
    "\n",
    "# Re-order columns & rename some to make more sense\n",
    "res_biotyped <- res_biotyped[,c(1,8,10,9,2:7)]\n",
    "colnames(res_biotyped)[2] <- \"ensembl_gene_name\"\n",
    "colnames(res_biotyped)[3] <- \"ensembl_chromosome\"\n",
    "colnames(res_biotyped)[4] <- \"ensembl_gene_biotype\"\n",
    "\n",
    "# Add normalized counts info\n",
    "res_biotyped_counts <- merge(x = res_biotyped,\n",
    "                             y = nor_counts_df,\n",
    "                             by = \"ensembl_gene_id\",\n",
    "                             all.x = TRUE)\n",
    "\n",
    "# Transform exponential to decimal\n",
    "options(scipen = 50)\n",
    "\n",
    "#Remove blood contamination\n",
    "res_biotyped_counts <- res_biotyped_counts[- grep(\"Hb[a,q,b]\", res_biotyped_counts$ensembl_gene_name),]\n",
    "\n",
    "# Save raw results in a TSV\n",
    "write.table(res_biotyped_counts,\n",
    "            paste('./Outputs/DESeq2/Raw/', string2, '_all_fc.tsv', sep=\"\"),\n",
    "            append=F, sep='\\t',\n",
    "            col.names=T,\n",
    "            row.names=F)\n",
    "\n",
    "# Keep Aicda for control\n",
    "keep_aicda <- res_biotyped_counts[res_biotyped_counts$ensembl_gene_name == 'Aicda',] \n",
    "\n",
    "# Filter results to keep only significantly DE genes\n",
    "res_biotyped_counts <- res_biotyped_counts[(res_biotyped_counts$pvalue<0.05 & (res_biotyped_counts$log2FoldChange<=(-2) | res_biotyped_counts$log2FoldChange>=2) & (res_biotyped_counts[11]>=100 | res_biotyped_counts[12]>=100)),]\n",
    "\n",
    "# Keep Aicda for control\n",
    "if(!'Aicda' %in% res_biotyped_counts$ensembl_gene_name){res_biotyped_counts <- rbind(res_biotyped_counts, keep_aicda)}\n",
    "\n",
    "# Save filtered results in a TSV\n",
    "write.table(res_biotyped_counts,\n",
    "            paste('./Outputs/DESeq2/Filtered/', string2, '_fc.tsv', sep=\"\"),\n",
    "            append=F, sep='\\t',\n",
    "            col.names=T,\n",
    "            row.names=F)\n",
    "\n",
    "# New plots to check variability between samples\n",
    "# See \"5.2 The rlog and variance stabilizing transformations\" at www.bioconductor.org/help/workflows/rnaseqGene/\n",
    "library(\"dplyr\")\n",
    "\n",
    "# log2 on normalized counts\n",
    "log2nor_df <- as_data_frame(log2(counts(dds, normalized=TRUE)[, 1:2]+1))\n",
    "log2nor_r <- cor.test(log2nor_df[[colnames(dds)[1]]],\n",
    "                      log2nor_df[[colnames(dds)[2]]],\n",
    "                      method = \"pearson\")\n",
    "\n",
    "# regularized-logarithm transformation (rlog)\n",
    "rld <- rlog(dds, blind = FALSE)\n",
    "rld_df <- as_data_frame(assay(rld)[, 1:2])\n",
    "rld_r <- cor.test(rld_df[[colnames(dds)[1]]],\n",
    "                  rld_df[[colnames(dds)[2]]],\n",
    "                  method = \"pearson\")\n",
    "\n",
    "# variance stabilizing transformation (vst)\n",
    "vsd <- varianceStabilizingTransformation(dds, blind=FALSE)\n",
    "vsd_df <- as_data_frame(assay(vsd)[, 1:2])\n",
    "vsd_r <- cor.test(vsd_df[[colnames(dds)[1]]],\n",
    "                  vsd_df[[colnames(dds)[2]]],\n",
    "                  method = \"pearson\")\n",
    "\n",
    "# Start actual plots\n",
    "library(\"ggplot2\")\n",
    "\n",
    "# log2 on normalized counts\n",
    "colnames(log2nor_df)[1:2] <- c(\"x\", \"y\")\n",
    "plot2 <- ggplot(log2nor_df,\n",
    "                aes(x = x, y = y)) +\n",
    "                geom_hex(bins = 80) +\n",
    "                coord_fixed() +\n",
    "                xlab(colnames(dds)[1]) +\n",
    "                ylab(colnames(dds)[2])\n",
    "png(paste('./Outputs/DESeq2/Plots/Correlation/', string2, '_fc_log2nor.png', sep=\"\"))\n",
    "plot2 + geom_text(x=4,\n",
    "                  y=15,\n",
    "                  label=paste(\"Pearson = \",\n",
    "                              round(log2nor_r$estimate,\n",
    "                                    digits=3)),\n",
    "                  color = \"red\",\n",
    "                  size = 6)\n",
    "dev.off()\n",
    "\n",
    "# regularized-logarithm transformation (rlog)\n",
    "colnames(rld_df)[1:2] <- c(\"x\", \"y\")\n",
    "plot3 <- ggplot(rld_df,\n",
    "                aes(x = x, y = y)) +\n",
    "                geom_hex(bins = 80) +\n",
    "                coord_fixed() +\n",
    "                xlab(colnames(dds)[1]) +\n",
    "                ylab(colnames(dds)[2])\n",
    "png(paste('./Outputs/DESeq2/Plots/Correlation/', string2, '_fc_rld.png', sep=\"\"))\n",
    "plot3 + geom_text(x=4,\n",
    "                  y=15,\n",
    "                  label=paste(\"Pearson = \",\n",
    "                              round(rld_r$estimate,\n",
    "                                    digits=3)),\n",
    "                  color = \"red\",\n",
    "                  size = 6)\n",
    "dev.off()\n",
    "\n",
    "# variance stabilizing transformation (vst)\n",
    "colnames(vsd_df)[1:2] <- c(\"x\", \"y\")\n",
    "plot4 <- ggplot(vsd_df,\n",
    "                aes(x = x, y = y)) +\n",
    "                geom_hex(bins = 80) +\n",
    "                coord_fixed() +\n",
    "                xlab(colnames(dds)[1]) +\n",
    "                ylab(colnames(dds)[2])\n",
    "png(paste('./Outputs/DESeq2/Plots/Correlation/', string2, '_fc_vsd.png', sep=\"\"))\n",
    "plot4 + geom_text(x=11,\n",
    "                  y=15,\n",
    "                  label=paste(\"Pearson = \",\n",
    "                              round(vsd_r$estimate,\n",
    "                                    digits=3)),\n",
    "                  color = \"red\",\n",
    "                  size = 6)\n",
    "dev.off()"
   ]
  },
  {
   "cell_type": "markdown",
   "metadata": {},
   "source": [
    "##### With Kallisto :"
   ]
  },
  {
   "cell_type": "code",
   "execution_count": 6,
   "metadata": {
    "code_folding": [
     0
    ],
    "collapsed": true
   },
   "outputs": [],
   "source": [
    "### CODE ###\n",
    "pathway='/run/user/1000/gvfs/smb-share:server=ubox.unilim.fr,share=biscem/BioInformatique/Responsables/Commun/PTCB';\n",
    "cd $pathway;\n",
    "array=('3B4_R_EP' '3B4_S_EP' '3pRR_R_EP' '3pRR_S_EP' 'DEL_R_EP' 'DEL_S_EP' 'IRIS_R_EP' 'IRIS_S_EP' 'PAL_R_EP' 'PAL_S_EP' '3pRR_R_YD' '3pRR_S_YD' 'EU_R_YD' 'EU_S_YD' 'MAR_R_YD' 'MAR_S_YD')\n",
    "\n",
    "length=${#array[@]}\n",
    "for ((i=0;i<=$length-1;i++));\n",
    "do\n",
    "Rscript $pathway/Scripts/deseq2_mutant_vs_wt_no_replicates_ka.R ${array[$i]} &>> $pathway/Outputs/DESeq2/Verbose/deseq2_mutant_vs_wt_no_replicates_ka.verbose;\n",
    "done;"
   ]
  },
  {
   "cell_type": "markdown",
   "metadata": {},
   "source": [
    "Content of deseq2_mutant_vs_wt_no_replicates_ka.R :"
   ]
  },
  {
   "cell_type": "code",
   "execution_count": null,
   "metadata": {
    "code_folding": [
     0
    ],
    "collapsed": true
   },
   "outputs": [],
   "source": [
    "### CODE ###\n",
    "#!/usr/bin/env Rscript\n",
    "args = commandArgs(trailingOnly=TRUE)\n",
    "\n",
    "#args=c('3B4_R_EP')\n",
    "\n",
    "string = substr(args[1], nchar(args[1])-4,nchar(args[1]))\n",
    "string2 = paste(substr(args[1],1,nchar(args[1])-5),'_vs_WT_',substr(args[1],nchar(args[1])-3,nchar(args[1])), sep=\"\")\n",
    "\n",
    "# Open kallisto results for WT & Mutant for the same condition (R or S) \n",
    "WT = paste(\"./Outputs/Kallisto/kallistoWT\",string,\"/abundance_ensembl_gene_id.tsv\", sep=\"\")\n",
    "KO = paste(\"./Outputs/Kallisto/kallisto\",args[1],\"/abundance_ensembl_gene_id.tsv\", sep=\"\")\n",
    "\n",
    "# Print files names\n",
    "files <- file.path(c(WT, KO))\n",
    "names(files) <- paste0(c(paste0(\"WT\",string), args[1]))\n",
    "files\n",
    "\n",
    "# use biomart to help import Kallisto results (ensembl_transcript_id)\n",
    "library(\"biomaRt\")\n",
    "mart <- biomaRt::useMart(biomart = \"ENSEMBL_MART_ENSEMBL\",\n",
    "                         dataset = \"mmusculus_gene_ensembl\",\n",
    "                         host = 'ensembl.org')             \n",
    "mart_infos <- biomaRt::getBM(attributes = c(\"ensembl_transcript_id\",\n",
    "                                            \"external_gene_name\",\n",
    "                                            \"gene_biotype\"),\n",
    "                                            mart = mart)\n",
    "\n",
    "# Do remaining needed stuff to import Kallisto counts into DESeq2\n",
    "library(\"tximport\")\n",
    "library(\"GenomicFeatures\")\n",
    "\n",
    "mmusculusEnsembl <- makeTxDbFromBiomart(dataset=\"mmusculus_gene_ensembl\")\n",
    "\n",
    "k <- keys(mmusculusEnsembl, keytype = \"GENEID\")\n",
    "df <- select(mmusculusEnsembl, keys = k, keytype = \"GENEID\", columns = \"TXNAME\")\n",
    "tx2gene <- df[, 2:1]\n",
    "txi.kallisto.tsv <- tximport(files, type = \"kallisto\", tx2gene = tx2gene)\n",
    "df <- data.frame(txi.kallisto.tsv$counts, check.names = FALSE)\n",
    "\n",
    "# Create design\n",
    "condition <- c('WT', 'KO')\n",
    "type <- c('paired-end', 'paired-end')\n",
    "df_infos <- data.frame(condition, type)\n",
    "row.names(df_infos) <- c(paste(\"WT\",string, sep=\"\"), args[1])\n",
    "\n",
    "# Check of we have the same colnames in df & design\n",
    "all(rownames(df_infos) %in% colnames(df))\n",
    "\n",
    "# Start DESeq2\n",
    "library(\"DESeq2\")\n",
    "dds <- DESeqDataSetFromTximport(txi.kallisto.tsv,\n",
    "                                df_infos,\n",
    "                                ~condition) \n",
    "\n",
    "# Pre-filtering removing rows that have only 0 or 1 read\n",
    "dds <- dds[ rowSums(counts(dds)) > 1, ]\n",
    "\n",
    "# Check on many genes it discarded\n",
    "summary(dds)\n",
    "\n",
    "# Set factor to tell which one is the control group\n",
    "dds$condition <- factor(dds$condition, levels=c('WT','KO'))\n",
    "\n",
    "# Start actual DE analysis\n",
    "dds <- DESeq(dds)\n",
    "res <- results(dds)\n",
    "\n",
    "# We are using DESeq2_1.16.1, thus betaPrior is set to 'FALSE' and we need to obtain shrunken LFCs with function ‘lfcShrink’.\n",
    "# https://support.bioconductor.org/p/95695/\n",
    "res <- lfcShrink(dds,\n",
    "                contrast=c(\"condition\",\"WT\",\"KO\"),\n",
    "                res=res)\n",
    "\n",
    "# MA plot : the log2 of ratio of the counts between two conditions is represented as a function of the log2 of the mean of the counts\n",
    "png(paste('./Outputs/DESeq2/Plots/MA/', string2, '_ka_MA.png', sep=\"\"))\n",
    "plotMA(res,\n",
    "       ylim=c(min(res$log2FoldChange),\n",
    "       max(res$log2FoldChange)))\n",
    "dev.off()\n",
    "\n",
    "# Volcano plot : the log10 of the adjusted pvalue is represented as a function of the log2 of ratio of the counts.\n",
    "png(paste('./Outputs/DESeq2/Plots/Volcano/', string2, '_ka_volcano.png', sep=\"\"))\n",
    "plot(res$log2FoldChange,\n",
    "     -log10(res$padj),\n",
    "     xlim=c(min(res$log2FoldChange), max(res$log2FoldChange)),\n",
    "     ylim=c(0, 15),\n",
    "     xlab=\"log2 fold change\",\n",
    "     ylab=\"-log10 p-value\",\n",
    "     type=\"n\")\n",
    "sel <- which(res$log2FoldChange>=1)\n",
    "points(res[sel,\"log2FoldChange\"], -log10(res[sel,\"padj\"]),col=\"red\")\n",
    "sel <- which(res$log2FoldChange<1 & res$log2FoldChange>-1)\n",
    "points(res[sel,\"log2FoldChange\"], -log10(res[sel,\"padj\"]),col=\"grey\")\n",
    "sel <- which(res$log2FoldChange<=-1)\n",
    "points(res[sel,\"log2FoldChange\"], -log10(res[sel,\"padj\"]),col=\"green\")\n",
    "sel <- which(res$padj>0.05)\n",
    "points(res[sel,\"log2FoldChange\"], -log10(res[sel,\"padj\"]),col=\"black\")\n",
    "abline(v=1,lty=3)\n",
    "abline(v=-1,lty=3)\n",
    "dev.off()\n",
    "\n",
    "# Retrieve and print sizeFactors for future BAM normalization\n",
    "dds <- estimateSizeFactors(dds)\n",
    "sizeFactors(dds)\n",
    "\n",
    "# Retrieve normalized counts for each condition for future merge\n",
    "nor_counts <- counts(dds, normalized=TRUE)\n",
    "nor_counts_df <- as.data.frame(nor_counts)\n",
    "library(data.table)\n",
    "nor_counts_df <- setDT(nor_counts_df, keep.rownames = TRUE)[]\n",
    "colnames(nor_counts_df)[1] <- \"ensembl_gene_id\"\n",
    "colnames(nor_counts_df)[2] <- \"WT_normalized_count\"\n",
    "colnames(nor_counts_df)[3] <- \"KO_normalized_count\"\n",
    "\n",
    "# Then tidy = TRUE for compatibility with biomaRt merge\n",
    "res <- results(dds, tidy = TRUE)\n",
    "colnames(res)[1] <- \"ensembl_gene_id\"\n",
    "\n",
    "# Add biotypes infos thanks to ensembl annotations using biomart (ensembl_gene_id)\n",
    "library(\"biomaRt\")\n",
    "mart <- biomaRt::useMart(biomart = \"ENSEMBL_MART_ENSEMBL\",\n",
    "                         dataset = \"mmusculus_gene_ensembl\",\n",
    "                         host = 'ensembl.org')             \n",
    "mart_infos <- biomaRt::getBM(attributes = c(\"ensembl_gene_id\",\n",
    "                                            \"external_gene_name\",\n",
    "                                            \"gene_biotype\",\n",
    "                                            \"chromosome_name\"),\n",
    "                                            mart = mart)\n",
    "\n",
    "# Merge our DE results with ensembl infos for based on same gene_id in column\n",
    "res_biotyped <- merge(x = res,\n",
    "                      y = mart_infos,\n",
    "                      by = \"ensembl_gene_id\",\n",
    "                      all.x = TRUE)\n",
    "\n",
    "####NA removed\n",
    "res_biotyped$external_gene_name[is.na(res_biotyped$external_gene_name)] <- \"None\"\n",
    "res_biotyped$gene_biotype[is.na(res_biotyped$gene_biotype)] <- \"None\"\n",
    "res_biotyped$chromosome_name[is.na(res_biotyped$chromosome_name)] <- \"None\"\n",
    "\n",
    "# Re-order columns & rename some to make more sense\n",
    "res_biotyped <- res_biotyped[,c(1,8,10,9,2:7)]\n",
    "colnames(res_biotyped)[2] <- \"ensembl_gene_name\"\n",
    "colnames(res_biotyped)[3] <- \"ensembl_chromosome\"\n",
    "colnames(res_biotyped)[4] <- \"ensembl_gene_biotype\"\n",
    "\n",
    "# Add normalized counts info\n",
    "res_biotyped_counts <- merge(x = res_biotyped,\n",
    "                             y = nor_counts_df,\n",
    "                             by = \"ensembl_gene_id\",\n",
    "                             all.x = TRUE)\n",
    "\n",
    "# Transform exponential to decimal\n",
    "options(scipen = 50)\n",
    "\n",
    "#Remove blood contamination\n",
    "res_biotyped_counts <- res_biotyped_counts[- grep(\"Hb[a,q,b]\", res_biotyped_counts$ensembl_gene_name),]\n",
    "\n",
    "# Save raw results in a TSV\n",
    "write.table(res_biotyped_counts,\n",
    "            paste('./Outputs/DESeq2/Raw/', string2, '_all_ka.tsv', sep=\"\"),\n",
    "            append=F, sep='\\t',\n",
    "            col.names=T,\n",
    "            row.names=F)\n",
    "\n",
    "# Keep Aicda for control\n",
    "keep_aicda <- res_biotyped_counts[res_biotyped_counts$ensembl_gene_name == 'Aicda',] \n",
    "\n",
    "# Filter results to keep only significantly DE genes\n",
    "res_biotyped_counts <- res_biotyped_counts[(res_biotyped_counts$pvalue<0.05 & (res_biotyped_counts$log2FoldChange<=(-2) | res_biotyped_counts$log2FoldChange>=2) & (res_biotyped_counts[11]>=100 | res_biotyped_counts[12]>=100)),]\n",
    "\n",
    "# Keep Aicda for control\n",
    "if(!'Aicda' %in% res_biotyped_counts$ensembl_gene_name){res_biotyped_counts <- rbind(res_biotyped_counts, keep_aicda)}\n",
    "\n",
    "# Save filtered results in a TSV\n",
    "write.table(res_biotyped_counts,\n",
    "            paste('./Outputs/DESeq2/Filtered/', string2, '_ka.tsv', sep=\"\"),\n",
    "            append=F, sep='\\t',\n",
    "            col.names=T,\n",
    "            row.names=F)\n",
    "\n",
    "# New plots to check variability between samples\n",
    "# See \"5.2 The rlog and variance stabilizing transformations\" at www.bioconductor.org/help/workflows/rnaseqGene/\n",
    "library(\"dplyr\")\n",
    "\n",
    "# log2 on normalized counts\n",
    "log2nor_df <- as_data_frame(log2(counts(dds, normalized=TRUE)[, 1:2]+1))\n",
    "log2nor_r <- cor.test(log2nor_df[[colnames(dds)[1]]],\n",
    "                      log2nor_df[[colnames(dds)[2]]],\n",
    "                      method = \"pearson\")\n",
    "\n",
    "# regularized-logarithm transformation (rlog)\n",
    "rld <- rlog(dds, blind = FALSE)\n",
    "rld_df <- as_data_frame(assay(rld)[, 1:2])\n",
    "rld_r <- cor.test(rld_df[[colnames(dds)[1]]],\n",
    "                  rld_df[[colnames(dds)[2]]],\n",
    "                  method = \"pearson\")\n",
    "\n",
    "# variance stabilizing transformation (vst)\n",
    "vsd <- varianceStabilizingTransformation(dds, blind=FALSE)\n",
    "vsd_df <- as_data_frame(assay(vsd)[, 1:2])\n",
    "vsd_r <- cor.test(vsd_df[[colnames(dds)[1]]],\n",
    "                  vsd_df[[colnames(dds)[2]]],\n",
    "                  method = \"pearson\")\n",
    "\n",
    "# Start actual plots\n",
    "library(\"ggplot2\")\n",
    "\n",
    "# log2 on normalized counts\n",
    "colnames(log2nor_df)[1:2] <- c(\"x\", \"y\")\n",
    "plot2 <- ggplot(log2nor_df,\n",
    "                aes(x = x, y = y)) +\n",
    "                geom_hex(bins = 80) +\n",
    "                coord_fixed() +\n",
    "                xlab(colnames(dds)[1]) +\n",
    "                ylab(colnames(dds)[2])\n",
    "png(paste('./Outputs/DESeq2/Plots/Correlation/', string2, '_ka_log2nor.png', sep=\"\"))\n",
    "plot2 + geom_text(x=4,\n",
    "                  y=15,\n",
    "                  label=paste(\"Pearson = \",\n",
    "                              round(log2nor_r$estimate,\n",
    "                                    digits=3)),\n",
    "                  color = \"red\",\n",
    "                  size = 6)\n",
    "dev.off()\n",
    "\n",
    "# regularized-logarithm transformation (rlog)\n",
    "colnames(rld_df)[1:2] <- c(\"x\", \"y\")\n",
    "plot3 <- ggplot(rld_df,\n",
    "                aes(x = x, y = y)) +\n",
    "                geom_hex(bins = 80) +\n",
    "                coord_fixed() +\n",
    "                xlab(colnames(dds)[1]) +\n",
    "                ylab(colnames(dds)[2])\n",
    "png(paste('./Outputs/DESeq2/Plots/Correlation/', string2, '_ka_rld.png', sep=\"\"))\n",
    "plot3 + geom_text(x=4,\n",
    "                  y=15,\n",
    "                  label=paste(\"Pearson = \",\n",
    "                              round(rld_r$estimate,\n",
    "                                    digits=3)),\n",
    "                  color = \"red\",\n",
    "                  size = 6)\n",
    "dev.off()\n",
    "\n",
    "# variance stabilizing transformation (vst)\n",
    "colnames(vsd_df)[1:2] <- c(\"x\", \"y\")\n",
    "plot4 <- ggplot(vsd_df,\n",
    "                aes(x = x, y = y)) +\n",
    "                geom_hex(bins = 80) +\n",
    "                coord_fixed() +\n",
    "                xlab(colnames(dds)[1]) +\n",
    "                ylab(colnames(dds)[2])\n",
    "png(paste('./Outputs/DESeq2/Plots/Correlation/', string2, '_ka_vsd.png', sep=\"\"))\n",
    "plot4 + geom_text(x=11,\n",
    "                  y=15,\n",
    "                  label=paste(\"Pearson = \",\n",
    "                              round(vsd_r$estimate,\n",
    "                                    digits=3)),\n",
    "                  color = \"red\",\n",
    "                  size = 6)\n",
    "dev.off()"
   ]
  },
  {
   "cell_type": "markdown",
   "metadata": {},
   "source": [
    "##### 5.2.2.2) Pefanis"
   ]
  },
  {
   "cell_type": "markdown",
   "metadata": {},
   "source": [
    "##### With FeatureCounts :"
   ]
  },
  {
   "cell_type": "code",
   "execution_count": 23,
   "metadata": {
    "code_folding": [
     0
    ],
    "collapsed": true
   },
   "outputs": [],
   "source": [
    "### CODE ###\n",
    "pathway='/run/user/1000/gvfs/smb-share:server=ubox.unilim.fr,share=biscem/BioInformatique/Responsables/Commun/PTCB';\n",
    "cd $pathway;\n",
    "Rscript $pathway/Scripts/deseq2_mutant_vs_wt_pefanis_with_replicates_fc.R SRR1302208 SRR1302283 SRR1302414 SRR1302785 SRR1302786 SRR1302787 SRR1302788 SRR1302789 &>> $pathway/Outputs/DESeq2/Verbose/deseq2_mutant_vs_wt_pefanis_with_replicates_fc.verbose;"
   ]
  },
  {
   "cell_type": "markdown",
   "metadata": {},
   "source": [
    "Content of deseq2_mutant_vs_wt_pefanis_with_replicates_fc.R :"
   ]
  },
  {
   "cell_type": "code",
   "execution_count": null,
   "metadata": {
    "code_folding": [
     0
    ],
    "collapsed": true
   },
   "outputs": [],
   "source": [
    "### CODE ###\n",
    "#!/usr/bin/env Rscript\n",
    "\n",
    "# Open featureCounts results for the same mouse model regardless of the experiment\n",
    "\n",
    "args = commandArgs(trailingOnly=TRUE)\n",
    "\n",
    "#TEST#\n",
    "#args <- c('SRR1302208', 'SRR1302283', 'SRR1302414', 'SRR1302785', 'SRR1302786', 'SRR1302787', 'SRR1302788', 'SRR1302789')\n",
    "\n",
    "WT1 = read.table(paste(\"./Outputs/FeatureCounts/\",args[1],\"_ensembl_gene_id.tsv\", sep=\"\"))\n",
    "KO1 = read.table(paste(\"./Outputs/FeatureCounts/\",args[2],\"_ensembl_gene_id.tsv\", sep=\"\"))\n",
    "WT2 = read.table(paste(\"./Outputs/FeatureCounts/\",args[3],\"_ensembl_gene_id.tsv\", sep=\"\"))\n",
    "KO2 = read.table(paste(\"./Outputs/FeatureCounts/\",args[4],\"_ensembl_gene_id.tsv\", sep=\"\"))\n",
    "WT3 = read.table(paste(\"./Outputs/FeatureCounts/\",args[5],\"_ensembl_gene_id.tsv\", sep=\"\"))\n",
    "KO3 = read.table(paste(\"./Outputs/FeatureCounts/\",args[6],\"_ensembl_gene_id.tsv\", sep=\"\"))\n",
    "WT4 = read.table(paste(\"./Outputs/FeatureCounts/\",args[7],\"_ensembl_gene_id.tsv\", sep=\"\"))\n",
    "KO4 = read.table(paste(\"./Outputs/FeatureCounts/\",args[8],\"_ensembl_gene_id.tsv\", sep=\"\"))\n",
    "\n",
    "paste(\"./Outputs/FeatureCounts/\",args[1],\"_ensembl_gene_id.tsv\", sep=\"\")\n",
    "paste(\"./Outputs/FeatureCounts/\",args[2],\"_ensembl_gene_id.tsv\", sep=\"\")\n",
    "paste(\"./Outputs/FeatureCounts/\",args[3],\"_ensembl_gene_id.tsv\", sep=\"\")\n",
    "paste(\"./Outputs/FeatureCounts/\",args[4],\"_ensembl_gene_id.tsv\", sep=\"\")\n",
    "paste(\"./Outputs/FeatureCounts/\",args[5],\"_ensembl_gene_id.tsv\", sep=\"\")\n",
    "paste(\"./Outputs/FeatureCounts/\",args[6],\"_ensembl_gene_id.tsv\", sep=\"\")\n",
    "paste(\"./Outputs/FeatureCounts/\",args[7],\"_ensembl_gene_id.tsv\", sep=\"\")\n",
    "paste(\"./Outputs/FeatureCounts/\",args[8],\"_ensembl_gene_id.tsv\", sep=\"\")\n",
    "\n",
    "df = data.frame(row.names = row.names(WT1),\n",
    "             WT1 = WT1[1],\n",
    "             KO1 = KO1[1],\n",
    "             WT2 = WT2[1],\n",
    "             KO2 = KO2[1],\n",
    "             WT3 = WT3[1],\n",
    "             KO3 = KO3[1],\n",
    "             WT4 = WT4[1],\n",
    "             KO4 = KO4[1])\n",
    "\n",
    "colnames(df) <- c(args[1],args[2],args[3],args[4],args[5],args[6],args[7],args[8])\n",
    "# Create design\n",
    "condition <- c('WT', 'KO', 'WT', 'KO', 'WT', 'KO', 'WT', 'KO')\n",
    "type <- c('paired-end', 'paired-end', 'single-end', 'single-end', 'paired-end', 'paired-end', 'paired-end', 'paired-end')\n",
    "df_infos <- data.frame(condition, type)\n",
    "row.names(df_infos) <- c(args[1],args[2],args[3],args[4],args[5],args[6],args[7],args[8])\n",
    "all(rownames(df_infos) %in% colnames(df))\n",
    "\n",
    "# Start DESeq2 analysis\n",
    "library(\"DESeq2\")\n",
    "dds <- DESeqDataSetFromMatrix(countData = df,\n",
    "                              colData = df_infos,\n",
    "                              design = ~ condition)\n",
    "\n",
    "# Sanity check\n",
    "dds\n",
    "\n",
    "# Pre-filtering removing rows that have only 0 or 1 read\n",
    "dds <- dds[ rowSums(counts(dds)) > 1, ]\n",
    "# Check on many genes it discarded\n",
    "summary(dds)\n",
    "# Set factor to tell which one is the control group\n",
    "dds$condition <- factor(dds$condition, levels=c('WT','KO'))\n",
    "\n",
    "# Start actual DE analysis\n",
    "dds <- DESeq(dds)\n",
    "res <- results(dds)\n",
    "# We are using DESeq2_1.16.1, thus betaPrior is set to 'FALSE' and we need to obtain shrunken LFCs with function ‘lfcShrink’.\n",
    "# https://support.bioconductor.org/p/95695/\n",
    "res <- lfcShrink(dds,\n",
    "       contrast=c(\"condition\",\"WT\",\"KO\"),\n",
    "       res=res)\n",
    "summary(res, alpha=0.05)\n",
    "# MA plot : the log2 of ratio of the counts between two conditions is represented as a function of the log2 of the mean of the counts\n",
    "png('./Outputs/DESeq2/Plots/MA/KO_vs_WT_pefanis_dup_fc_MA.png')\n",
    "plotMA(res,\n",
    "       ylim=c(min(res$log2FoldChange),\n",
    "        max(res$log2FoldChange)))\n",
    "dev.off()\n",
    "\n",
    "# Volcano plot : the log10 of the adjusted pvalue is represented as a function of the log2 of ratio of the counts.\n",
    "png('./Outputs/DESeq2/Plots/Volcano/KO_vs_WT_pefanis_dup_fc_volcano.png')\n",
    "plot(res$log2FoldChange,\n",
    "     -log10(res$padj),\n",
    "     xlim=c(min(res$log2FoldChange), max(res$log2FoldChange)),\n",
    "     ylim=c(0, 15),\n",
    "     xlab=\"log2 fold change\",\n",
    "     ylab=\"-log10 p-value\",\n",
    "     type=\"n\")\n",
    "\n",
    "sel <- which(res$log2FoldChange>=1)\n",
    "points(res[sel,\"log2FoldChange\"], -log10(res[sel,\"padj\"]),col=\"red\")\n",
    "sel <- which(res$log2FoldChange<1 & res$log2FoldChange>-1)\n",
    "points(res[sel,\"log2FoldChange\"], -log10(res[sel,\"padj\"]),col=\"grey\")\n",
    "sel <- which(res$log2FoldChange<=-1)\n",
    "points(res[sel,\"log2FoldChange\"], -log10(res[sel,\"padj\"]),col=\"green\")\n",
    "sel <- which(res$padj>0.05)\n",
    "points(res[sel,\"log2FoldChange\"], -log10(res[sel,\"padj\"]),col=\"black\")\n",
    "abline(v=1,lty=3)\n",
    "abline(v=-1,lty=3)\n",
    "dev.off()\n",
    "# Retrieve normalized counts for each condition for future merge\n",
    "dds <- estimateSizeFactors(dds)\n",
    "# Print sizeFactors for future BAM normalization\n",
    "sizeFactors(dds)\n",
    "nor_counts <- counts(dds, normalized=TRUE)\n",
    "nor_counts_df <- as.data.frame(nor_counts)\n",
    "library(data.table)\n",
    "nor_counts_df <- setDT(nor_counts_df, keep.rownames = TRUE)[]\n",
    "\n",
    "colnames(nor_counts_df)[1] <- \"ensembl_gene_id\"\n",
    "colnames(nor_counts_df)[2] <- \"WT1_normalized_count\"\n",
    "colnames(nor_counts_df)[3] <- \"KO1_normalized_count\"\n",
    "colnames(nor_counts_df)[4] <- \"WT2_normalized_count\"\n",
    "colnames(nor_counts_df)[5] <- \"KO2_normalized_count\"\n",
    "colnames(nor_counts_df)[6] <- \"WT3_normalized_count\"\n",
    "colnames(nor_counts_df)[7] <- \"KO3_normalized_count\"\n",
    "colnames(nor_counts_df)[8] <- \"WT4_normalized_count\"\n",
    "colnames(nor_counts_df)[9] <- \"KO4_normalized_count\"\n",
    "# Then tidy = TRUE for compatibility with biomaRt merge\n",
    "res <- results(dds, tidy = TRUE)\n",
    "colnames(res)[1] <- \"ensembl_gene_id\"\n",
    "# Check\n",
    "summary(res)\n",
    "head(res)\n",
    "# Add biotypes infos\n",
    "# Get ensembl infos\n",
    "library(\"biomaRt\")\n",
    "mart <- biomaRt::useMart(biomart = \"ENSEMBL_MART_ENSEMBL\",\n",
    "                        dataset = \"mmusculus_gene_ensembl\",\n",
    "                        host = 'ensembl.org')             \n",
    "mart_infos <- biomaRt::getBM(attributes = c(\"ensembl_gene_id\",\n",
    "                                            \"external_gene_name\",\n",
    "                                            \"gene_biotype\",\n",
    "                                            \"chromosome_name\"),\n",
    "                                            mart = mart)\n",
    "# Merge our DE results with ensembl infos for based on same gene_id in column\n",
    "res_biotyped <- merge(x = res,\n",
    "                      y = mart_infos,\n",
    "                      by = \"ensembl_gene_id\",\n",
    "                      all.x = TRUE)\n",
    "\n",
    "####NA removed\n",
    "res_biotyped$external_gene_name[is.na(res_biotyped$external_gene_name)] <- \"None\"\n",
    "res_biotyped$gene_biotype[is.na(res_biotyped$gene_biotype)] <- \"None\"\n",
    "res_biotyped$chromosome_name[is.na(res_biotyped$chromosome_name)] <- \"None\"\n",
    "\n",
    "# Re-order columns & rename some to make more sense\n",
    "res_biotyped <- res_biotyped[,c(1,8,10,9,2:7)]\n",
    "colnames(res_biotyped)[2] <- \"ensembl_gene_name\"\n",
    "colnames(res_biotyped)[3] <- \"ensembl_chromosome\"\n",
    "colnames(res_biotyped)[4] <- \"ensembl_gene_biotype\"\n",
    "\n",
    "# Add normalized counts info\n",
    "res_biotyped_counts <- merge(x = res_biotyped,\n",
    "                             y = nor_counts_df,\n",
    "                             by = \"ensembl_gene_id\",\n",
    "                             all.x = TRUE)\n",
    "\n",
    "#Transform exponential to decimal\n",
    "options(scipen = 50)\n",
    "\n",
    "#Remove blood contamination\n",
    "res_biotyped_counts <- res_biotyped_counts[- grep(\"Hb[a,q,b]\", res_biotyped_counts$ensembl_gene_name),]\n",
    "\n",
    "write.table(res_biotyped_counts,\n",
    "            './Outputs/DESeq2/Raw/KO_vs_WT_pefanis_dup_all_fc.tsv',\n",
    "            append=F, sep='\\t',\n",
    "            col.names=T,\n",
    "            row.names=F)\n",
    "\n",
    "# Keep Aicda for control\n",
    "keep_aicda <- res_biotyped_counts[res_biotyped_counts$ensembl_gene_name == 'Aicda',] \n",
    "\n",
    "#FILTER\n",
    "res_biotyped_counts<-res_biotyped_counts[complete.cases(res_biotyped_counts$padj),]\n",
    "res_biotyped_counts<-res_biotyped_counts[(res_biotyped_counts$padj<0.05),]\n",
    "\n",
    "# Keep Aicda for control\n",
    "if(!'Aicda' %in% res_biotyped_counts$ensembl_gene_name){res_biotyped_counts <- rbind(res_biotyped_counts, keep_aicda)}\n",
    "\n",
    "# Save the result in a TSV\n",
    "write.table(res_biotyped_counts,\n",
    "            './Outputs/DESeq2/Filtered/KO_vs_WT_pefanis_dup_fc.tsv',\n",
    "            append=F, sep='\\t',\n",
    "            col.names=T,\n",
    "            row.names=F)"
   ]
  },
  {
   "cell_type": "markdown",
   "metadata": {},
   "source": [
    "##### With Kallisto :"
   ]
  },
  {
   "cell_type": "code",
   "execution_count": 10,
   "metadata": {
    "code_folding": [
     0
    ],
    "collapsed": true
   },
   "outputs": [],
   "source": [
    "### CODE ###\n",
    "pathway='/run/user/1000/gvfs/smb-share:server=ubox.unilim.fr,share=biscem/BioInformatique/Responsables/Commun/PTCB';\n",
    "cd $pathway;\n",
    "Rscript $pathway/Scripts/deseq2_mutant_vs_wt_pefanis_with_replicates_ka.R SRR1302208 SRR1302283 SRR1302414 SRR1302785 SRR1302786 SRR1302787 SRR1302788 SRR1302789 &>> $pathway/Outputs/DESeq2/Verbose/deseq2_mutant_vs_wt_pefanis_with_replicates_ka.verbose;"
   ]
  },
  {
   "cell_type": "markdown",
   "metadata": {},
   "source": [
    "Content of deseq2_mutant_vs_wt_pefanis_with_replicates_ka.R :"
   ]
  },
  {
   "cell_type": "code",
   "execution_count": null,
   "metadata": {
    "code_folding": [
     0
    ],
    "collapsed": true
   },
   "outputs": [],
   "source": [
    "### CODE ###\n",
    "#!/usr/bin/env Rscript\n",
    "\n",
    "library(\"tximport\")\n",
    "library(\"biomaRt\")\n",
    "library(\"GenomicFeatures\")\n",
    "\n",
    "args = commandArgs(trailingOnly=TRUE)\n",
    "\n",
    "#TEST#\n",
    "#args <- c('SRR1302208', 'SRR1302283', 'SRR1302414', 'SRR1302785', 'SRR1302786', 'SRR1302787', 'SRR1302788', 'SRR1302789')\n",
    "\n",
    "WT1 = paste(\"./Outputs/Kallisto/kallisto\",args[1],\"/abundance_ensembl_gene_id.tsv\", sep=\"\")\n",
    "KO1 = paste(\"./Outputs/Kallisto/kallisto\",args[2],\"/abundance_ensembl_gene_id.tsv\", sep=\"\")\n",
    "WT2 = paste(\"./Outputs/Kallisto/kallisto\",args[3],\"/abundance_ensembl_gene_id.tsv\", sep=\"\")\n",
    "KO2 = paste(\"./Outputs/Kallisto/kallisto\",args[4],\"/abundance_ensembl_gene_id.tsv\", sep=\"\")\n",
    "WT3 = paste(\"./Outputs/Kallisto/kallisto\",args[5],\"/abundance_ensembl_gene_id.tsv\", sep=\"\")\n",
    "KO3 = paste(\"./Outputs/Kallisto/kallisto\",args[6],\"/abundance_ensembl_gene_id.tsv\", sep=\"\")\n",
    "WT4 = paste(\"./Outputs/Kallisto/kallisto\",args[7],\"/abundance_ensembl_gene_id.tsv\", sep=\"\")\n",
    "KO4 = paste(\"./Outputs/Kallisto/kallisto\",args[8],\"/abundance_ensembl_gene_id.tsv\", sep=\"\")\n",
    "\n",
    "WT1\n",
    "KO1\n",
    "WT2\n",
    "KO2\n",
    "WT3\n",
    "KO3\n",
    "WT4\n",
    "KO4\n",
    "\n",
    "files <- file.path(c(WT1, KO1, WT2, KO2, WT3, KO3, WT4, KO4))\n",
    "names(files) <- paste0(c(args[1], args[2], args[3], args[4], args[5], args[6], args[7], args[8]))\n",
    "files\n",
    "\n",
    "mart <- biomaRt::useMart(biomart = \"ENSEMBL_MART_ENSEMBL\",\n",
    "                        dataset = \"mmusculus_gene_ensembl\",\n",
    "                        host = 'ensembl.org')             \n",
    "mart_infos <- biomaRt::getBM(attributes = c(\"ensembl_transcript_id\",\n",
    "                                            \"external_gene_name\",\n",
    "                                            \"gene_biotype\"),\n",
    "                                            mart = mart)\n",
    "\n",
    "mmusculusEnsembl <- makeTxDbFromBiomart(dataset=\"mmusculus_gene_ensembl\")\n",
    "\n",
    "k <- keys(mmusculusEnsembl, keytype = \"GENEID\")\n",
    "df <- select(mmusculusEnsembl, keys = k, keytype = \"GENEID\", columns = \"TXNAME\")\n",
    "tx2gene <- df[, 2:1]\n",
    "txi.kallisto.tsv <- tximport(files, type = \"kallisto\", tx2gene = tx2gene)\n",
    "df <- data.frame(txi.kallisto.tsv$counts, check.names = FALSE)\n",
    "\n",
    "condition <- c('WT', 'KO', 'WT', 'KO', 'WT', 'KO', 'WT', 'KO')\n",
    "type <- c('paired-end', 'paired-end', 'single-end', 'single-end', 'paired-end', 'paired-end', 'paired-end', 'paired-end')\n",
    "df_infos <- data.frame(condition, type)\n",
    "row.names(df_infos) <- c(args[1],args[2],args[3],args[4],args[5],args[6],args[7],args[8])\n",
    "all(rownames(df_infos) %in% colnames(df))\n",
    "# Start DESeq2 analysis\n",
    "library(\"DESeq2\")\n",
    "dds <- DESeqDataSetFromTximport(txi.kallisto.tsv, df_infos, ~condition) \n",
    "dds <- dds[ rowSums(counts(dds)) > 1, ]\n",
    "dds$condition <- factor(dds$condition, levels=c('WT','KO'))\n",
    "dds <- DESeq(dds)\n",
    "res <- results(dds)\n",
    "res <- lfcShrink(dds, contrast=c(\"condition\",\"WT\",\"KO\"), res=res)\n",
    "\n",
    "# MA plot : the log2 of ratio of the counts between two conditions is represented as a function of the log2 of the mean of the counts\n",
    "png('./Outputs/DESeq2/Plots/MA/KO_vs_WT_pefanis_dup_ka_MA.png')\n",
    "plotMA(res,\n",
    "       ylim=c(min(res$log2FoldChange),\n",
    "        max(res$log2FoldChange)))\n",
    "dev.off()\n",
    "# Volcano plot : the log10 of the adjusted pvalue is represented as a function of the log2 of ratio of the counts.\n",
    "png('./Outputs/DESeq2/Plots/Volcano/KO_vs_WT_pefanis_dup_ka_volcano.png')\n",
    "plot(res$log2FoldChange,\n",
    "     -log10(res$padj),\n",
    "     xlim=c(min(res$log2FoldChange), max(res$log2FoldChange)),\n",
    "     ylim=c(0, 15),\n",
    "     xlab=\"log2 fold change\",\n",
    "     ylab=\"-log10 p-value\",\n",
    "     type=\"n\")\n",
    "\n",
    "sel <- which(res$log2FoldChange>=1)\n",
    "points(res[sel,\"log2FoldChange\"], -log10(res[sel,\"padj\"]),col=\"red\")\n",
    "sel <- which(res$log2FoldChange<1 & res$log2FoldChange>-1)\n",
    "points(res[sel,\"log2FoldChange\"], -log10(res[sel,\"padj\"]),col=\"grey\")\n",
    "sel <- which(res$log2FoldChange<=-1)\n",
    "points(res[sel,\"log2FoldChange\"], -log10(res[sel,\"padj\"]),col=\"green\")\n",
    "sel <- which(res$padj>0.05)\n",
    "points(res[sel,\"log2FoldChange\"], -log10(res[sel,\"padj\"]),col=\"black\")\n",
    "abline(v=1,lty=3)\n",
    "abline(v=-1,lty=3)\n",
    "dev.off()\n",
    "# Retrieve normalized counts for each condition for future merge\n",
    "dds <- estimateSizeFactors(dds)\n",
    "# Print sizeFactors for future BAM normalization\n",
    "sizeFactors(dds)\n",
    "nor_counts <- counts(dds, normalized=TRUE)\n",
    "nor_counts_df <- as.data.frame(nor_counts)\n",
    "library(data.table)\n",
    "nor_counts_df <- setDT(nor_counts_df, keep.rownames = TRUE)[]\n",
    "\n",
    "colnames(nor_counts_df)[1] <- \"ensembl_gene_id\"\n",
    "colnames(nor_counts_df)[2] <- \"WT1_normalized_count\"\n",
    "colnames(nor_counts_df)[3] <- \"KO1_normalized_count\"\n",
    "colnames(nor_counts_df)[4] <- \"WT2_normalized_count\"\n",
    "colnames(nor_counts_df)[5] <- \"KO2_normalized_count\"\n",
    "colnames(nor_counts_df)[6] <- \"WT3_normalized_count\"\n",
    "colnames(nor_counts_df)[7] <- \"KO3_normalized_count\"\n",
    "colnames(nor_counts_df)[8] <- \"WT4_normalized_count\"\n",
    "colnames(nor_counts_df)[9] <- \"KO4_normalized_count\"\n",
    "# Then tidy = TRUE for compatibility with biomaRt merge\n",
    "res <- results(dds, tidy = TRUE)\n",
    "colnames(res)[1] <- \"ensembl_gene_id\"\n",
    "# Check\n",
    "summary(res)\n",
    "head(res)\n",
    "# Add biotypes infos\n",
    "# Get ensembl infos\n",
    "library(\"biomaRt\")\n",
    "mart <- biomaRt::useMart(biomart = \"ENSEMBL_MART_ENSEMBL\",\n",
    "                        dataset = \"mmusculus_gene_ensembl\",\n",
    "                        host = 'ensembl.org')             \n",
    "mart_infos <- biomaRt::getBM(attributes = c(\"ensembl_gene_id\",\n",
    "                                            \"external_gene_name\",\n",
    "                                            \"gene_biotype\",\n",
    "                                            \"chromosome_name\"),\n",
    "                                            mart = mart)\n",
    "# Merge our DE results with ensembl infos for based on same gene_id in column\n",
    "res_biotyped <- merge(x = res,\n",
    "                      y = mart_infos,\n",
    "                      by = \"ensembl_gene_id\",\n",
    "                      all.x = TRUE)\n",
    "\n",
    "####NA removed\n",
    "res_biotyped$external_gene_name[is.na(res_biotyped$external_gene_name)] <- \"None\"\n",
    "res_biotyped$gene_biotype[is.na(res_biotyped$gene_biotype)] <- \"None\"\n",
    "res_biotyped$chromosome_name[is.na(res_biotyped$chromosome_name)] <- \"None\"\n",
    "\n",
    "# Re-order columns & rename some to make more sense\n",
    "res_biotyped <- res_biotyped[,c(1,8,10,9,2:7)]\n",
    "colnames(res_biotyped)[2] <- \"ensembl_gene_name\"\n",
    "colnames(res_biotyped)[3] <- \"ensembl_chromosome\"\n",
    "colnames(res_biotyped)[4] <- \"ensembl_gene_biotype\"\n",
    "\n",
    "# Add normalized counts info\n",
    "res_biotyped_counts <- merge(x = res_biotyped,\n",
    "                             y = nor_counts_df,\n",
    "                             by = \"ensembl_gene_id\",\n",
    "                             all.x = TRUE)\n",
    "\n",
    "#Transform exponential to decimal\n",
    "options(scipen = 50)\n",
    "\n",
    "#Remove blood contamination\n",
    "res_biotyped_counts <- res_biotyped_counts[- grep(\"Hb[a,q,b]\", res_biotyped_counts$ensembl_gene_name),]\n",
    "\n",
    "write.table(res_biotyped_counts,\n",
    "            './Outputs/DESeq2/Raw/KO_vs_WT_pefanis_dup_all_ka.tsv',\n",
    "            append=F, sep='\\t',\n",
    "            col.names=T,\n",
    "            row.names=F)\n",
    "\n",
    "# Keep Aicda for control\n",
    "keep_aicda <- res_biotyped_counts[res_biotyped_counts$ensembl_gene_name == 'Aicda',] \n",
    "\n",
    "#FILTER\n",
    "res_biotyped_counts<-res_biotyped_counts[complete.cases(res_biotyped_counts$padj),]\n",
    "res_biotyped_counts<-res_biotyped_counts[(res_biotyped_counts$padj<0.05),]\n",
    "\n",
    "# Keep Aicda for control\n",
    "if(!'Aicda' %in% res_biotyped_counts$ensembl_gene_name){res_biotyped_counts <- rbind(res_biotyped_counts, keep_aicda)}\n",
    "\n",
    "# Save the result in a TSV\n",
    "write.table(res_biotyped_counts,\n",
    "            './Outputs/DESeq2/Filtered/KO_vs_WT_pefanis_dup_ka.tsv',\n",
    "            append=F, sep='\\t',\n",
    "            col.names=T,\n",
    "            row.names=F)"
   ]
  },
  {
   "cell_type": "markdown",
   "metadata": {},
   "source": [
    "### 5.3) Output formatting"
   ]
  },
  {
   "cell_type": "markdown",
   "metadata": {},
   "source": [
    "##### Point to Comma :"
   ]
  },
  {
   "cell_type": "code",
   "execution_count": null,
   "metadata": {
    "code_folding": [
     0
    ],
    "collapsed": true
   },
   "outputs": [],
   "source": [
    "### CODE ###\n",
    "mkdir -p Comma;\n",
    "for f in *.tsv;\n",
    "do sed 's/\\./,/g' $f > Comma/${f%.*}'_comma.tsv';\n",
    "done;"
   ]
  },
  {
   "cell_type": "markdown",
   "metadata": {},
   "source": [
    "### 5.4) Genes of interest list for MAR vs WT"
   ]
  },
  {
   "cell_type": "markdown",
   "metadata": {},
   "source": [
    "List \"genes_of_interest_mar.tsv\" is constructed from :\n",
    "- All members of the ARID family\n",
    "- All members of thee SATB family\n",
    "- Cux1\n",
    "- AID off targets genes in Liu et al., Nature Letters, 02/2008, Supp Fig1\n",
    "- Genes on the first page of Yamane et al., Nature Immunology, 01/2011, S1 Table"
   ]
  },
  {
   "cell_type": "code",
   "execution_count": null,
   "metadata": {
    "code_folding": [
     0
    ],
    "collapsed": true
   },
   "outputs": [],
   "source": [
    "### CODE ###\n",
    "# On filtered results\n",
    "cd ~/Desktop/PTCB/BISCEm/Outputs/DESeq2/Mutant_vs_WT_no_replicates/Filtered_top_DE;\n",
    "while read line;\n",
    "do grep $line MAR_vs_WT_R_YD_top_DE.tsv;\n",
    "done < ~/Desktop/PTCB/BISCEm/Mar/genes_of_interest_mar.tsv;\n",
    "# Nothing\n",
    "while read line;\n",
    "do grep $line MAR_vs_WT_S_YD_top_DE.tsv;\n",
    "done < ~/Desktop/PTCB/BISCEm/Mar/genes_of_interest_mar.tsv;\n",
    "# Nothing\n",
    "\n",
    "# Given that there was nothing on filtered, at least output those in raw data\n",
    "cd ~/Desktop/PTCB/BISCEm/Outputs/DESeq2/Mutant_vs_WT_no_replicates;\n",
    "while read line;\n",
    "do grep $line MAR_vs_WT_R_YD.tsv;\n",
    "done < ~/Desktop/PTCB/BISCEm/Mar/genes_of_interest_mar.tsv > ~/Desktop/PTCB/BISCEm/Mar/MAR_vs_WT_R_YD_gon.tsv;\n",
    "while read line;\n",
    "do grep $line MAR_vs_WT_S_YD.tsv;\n",
    "done < ~/Desktop/PTCB/BISCEm/Mar/genes_of_interest_mar.tsv > ~/Desktop/PTCB/BISCEm/Mar/MAR_vs_WT_S_YD_gon.tsv;"
   ]
  },
  {
   "cell_type": "markdown",
   "metadata": {
    "code_folding": []
   },
   "source": [
    "### 5.5) Heatmap & Venn diagram"
   ]
  },
  {
   "cell_type": "markdown",
   "metadata": {},
   "source": [
    "##### Normalized counts heatmap"
   ]
  },
  {
   "cell_type": "markdown",
   "metadata": {},
   "source": [
    "The goal is to plot all significantly DE genes on a heatmap for all DESeq2 comparisons, even 1vs1 comparisons. The log2 of normalized counts is best suited for this purpose, as explained here : https://support.bioconductor.org/p/76712/. <br>\n",
    "\n",
    "For instance, consider 3B4_R vs 3B4_S comparison. To obtain a heatmap showing DE genes, we need a variable with values for both R and S. Log2(fold_change) cannot achieve this. Counts can fulfil this task, but we want to normalize them to avoid misinterpretation. It is suggested to use variance stabilized normalized counts (varianceStabilizingTransformation function). Given that the DE genes we consider significant (SDE) are already filtered (on log2(fold_change), p_value and counts), they have robust counts and in those situations, varianceStabilizingTransformation is equivalent to using log2(normalized_count). Thus for the sake of simplicity, we will use log2(normalized_count).\n",
    "\n",
    "To select SDE which appear on heatmaps & Venn diagrams : <br>\n",
    "Take the 100 SDE with highest absolute fold change values in featureCounts & in Kallisto results. <br>\n",
    "Intersect these 2 lists of 100 SDE, yielding a list of X SDE genes common to both featureCounts & Kallisto. These X genes plus aicda (requested by biologist as a control) and minus hemoglobin (Hbq1a, Hbb-y, Hbb-bh1, Hbb-bs, Hba-x, Hba-a2, Hba-a1, Hbq1b, Hbb-bt, Hbb-bh2, Hbb-bh3, Hba-ps4, Hbb-bh0) will appear on the heatmap."
   ]
  },
  {
   "cell_type": "markdown",
   "metadata": {},
   "source": [
    "#### 5.5.1) Heatmap & Venn R vs S (1 vs  1)"
   ]
  },
  {
   "cell_type": "code",
   "execution_count": null,
   "metadata": {
    "code_folding": [
     0
    ],
    "collapsed": true
   },
   "outputs": [],
   "source": [
    "### CODE ###\n",
    "#!/usr/bin/env Rscript\n",
    "\n",
    "###New method\n",
    "\n",
    "#Heatmap creation R & S\n",
    "\n",
    "#To launch from BISCEm/PTCB\n",
    "\n",
    "args = commandArgs(trailingOnly=TRUE)\n",
    "\n",
    "#TEST#\n",
    "#args <- c('3pRR_EP')\n",
    "\n",
    "library(plyr)\n",
    "\n",
    "##########FeatureCounts##########\n",
    "\n",
    "fc = read.table(paste0(\"./Outputs/DESeq2/Filtered/R_vs_S_\",args[1],\"_fc.tsv\"), header=TRUE, stringsAsFactors=FALSE)\n",
    "fc <- fc[!duplicated(fc$ensembl_gene_name),]\n",
    "fc_aicda <- fc[fc$ensembl_gene_name == 'Aicda',]\n",
    "fc <- fc[fc$ensembl_gene_name != 'Aicda',]\n",
    "fc <- fc[fc$ensembl_gene_name != 'None',]\n",
    "\n",
    "##########Kallisto##########\n",
    "\n",
    "ka = read.table(paste0(\"./Outputs/DESeq2/Filtered/R_vs_S_\",args[1],\"_ka.tsv\"), header=TRUE, stringsAsFactors=FALSE)\n",
    "ka <- ka[!duplicated(ka$ensembl_gene_name),]\n",
    "ka_aicda <- ka[ka$ensembl_gene_name == 'Aicda',]\n",
    "ka <- ka[ka$ensembl_gene_name != 'Aicda',]\n",
    "ka <- ka[ka$ensembl_gene_name != 'None',]\n",
    "\n",
    "paste0(\"./Outputs/DESeq2/Filtered/R_vs_S_\",args[1],\"_fc.tsv\")\n",
    "\n",
    "futile.logger::flog.threshold(futile.logger::ERROR, name = \"VennDiagramLogger\")\n",
    "\n",
    "library(\"VennDiagram\")\n",
    "venn.diagram(list(featureCounts = fc[,2], Kallisto = ka[,2]), fill = c(2,5), alpha = 0.3, na=\"remove\", filename = paste0('./Outputs/Heatmap/Heatmap_RvS_',args[1],'_VennDiagram.png'), imagetype=\"png\");\n",
    "\n",
    "\n",
    "fc <- head(fc[order(abs(fc$log2FoldChange), decreasing=TRUE),],100)\n",
    "ka <- head(ka[order(abs(ka$log2FoldChange), decreasing=TRUE),],100)\n",
    "\n",
    "fc <- rbind(fc, fc_aicda)\n",
    "ka <- rbind(ka, ka_aicda)\n",
    "\n",
    "gene_name_list <- list()\n",
    "for (line in c(fc[,2], ka[,2])){\n",
    "\tif (is.null(gene_name_list[[line]]) == TRUE){\n",
    "\t\tgene_name_list[[line]] = 1\n",
    "\t}\n",
    "\telse{\n",
    "\t\tgene_name_list[[line]] = gene_name_list[[line]]+1\n",
    "\t}\n",
    "}\n",
    "i=1\n",
    "while (i < length(gene_name_list)){\n",
    "\tif (gene_name_list[[i]] < 2){\n",
    "\t\tgene_name_list[i] <- NULL\n",
    "\t\ti=i-1\n",
    "\t}\n",
    "\ti=i+1\n",
    "\tif (i == length(gene_name_list)){\n",
    "\t\tif (gene_name_list[[i]] < 2){\n",
    "\t\t\tgene_name_list[i] <- NULL\n",
    "\t\t}\n",
    "\t}\n",
    "}\n",
    "\n",
    "fc <- fc[(fc[,2] %in% names(gene_name_list)),]\n",
    "ka <- ka[(ka[,2] %in% names(gene_name_list)),]\n",
    "\n",
    "\n",
    "fc_filtered <- fc[,c(\"ensembl_gene_id\",\"ensembl_gene_name\",\"R_normalized_count\", \"S_normalized_count\")]\n",
    "ka_filtered <- ka[,c(\"ensembl_gene_id\",\"ensembl_gene_name\",\"R_normalized_count\", \"S_normalized_count\")]\n",
    "\n",
    "fc_filtered[,3] <- log(fc_filtered[,3]+1, 2)\n",
    "fc_filtered[,4] <- log(fc_filtered[,4]+1, 2)\n",
    "\n",
    "ka_filtered[,3] <- log(ka_filtered[,3]+1, 2)\n",
    "ka_filtered[,4] <- log(ka_filtered[,4]+1, 2)\n",
    "\n",
    "\n",
    "data_frame_fc <- Reduce(function(x, y) merge(x, y, by=c(\"ensembl_gene_id\", \"ensembl_gene_name\"), all=TRUE, stringsAsFactors=FALSE), list(fc_filtered))\n",
    "data_frame_ka <- Reduce(function(x, y) merge(x, y, by=c(\"ensembl_gene_id\", \"ensembl_gene_name\"), all=TRUE, stringsAsFactors=FALSE), list(ka_filtered))\n",
    "\n",
    "data_frame_fc <- data_frame_fc[complete.cases(data_frame_fc), ]\n",
    "data_frame_ka <- data_frame_ka[complete.cases(data_frame_ka), ]\n",
    "\n",
    "row.names(data_frame_fc) <- data_frame_fc$ensembl_gene_name\n",
    "row.names(data_frame_ka) <- data_frame_ka$ensembl_gene_name\n",
    "\n",
    "data_frame_fc$ensembl_gene_id <- NULL\n",
    "data_frame_fc$ensembl_gene_name <- NULL\n",
    "\n",
    "data_frame_ka$ensembl_gene_id <- NULL\n",
    "data_frame_ka$ensembl_gene_name <- NULL\n",
    "\n",
    "data_frame_fc <- data.matrix(data_frame_fc, rownames.force = NA)\n",
    "data_frame_ka <- data.matrix(data_frame_ka, rownames.force = NA)\n",
    "\n",
    "library(\"pheatmap\")\n",
    "\n",
    "paletteLength <- length(data_frame_fc)\n",
    "myColor <- colorRampPalette(c(\"white\", \"blue\"))(paletteLength)\n",
    "\n",
    "pheatmap(data_frame_fc, color=myColor, filename=paste0('./Outputs/Heatmap/Heatmap_RvS_',args[1],'_fc.png'), main=paste0(\"Heatmap Resting versus Stimulated for \",args[1],\" log2 counts for featureCounts\"), cluster_cols=TRUE, cluster_rows=TRUE, height=10, width=10)\n",
    "pheatmap(data_frame_ka, color=myColor, filename=paste0('./Outputs/Heatmap/Heatmap_RvS_',args[1],'_ka.png'), main=paste0(\"Heatmap Resting versus Stimulated for \",args[1],\" log2 counts for kallisto\"), cluster_cols=TRUE, cluster_rows=TRUE, height=10, width=10)\n",
    "dev.off()\n",
    "#\n",
    "#library(Heatmap)\n",
    "#Heatmap(data_frame_fc, name = \"foo\", km = 2, row_title_gp = gpar(col = c(\"red\", \"blue\"), font = 1:2), row_names_gp = gpar(col = c(\"green\", \"orange\"), fontsize = c(10, 14)))"
   ]
  },
  {
   "cell_type": "markdown",
   "metadata": {},
   "source": [
    "#### 5.5.2) Heatmap & Venn Mutant vs WT (1 vs 1)"
   ]
  },
  {
   "cell_type": "markdown",
   "metadata": {},
   "source": [
    "##### 5.5.2.1) CRIBL R"
   ]
  },
  {
   "cell_type": "code",
   "execution_count": 2,
   "metadata": {
    "code_folding": [
     0
    ],
    "collapsed": true
   },
   "outputs": [],
   "source": [
    "### CODE ###\n",
    "#!/usr/bin/env Rscript\n",
    "\n",
    "###New method\n",
    "\n",
    "#Heatmap creation R & S\n",
    "\n",
    "#To launch from BISCEm/PTCB\n",
    "\n",
    "args = commandArgs(trailingOnly=TRUE)\n",
    "\n",
    "#TEST#\n",
    "#args <- c('3B4_vs_WT_R_EP')\n",
    "\n",
    "library(plyr)\n",
    "\n",
    "##########FeatureCounts##########\n",
    "\n",
    "fc = read.table(paste0(\"./Outputs/DESeq2/Filtered/\",args[1],\"_fc.tsv\"), header=TRUE, stringsAsFactors=FALSE)\n",
    "fc <- fc[!duplicated(fc$ensembl_gene_name),]\n",
    "fc_aicda <- fc[fc$ensembl_gene_name == 'Aicda',]\n",
    "fc <- fc[fc$ensembl_gene_name != 'Aicda',]\n",
    "fc <- fc[fc$ensembl_gene_name != 'None',]\n",
    "\n",
    "##########Kallisto##########\n",
    "\n",
    "ka = read.table(paste0(\"./Outputs/DESeq2/Filtered/\",args[1],\"_ka.tsv\"), header=TRUE, stringsAsFactors=FALSE)\n",
    "ka <- ka[!duplicated(ka$ensembl_gene_name),]\n",
    "ka_aicda <- ka[ka$ensembl_gene_name == 'Aicda',]\n",
    "ka <- ka[ka$ensembl_gene_name != 'Aicda',]\n",
    "ka <- ka[ka$ensembl_gene_name != 'None',]\n",
    "\n",
    "paste0(\"./Outputs/DESeq2/Filtered/\",args[1],\"_fc.tsv\")\n",
    "\n",
    "futile.logger::flog.threshold(futile.logger::ERROR, name = \"VennDiagramLogger\")\n",
    "\n",
    "library(\"VennDiagram\")\n",
    "venn.diagram(list(featureCounts = fc[,2], Kallisto = ka[,2]), fill = c(2,5), alpha = 0.3, na=\"remove\", filename = paste0('./Outputs/Heatmap/Heatmap_',args[1],'_VennDiagram.png'), imagetype=\"png\");\n",
    "\n",
    "fc <- head(fc[order(abs(fc$log2FoldChange), decreasing=TRUE),],100)\n",
    "ka <- head(ka[order(abs(ka$log2FoldChange), decreasing=TRUE),],100)\n",
    "\n",
    "fc <- rbind(fc, fc_aicda)\n",
    "ka <- rbind(ka, ka_aicda)\n",
    "\n",
    "gene_name_list <- list()\n",
    "for (line in c(fc[,2], ka[,2])){\n",
    "\tif (is.null(gene_name_list[[line]]) == TRUE){\n",
    "\t\tgene_name_list[[line]] = 1\n",
    "\t}\n",
    "\telse{\n",
    "\t\tgene_name_list[[line]] = gene_name_list[[line]]+1\n",
    "\t}\n",
    "}\n",
    "i=1\n",
    "while (i < length(gene_name_list)){\n",
    "\tif (gene_name_list[[i]] < 2){\n",
    "\t\tgene_name_list[i] <- NULL\n",
    "\t\ti=i-1\n",
    "\t}\n",
    "\ti=i+1\n",
    "\tif (i == length(gene_name_list)){\n",
    "\t\tif (gene_name_list[[i]] < 2){\n",
    "\t\t\tgene_name_list[i] <- NULL\n",
    "\t\t}\n",
    "\t}\n",
    "}\n",
    "\n",
    "fc <- fc[(fc[,2] %in% names(gene_name_list)),]\n",
    "ka <- ka[(ka[,2] %in% names(gene_name_list)),]\n",
    "\n",
    "\n",
    "fc_filtered <- fc[,c(\"ensembl_gene_id\",\"ensembl_gene_name\",\"WT_normalized_count\", \"KO_normalized_count\")]\n",
    "ka_filtered <- ka[,c(\"ensembl_gene_id\",\"ensembl_gene_name\",\"WT_normalized_count\", \"KO_normalized_count\")]\n",
    "\n",
    "fc_filtered[,3] <- log(fc_filtered[,3]+1, 2)\n",
    "fc_filtered[,4] <- log(fc_filtered[,4]+1, 2)\n",
    "\n",
    "ka_filtered[,3] <- log(ka_filtered[,3]+1, 2)\n",
    "ka_filtered[,4] <- log(ka_filtered[,4]+1, 2)\n",
    "\n",
    "\n",
    "data_frame_fc <- Reduce(function(x, y) merge(x, y, by=c(\"ensembl_gene_id\", \"ensembl_gene_name\"), all=TRUE, stringsAsFactors=FALSE), list(fc_filtered))\n",
    "data_frame_ka <- Reduce(function(x, y) merge(x, y, by=c(\"ensembl_gene_id\", \"ensembl_gene_name\"), all=TRUE, stringsAsFactors=FALSE), list(ka_filtered))\n",
    "\n",
    "data_frame_fc <- data_frame_fc[complete.cases(data_frame_fc), ]\n",
    "data_frame_ka <- data_frame_ka[complete.cases(data_frame_ka), ]\n",
    "\n",
    "row.names(data_frame_fc) <- data_frame_fc$ensembl_gene_name\n",
    "row.names(data_frame_ka) <- data_frame_ka$ensembl_gene_name\n",
    "\n",
    "data_frame_fc$ensembl_gene_id <- NULL\n",
    "data_frame_fc$ensembl_gene_name <- NULL\n",
    "\n",
    "data_frame_ka$ensembl_gene_id <- NULL\n",
    "data_frame_ka$ensembl_gene_name <- NULL\n",
    "\n",
    "data_frame_fc <- data.matrix(data_frame_fc, rownames.force = NA)\n",
    "data_frame_ka <- data.matrix(data_frame_ka, rownames.force = NA)\n",
    "\n",
    "library(\"pheatmap\")\n",
    "\n",
    "paletteLength <- length(data_frame_fc)\n",
    "myColor <- colorRampPalette(c(\"white\", \"blue\"))(paletteLength)\n",
    "\n",
    "pheatmap(data_frame_fc, color=myColor, filename=paste0('./Outputs/Heatmap/Heatmap_',args[1],'_fc.png'), main=paste0(\"Heatmap\",strsplit(args[1], \"_\")[[1]][1],\" versus WT for Resting log2 counts for featureCounts\"), cluster_cols=TRUE, cluster_rows=TRUE, height=10, width=10)\n",
    "pheatmap(data_frame_ka, color=myColor, filename=paste0('./Outputs/Heatmap/Heatmap_',args[1],'_ka.png'), main=paste0(\"Heatmap\",strsplit(args[1], \"_\")[[1]][1],\" versus WT for Resting log2 counts for kallisto\"), cluster_cols=TRUE, cluster_rows=TRUE, height=10, width=10)\n",
    "dev.off()"
   ]
  },
  {
   "cell_type": "markdown",
   "metadata": {},
   "source": [
    "##### 5.5.2.2) CRIBL S"
   ]
  },
  {
   "cell_type": "code",
   "execution_count": null,
   "metadata": {
    "code_folding": [
     0
    ],
    "collapsed": true
   },
   "outputs": [],
   "source": [
    "### CODE ###\n",
    "#!/usr/bin/env Rscript\n",
    "\n",
    "###New method\n",
    "\n",
    "#Heatmap creation R & S\n",
    "\n",
    "#To launch from BISCEm/PTCB\n",
    "\n",
    "args = commandArgs(trailingOnly=TRUE)\n",
    "\n",
    "#TEST#\n",
    "#args <- c('3B4_vs_WT_S_EP')\n",
    "\n",
    "library(plyr)\n",
    "\n",
    "##########FeatureCounts##########\n",
    "\n",
    "fc = read.table(paste0(\"./Outputs/DESeq2/Filtered/\",args[1],\"_fc.tsv\"), header=TRUE, stringsAsFactors=FALSE)\n",
    "fc <- fc[!duplicated(fc$ensembl_gene_name),]\n",
    "fc_aicda <- fc[fc$ensembl_gene_name == 'Aicda',]\n",
    "fc <- fc[fc$ensembl_gene_name != 'Aicda',]\n",
    "fc <- fc[fc$ensembl_gene_name != 'None',]\n",
    "\n",
    "##########Kallisto##########\n",
    "\n",
    "ka = read.table(paste0(\"./Outputs/DESeq2/Filtered/\",args[1],\"_ka.tsv\"), header=TRUE, stringsAsFactors=FALSE)\n",
    "ka <- ka[!duplicated(ka$ensembl_gene_name),]\n",
    "ka_aicda <- ka[ka$ensembl_gene_name == 'Aicda',]\n",
    "ka <- ka[ka$ensembl_gene_name != 'Aicda',]\n",
    "ka <- ka[ka$ensembl_gene_name != 'None',]\n",
    "\n",
    "paste0(\"./Outputs/DESeq2/Filtered/\",args[1],\"_fc.tsv\")\n",
    "\n",
    "futile.logger::flog.threshold(futile.logger::ERROR, name = \"VennDiagramLogger\")\n",
    "\n",
    "library(\"VennDiagram\")\n",
    "venn.diagram(list(featureCounts = fc[,2], Kallisto = ka[,2]), fill = c(2,5), alpha = 0.3, na=\"remove\", filename = paste0('./Outputs/Heatmap/Heatmap_',args[1],'_VennDiagram.png'), imagetype=\"png\");\n",
    "\n",
    "fc <- head(fc[order(abs(fc$log2FoldChange), decreasing=TRUE),],100)\n",
    "ka <- head(ka[order(abs(ka$log2FoldChange), decreasing=TRUE),],100)\n",
    "\n",
    "fc <- rbind(fc, fc_aicda)\n",
    "ka <- rbind(ka, ka_aicda)\n",
    "\n",
    "gene_name_list <- list()\n",
    "for (line in c(fc[,2], ka[,2])){\n",
    "\tif (is.null(gene_name_list[[line]]) == TRUE){\n",
    "\t\tgene_name_list[[line]] = 1\n",
    "\t}\n",
    "\telse{\n",
    "\t\tgene_name_list[[line]] = gene_name_list[[line]]+1\n",
    "\t}\n",
    "}\n",
    "i=1\n",
    "while (i < length(gene_name_list)){\n",
    "\tif (gene_name_list[[i]] < 2){\n",
    "\t\tgene_name_list[i] <- NULL\n",
    "\t\ti=i-1\n",
    "\t}\n",
    "\ti=i+1\n",
    "\tif (i == length(gene_name_list)){\n",
    "\t\tif (gene_name_list[[i]] < 2){\n",
    "\t\t\tgene_name_list[i] <- NULL\n",
    "\t\t}\n",
    "\t}\n",
    "}\n",
    "\n",
    "fc <- fc[(fc[,2] %in% names(gene_name_list)),]\n",
    "ka <- ka[(ka[,2] %in% names(gene_name_list)),]\n",
    "\n",
    "\n",
    "fc_filtered <- fc[,c(\"ensembl_gene_id\",\"ensembl_gene_name\",\"WT_normalized_count\", \"KO_normalized_count\")]\n",
    "ka_filtered <- ka[,c(\"ensembl_gene_id\",\"ensembl_gene_name\",\"WT_normalized_count\", \"KO_normalized_count\")]\n",
    "\n",
    "fc_filtered[,3] <- log(fc_filtered[,3]+1, 2)\n",
    "fc_filtered[,4] <- log(fc_filtered[,4]+1, 2)\n",
    "\n",
    "ka_filtered[,3] <- log(ka_filtered[,3]+1, 2)\n",
    "ka_filtered[,4] <- log(ka_filtered[,4]+1, 2)\n",
    "\n",
    "\n",
    "data_frame_fc <- Reduce(function(x, y) merge(x, y, by=c(\"ensembl_gene_id\", \"ensembl_gene_name\"), all=TRUE, stringsAsFactors=FALSE), list(fc_filtered))\n",
    "data_frame_ka <- Reduce(function(x, y) merge(x, y, by=c(\"ensembl_gene_id\", \"ensembl_gene_name\"), all=TRUE, stringsAsFactors=FALSE), list(ka_filtered))\n",
    "\n",
    "data_frame_fc <- data_frame_fc[complete.cases(data_frame_fc), ]\n",
    "data_frame_ka <- data_frame_ka[complete.cases(data_frame_ka), ]\n",
    "\n",
    "row.names(data_frame_fc) <- data_frame_fc$ensembl_gene_name\n",
    "row.names(data_frame_ka) <- data_frame_ka$ensembl_gene_name\n",
    "\n",
    "data_frame_fc$ensembl_gene_id <- NULL\n",
    "data_frame_fc$ensembl_gene_name <- NULL\n",
    "\n",
    "data_frame_ka$ensembl_gene_id <- NULL\n",
    "data_frame_ka$ensembl_gene_name <- NULL\n",
    "\n",
    "data_frame_fc <- data.matrix(data_frame_fc, rownames.force = NA)\n",
    "data_frame_ka <- data.matrix(data_frame_ka, rownames.force = NA)\n",
    "\n",
    "library(\"pheatmap\")\n",
    "\n",
    "paletteLength <- length(data_frame_fc)\n",
    "myColor <- colorRampPalette(c(\"white\", \"blue\"))(paletteLength)\n",
    "\n",
    "pheatmap(data_frame_fc, color=myColor, filename=paste0('./Outputs/Heatmap/Heatmap_',args[1],'_fc.png'), main=paste0(\"Heatmap\",strsplit(args[1], \"_\")[[1]][1],\" versus WT for Stimulated log2 counts for featureCounts\"), cluster_cols=TRUE, cluster_rows=TRUE, height=10, width=10)\n",
    "pheatmap(data_frame_ka, color=myColor, filename=paste0('./Outputs/Heatmap/Heatmap_',args[1],'_ka.png'), main=paste0(\"Heatmap\",strsplit(args[1], \"_\")[[1]][1],\" versus WT for Stimulated log2 counts for kallisto\"), cluster_cols=TRUE, cluster_rows=TRUE, height=10, width=10)\n",
    "dev.off()"
   ]
  },
  {
   "cell_type": "markdown",
   "metadata": {},
   "source": [
    "##### 5.5.2.2) Pefanis S"
   ]
  },
  {
   "cell_type": "code",
   "execution_count": null,
   "metadata": {
    "code_folding": [
     0
    ],
    "collapsed": true
   },
   "outputs": [],
   "source": [
    "### CODE ###\n",
    "#!/usr/bin/env Rscript\n",
    "\n",
    "###New method\n",
    "\n",
    "#Heatmap creation R & S\n",
    "\n",
    "#To launch from BISCEm/PTCB\n",
    "\n",
    "args = commandArgs(trailingOnly=TRUE)\n",
    "\n",
    "#TEST#\n",
    "args <- c('KO_vs_WT_pefanis_dup')\n",
    "\n",
    "library(plyr)\n",
    "\n",
    "##########FeatureCounts##########\n",
    "\n",
    "fc = read.table(paste0(\"./Outputs/DESeq2/Filtered/\",args[1],\"_fc.tsv\"), header=TRUE, stringsAsFactors=FALSE)\n",
    "fc <- fc[!duplicated(fc$ensembl_gene_name),]\n",
    "fc_aicda <- fc[fc$ensembl_gene_name == 'Aicda',]\n",
    "fc <- fc[fc$ensembl_gene_name != 'Aicda',]\n",
    "fc <- fc[fc$ensembl_gene_name != 'None',]\n",
    "\n",
    "##########Kallisto##########\n",
    "\n",
    "ka = read.table(paste0(\"./Outputs/DESeq2/Filtered/\",args[1],\"_ka.tsv\"), header=TRUE, stringsAsFactors=FALSE)\n",
    "ka <- ka[!duplicated(ka$ensembl_gene_name),]\n",
    "ka_aicda <- ka[ka$ensembl_gene_name == 'Aicda',]\n",
    "ka <- ka[ka$ensembl_gene_name != 'Aicda',]\n",
    "ka <- ka[ka$ensembl_gene_name != 'None',]\n",
    "\n",
    "paste0(\"./Outputs/DESeq2/Filtered/\",args[1],\"_fc.tsv\")\n",
    "\n",
    "futile.logger::flog.threshold(futile.logger::ERROR, name = \"VennDiagramLogger\")\n",
    "\n",
    "library(\"VennDiagram\")\n",
    "venn.diagram(list(featureCounts = fc[,2], Kallisto = ka[,2]), fill = c(2,5), alpha = 0.3, na=\"remove\", filename = paste0('./Outputs/Heatmap/Heatmap_',args[1],'_VennDiagram.png'), imagetype=\"png\");\n",
    "\n",
    "fc <- head(fc[order(abs(fc$log2FoldChange), decreasing=TRUE),],100)\n",
    "ka <- head(ka[order(abs(ka$log2FoldChange), decreasing=TRUE),],100)\n",
    "\n",
    "fc <- rbind(fc, fc_aicda)\n",
    "ka <- rbind(ka, ka_aicda)\n",
    "\n",
    "gene_name_list <- list()\n",
    "for (line in c(fc[,2], ka[,2])){\n",
    "\tif (is.null(gene_name_list[[line]]) == TRUE){\n",
    "\t\tgene_name_list[[line]] = 1\n",
    "\t}\n",
    "\telse{\n",
    "\t\tgene_name_list[[line]] = gene_name_list[[line]]+1\n",
    "\t}\n",
    "}\n",
    "i=1\n",
    "while (i < length(gene_name_list)){\n",
    "\tif (gene_name_list[[i]] < 2){\n",
    "\t\tgene_name_list[i] <- NULL\n",
    "\t\ti=i-1\n",
    "\t}\n",
    "\ti=i+1\n",
    "\tif (i == length(gene_name_list)){\n",
    "\t\tif (gene_name_list[[i]] < 2){\n",
    "\t\t\tgene_name_list[i] <- NULL\n",
    "\t\t}\n",
    "\t}\n",
    "}\n",
    "\n",
    "fc <- fc[(fc[,2] %in% names(gene_name_list)),]\n",
    "ka <- ka[(ka[,2] %in% names(gene_name_list)),]\n",
    "\n",
    "###MEAN OF COLUMNS\n",
    "fc$WT_normalized_count <- rowMeans(fc[,c(\"WT1_normalized_count\",\"WT2_normalized_count\",\"WT3_normalized_count\", \"WT4_normalized_count\")])\n",
    "fc$KO_normalized_count <- rowMeans(fc[,c(\"KO1_normalized_count\",\"KO2_normalized_count\",\"KO3_normalized_count\", \"KO4_normalized_count\")])\n",
    "fc$WT1_normalized_count <- NULL\n",
    "fc$WT2_normalized_count <- NULL\n",
    "fc$WT3_normalized_count <- NULL\n",
    "fc$WT4_normalized_count <- NULL\n",
    "fc$KO1_normalized_count <- NULL\n",
    "fc$KO2_normalized_count <- NULL\n",
    "fc$KO3_normalized_count <- NULL\n",
    "fc$KO4_normalized_count <- NULL\n",
    "\n",
    "ka$WT_normalized_count <- rowMeans(ka[,c(\"WT1_normalized_count\",\"WT2_normalized_count\",\"WT3_normalized_count\", \"WT4_normalized_count\")])\n",
    "ka$KO_normalized_count <- rowMeans(ka[,c(\"KO1_normalized_count\",\"KO2_normalized_count\",\"KO3_normalized_count\", \"KO4_normalized_count\")])\n",
    "ka$WT1_normalized_count <- NULL\n",
    "ka$WT2_normalized_count <- NULL\n",
    "ka$WT3_normalized_count <- NULL\n",
    "ka$WT4_normalized_count <- NULL\n",
    "ka$KO1_normalized_count <- NULL\n",
    "ka$KO2_normalized_count <- NULL\n",
    "ka$KO3_normalized_count <- NULL\n",
    "ka$KO4_normalized_count <- NULL\n",
    "#################é\n",
    "\n",
    "fc_filtered <- fc[,c(\"ensembl_gene_id\",\"ensembl_gene_name\",\"WT_normalized_count\", \"KO_normalized_count\")]\n",
    "ka_filtered <- ka[,c(\"ensembl_gene_id\",\"ensembl_gene_name\",\"WT_normalized_count\", \"KO_normalized_count\")]\n",
    "\n",
    "fc_filtered[,3] <- log(fc_filtered[,3]+1, 2)\n",
    "fc_filtered[,4] <- log(fc_filtered[,4]+1, 2)\n",
    "\n",
    "ka_filtered[,3] <- log(ka_filtered[,3]+1, 2)\n",
    "ka_filtered[,4] <- log(ka_filtered[,4]+1, 2)\n",
    "\n",
    "\n",
    "data_frame_fc <- Reduce(function(x, y) merge(x, y, by=c(\"ensembl_gene_id\", \"ensembl_gene_name\"), all=TRUE, stringsAsFactors=FALSE), list(fc_filtered))\n",
    "data_frame_ka <- Reduce(function(x, y) merge(x, y, by=c(\"ensembl_gene_id\", \"ensembl_gene_name\"), all=TRUE, stringsAsFactors=FALSE), list(ka_filtered))\n",
    "\n",
    "data_frame_fc <- data_frame_fc[complete.cases(data_frame_fc), ]\n",
    "data_frame_ka <- data_frame_ka[complete.cases(data_frame_ka), ]\n",
    "\n",
    "row.names(data_frame_fc) <- data_frame_fc$ensembl_gene_name\n",
    "row.names(data_frame_ka) <- data_frame_ka$ensembl_gene_name\n",
    "\n",
    "data_frame_fc$ensembl_gene_id <- NULL\n",
    "data_frame_fc$ensembl_gene_name <- NULL\n",
    "\n",
    "data_frame_ka$ensembl_gene_id <- NULL\n",
    "data_frame_ka$ensembl_gene_name <- NULL\n",
    "\n",
    "data_frame_fc <- data.matrix(data_frame_fc, rownames.force = NA)\n",
    "data_frame_ka <- data.matrix(data_frame_ka, rownames.force = NA)\n",
    "\n",
    "library(\"pheatmap\")\n",
    "\n",
    "paletteLength <- length(data_frame_fc)\n",
    "myColor <- colorRampPalette(c(\"white\", \"blue\"))(paletteLength)\n",
    "\n",
    "pheatmap(data_frame_fc, color=myColor, filename=paste0('./Outputs/Heatmap/Heatmap_',args[1],'_fc.png'), main=paste0(\"Heatmap\",strsplit(args[1], \"_\")[[1]][1],\" versus WT for Stimulated log2 counts for featureCounts\"), cluster_cols=TRUE, cluster_rows=TRUE, height=10, width=10)\n",
    "pheatmap(data_frame_ka, color=myColor, filename=paste0('./Outputs/Heatmap/Heatmap_',args[1],'_ka.png'), main=paste0(\"Heatmap\",strsplit(args[1], \"_\")[[1]][1],\" versus WT for Stimulated log2 counts for kallisto\"), cluster_cols=TRUE, cluster_rows=TRUE, height=10, width=10)\n",
    "dev.off()"
   ]
  },
  {
   "cell_type": "markdown",
   "metadata": {},
   "source": [
    "#### 5.5.3) Heatmap & Venn (X vs X)"
   ]
  },
  {
   "cell_type": "markdown",
   "metadata": {},
   "source": [
    "Only if Sandrine wants them again."
   ]
  },
  {
   "cell_type": "markdown",
   "metadata": {},
   "source": [
    "### 5.6) Normalized visualisation"
   ]
  },
  {
   "cell_type": "markdown",
   "metadata": {},
   "source": [
    "After DE genes have been called, biologists want to go back to \"the gene level\" and visualize said DE genes in a genome browser, with associated read pileup / coverage for each condition. <br>\n",
    "\n",
    "Two things have to be considered here : <br>\n",
    "- Direct visualization from raw BAMs is skewed, because DESeq2 called the DE genes based on normalized counts, not raw counts. Thus we need to \"normalize the BAM\". This is achieved by retrieving for each DESeq2 comparision the result of the \"sizeFactors(dds)\" command.  <br>\n",
    "See p5 of https://bioconductor.org/packages/release/bioc/manuals/DESeq2/man/DESeq2.pdf : \"whether or not to divide the counts by the size factors\".  <br>\n",
    "An example : Consider the 1vs1 comparison of WT_R_EP vs WT_S_EP. Associated size factors are 0.8560343 (R) and 1.1681774 (S). In the DESeq2 output, take a random result : \"ENSMUSG00000000078\", which have associated normalized counts : 10241.41 (R) & 925.37 (S). Now check that there were indeed obtained by dividing raw featureCounts counts by size factor : Count value for R : 8767, divided by 0.8560343 = 10241.41 & count value for S : 1081, divided by 1.1681774 = 925.37. <br>\n",
    "\n",
    "\n",
    "- Our data is paired and strand-specific, thus we can and should split BAM for the read pairs on the forward and on the reverse strand. This is achieved with the \"filterRNAstrand\" option within the bamCoverage software."
   ]
  },
  {
   "cell_type": "code",
   "execution_count": null,
   "metadata": {
    "code_folding": [
     0
    ],
    "collapsed": true
   },
   "outputs": [],
   "source": [
    "### CODE ###\n",
    "# Set paths & folders for normalized BAMs creation\n",
    "biscem='/home/erwann/Desktop/PTCB/BISCEm';\n",
    "mkdir -p $biscem/Outputs/Normalized_BAM/R_vs_S_no_replicates;\n",
    "mkdir -p $biscem/Outputs/Normalized_BAM/Mutant_vs_WT_no_replicates;\n",
    "mkdir -p $biscem/Outputs/Normalized_BAM/Verbose;\n",
    "# mkdir -p $biscem/Outputs/Normalized_BAM/R_vs_S_with_replicates;\n",
    "# mkdir -p $biscem/Outputs/Normalized_BAM/Mutant_vs_WT_with_replicates;\n",
    "\n",
    "##################################\n",
    "### Mutant_vs_WT_no_replicates ###\n",
    "##################################\n",
    "# Set scales for Mutant_vs_WT_no_replicates\n",
    "scale_WT_3B4_R_EP=0.8551271; \n",
    "scale_3B4_R_EP=1.1694168;\n",
    "scale_WT_3B4_S_EP=1.0536938;\n",
    "scale_3B4_S_EP=0.9490423;\n",
    "scale_WT_3pRR_R_EP=0.8129696;\n",
    "scale_3pRR_R_EP=1.2300583;\n",
    "scale_WT_3pRR_S_EP=1.0164029;\n",
    "scale_3pRR_S_EP=0.9838618;\n",
    "scale_WT_DEL_R_EP=0.8951107;\n",
    "scale_DEL_R_EP=1.1171802;\n",
    "scale_WT_DEL_S_EP=1.0173134;\n",
    "scale_DEL_S_EP=0.9829813;\n",
    "scale_WT_IRIS_R_EP=0.8257228;\n",
    "scale_IRIS_R_EP=1.2110601;\n",
    "scale_WT_IRIS_S_EP=0.9916549;\n",
    "scale_IRIS_S_EP=1.0084153;\n",
    "scale_WT_PAL_R_EP=0.8831167;\n",
    "scale_PAL_R_EP=1.1323531;\n",
    "scale_WT_PAL_S_EP=0.9969528;\n",
    "scale_PAL_S_EP=1.0030566;\n",
    "scale_WT_3pRR_R_YD=0.9364606;\n",
    "scale_3pRR_R_YD=1.0678505;\n",
    "scale_WT_3pRR_S_YD=1.4142136;\n",
    "scale_3pRR_S_YD=0.7071068;\n",
    "scale_WT_EU_R_YD=1.1547005;\n",
    "scale_EU_R_YD=0.8660254;\n",
    "scale_WT_EU_S_YD=1.3740364;\n",
    "scale_EU_S_YD=0.7277828;\n",
    "scale_WT_MAR_R_YD=0.8312094;\n",
    "scale_MAR_R_YD=1.2030663;\n",
    "scale_WT_MAR_S_YD=1.544631;\n",
    "scale_MAR_S_YD=0.647404;\n",
    "# Transform scales to account for the fact that we need to divide the counts by the size factors, not multiply\n",
    "scale_div_WT_3B4_R_EP=$(awk -v scale_WT_3B4_R_EP=$scale_WT_3B4_R_EP 'BEGIN { print (1 / scale_WT_3B4_R_EP) }');\n",
    "scale_div_3B4_R_EP=$(awk -v scale_3B4_R_EP=$scale_3B4_R_EP 'BEGIN { print (1 / scale_3B4_R_EP) }');\n",
    "scale_div_WT_3B4_S_EP=$(awk -v scale_WT_3B4_S_EP=$scale_WT_3B4_S_EP 'BEGIN { print (1 / scale_WT_3B4_S_EP) }');\n",
    "scale_div_3B4_S_EP=$(awk -v scale_3B4_S_EP=$scale_3B4_S_EP 'BEGIN { print (1 / scale_3B4_S_EP) }');\n",
    "scale_div_WT_3pRR_R_EP=$(awk -v scale_WT_3pRR_R_EP=$scale_WT_3pRR_R_EP 'BEGIN { print (1 / scale_WT_3pRR_R_EP) }');\n",
    "scale_div_3pRR_R_EP=$(awk -v scale_3pRR_R_EP=$scale_3pRR_R_EP 'BEGIN { print (1 / scale_3pRR_R_EP) }');\n",
    "scale_div_WT_3pRR_S_EP=$(awk -v scale_WT_3pRR_S_EP=$scale_WT_3pRR_S_EP 'BEGIN { print (1 / scale_WT_3pRR_S_EP) }');\n",
    "scale_div_3pRR_S_EP=$(awk -v scale_3pRR_S_EP=$scale_3pRR_S_EP 'BEGIN { print (1 / scale_3pRR_S_EP) }');\n",
    "scale_div_WT_DEL_R_EP=$(awk -v scale_WT_DEL_R_EP=$scale_WT_DEL_R_EP 'BEGIN { print (1 / scale_WT_DEL_R_EP) }');\n",
    "scale_div_DEL_R_EP=$(awk -v scale_DEL_R_EP=$scale_DEL_R_EP 'BEGIN { print (1 / scale_DEL_R_EP) }');\n",
    "scale_div_WT_DEL_S_EP=$(awk -v scale_WT_DEL_S_EP=$scale_WT_DEL_S_EP 'BEGIN { print (1 / scale_WT_DEL_S_EP) }');\n",
    "scale_div_DEL_S_EP=$(awk -v scale_DEL_S_EP=$scale_DEL_S_EP 'BEGIN { print (1 / scale_DEL_S_EP) }');\n",
    "scale_div_WT_IRIS_R_EP=$(awk -v scale_WT_IRIS_R_EP=$scale_WT_IRIS_R_EP 'BEGIN { print (1 / scale_WT_IRIS_R_EP) }');\n",
    "scale_div_IRIS_R_EP=$(awk -v scale_IRIS_R_EP=$scale_IRIS_R_EP 'BEGIN { print (1 / scale_IRIS_R_EP) }');\n",
    "scale_div_WT_IRIS_S_EP=$(awk -v scale_WT_IRIS_S_EP=$scale_WT_IRIS_S_EP 'BEGIN { print (1 / scale_WT_IRIS_S_EP) }');\n",
    "scale_div_IRIS_S_EP=$(awk -v scale_IRIS_S_EP=$scale_IRIS_S_EP 'BEGIN { print (1 / scale_IRIS_S_EP) }');\n",
    "scale_div_WT_PAL_R_EP=$(awk -v scale_WT_PAL_R_EP=$scale_WT_PAL_R_EP 'BEGIN { print (1 / scale_WT_PAL_R_EP) }');\n",
    "scale_div_PAL_R_EP=$(awk -v scale_PAL_R_EP=$scale_PAL_R_EP 'BEGIN { print (1 / scale_PAL_R_EP) }');\n",
    "scale_div_WT_PAL_S_EP=$(awk -v scale_WT_PAL_S_EP=$scale_WT_PAL_S_EP 'BEGIN { print (1 / scale_WT_PAL_S_EP) }');\n",
    "scale_div_PAL_S_EP=$(awk -v scale_PAL_S_EP=$scale_PAL_S_EP 'BEGIN { print (1 / scale_PAL_S_EP) }');\n",
    "scale_div_WT_3pRR_R_YD=$(awk -v scale_WT_3pRR_R_YD=$scale_WT_3pRR_R_YD 'BEGIN { print (1 / scale_WT_3pRR_R_YD) }');\n",
    "scale_div_3pRR_R_YD=$(awk -v scale_3pRR_R_YD=$scale_3pRR_R_YD 'BEGIN { print (1 / scale_3pRR_R_YD) }');\n",
    "scale_div_WT_3pRR_S_YD=$(awk -v scale_WT_3pRR_S_YD=$scale_WT_3pRR_S_YD 'BEGIN { print (1 / scale_WT_3pRR_S_YD) }');\n",
    "scale_div_3pRR_S_YD=$(awk -v scale_3pRR_S_YD=$scale_3pRR_S_YD 'BEGIN { print (1 / scale_3pRR_S_YD) }');\n",
    "scale_div_WT_EU_R_YD=$(awk -v scale_WT_EU_R_YD=$scale_WT_EU_R_YD 'BEGIN { print (1 / scale_WT_EU_R_YD) }');\n",
    "scale_div_EU_R_YD=$(awk -v scale_EU_R_YD=$scale_EU_R_YD 'BEGIN { print (1 / scale_EU_R_YD) }');\n",
    "scale_div_WT_EU_S_YD=$(awk -v scale_WT_EU_S_YD=$scale_WT_EU_S_YD 'BEGIN { print (1 / scale_WT_EU_S_YD) }');\n",
    "scale_div_EU_S_YD=$(awk -v scale_EU_S_YD=$scale_EU_S_YD 'BEGIN { print (1 / scale_EU_S_YD) }');\n",
    "scale_div_WT_MAR_R_YD=$(awk -v scale_WT_MAR_R_YD=$scale_WT_MAR_R_YD 'BEGIN { print (1 / scale_WT_MAR_R_YD) }');\n",
    "scale_div_MAR_R_YD=$(awk -v scale_MAR_R_YD=$scale_MAR_R_YD 'BEGIN { print (1 / scale_MAR_R_YD) }');\n",
    "scale_div_WT_MAR_S_YD=$(awk -v scale_WT_MAR_S_YD=$scale_WT_MAR_S_YD 'BEGIN { print (1 / scale_WT_MAR_S_YD) }');\n",
    "scale_div_MAR_S_YD=$(awk -v scale_MAR_S_YD=$scale_MAR_S_YD 'BEGIN { print (1 / scale_MAR_S_YD) }');\n",
    "\n",
    "# Proceed BAMs with bamCoverage\n",
    "cd $biscem/Outputs/Mapped_vs_GRCm38.p5;\n",
    "#for id in '3B4_R_EP' '3B4_S_EP' '3pRR_R_EP' '3pRR_S_EP' 'DEL_R_EP' 'DEL_S_EP' 'IRIS_R_EP' 'IRIS_S_EP' 'PAL_R_EP' 'PAL_S_EP' '3pRR_R_YD' '3pRR_S_YD' 'EU_R_YD' 'EU_S_YD' 'MAR_R_YD' 'MAR_S_YD';\n",
    "for id in '3pRR_R_YD' '3pRR_S_YD' 'EU_R_YD' 'EU_S_YD' 'MAR_R_YD' 'MAR_S_YD';\n",
    "do scale=$(eval printf \"$\"\"scale_div_\"$id);\n",
    "   bamCoverage --bam $id.bam \\\n",
    "               --outFileName $biscem/Outputs/Normalized_BAM/Mutant_vs_WT_no_replicates/$id\"_forward_strand.bigwig\" \\\n",
    "               --outFileFormat bigwig \\\n",
    "               --scaleFactor $scale \\\n",
    "               --filterRNAstrand forward \\\n",
    "               --binSize 1 \\\n",
    "               --numberOfProcessors max \\\n",
    "               --verbose;\n",
    "   bamCoverage --bam $id.bam \\\n",
    "               --outFileName $biscem/Outputs/Normalized_BAM/Mutant_vs_WT_no_replicates/$id\"_reverse_strand.bigwig\" \\\n",
    "               --outFileFormat bigwig \\\n",
    "               --scaleFactor $scale \\\n",
    "               --filterRNAstrand reverse \\\n",
    "               --binSize 1 \\\n",
    "               --numberOfProcessors max \\\n",
    "               --verbose;\n",
    "   scale=$(eval printf \"$\"\"scale_div_WT_\"$id);\n",
    "   mutant=${id%%_*};\n",
    "   wt_file=$(echo $id | sed 's/'$mutant'/WT/g');\n",
    "   bamCoverage --bam $wt_file.bam \\\n",
    "               --outFileName $biscem/Outputs/Normalized_BAM/Mutant_vs_WT_no_replicates/\"WT_\"$id\"_forward_strand.bigwig\" \\\n",
    "               --outFileFormat bigwig \\\n",
    "               --scaleFactor $scale \\\n",
    "               --filterRNAstrand forward \\\n",
    "               --binSize 1 \\\n",
    "               --numberOfProcessors max \\\n",
    "               --verbose;\n",
    "   bamCoverage --bam $wt_file.bam \\\n",
    "               --outFileName $biscem/Outputs/Normalized_BAM/Mutant_vs_WT_no_replicates/\"WT_\"$id\"_reverse_strand.bigwig\" \\\n",
    "               --outFileFormat bigwig \\\n",
    "               --scaleFactor $scale \\\n",
    "               --filterRNAstrand reverse \\\n",
    "               --binSize 1 \\\n",
    "               --numberOfProcessors max \\\n",
    "               --verbose;\n",
    "done &>> $biscem/Outputs/Normalized_BAM/Verbose/mutant_vs_wt_no_replicates_bigwig.verbose;\n",
    "\n",
    "############################\n",
    "### R_vs_S_no_replicates ###\n",
    "############################\n",
    "# Set scales for R_vs_S_no_replicates\n",
    "scale_3B4_R_EP=1.0019940;\n",
    "scale_3B4_S_EP=0.9980099;\n",
    "scale_3pRR_R_EP=1.0258757;\n",
    "scale_3pRR_S_EP=0.9747769;\n",
    "scale_DEL_R_EP=0.9876488;\n",
    "scale_DEL_S_EP=1.0125057;\n",
    "scale_IRIS_R_EP=1;\n",
    "scale_IRIS_S_EP=1;\n",
    "scale_PAL_R_EP=0.9251799;\n",
    "scale_PAL_S_EP=1.0808709;\n",
    "scale_WT_R_EP=0.8560343;\n",
    "scale_WT_S_EP=1.1681774;\n",
    "scale_3pRR_R_YD=1.4699883;\n",
    "scale_3pRR_S_YD=0.6802775;\n",
    "scale_EU_R_YD=1.0939116;\n",
    "scale_EU_S_YD=0.9141506;\n",
    "scale_MAR_R_YD=1.7791104;\n",
    "scale_MAR_S_YD=0.5620787;\n",
    "scale_WT_R_YD=0.9906975;\n",
    "scale_WT_S_YD=1.0093899;\n",
    "# Transform scales to account for the fact that we need to divide the counts by the size factors, not multiply\n",
    "scale_div_3B4_R_EP=$(awk -v scale_3B4_R_EP=$scale_3B4_R_EP 'BEGIN { print (1 / scale_3B4_R_EP) }');\n",
    "scale_div_3B4_S_EP=$(awk -v scale_3B4_S_EP=$scale_3B4_S_EP 'BEGIN { print (1 / scale_3B4_S_EP) }');\n",
    "scale_div_3pRR_R_EP=$(awk -v scale_3pRR_R_EP=$scale_3pRR_R_EP 'BEGIN { print (1 / scale_3pRR_R_EP) }');\n",
    "scale_div_3pRR_S_EP=$(awk -v scale_3pRR_S_EP=$scale_3pRR_S_EP 'BEGIN { print (1 / scale_3pRR_S_EP) }');\n",
    "scale_div_DEL_R_EP=$(awk -v scale_DEL_R_EP=$scale_DEL_R_EP 'BEGIN { print (1 / scale_DEL_R_EP) }');\n",
    "scale_div_DEL_S_EP=$(awk -v scale_DEL_S_EP=$scale_DEL_S_EP 'BEGIN { print (1 / scale_DEL_S_EP) }');\n",
    "scale_div_IRIS_R_EP=$(awk -v scale_IRIS_R_EP=$scale_IRIS_R_EP 'BEGIN { print (1 / scale_IRIS_R_EP) }');\n",
    "scale_div_IRIS_S_EP=$(awk -v scale_IRIS_S_EP=$scale_IRIS_S_EP 'BEGIN { print (1 / scale_IRIS_S_EP) }');\n",
    "scale_div_PAL_R_EP=$(awk -v scale_PAL_R_EP=$scale_PAL_R_EP 'BEGIN { print (1 / scale_PAL_R_EP) }');\n",
    "scale_div_PAL_S_EP=$(awk -v scale_PAL_S_EP=$scale_PAL_S_EP 'BEGIN { print (1 / scale_PAL_S_EP) }');\n",
    "scale_div_WT_R_EP=$(awk -v scale_WT_R_EP=$scale_WT_R_EP 'BEGIN { print (1 / scale_WT_R_EP) }');\n",
    "scale_div_WT_S_EP=$(awk -v scale_WT_S_EP=$scale_WT_S_EP 'BEGIN { print (1 / scale_WT_S_EP) }');\n",
    "scale_div_3pRR_R_YD=$(awk -v scale_3pRR_R_YD=$scale_3pRR_R_YD 'BEGIN { print (1 / scale_3pRR_R_YD) }');\n",
    "scale_div_3pRR_S_YD=$(awk -v scale_3pRR_S_YD=$scale_3pRR_S_YD 'BEGIN { print (1 / scale_3pRR_S_YD) }');\n",
    "scale_div_EU_R_YD=$(awk -v scale_EU_R_YD=$scale_EU_R_YD 'BEGIN { print (1 / scale_EU_R_YD) }');\n",
    "scale_div_EU_S_YD=$(awk -v scale_EU_S_YD=$scale_EU_S_YD 'BEGIN { print (1 / scale_EU_S_YD) }');\n",
    "scale_div_MAR_R_YD=$(awk -v scale_MAR_R_YD=$scale_MAR_R_YD 'BEGIN { print (1 / scale_MAR_R_YD) }');\n",
    "scale_div_MAR_S_YD=$(awk -v scale_MAR_S_YD=$scale_MAR_S_YD 'BEGIN { print (1 / scale_MAR_S_YD) }');\n",
    "scale_div_WT_R_YD=$(awk -v scale_WT_R_YD=$scale_WT_R_YD 'BEGIN { print (1 / scale_WT_R_YD) }');\n",
    "scale_div_WT_S_YD=$(awk -v scale_WT_S_YD=$scale_WT_S_YD 'BEGIN { print (1 / scale_WT_S_YD) }');\n",
    "\n",
    "# Proceed BAMs with bamCoverage\n",
    "cd $biscem/Outputs/Mapped_vs_GRCm38.p5;\n",
    "for f in WT*EP*.bam WT*YD*.bam 3B4*.bam 3pRR*EP*.bam 3pRR*YD*.bam DEL*.bam EU*.bam IRIS*.bam MAR*.bam PAL*.bam;\n",
    "do scale=$(eval printf \"$\"\"scale_div_\"${f%.*});\n",
    "   bamCoverage --bam $f \\\n",
    "               --outFileName $biscem/Outputs/Normalized_BAM/R_vs_S_no_replicates/${f%.*}\"_forward_strand.bigwig\" \\\n",
    "               --outFileFormat bigwig \\\n",
    "               --scaleFactor $scale \\\n",
    "               --filterRNAstrand forward \\\n",
    "               --binSize 1 \\\n",
    "               --numberOfProcessors max \\\n",
    "               --verbose;\n",
    "   bamCoverage --bam $f \\\n",
    "               --outFileName $biscem/Outputs/Normalized_BAM/R_vs_S_no_replicates/${f%.*}\"_reverse_strand.bigwig\" \\\n",
    "               --outFileFormat bigwig \\\n",
    "               --scaleFactor $scale \\\n",
    "               --filterRNAstrand reverse \\\n",
    "               --binSize 1 \\\n",
    "               --numberOfProcessors max \\\n",
    "               --verbose;\n",
    "done &>> $biscem/Outputs/Normalized_BAM/Verbose/r_vs_s_no_replicates_bigwig.verbose;"
   ]
  },
  {
   "cell_type": "markdown",
   "metadata": {},
   "source": [
    "### 5.7) Antisense transcription"
   ]
  },
  {
   "cell_type": "markdown",
   "metadata": {
    "collapsed": true
   },
   "source": [
    "IGV manual inspection"
   ]
  },
  {
   "cell_type": "markdown",
   "metadata": {
    "collapsed": true
   },
   "source": [
    "UClncR"
   ]
  },
  {
   "cell_type": "markdown",
   "metadata": {},
   "source": [
    "### 5.8) Replicates reproducibility"
   ]
  },
  {
   "cell_type": "markdown",
   "metadata": {},
   "source": [
    "Correlation plots in DE analysis. <br>\n",
    "WT vs WT (Eric, Yves), 3pRR vs 3pRR (Eric, Yves), WT vs WT (Pefanis) & compare SDE list vs Mutant vs WT SDE. <br>\n",
    "Results : https://docs.google.com/spreadsheets/d/14RrurdAtQKyp_o8ILa5fbT40dCva4LLS1ZQQKribFNg/edit?usp=sharing\n",
    "\n",
    "\n",
    "Comparaison --- Nombres de gènes SDE <br>\n",
    "Limoges:3pRR_R_Eric_vs_Yves --- 317 <br>\n",
    "Limoges:3pRR_S_Eric_vs_Yves --- 125 <br>\n",
    "Limoges:WT_R_Eric_vs_Yves --- 103 <br>\n",
    "Limoges:WT_S_Eric_vs_Yves --- 193 <br>\n",
    "Pefanis:SRR1302208/SRR1302414 --- 8786 <br>\n",
    "Pefanis:SRR1302208/SRR1302786 --- 8885 <br>\n",
    "Pefanis:SRR1302208/SRR1302788 --- 7955 <br>\n",
    "Pefanis:SRR1302414/SRR1302786 --- 16443 <br>\n",
    "Pefanis:SRR1302414/SRR1302788 --- 15674 <br>\n",
    "Pefanis:SRR1302786/SRR1302788 --- 2907\n",
    "\n",
    "\"Lors de la réunion \"trieur\", il avait été suggéré pour vérifier la reproductibilité des réplicats de faire, en plus des graphiques de corrélation, l'intersection des listes de gènes significativement différentiellement exprimés (DE) pour les comparaisons entre échantillons considérés comme réplicats (WT_R, WT_S, 3pRR_R, 3pRR_S, présent chez Eric et chez Yves) versus les listes de gènes DE des comparaisons Mutant_vs_WT.\"\n",
    "\n",
    "\n",
    "\"Voici ce que je ferai <br>\n",
    "Comparer WT R EP et WT R YD, cela va sortir un liste de gènes DE (liste 1) <br>\n",
    "Puis comparer WTR EP et hs3b4 R EP, cela sortir une autre liste de gènes DE (liste 2) <br>\n",
    "Enfin comparer la liste 1 et la liste 2 <br>\n",
    "Refaire la même chose en changeant le mutant <br>\n",
    "Est ce plus clair? <br>\n",
    "Sandrine\""
   ]
  }
 ],
 "metadata": {
  "anaconda-cloud": {},
  "celltoolbar": "Raw Cell Format",
  "kernelspec": {
   "display_name": "Bash",
   "language": "bash",
   "name": "bash"
  },
  "language_info": {
   "codemirror_mode": "shell",
   "file_extension": ".sh",
   "mimetype": "text/x-sh",
   "name": "bash"
  }
 },
 "nbformat": 4,
 "nbformat_minor": 1
}
